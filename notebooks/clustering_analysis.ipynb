{
 "cells": [
  {
   "cell_type": "code",
   "execution_count": 235,
   "metadata": {},
   "outputs": [],
   "source": [
    "import pandas as pd\n",
    "import numpy as np\n",
    "import matplotlib.pyplot as plt\n"
   ]
  },
  {
   "cell_type": "code",
   "execution_count": 236,
   "metadata": {},
   "outputs": [
    {
     "data": {
      "text/html": [
       "<div>\n",
       "<style scoped>\n",
       "    .dataframe tbody tr th:only-of-type {\n",
       "        vertical-align: middle;\n",
       "    }\n",
       "\n",
       "    .dataframe tbody tr th {\n",
       "        vertical-align: top;\n",
       "    }\n",
       "\n",
       "    .dataframe thead th {\n",
       "        text-align: right;\n",
       "    }\n",
       "</style>\n",
       "<table border=\"1\" class=\"dataframe\">\n",
       "  <thead>\n",
       "    <tr style=\"text-align: right;\">\n",
       "      <th></th>\n",
       "      <th>BasketID</th>\n",
       "      <th>BasketDate</th>\n",
       "      <th>ProdID</th>\n",
       "      <th>Qta</th>\n",
       "      <th>Sale</th>\n",
       "      <th>CustomerID</th>\n",
       "      <th>CustomerCountry</th>\n",
       "      <th>ProdDescr</th>\n",
       "    </tr>\n",
       "  </thead>\n",
       "  <tbody>\n",
       "    <tr>\n",
       "      <th>0</th>\n",
       "      <td>536365</td>\n",
       "      <td>2010-01-12 08:26:00</td>\n",
       "      <td>21730</td>\n",
       "      <td>6</td>\n",
       "      <td>4.25</td>\n",
       "      <td>17850</td>\n",
       "      <td>United Kingdom</td>\n",
       "      <td>GLASS STAR FROSTED T-LIGHT HOLDER</td>\n",
       "    </tr>\n",
       "    <tr>\n",
       "      <th>1</th>\n",
       "      <td>536365</td>\n",
       "      <td>2010-01-12 08:26:00</td>\n",
       "      <td>22752</td>\n",
       "      <td>2</td>\n",
       "      <td>7.65</td>\n",
       "      <td>17850</td>\n",
       "      <td>United Kingdom</td>\n",
       "      <td>SET 7 BABUSHKA NESTING BOXES</td>\n",
       "    </tr>\n",
       "    <tr>\n",
       "      <th>2</th>\n",
       "      <td>536365</td>\n",
       "      <td>2010-01-12 08:26:00</td>\n",
       "      <td>71053</td>\n",
       "      <td>6</td>\n",
       "      <td>3.39</td>\n",
       "      <td>17850</td>\n",
       "      <td>United Kingdom</td>\n",
       "      <td>WHITE METAL LANTERN</td>\n",
       "    </tr>\n",
       "    <tr>\n",
       "      <th>3</th>\n",
       "      <td>536365</td>\n",
       "      <td>2010-01-12 08:26:00</td>\n",
       "      <td>84029E</td>\n",
       "      <td>6</td>\n",
       "      <td>3.39</td>\n",
       "      <td>17850</td>\n",
       "      <td>United Kingdom</td>\n",
       "      <td>RED WOOLLY HOTTIE WHITE HEART.</td>\n",
       "    </tr>\n",
       "    <tr>\n",
       "      <th>4</th>\n",
       "      <td>536365</td>\n",
       "      <td>2010-01-12 08:26:00</td>\n",
       "      <td>84029G</td>\n",
       "      <td>6</td>\n",
       "      <td>3.39</td>\n",
       "      <td>17850</td>\n",
       "      <td>United Kingdom</td>\n",
       "      <td>KNITTED UNION FLAG HOT WATER BOTTLE</td>\n",
       "    </tr>\n",
       "  </tbody>\n",
       "</table>\n",
       "</div>"
      ],
      "text/plain": [
       "   BasketID          BasketDate  ProdID  Qta  Sale  CustomerID  \\\n",
       "0    536365 2010-01-12 08:26:00   21730    6  4.25       17850   \n",
       "1    536365 2010-01-12 08:26:00   22752    2  7.65       17850   \n",
       "2    536365 2010-01-12 08:26:00   71053    6  3.39       17850   \n",
       "3    536365 2010-01-12 08:26:00  84029E    6  3.39       17850   \n",
       "4    536365 2010-01-12 08:26:00  84029G    6  3.39       17850   \n",
       "\n",
       "  CustomerCountry                            ProdDescr  \n",
       "0  United Kingdom    GLASS STAR FROSTED T-LIGHT HOLDER  \n",
       "1  United Kingdom         SET 7 BABUSHKA NESTING BOXES  \n",
       "2  United Kingdom                  WHITE METAL LANTERN  \n",
       "3  United Kingdom       RED WOOLLY HOTTIE WHITE HEART.  \n",
       "4  United Kingdom  KNITTED UNION FLAG HOT WATER BOTTLE  "
      ]
     },
     "execution_count": 236,
     "metadata": {},
     "output_type": "execute_result"
    }
   ],
   "source": [
    "df = pd.read_csv(\"../dataset/customer_supermarket_regex.csv\", parse_dates=[\"BasketDate\"], index_col=0, decimal=\",\")\n",
    "df.head()"
   ]
  },
  {
   "cell_type": "code",
   "execution_count": 237,
   "metadata": {},
   "outputs": [
    {
     "name": "stdout",
     "output_type": "stream",
     "text": [
      "<class 'pandas.core.frame.DataFrame'>\n",
      "Int64Index: 396687 entries, 0 to 396686\n",
      "Data columns (total 8 columns):\n",
      " #   Column           Non-Null Count   Dtype         \n",
      "---  ------           --------------   -----         \n",
      " 0   BasketID         396687 non-null  int64         \n",
      " 1   BasketDate       396687 non-null  datetime64[ns]\n",
      " 2   ProdID           396687 non-null  object        \n",
      " 3   Qta              396687 non-null  int64         \n",
      " 4   Sale             396687 non-null  float64       \n",
      " 5   CustomerID       396687 non-null  int64         \n",
      " 6   CustomerCountry  396687 non-null  object        \n",
      " 7   ProdDescr        396687 non-null  object        \n",
      "dtypes: datetime64[ns](1), float64(1), int64(3), object(3)\n",
      "memory usage: 27.2+ MB\n"
     ]
    }
   ],
   "source": [
    "df.Sale = df.Sale.astype(float)\n",
    "df.info()"
   ]
  },
  {
   "cell_type": "code",
   "execution_count": 238,
   "metadata": {},
   "outputs": [
    {
     "name": "stdout",
     "output_type": "stream",
     "text": [
      "   CustomerID        Entropy   imax   iu     i\n",
      "0       12346 -832300.560951  74215    1     0\n",
      "1       12347  -14642.853340    319  103  2458\n",
      "2       12348  -15464.124169   1254   22  2341\n",
      "3       12349   -4068.249999    631   73   631\n",
      "4       12350   -1040.791135    197   17   197\n",
      "<class 'pandas.core.frame.DataFrame'>\n",
      "Int64Index: 4372 entries, 0 to 4371\n",
      "Data columns (total 5 columns):\n",
      " #   Column      Non-Null Count  Dtype  \n",
      "---  ------      --------------  -----  \n",
      " 0   CustomerID  4372 non-null   int64  \n",
      " 1   Entropy     4372 non-null   float64\n",
      " 2   imax        4372 non-null   int64  \n",
      " 3   iu          4372 non-null   int64  \n",
      " 4   i           4372 non-null   int64  \n",
      "dtypes: float64(1), int64(4)\n",
      "memory usage: 204.9 KB\n",
      "None\n"
     ]
    }
   ],
   "source": [
    "ind = pd.read_csv(\"../dataset/indicators.csv\", index_col=0)\n",
    "ind.CustomerID = ind.CustomerID.astype(int)\n",
    "print(ind.head())\n",
    "print(ind.info())"
   ]
  },
  {
   "cell_type": "code",
   "execution_count": 239,
   "metadata": {},
   "outputs": [
    {
     "data": {
      "text/html": [
       "<div>\n",
       "<style scoped>\n",
       "    .dataframe tbody tr th:only-of-type {\n",
       "        vertical-align: middle;\n",
       "    }\n",
       "\n",
       "    .dataframe tbody tr th {\n",
       "        vertical-align: top;\n",
       "    }\n",
       "\n",
       "    .dataframe thead th {\n",
       "        text-align: right;\n",
       "    }\n",
       "</style>\n",
       "<table border=\"1\" class=\"dataframe\">\n",
       "  <thead>\n",
       "    <tr style=\"text-align: right;\">\n",
       "      <th></th>\n",
       "      <th>CustomerCountry</th>\n",
       "      <th>Sale</th>\n",
       "    </tr>\n",
       "    <tr>\n",
       "      <th>CustomerID</th>\n",
       "      <th></th>\n",
       "      <th></th>\n",
       "    </tr>\n",
       "  </thead>\n",
       "  <tbody>\n",
       "    <tr>\n",
       "      <th>12346</th>\n",
       "      <td>United Kingdom</td>\n",
       "      <td>2.08</td>\n",
       "    </tr>\n",
       "    <tr>\n",
       "      <th>12347</th>\n",
       "      <td>Iceland</td>\n",
       "      <td>481.21</td>\n",
       "    </tr>\n",
       "    <tr>\n",
       "      <th>12348</th>\n",
       "      <td>Finland</td>\n",
       "      <td>178.71</td>\n",
       "    </tr>\n",
       "    <tr>\n",
       "      <th>12349</th>\n",
       "      <td>Italy</td>\n",
       "      <td>605.10</td>\n",
       "    </tr>\n",
       "    <tr>\n",
       "      <th>12350</th>\n",
       "      <td>Norway</td>\n",
       "      <td>65.30</td>\n",
       "    </tr>\n",
       "  </tbody>\n",
       "</table>\n",
       "</div>"
      ],
      "text/plain": [
       "           CustomerCountry    Sale\n",
       "CustomerID                        \n",
       "12346       United Kingdom    2.08\n",
       "12347              Iceland  481.21\n",
       "12348              Finland  178.71\n",
       "12349                Italy  605.10\n",
       "12350               Norway   65.30"
      ]
     },
     "execution_count": 239,
     "metadata": {},
     "output_type": "execute_result"
    }
   ],
   "source": [
    "customers = df.groupby([\"CustomerID\"]).agg({\n",
    "    'CustomerCountry':'min',\n",
    "    \"Sale\":sum})\n",
    "customers.head()"
   ]
  },
  {
   "cell_type": "code",
   "execution_count": 240,
   "metadata": {},
   "outputs": [
    {
     "data": {
      "text/plain": [
       "<matplotlib.collections.PathCollection at 0x7f986adf8550>"
      ]
     },
     "execution_count": 240,
     "metadata": {},
     "output_type": "execute_result"
    },
    {
     "data": {
      "image/png": "[encoded data removed]",
      "text/plain": [
       "<Figure size 432x288 with 1 Axes>"
      ]
     },
     "metadata": {
      "needs_background": "light"
     },
     "output_type": "display_data"
    }
   ],
   "source": [
    "plt.scatter(customers.Sale, customers.CustomerCountry)"
   ]
  },
  {
   "cell_type": "markdown",
   "metadata": {},
   "source": [
    "Joining total sales with indicators dataframe on customer id"
   ]
  },
  {
   "cell_type": "code",
   "execution_count": 241,
   "metadata": {},
   "outputs": [
    {
     "name": "stdout",
     "output_type": "stream",
     "text": [
      "<class 'pandas.core.frame.DataFrame'>\n",
      "Int64Index: 4372 entries, 0 to 4371\n",
      "Data columns (total 7 columns):\n",
      " #   Column           Non-Null Count  Dtype  \n",
      "---  ------           --------------  -----  \n",
      " 0   CustomerID       4372 non-null   int64  \n",
      " 1   Entropy          4372 non-null   float64\n",
      " 2   imax             4372 non-null   int64  \n",
      " 3   iu               4372 non-null   int64  \n",
      " 4   i                4372 non-null   int64  \n",
      " 5   CustomerCountry  4372 non-null   object \n",
      " 6   Sale             4372 non-null   float64\n",
      "dtypes: float64(2), int64(4), object(1)\n",
      "memory usage: 273.2+ KB\n"
     ]
    }
   ],
   "source": [
    "ind = ind.join(customers, on=\"CustomerID\")\n",
    "ind.info()"
   ]
  },
  {
   "cell_type": "markdown",
   "metadata": {},
   "source": []
  },
  {
   "cell_type": "code",
   "execution_count": 242,
   "metadata": {},
   "outputs": [],
   "source": [
    "# dropping customer country String column\n",
    "ind_no_cust = ind.drop(\"CustomerCountry\", axis=1)"
   ]
  },
  {
   "cell_type": "code",
   "execution_count": 243,
   "metadata": {},
   "outputs": [
    {
     "data": {
      "text/html": [
       "<div>\n",
       "<style scoped>\n",
       "    .dataframe tbody tr th:only-of-type {\n",
       "        vertical-align: middle;\n",
       "    }\n",
       "\n",
       "    .dataframe tbody tr th {\n",
       "        vertical-align: top;\n",
       "    }\n",
       "\n",
       "    .dataframe thead th {\n",
       "        text-align: right;\n",
       "    }\n",
       "</style>\n",
       "<table border=\"1\" class=\"dataframe\">\n",
       "  <thead>\n",
       "    <tr style=\"text-align: right;\">\n",
       "      <th></th>\n",
       "      <th>CustomerID</th>\n",
       "      <th>Entropy</th>\n",
       "      <th>imax</th>\n",
       "      <th>iu</th>\n",
       "      <th>i</th>\n",
       "      <th>Sale</th>\n",
       "    </tr>\n",
       "  </thead>\n",
       "  <tbody>\n",
       "    <tr>\n",
       "      <th>count</th>\n",
       "      <td>4372.000000</td>\n",
       "      <td>4.372000e+03</td>\n",
       "      <td>4372.000000</td>\n",
       "      <td>4372.000000</td>\n",
       "      <td>4372.000000</td>\n",
       "      <td>4372.000000</td>\n",
       "    </tr>\n",
       "    <tr>\n",
       "      <th>mean</th>\n",
       "      <td>15299.677722</td>\n",
       "      <td>-7.674136e+03</td>\n",
       "      <td>261.983074</td>\n",
       "      <td>61.211116</td>\n",
       "      <td>1122.344236</td>\n",
       "      <td>319.125310</td>\n",
       "    </tr>\n",
       "    <tr>\n",
       "      <th>std</th>\n",
       "      <td>1722.390705</td>\n",
       "      <td>4.218493e+04</td>\n",
       "      <td>1192.114381</td>\n",
       "      <td>85.425119</td>\n",
       "      <td>4672.790687</td>\n",
       "      <td>1281.010431</td>\n",
       "    </tr>\n",
       "    <tr>\n",
       "      <th>min</th>\n",
       "      <td>12346.000000</td>\n",
       "      <td>-1.701273e+06</td>\n",
       "      <td>-244.000000</td>\n",
       "      <td>1.000000</td>\n",
       "      <td>-303.000000</td>\n",
       "      <td>0.000000</td>\n",
       "    </tr>\n",
       "    <tr>\n",
       "      <th>25%</th>\n",
       "      <td>13812.750000</td>\n",
       "      <td>-5.520617e+03</td>\n",
       "      <td>81.000000</td>\n",
       "      <td>15.000000</td>\n",
       "      <td>153.000000</td>\n",
       "      <td>52.730000</td>\n",
       "    </tr>\n",
       "    <tr>\n",
       "      <th>50%</th>\n",
       "      <td>15300.500000</td>\n",
       "      <td>-1.962109e+03</td>\n",
       "      <td>155.000000</td>\n",
       "      <td>35.000000</td>\n",
       "      <td>365.000000</td>\n",
       "      <td>128.925000</td>\n",
       "    </tr>\n",
       "    <tr>\n",
       "      <th>75%</th>\n",
       "      <td>16778.250000</td>\n",
       "      <td>-7.464381e+02</td>\n",
       "      <td>279.000000</td>\n",
       "      <td>77.000000</td>\n",
       "      <td>962.250000</td>\n",
       "      <td>299.097500</td>\n",
       "    </tr>\n",
       "    <tr>\n",
       "      <th>max</th>\n",
       "      <td>18287.000000</td>\n",
       "      <td>0.000000e+00</td>\n",
       "      <td>74215.000000</td>\n",
       "      <td>1794.000000</td>\n",
       "      <td>196719.000000</td>\n",
       "      <td>41376.330000</td>\n",
       "    </tr>\n",
       "  </tbody>\n",
       "</table>\n",
       "</div>"
      ],
      "text/plain": [
       "         CustomerID       Entropy          imax           iu              i  \\\n",
       "count   4372.000000  4.372000e+03   4372.000000  4372.000000    4372.000000   \n",
       "mean   15299.677722 -7.674136e+03    261.983074    61.211116    1122.344236   \n",
       "std     1722.390705  4.218493e+04   1192.114381    85.425119    4672.790687   \n",
       "min    12346.000000 -1.701273e+06   -244.000000     1.000000    -303.000000   \n",
       "25%    13812.750000 -5.520617e+03     81.000000    15.000000     153.000000   \n",
       "50%    15300.500000 -1.962109e+03    155.000000    35.000000     365.000000   \n",
       "75%    16778.250000 -7.464381e+02    279.000000    77.000000     962.250000   \n",
       "max    18287.000000  0.000000e+00  74215.000000  1794.000000  196719.000000   \n",
       "\n",
       "               Sale  \n",
       "count   4372.000000  \n",
       "mean     319.125310  \n",
       "std     1281.010431  \n",
       "min        0.000000  \n",
       "25%       52.730000  \n",
       "50%      128.925000  \n",
       "75%      299.097500  \n",
       "max    41376.330000  "
      ]
     },
     "execution_count": 243,
     "metadata": {},
     "output_type": "execute_result"
    }
   ],
   "source": [
    "ind_no_cust.describe()"
   ]
  },
  {
   "cell_type": "markdown",
   "metadata": {},
   "source": [
    "#### We drop the entropy since it fucks up our graphs for now"
   ]
  },
  {
   "cell_type": "code",
   "execution_count": 244,
   "metadata": {},
   "outputs": [],
   "source": [
    "ind_no_ent = ind_no_cust.drop(\"Entropy\", axis=1)"
   ]
  },
  {
   "cell_type": "markdown",
   "metadata": {},
   "source": [
    "### Scaling values in order to avoid bias by using a standard scaler"
   ]
  },
  {
   "cell_type": "code",
   "execution_count": 245,
   "metadata": {},
   "outputs": [],
   "source": [
    "from sklearn.preprocessing import StandardScaler, MinMaxScaler"
   ]
  },
  {
   "cell_type": "code",
   "execution_count": 246,
   "metadata": {},
   "outputs": [
    {
     "data": {
      "text/plain": [
       "MinMaxScaler()"
      ]
     },
     "execution_count": 246,
     "metadata": {},
     "output_type": "execute_result"
    }
   ],
   "source": [
    "scaler = MinMaxScaler()\n",
    "# we could also try with the standard scaler\n",
    "scaler.fit(ind_no_ent.values)"
   ]
  },
  {
   "cell_type": "code",
   "execution_count": 247,
   "metadata": {},
   "outputs": [
    {
     "data": {
      "text/plain": [
       "array([[1.2346e+04, 7.4215e+04, 1.0000e+00, 0.0000e+00, 2.0800e+00],\n",
       "       [1.2347e+04, 3.1900e+02, 1.0300e+02, 2.4580e+03, 4.8121e+02],\n",
       "       [1.2348e+04, 1.2540e+03, 2.2000e+01, 2.3410e+03, 1.7871e+02],\n",
       "       [1.2349e+04, 6.3100e+02, 7.3000e+01, 6.3100e+02, 6.0510e+02],\n",
       "       [1.2350e+04, 1.9700e+02, 1.7000e+01, 1.9700e+02, 6.5300e+01]])"
      ]
     },
     "execution_count": 247,
     "metadata": {},
     "output_type": "execute_result"
    }
   ],
   "source": [
    "ind_no_ent.head().values"
   ]
  },
  {
   "cell_type": "code",
   "execution_count": 248,
   "metadata": {},
   "outputs": [
    {
     "data": {
      "text/plain": [
       "array([[0.00000000e+00, 1.00000000e+00, 0.00000000e+00, 1.53789932e-03,\n",
       "        5.02702874e-05],\n",
       "       [1.68321831e-04, 7.56120818e-03, 5.68878974e-02, 1.40136634e-02,\n",
       "        1.16300793e-02],\n",
       "       [3.36643663e-04, 2.01184545e-02, 1.17122142e-02, 1.34198211e-02,\n",
       "        4.31913609e-03],\n",
       "       [5.04965494e-04, 1.17514337e-02, 4.01561629e-02, 4.74058735e-03,\n",
       "        1.46243033e-02],\n",
       "       [6.73287325e-04, 5.92272257e-03, 8.92359175e-03, 2.53778766e-03,\n",
       "        1.57819700e-03]])"
      ]
     },
     "execution_count": 248,
     "metadata": {},
     "output_type": "execute_result"
    }
   ],
   "source": [
    "scaler.transform(ind_no_ent.head().values)"
   ]
  },
  {
   "cell_type": "code",
   "execution_count": 249,
   "metadata": {},
   "outputs": [],
   "source": [
    "X = scaler.fit_transform(ind_no_ent.values)"
   ]
  },
  {
   "cell_type": "markdown",
   "metadata": {},
   "source": [
    "## K-Means"
   ]
  },
  {
   "cell_type": "code",
   "execution_count": 250,
   "metadata": {},
   "outputs": [],
   "source": [
    "from sklearn.cluster import KMeans\n",
    "from sklearn.metrics import silhouette_score"
   ]
  },
  {
   "cell_type": "code",
   "execution_count": 251,
   "metadata": {},
   "outputs": [
    {
     "data": {
      "text/plain": [
       "KMeans(max_iter=150, n_clusters=6)"
      ]
     },
     "execution_count": 251,
     "metadata": {},
     "output_type": "execute_result"
    }
   ],
   "source": [
    "kmeans = KMeans(n_clusters=6, n_init=10, max_iter=150)\n",
    "kmeans.fit(X)"
   ]
  },
  {
   "cell_type": "code",
   "execution_count": 252,
   "metadata": {},
   "outputs": [
    {
     "data": {
      "text/plain": [
       "array([1, 1, 1, ..., 0, 0, 0], dtype=int32)"
      ]
     },
     "execution_count": 252,
     "metadata": {},
     "output_type": "execute_result"
    }
   ],
   "source": [
    "kmeans.labels_"
   ]
  },
  {
   "cell_type": "markdown",
   "metadata": {},
   "source": [
    "size of each cluster"
   ]
  },
  {
   "cell_type": "code",
   "execution_count": 253,
   "metadata": {},
   "outputs": [
    {
     "data": {
      "text/plain": [
       "(array([0, 1, 2, 3, 4, 5], dtype=int32), array([839, 906, 881, 875,  12, 859]))"
      ]
     },
     "execution_count": 253,
     "metadata": {},
     "output_type": "execute_result"
    }
   ],
   "source": [
    "np.unique(kmeans.labels_, return_counts=True)"
   ]
  },
  {
   "cell_type": "code",
   "execution_count": 254,
   "metadata": {},
   "outputs": [
    {
     "data": {
      "text/plain": [
       "{0: 839, 1: 906, 2: 881, 3: 875, 4: 12, 5: 859}"
      ]
     },
     "execution_count": 254,
     "metadata": {},
     "output_type": "execute_result"
    }
   ],
   "source": [
    "hist, bins = np.histogram(kmeans.labels_, \n",
    "                          bins=range(0, len(set(kmeans.labels_)) + 1))\n",
    "dict(zip(bins, hist))"
   ]
  },
  {
   "cell_type": "code",
   "execution_count": 255,
   "metadata": {},
   "outputs": [
    {
     "data": {
      "image/png": "[encoded data removed]",
      "text/plain": [
       "<Figure size 432x288 with 1 Axes>"
      ]
     },
     "metadata": {
      "needs_background": "light"
     },
     "output_type": "display_data"
    }
   ],
   "source": [
    "plt.scatter(ind_no_ent['iu'], ind_no_ent['Sale'], \n",
    "            c=kmeans.labels_, s=20)\n",
    "plt.tick_params(labelsize=18)\n",
    "plt.show()"
   ]
  },
  {
   "cell_type": "code",
   "execution_count": 256,
   "metadata": {},
   "outputs": [
    {
     "data": {
      "image/png": "[encoded data removed]",
      "text/plain": [
       "<Figure size 432x288 with 1 Axes>"
      ]
     },
     "metadata": {
      "needs_background": "light"
     },
     "output_type": "display_data"
    }
   ],
   "source": [
    "plt.scatter(ind_no_ent['imax'], ind_no_ent['Sale'], \n",
    "            c=kmeans.labels_, s=20)\n",
    "plt.tick_params(labelsize=18)\n",
    "plt.show()"
   ]
  },
  {
   "cell_type": "code",
   "execution_count": 257,
   "metadata": {},
   "outputs": [
    {
     "data": {
      "image/png": "[encoded data removed]",
      "text/plain": [
       "<Figure size 432x288 with 1 Axes>"
      ]
     },
     "metadata": {
      "needs_background": "light"
     },
     "output_type": "display_data"
    }
   ],
   "source": [
    "plt.scatter(ind_no_ent['i'], ind_no_ent['Sale'], \n",
    "            c=kmeans.labels_, s=20)\n",
    "plt.tick_params(labelsize=18)\n",
    "plt.show()"
   ]
  },
  {
   "cell_type": "code",
   "execution_count": 258,
   "metadata": {},
   "outputs": [
    {
     "data": {
      "text/plain": [
       "\"plt.scatter(ind['iu'], ind['Entropy'], \\n            c=kmeans.labels_, s=20)\\nplt.tick_params(labelsize=18)\\nplt.show()\""
      ]
     },
     "execution_count": 258,
     "metadata": {},
     "output_type": "execute_result"
    }
   ],
   "source": [
    "\"\"\"plt.scatter(ind['iu'], ind['Entropy'], \n",
    "            c=kmeans.labels_, s=20)\n",
    "plt.tick_params(labelsize=18)\n",
    "plt.show()\"\"\""
   ]
  },
  {
   "cell_type": "code",
   "execution_count": 259,
   "metadata": {},
   "outputs": [
    {
     "data": {
      "text/plain": [
       "\"plt.scatter(ind['Sale'], ind['Entropy'], \\n            c=kmeans.labels_, s=20)\\nplt.tick_params(labelsize=18)\\nplt.show()\""
      ]
     },
     "execution_count": 259,
     "metadata": {},
     "output_type": "execute_result"
    }
   ],
   "source": [
    "\"\"\"plt.scatter(ind['Sale'], ind['Entropy'], \n",
    "            c=kmeans.labels_, s=20)\n",
    "plt.tick_params(labelsize=18)\n",
    "plt.show()\"\"\""
   ]
  },
  {
   "cell_type": "code",
   "execution_count": 260,
   "metadata": {},
   "outputs": [
    {
     "data": {
      "text/plain": [
       "array([[0.90362792, 0.00627902, 0.03226949, 0.00721698, 0.00640675],\n",
       "       [0.09893983, 0.0085541 , 0.03183088, 0.00770006, 0.00745267],\n",
       "       [0.30654966, 0.0062538 , 0.0337417 , 0.00627729, 0.00635271],\n",
       "       [0.50899672, 0.00652286, 0.03145131, 0.0057612 , 0.00627029],\n",
       "       [0.39740784, 0.0102853 , 0.4617494 , 0.2271874 , 0.4530776 ],\n",
       "       [0.70667971, 0.00622776, 0.0327246 , 0.0061677 , 0.00590371]])"
      ]
     },
     "execution_count": 260,
     "metadata": {},
     "output_type": "execute_result"
    }
   ],
   "source": [
    "kmeans.cluster_centers_"
   ]
  },
  {
   "cell_type": "markdown",
   "metadata": {},
   "source": [
    "### A che serve sta cagata? boh!\n",
    "non mi sembra abbia senso, forse è sbagliato qualcosa"
   ]
  },
  {
   "cell_type": "code",
   "execution_count": 261,
   "metadata": {},
   "outputs": [
    {
     "data": {
      "image/png": "[encoded data removed]",
      "text/plain": [
       "<Figure size 432x288 with 1 Axes>"
      ]
     },
     "metadata": {
      "needs_background": "light"
     },
     "output_type": "display_data"
    }
   ],
   "source": [
    "centers = scaler.inverse_transform(kmeans.cluster_centers_)\n",
    "plt.scatter(ind_no_ent['iu'], ind_no_ent['Sale'], c=kmeans.labels_, \n",
    "            s=10)\n",
    "plt.scatter(centers[:, 0], centers[:, 1], s=100, marker='*', c='r')\n",
    "plt.tick_params(axis='both', which='major', labelsize=18)\n",
    "plt.show()"
   ]
  },
  {
   "cell_type": "markdown",
   "metadata": {},
   "source": [
    "### Cluster Centers as parallel coordinates"
   ]
  },
  {
   "cell_type": "code",
   "execution_count": 262,
   "metadata": {},
   "outputs": [
    {
     "data": {
      "image/png": "[encoded data removed]",
      "text/plain": [
       "<Figure size 576x288 with 1 Axes>"
      ]
     },
     "metadata": {
      "needs_background": "light"
     },
     "output_type": "display_data"
    }
   ],
   "source": [
    "plt.figure(figsize=(8, 4))\n",
    "for i in range(0, len(centers)):\n",
    "    plt.plot(centers[i], marker='o', label='Cluster %s' % i)\n",
    "plt.tick_params(axis='both', which='major', labelsize=10)\n",
    "plt.xticks(range(0, len(ind_no_ent.columns)), ind_no_ent.columns, fontsize=14)\n",
    "plt.legend(fontsize=10)\n",
    "plt.show()"
   ]
  },
  {
   "cell_type": "markdown",
   "metadata": {},
   "source": [
    "### Centroids radar chart"
   ]
  },
  {
   "cell_type": "code",
   "execution_count": 263,
   "metadata": {},
   "outputs": [
    {
     "name": "stderr",
     "output_type": "stream",
     "text": [
      "/Users/tommasocolella/opt/anaconda3/envs/skmob/lib/python3.7/site-packages/ipykernel_launcher.py:12: MatplotlibDeprecationWarning: Adding an axes using the same arguments as a previous axes currently reuses the earlier instance.  In a future version, a new instance will always be created and returned.  Meanwhile, this warning can be suppressed, and the future behavior ensured, by passing a unique label to each axes instance.\n",
      "  if sys.path[0] == '':\n"
     ]
    },
    {
     "data": {
      "image/png": "[encoded data removed]",
      "text/plain": [
       "<Figure size 432x288 with 1 Axes>"
      ]
     },
     "metadata": {},
     "output_type": "display_data"
    }
   ],
   "source": [
    "from math import pi\n",
    " \n",
    "# number of variable\n",
    "N = len(ind_no_ent.columns)\n",
    "# What will be the angle of each axis in the plot? (we divide the plot / number of variable)\n",
    "for i in range(0, len(centers)):\n",
    "    angles = [n / float(N) * 2 * pi for n in range(N)]\n",
    "    values = centers[i].tolist()\n",
    "    values += values[:1]\n",
    "    angles += angles[:1]\n",
    "    # Initialise the spider plot\n",
    "    ax = plt.subplot(polar=True)\n",
    "# Draw one axe per variable + add labels labels yet\n",
    "    plt.xticks(angles[:-1], ind_no_ent.columns, color='grey', size=8) \n",
    "# Plot data\n",
    "    ax.plot(angles, values, linewidth=1, linestyle='solid')\n",
    " # Fill area\n",
    "    ax.fill(angles, values, 'b', alpha=0.1)\n"
   ]
  },
  {
   "cell_type": "markdown",
   "metadata": {},
   "source": [
    "#### SSE and Clustering Validation\n",
    "\n",
    "a che serve sta roba?"
   ]
  },
  {
   "cell_type": "code",
   "execution_count": 264,
   "metadata": {},
   "outputs": [
    {
     "name": "stdout",
     "output_type": "stream",
     "text": [
      "SSE 27.541414210510933\n",
      "Silhouette 0.48502742809868576\n",
      "Separation 0.8580824403696973\n"
     ]
    }
   ],
   "source": [
    "from sklearn import metrics\n",
    "print('SSE %s' % kmeans.inertia_)\n",
    "print('Silhouette %s' % silhouette_score(X, kmeans.labels_))\n",
    "print('Separation %s' % metrics.davies_bouldin_score(X, kmeans.labels_))"
   ]
  },
  {
   "cell_type": "code",
   "execution_count": 267,
   "metadata": {},
   "outputs": [
    {
     "data": {
      "text/html": [
       "<div>\n",
       "<style scoped>\n",
       "    .dataframe tbody tr th:only-of-type {\n",
       "        vertical-align: middle;\n",
       "    }\n",
       "\n",
       "    .dataframe tbody tr th {\n",
       "        vertical-align: top;\n",
       "    }\n",
       "\n",
       "    .dataframe thead th {\n",
       "        text-align: right;\n",
       "    }\n",
       "</style>\n",
       "<table border=\"1\" class=\"dataframe\">\n",
       "  <thead>\n",
       "    <tr style=\"text-align: right;\">\n",
       "      <th></th>\n",
       "      <th>CustomerID</th>\n",
       "      <th>Entropy</th>\n",
       "      <th>imax</th>\n",
       "      <th>iu</th>\n",
       "      <th>i</th>\n",
       "      <th>CustomerCountry</th>\n",
       "      <th>Sale</th>\n",
       "    </tr>\n",
       "  </thead>\n",
       "  <tbody>\n",
       "    <tr>\n",
       "      <th>0</th>\n",
       "      <td>12346</td>\n",
       "      <td>-832300.560951</td>\n",
       "      <td>74215</td>\n",
       "      <td>1</td>\n",
       "      <td>0</td>\n",
       "      <td>United Kingdom</td>\n",
       "      <td>2.08</td>\n",
       "    </tr>\n",
       "    <tr>\n",
       "      <th>1</th>\n",
       "      <td>12347</td>\n",
       "      <td>-14642.853340</td>\n",
       "      <td>319</td>\n",
       "      <td>103</td>\n",
       "      <td>2458</td>\n",
       "      <td>Iceland</td>\n",
       "      <td>481.21</td>\n",
       "    </tr>\n",
       "    <tr>\n",
       "      <th>2</th>\n",
       "      <td>12348</td>\n",
       "      <td>-15464.124169</td>\n",
       "      <td>1254</td>\n",
       "      <td>22</td>\n",
       "      <td>2341</td>\n",
       "      <td>Finland</td>\n",
       "      <td>178.71</td>\n",
       "    </tr>\n",
       "    <tr>\n",
       "      <th>3</th>\n",
       "      <td>12349</td>\n",
       "      <td>-4068.249999</td>\n",
       "      <td>631</td>\n",
       "      <td>73</td>\n",
       "      <td>631</td>\n",
       "      <td>Italy</td>\n",
       "      <td>605.10</td>\n",
       "    </tr>\n",
       "    <tr>\n",
       "      <th>4</th>\n",
       "      <td>12350</td>\n",
       "      <td>-1040.791135</td>\n",
       "      <td>197</td>\n",
       "      <td>17</td>\n",
       "      <td>197</td>\n",
       "      <td>Norway</td>\n",
       "      <td>65.30</td>\n",
       "    </tr>\n",
       "    <tr>\n",
       "      <th>...</th>\n",
       "      <td>...</td>\n",
       "      <td>...</td>\n",
       "      <td>...</td>\n",
       "      <td>...</td>\n",
       "      <td>...</td>\n",
       "      <td>...</td>\n",
       "      <td>...</td>\n",
       "    </tr>\n",
       "    <tr>\n",
       "      <th>4367</th>\n",
       "      <td>18280</td>\n",
       "      <td>-171.299812</td>\n",
       "      <td>45</td>\n",
       "      <td>10</td>\n",
       "      <td>45</td>\n",
       "      <td>United Kingdom</td>\n",
       "      <td>47.65</td>\n",
       "    </tr>\n",
       "    <tr>\n",
       "      <th>4368</th>\n",
       "      <td>18281</td>\n",
       "      <td>-215.405139</td>\n",
       "      <td>54</td>\n",
       "      <td>7</td>\n",
       "      <td>54</td>\n",
       "      <td>United Kingdom</td>\n",
       "      <td>39.36</td>\n",
       "    </tr>\n",
       "    <tr>\n",
       "      <th>4369</th>\n",
       "      <td>18282</td>\n",
       "      <td>-417.113335</td>\n",
       "      <td>75</td>\n",
       "      <td>12</td>\n",
       "      <td>98</td>\n",
       "      <td>United Kingdom</td>\n",
       "      <td>62.68</td>\n",
       "    </tr>\n",
       "    <tr>\n",
       "      <th>4370</th>\n",
       "      <td>18283</td>\n",
       "      <td>-6585.398309</td>\n",
       "      <td>61</td>\n",
       "      <td>263</td>\n",
       "      <td>1397</td>\n",
       "      <td>United Kingdom</td>\n",
       "      <td>1174.33</td>\n",
       "    </tr>\n",
       "    <tr>\n",
       "      <th>4371</th>\n",
       "      <td>18287</td>\n",
       "      <td>-10355.271984</td>\n",
       "      <td>488</td>\n",
       "      <td>59</td>\n",
       "      <td>1586</td>\n",
       "      <td>United Kingdom</td>\n",
       "      <td>104.55</td>\n",
       "    </tr>\n",
       "  </tbody>\n",
       "</table>\n",
       "<p>4372 rows × 7 columns</p>\n",
       "</div>"
      ],
      "text/plain": [
       "      CustomerID        Entropy   imax   iu     i CustomerCountry     Sale\n",
       "0          12346 -832300.560951  74215    1     0  United Kingdom     2.08\n",
       "1          12347  -14642.853340    319  103  2458         Iceland   481.21\n",
       "2          12348  -15464.124169   1254   22  2341         Finland   178.71\n",
       "3          12349   -4068.249999    631   73   631           Italy   605.10\n",
       "4          12350   -1040.791135    197   17   197          Norway    65.30\n",
       "...          ...            ...    ...  ...   ...             ...      ...\n",
       "4367       18280    -171.299812     45   10    45  United Kingdom    47.65\n",
       "4368       18281    -215.405139     54    7    54  United Kingdom    39.36\n",
       "4369       18282    -417.113335     75   12    98  United Kingdom    62.68\n",
       "4370       18283   -6585.398309     61  263  1397  United Kingdom  1174.33\n",
       "4371       18287  -10355.271984    488   59  1586  United Kingdom   104.55\n",
       "\n",
       "[4372 rows x 7 columns]"
      ]
     },
     "execution_count": 267,
     "metadata": {},
     "output_type": "execute_result"
    }
   ],
   "source": [
    "ind"
   ]
  },
  {
   "cell_type": "code",
   "execution_count": 272,
   "metadata": {},
   "outputs": [],
   "source": [
    "sale_xt_pct = pd.crosstab(kmeans.labels_,ind['Sale'])\n",
    "ccountry_xt_pct = pd.crosstab(kmeans.labels_,ind['CustomerCountry'])\n",
    "iu_xt_pct = pd.crosstab(kmeans.labels_,ind[\"iu\"])"
   ]
  },
  {
   "cell_type": "code",
   "execution_count": 276,
   "metadata": {},
   "outputs": [
    {
     "data": {
      "image/png": "[encoded data removed]",
      "text/plain": [
       "<Figure size 432x288 with 1 Axes>"
      ]
     },
     "metadata": {
      "needs_background": "light"
     },
     "output_type": "display_data"
    }
   ],
   "source": [
    "ccountry_xt_pct.plot(kind='bar', stacked=False, \n",
    "                   title='Sale per cluster')\n",
    "plt.xlabel('Cluster')\n",
    "plt.ylabel('Country')\n",
    "plt.show()\n",
    "\n",
    "# no, così non funziona, dobbiamo trovare degli indicatori categorici \n",
    "# (tipo calcolarci noi se un cliente è highly spending eccetera)"
   ]
  },
  {
   "cell_type": "code",
   "execution_count": 277,
   "metadata": {},
   "outputs": [
    {
     "data": {
      "text/plain": [
       "\"sale_xt_pct.plot(kind='bar', stacked=False, \\n                   title='Sale per cluster')\\nplt.xlabel('Cluster')\\nplt.ylabel('Sale')\\nplt.show()\""
      ]
     },
     "execution_count": 277,
     "metadata": {},
     "output_type": "execute_result"
    }
   ],
   "source": [
    "\"\"\"sale_xt_pct.plot(kind='bar', stacked=False, \n",
    "                   title='Sale per cluster')\n",
    "plt.xlabel('Cluster')\n",
    "plt.ylabel('Sale')\n",
    "plt.show()\"\"\""
   ]
  },
  {
   "cell_type": "markdown",
   "metadata": {},
   "source": [
    "Computing the best K"
   ]
  },
  {
   "cell_type": "code",
   "execution_count": 278,
   "metadata": {},
   "outputs": [],
   "source": [
    "sse_list = list()\n",
    "max_k = 40\n",
    "for k in range(2, max_k + 1):\n",
    "    kmeans = KMeans(n_clusters=k, n_init=10, max_iter=100)\n",
    "    kmeans.fit(X)\n",
    "    \n",
    "    sse = kmeans.inertia_\n",
    "    sse_list.append(sse)"
   ]
  },
  {
   "cell_type": "code",
   "execution_count": 279,
   "metadata": {},
   "outputs": [
    {
     "data": {
      "image/png": "[encoded data removed]",
      "text/plain": [
       "<Figure size 432x288 with 1 Axes>"
      ]
     },
     "metadata": {
      "needs_background": "light"
     },
     "output_type": "display_data"
    }
   ],
   "source": [
    "plt.plot(range(2, len(sse_list) + 2), sse_list)\n",
    "plt.ylabel('SSE', fontsize=22)\n",
    "plt.xlabel('K', fontsize=22)\n",
    "plt.tick_params(axis='both', which='major', labelsize=22)\n",
    "plt.show()"
   ]
  },
  {
   "cell_type": "markdown",
   "metadata": {},
   "source": [
    "Best K seems to be 5 or 6"
   ]
  },
  {
   "cell_type": "code",
   "execution_count": 285,
   "metadata": {},
   "outputs": [
    {
     "data": {
      "text/plain": [
       "0.0005909460967737138"
      ]
     },
     "execution_count": 285,
     "metadata": {},
     "output_type": "execute_result"
    }
   ],
   "source": [
    "#Similarity between assignments\n",
    "i = ind.i\n",
    "metrics.adjusted_rand_score(i, kmeans.labels_)"
   ]
  },
  {
   "cell_type": "markdown",
   "metadata": {},
   "source": [
    "Boia che schifo (fa schifo con qualunque colonna abbia provato fino ad ora)"
   ]
  },
  {
   "cell_type": "markdown",
   "metadata": {},
   "source": [
    "## DBSCAN"
   ]
  },
  {
   "cell_type": "code",
   "execution_count": 286,
   "metadata": {},
   "outputs": [],
   "source": [
    "from sklearn.cluster import DBSCAN"
   ]
  },
  {
   "cell_type": "code",
   "execution_count": 347,
   "metadata": {},
   "outputs": [
    {
     "data": {
      "text/plain": [
       "DBSCAN(eps=0.07, min_samples=3)"
      ]
     },
     "execution_count": 347,
     "metadata": {},
     "output_type": "execute_result"
    }
   ],
   "source": [
    "dbscan = DBSCAN(eps=0.07, min_samples=3)\n",
    "dbscan.fit(X)"
   ]
  },
  {
   "cell_type": "code",
   "execution_count": 348,
   "metadata": {},
   "outputs": [
    {
     "data": {
      "text/plain": [
       "array([-1,  0,  0, ...,  0,  0,  0])"
      ]
     },
     "execution_count": 348,
     "metadata": {},
     "output_type": "execute_result"
    }
   ],
   "source": [
    "dbscan.labels_"
   ]
  },
  {
   "cell_type": "code",
   "execution_count": 349,
   "metadata": {},
   "outputs": [
    {
     "data": {
      "text/plain": [
       "(array([-1,  0,  1]), array([  38, 4331,    3]))"
      ]
     },
     "execution_count": 349,
     "metadata": {},
     "output_type": "execute_result"
    }
   ],
   "source": [
    "np.unique(dbscan.labels_, return_counts=True)"
   ]
  },
  {
   "cell_type": "code",
   "execution_count": 350,
   "metadata": {},
   "outputs": [
    {
     "data": {
      "image/png": "[encoded data removed]",
      "text/plain": [
       "<Figure size 432x288 with 1 Axes>"
      ]
     },
     "metadata": {
      "needs_background": "light"
     },
     "output_type": "display_data"
    }
   ],
   "source": [
    "plt.scatter(ind_no_ent['iu'], ind_no_ent['Sale'], \n",
    "            c=dbscan.labels_, s=20)\n",
    "plt.tick_params(axis='both', which='major', labelsize=22)\n",
    "plt.show()"
   ]
  },
  {
   "cell_type": "code",
   "execution_count": 351,
   "metadata": {},
   "outputs": [
    {
     "name": "stdout",
     "output_type": "stream",
     "text": [
      "Silhouette 0.12586662741740812\n"
     ]
    }
   ],
   "source": [
    "print('Silhouette %s' % silhouette_score(X, dbscan.labels_))"
   ]
  },
  {
   "cell_type": "markdown",
   "metadata": {},
   "source": [
    "Best eps with knee method"
   ]
  },
  {
   "cell_type": "code",
   "execution_count": 310,
   "metadata": {},
   "outputs": [],
   "source": [
    "from scipy.spatial.distance import pdist, squareform"
   ]
  },
  {
   "cell_type": "code",
   "execution_count": 311,
   "metadata": {},
   "outputs": [
    {
     "name": "stdout",
     "output_type": "stream",
     "text": [
      "[0.99421364 0.98003293 0.98917676 ... 0.14269631 0.02786865 0.11682323]\n",
      "\n",
      "[[0.         0.99421364 0.98003293 ... 1.41060533 1.41869071 1.40767615]\n",
      " [0.99421364 0.         0.04745901 ... 1.00040669 1.00329565 1.00018658]\n",
      " [0.98003293 0.04745901 0.         ... 0.99903162 1.00841773 0.99993819]\n",
      " ...\n",
      " [1.41060533 1.00040669 0.99903162 ... 0.         0.14269631 0.02786865]\n",
      " [1.41869071 1.00329565 1.00841773 ... 0.14269631 0.         0.11682323]\n",
      " [1.40767615 1.00018658 0.99993819 ... 0.02786865 0.11682323 0.        ]]\n"
     ]
    }
   ],
   "source": [
    "dist = pdist(X, 'euclidean') #pair wise distance\n",
    "print (dist)\n",
    "dist = squareform(dist) #distance matrix given the vector dist\n",
    "print()\n",
    "print(dist)"
   ]
  },
  {
   "cell_type": "code",
   "execution_count": 314,
   "metadata": {},
   "outputs": [],
   "source": [
    "k = 3\n",
    "kth_distances = list()\n",
    "for d in dist:\n",
    "    index_kth_distance = np.argsort(d)[k]\n",
    "    kth_distances.append(d[index_kth_distance])"
   ]
  },
  {
   "cell_type": "code",
   "execution_count": 315,
   "metadata": {},
   "outputs": [
    {
     "data": {
      "image/png": "[encoded data removed]",
      "text/plain": [
       "<Figure size 432x288 with 1 Axes>"
      ]
     },
     "metadata": {
      "needs_background": "light"
     },
     "output_type": "display_data"
    }
   ],
   "source": [
    "plt.plot(range(0, len(kth_distances)), sorted(kth_distances))\n",
    "plt.ylabel('dist from %sth neighbor' % k, fontsize=18)\n",
    "plt.xlabel('sorted distances', fontsize=18)\n",
    "plt.tick_params(axis='both', which='major', labelsize=22)\n",
    "plt.show()"
   ]
  },
  {
   "cell_type": "markdown",
   "metadata": {},
   "source": [
    "## Hierarchical clustering"
   ]
  },
  {
   "cell_type": "code",
   "execution_count": 352,
   "metadata": {},
   "outputs": [],
   "source": [
    "from scipy.stats import mode\n",
    "from scipy.spatial.distance import pdist\n",
    "from scipy.cluster.hierarchy import linkage, dendrogram"
   ]
  },
  {
   "cell_type": "code",
   "execution_count": 353,
   "metadata": {},
   "outputs": [
    {
     "data": {
      "image/png": "[encoded data removed]",
      "text/plain": [
       "<Figure size 432x288 with 1 Axes>"
      ]
     },
     "metadata": {
      "needs_background": "light"
     },
     "output_type": "display_data"
    }
   ],
   "source": [
    "data_dist = pdist(X, metric='euclidean')\n",
    "data_link = linkage(data_dist, method='complete', metric='euclidean')\n",
    "res = dendrogram(data_link, color_threshold=1.0, truncate_mode='lastp')"
   ]
  },
  {
   "cell_type": "code",
   "execution_count": 354,
   "metadata": {},
   "outputs": [
    {
     "data": {
      "image/png": "[encoded data removed]",
      "text/plain": [
       "<Figure size 432x288 with 1 Axes>"
      ]
     },
     "metadata": {
      "needs_background": "light"
     },
     "output_type": "display_data"
    }
   ],
   "source": [
    "res = dendrogram(data_link, color_threshold=1.0)\n",
    "# questo fino in fondo senza truncate è sminchiatissimo"
   ]
  },
  {
   "cell_type": "code",
   "execution_count": 355,
   "metadata": {},
   "outputs": [
    {
     "data": {
      "image/png": "[encoded data removed]",
      "text/plain": [
       "<Figure size 432x288 with 1 Axes>"
      ]
     },
     "metadata": {
      "needs_background": "light"
     },
     "output_type": "display_data"
    }
   ],
   "source": [
    "data_dist = pdist(X, metric='euclidean')\n",
    "data_link = linkage(data_dist, method='single', metric='euclidean')\n",
    "res = dendrogram(data_link, color_threshold=0.2, truncate_mode='lastp')"
   ]
  },
  {
   "cell_type": "code",
   "execution_count": 356,
   "metadata": {},
   "outputs": [
    {
     "data": {
      "image/png": "[encoded data removed]",
      "text/plain": [
       "<Figure size 432x288 with 1 Axes>"
      ]
     },
     "metadata": {
      "needs_background": "light"
     },
     "output_type": "display_data"
    }
   ],
   "source": [
    "data_dist = pdist(X, metric='euclidean')\n",
    "data_link = linkage(data_dist, method='average', metric='euclidean')\n",
    "res = dendrogram(data_link, color_threshold=0.4, truncate_mode='lastp')"
   ]
  },
  {
   "cell_type": "code",
   "execution_count": null,
   "metadata": {},
   "outputs": [],
   "source": []
  }
 ],
 "metadata": {
  "kernelspec": {
   "display_name": "Python [conda env:skmob]",
   "language": "python",
   "name": "skmob"
  },
  "language_info": {
   "codemirror_mode": {
    "name": "ipython",
    "version": 3
   },
   "file_extension": ".py",
   "mimetype": "text/x-python",
   "name": "python",
   "nbconvert_exporter": "python",
   "pygments_lexer": "ipython3",
   "version": "3.7.7"
  }
 },
 "nbformat": 4,
 "nbformat_minor": 4
}
