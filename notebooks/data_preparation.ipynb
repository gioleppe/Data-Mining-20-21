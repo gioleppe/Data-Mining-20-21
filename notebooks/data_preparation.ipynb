{
 "cells": [
  {
   "cell_type": "code",
   "execution_count": 1,
   "metadata": {},
   "outputs": [],
   "source": [
    "# imports\n",
    "import pandas as pd"
   ]
  },
  {
   "cell_type": "markdown",
   "metadata": {},
   "source": [
    "## Indicators"
   ]
  },
  {
   "cell_type": "code",
   "execution_count": 2,
   "metadata": {},
   "outputs": [
    {
     "name": "stdout",
     "output_type": "stream",
     "text": [
      "   Unnamed: 0  BasketID           BasketDate  ProdID  Qta  Sale  CustomerID  \\\n",
      "0           0    536365  2010-01-12 08:26:00   21730    6  4.25       17850   \n",
      "1           1    536365  2010-01-12 08:26:00   22752    2  7.65       17850   \n",
      "2           2    536365  2010-01-12 08:26:00   71053    6  3.39       17850   \n",
      "3           3    536365  2010-01-12 08:26:00  84029E    6  3.39       17850   \n",
      "4           4    536365  2010-01-12 08:26:00  84029G    6  3.39       17850   \n",
      "\n",
      "  CustomerCountry                            ProdDescr  \n",
      "0  United Kingdom    GLASS STAR FROSTED T-LIGHT HOLDER  \n",
      "1  United Kingdom         SET 7 BABUSHKA NESTING BOXES  \n",
      "2  United Kingdom                  WHITE METAL LANTERN  \n",
      "3  United Kingdom       RED WOOLLY HOTTIE WHITE HEART.  \n",
      "4  United Kingdom  KNITTED UNION FLAG HOT WATER BOTTLE  \n"
     ]
    }
   ],
   "source": [
    "# first of all we deserialize our dataframe\n",
    "df = pd.read_csv(\"../dataset/customer_supermarket_sale_qta_merge.csv\")\n",
    "print(df.head())"
   ]
  },
  {
   "cell_type": "markdown",
   "metadata": {},
   "source": [
    "# I - indicator\n",
    "the total number of items purchased by a customer during the period of\n",
    "observation."
   ]
  },
  {
   "cell_type": "code",
   "execution_count": 51,
   "metadata": {},
   "outputs": [
    {
     "data": {
      "text/html": [
       "<div>\n",
       "<style scoped>\n",
       "    .dataframe tbody tr th:only-of-type {\n",
       "        vertical-align: middle;\n",
       "    }\n",
       "\n",
       "    .dataframe tbody tr th {\n",
       "        vertical-align: top;\n",
       "    }\n",
       "\n",
       "    .dataframe thead th {\n",
       "        text-align: right;\n",
       "    }\n",
       "</style>\n",
       "<table border=\"1\" class=\"dataframe\">\n",
       "  <thead>\n",
       "    <tr style=\"text-align: right;\">\n",
       "      <th></th>\n",
       "      <th>CustomerID</th>\n",
       "      <th>Qta</th>\n",
       "    </tr>\n",
       "  </thead>\n",
       "  <tbody>\n",
       "    <tr>\n",
       "      <th>0</th>\n",
       "      <td>12346</td>\n",
       "      <td>0</td>\n",
       "    </tr>\n",
       "    <tr>\n",
       "      <th>1</th>\n",
       "      <td>12347</td>\n",
       "      <td>2458</td>\n",
       "    </tr>\n",
       "    <tr>\n",
       "      <th>2</th>\n",
       "      <td>12348</td>\n",
       "      <td>2341</td>\n",
       "    </tr>\n",
       "    <tr>\n",
       "      <th>3</th>\n",
       "      <td>12349</td>\n",
       "      <td>631</td>\n",
       "    </tr>\n",
       "    <tr>\n",
       "      <th>4</th>\n",
       "      <td>12350</td>\n",
       "      <td>197</td>\n",
       "    </tr>\n",
       "    <tr>\n",
       "      <th>...</th>\n",
       "      <td>...</td>\n",
       "      <td>...</td>\n",
       "    </tr>\n",
       "    <tr>\n",
       "      <th>4367</th>\n",
       "      <td>18280</td>\n",
       "      <td>45</td>\n",
       "    </tr>\n",
       "    <tr>\n",
       "      <th>4368</th>\n",
       "      <td>18281</td>\n",
       "      <td>54</td>\n",
       "    </tr>\n",
       "    <tr>\n",
       "      <th>4369</th>\n",
       "      <td>18282</td>\n",
       "      <td>98</td>\n",
       "    </tr>\n",
       "    <tr>\n",
       "      <th>4370</th>\n",
       "      <td>18283</td>\n",
       "      <td>1357</td>\n",
       "    </tr>\n",
       "    <tr>\n",
       "      <th>4371</th>\n",
       "      <td>18287</td>\n",
       "      <td>1586</td>\n",
       "    </tr>\n",
       "  </tbody>\n",
       "</table>\n",
       "<p>4372 rows × 2 columns</p>\n",
       "</div>"
      ],
      "text/plain": [
       "      CustomerID   Qta\n",
       "0          12346     0\n",
       "1          12347  2458\n",
       "2          12348  2341\n",
       "3          12349   631\n",
       "4          12350   197\n",
       "...          ...   ...\n",
       "4367       18280    45\n",
       "4368       18281    54\n",
       "4369       18282    98\n",
       "4370       18283  1357\n",
       "4371       18287  1586\n",
       "\n",
       "[4372 rows x 2 columns]"
      ]
     },
     "execution_count": 51,
     "metadata": {},
     "output_type": "execute_result"
    }
   ],
   "source": [
    "df_I = df.groupby(\"CustomerID\").sum().reset_index()\n",
    "df_I = df_I[[\"CustomerID\", \"Qta\"]]\n",
    "df_I"
   ]
  },
  {
   "cell_type": "code",
   "execution_count": 6,
   "metadata": {},
   "outputs": [
    {
     "name": "stdout",
     "output_type": "stream",
     "text": [
      "       Unnamed: 0  BasketID           BasketDate ProdID    Qta  Sale  \\\n",
      "37034       37034    541431  2011-01-18 10:01:00  23166  74215  1.04   \n",
      "37039       37039    541433  2011-01-18 10:17:00  23166 -74215  1.04   \n",
      "\n",
      "       CustomerID CustomerCountry                       ProdDescr  \n",
      "37034       12346  United Kingdom  MEDIUM CERAMIC TOP STORAGE JAR  \n",
      "37039       12346  United Kingdom  MEDIUM CERAMIC TOP STORAGE JAR  \n"
     ]
    }
   ],
   "source": [
    "#!! look at this, it might be an outlier\n",
    "print(df[df.CustomerID == 12346])"
   ]
  },
  {
   "cell_type": "markdown",
   "metadata": {},
   "source": [
    "# Iu - indicator\n",
    "the number of distinct items bought by a customer in the period of\n",
    "observation."
   ]
  },
  {
   "cell_type": "code",
   "execution_count": 14,
   "metadata": {},
   "outputs": [
    {
     "data": {
      "text/plain": [
       "CustomerID\n",
       "12346      1\n",
       "12347    103\n",
       "12348     22\n",
       "12349     73\n",
       "12350     17\n",
       "        ... \n",
       "18280     10\n",
       "18281      7\n",
       "18282     12\n",
       "18283    263\n",
       "18287     59\n",
       "Name: ProdID, Length: 4372, dtype: int64"
      ]
     },
     "execution_count": 14,
     "metadata": {},
     "output_type": "execute_result"
    }
   ],
   "source": [
    "df_iu = df.groupby('CustomerID')['ProdID'].nunique()\n",
    "df_iu"
   ]
  },
  {
   "cell_type": "markdown",
   "metadata": {},
   "source": [
    "# Imax - indicator\n",
    "the maximum number of items purchased by a customer during a\n",
    "shopping session"
   ]
  },
  {
   "cell_type": "code",
   "execution_count": 48,
   "metadata": {},
   "outputs": [
    {
     "data": {
      "text/plain": [
       "CustomerID  BasketID\n",
       "12346       541431      74215\n",
       "12347       537626        319\n",
       "12348       539318       1254\n",
       "12349       577609        631\n",
       "12350       543037        197\n",
       "                        ...  \n",
       "18280       545712         45\n",
       "18281       556464         54\n",
       "18282       562525         75\n",
       "18283       540350         61\n",
       "18287       554065        488\n",
       "Name: Qta, Length: 4372, dtype: int64"
      ]
     },
     "execution_count": 48,
     "metadata": {},
     "output_type": "execute_result"
    }
   ],
   "source": [
    "df_imax = df.groupby([\"CustomerID\", \"BasketID\"]).Qta.sum()\n",
    "df_imax = df_imax.groupby(level=0).head(1)\n",
    "\n",
    "#df_imax = df_imax.max(level=0)\n",
    "\n",
    "df_imax"
   ]
  },
  {
   "cell_type": "markdown",
   "metadata": {},
   "source": [
    "### "
   ]
  }
 ],
 "metadata": {
  "kernelspec": {
   "display_name": "Python [conda env:skmob]",
   "language": "python",
   "name": "skmob"
  },
  "language_info": {
   "codemirror_mode": {
    "name": "ipython",
    "version": 3
   },
   "file_extension": ".py",
   "mimetype": "text/x-python",
   "name": "python",
   "nbconvert_exporter": "python",
   "pygments_lexer": "ipython3",
   "version": "3.7.7"
  }
 },
 "nbformat": 4,
 "nbformat_minor": 4
}
