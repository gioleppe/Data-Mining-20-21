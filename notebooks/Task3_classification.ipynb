{
 "cells": [
  {
   "cell_type": "markdown",
   "metadata": {},
   "source": [
    "### Customer Spending Profile \n",
    "we categorize each customer as either low, medium, or high spending according to their average expense"
   ]
  },
  {
   "cell_type": "code",
   "execution_count": null,
   "metadata": {},
   "outputs": [],
   "source": [
    "df_profile = df.groupby([\"CustomerID\"]).agg({\"Sale\":sum, \"Qta\":sum})\n",
    "\n",
    "binwidth = 50\n",
    "bins=range(0, 1000 + binwidth, binwidth)\n",
    "print(bins)\n",
    "n, bins, patches = plt.hist(df_profile.Sale, bins=bins, facecolor='blue', alpha=0.5)\n",
    "plt.show()\n",
    "\n",
    "spending_profile = pd.cut(df_profile['Sale'], bins=[0, 100, 300, df_profile.Sale.max()], include_lowest=True, labels=[\"low\", \"medium\", \"high\"])\n",
    "spending_profile"
   ]
  }
 ],
 "metadata": {
  "kernelspec": {
   "display_name": "Python 3",
   "language": "python",
   "name": "python3"
  },
  "language_info": {
   "codemirror_mode": {
    "name": "ipython",
    "version": 3
   },
   "file_extension": ".py",
   "mimetype": "text/x-python",
   "name": "python",
   "nbconvert_exporter": "python",
   "pygments_lexer": "ipython3",
   "version": "3.8.5"
  }
 },
 "nbformat": 4,
 "nbformat_minor": 4
}
