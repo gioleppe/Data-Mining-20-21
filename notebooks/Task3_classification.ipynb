{
 "cells": [
  {
   "cell_type": "markdown",
   "metadata": {},
   "source": [
    "### Customer Spending Profile \n",
    "we categorize each customer as either low, medium, or high spending according to their average expense"
   ]
  },
  {
   "cell_type": "code",
   "execution_count": 158,
   "metadata": {},
   "outputs": [],
   "source": [
    "import pandas as pd\n",
    "\n",
    "LABEL_FEATURE = \"tot_sales\"\n",
    "\n",
    "indicators = pd.read_csv('../dataset/indicators_no_outlier.csv', index_col=\"CustomerID\")"
   ]
  },
  {
   "cell_type": "code",
   "execution_count": 159,
   "metadata": {},
   "outputs": [
    {
     "data": {
      "text/html": [
       "<div>\n",
       "<style scoped>\n",
       "    .dataframe tbody tr th:only-of-type {\n",
       "        vertical-align: middle;\n",
       "    }\n",
       "\n",
       "    .dataframe tbody tr th {\n",
       "        vertical-align: top;\n",
       "    }\n",
       "\n",
       "    .dataframe thead th {\n",
       "        text-align: right;\n",
       "    }\n",
       "</style>\n",
       "<table border=\"1\" class=\"dataframe\">\n",
       "  <thead>\n",
       "    <tr style=\"text-align: right;\">\n",
       "      <th></th>\n",
       "      <th>Entropy</th>\n",
       "      <th>i</th>\n",
       "      <th>iu</th>\n",
       "      <th>imax</th>\n",
       "      <th>tot_sales</th>\n",
       "      <th>mean_sales</th>\n",
       "    </tr>\n",
       "  </thead>\n",
       "  <tbody>\n",
       "    <tr>\n",
       "      <th>count</th>\n",
       "      <td>4183.000000</td>\n",
       "      <td>4183.000000</td>\n",
       "      <td>4183.000000</td>\n",
       "      <td>4183.000000</td>\n",
       "      <td>4183.000000</td>\n",
       "      <td>4183.000000</td>\n",
       "    </tr>\n",
       "    <tr>\n",
       "      <th>mean</th>\n",
       "      <td>0.883279</td>\n",
       "      <td>761.545781</td>\n",
       "      <td>54.277552</td>\n",
       "      <td>209.982070</td>\n",
       "      <td>215.797343</td>\n",
       "      <td>62.086895</td>\n",
       "    </tr>\n",
       "    <tr>\n",
       "      <th>std</th>\n",
       "      <td>0.833093</td>\n",
       "      <td>1151.855864</td>\n",
       "      <td>56.299433</td>\n",
       "      <td>198.147531</td>\n",
       "      <td>272.329634</td>\n",
       "      <td>48.291224</td>\n",
       "    </tr>\n",
       "    <tr>\n",
       "      <th>min</th>\n",
       "      <td>-0.000000</td>\n",
       "      <td>1.000000</td>\n",
       "      <td>1.000000</td>\n",
       "      <td>1.000000</td>\n",
       "      <td>0.170000</td>\n",
       "      <td>0.170000</td>\n",
       "    </tr>\n",
       "    <tr>\n",
       "      <th>25%</th>\n",
       "      <td>-0.000000</td>\n",
       "      <td>153.000000</td>\n",
       "      <td>15.000000</td>\n",
       "      <td>80.000000</td>\n",
       "      <td>49.965000</td>\n",
       "      <td>27.682500</td>\n",
       "    </tr>\n",
       "    <tr>\n",
       "      <th>50%</th>\n",
       "      <td>0.693147</td>\n",
       "      <td>356.000000</td>\n",
       "      <td>34.000000</td>\n",
       "      <td>150.000000</td>\n",
       "      <td>118.950000</td>\n",
       "      <td>49.785000</td>\n",
       "    </tr>\n",
       "    <tr>\n",
       "      <th>75%</th>\n",
       "      <td>1.386294</td>\n",
       "      <td>886.500000</td>\n",
       "      <td>74.000000</td>\n",
       "      <td>268.000000</td>\n",
       "      <td>266.235000</td>\n",
       "      <td>84.280000</td>\n",
       "    </tr>\n",
       "    <tr>\n",
       "      <th>max</th>\n",
       "      <td>3.550250</td>\n",
       "      <td>13162.000000</td>\n",
       "      <td>315.000000</td>\n",
       "      <td>1440.000000</td>\n",
       "      <td>2464.840000</td>\n",
       "      <td>318.190000</td>\n",
       "    </tr>\n",
       "  </tbody>\n",
       "</table>\n",
       "</div>"
      ],
      "text/plain": [
       "           Entropy             i           iu         imax    tot_sales  \\\n",
       "count  4183.000000   4183.000000  4183.000000  4183.000000  4183.000000   \n",
       "mean      0.883279    761.545781    54.277552   209.982070   215.797343   \n",
       "std       0.833093   1151.855864    56.299433   198.147531   272.329634   \n",
       "min      -0.000000      1.000000     1.000000     1.000000     0.170000   \n",
       "25%      -0.000000    153.000000    15.000000    80.000000    49.965000   \n",
       "50%       0.693147    356.000000    34.000000   150.000000   118.950000   \n",
       "75%       1.386294    886.500000    74.000000   268.000000   266.235000   \n",
       "max       3.550250  13162.000000   315.000000  1440.000000  2464.840000   \n",
       "\n",
       "        mean_sales  \n",
       "count  4183.000000  \n",
       "mean     62.086895  \n",
       "std      48.291224  \n",
       "min       0.170000  \n",
       "25%      27.682500  \n",
       "50%      49.785000  \n",
       "75%      84.280000  \n",
       "max     318.190000  "
      ]
     },
     "execution_count": 159,
     "metadata": {},
     "output_type": "execute_result"
    }
   ],
   "source": [
    "indicators.describe()"
   ]
  },
  {
   "cell_type": "markdown",
   "metadata": {},
   "source": [
    "### Computing spending profile label"
   ]
  },
  {
   "cell_type": "markdown",
   "metadata": {},
   "source": [
    "we begin by plotting the distribution and the quantiles for tot_sales, the feature from which we want to compute our label"
   ]
  },
  {
   "cell_type": "code",
   "execution_count": 160,
   "metadata": {},
   "outputs": [
    {
     "data": {
      "text/plain": [
       "<AxesSubplot:ylabel='Frequency'>"
      ]
     },
     "execution_count": 160,
     "metadata": {},
     "output_type": "execute_result"
    },
    {
     "data": {
      "image/png": "[encoded data removed]",
      "text/plain": [
       "<Figure size 432x288 with 1 Axes>"
      ]
     },
     "metadata": {
      "needs_background": "light"
     },
     "output_type": "display_data"
    }
   ],
   "source": [
    "df = indicators[LABEL_FEATURE]\n",
    "df.plot.hist()"
   ]
  },
  {
   "cell_type": "code",
   "execution_count": 161,
   "metadata": {},
   "outputs": [
    {
     "name": "stdout",
     "output_type": "stream",
     "text": [
      "0% quantile: 0.17\n",
      "5% quantile: 11.31\n",
      "10% quantile: 19.85\n",
      "15% quantile: 29.82\n",
      "20% quantile: 39.27\n",
      "25% quantile: 49.97\n",
      "30% quantile: 61.46\n",
      "35% quantile: 73.5\n",
      "40% quantile: 88.38\n",
      "45% quantile: 101.34\n",
      "50% quantile: 118.95\n",
      "55% quantile: 140.37\n",
      "60% quantile: 164.38\n",
      "65% quantile: 191.79\n",
      "70% quantile: 223.34\n",
      "75% quantile: 266.24\n",
      "80% quantile: 317.61\n",
      "85% quantile: 402.86\n",
      "90% quantile: 537.88\n",
      "95% quantile: 769.93\n"
     ]
    }
   ],
   "source": [
    "quantiles = []\n",
    "for i in range(0, 100, 5):\n",
    "    quantile = df.quantile(i/100)\n",
    "    quantiles.append(quantile)\n",
    "    print(f\"{i}% quantile: \".format(i)+str(round(quantile, 2)))"
   ]
  },
  {
   "cell_type": "code",
   "execution_count": 162,
   "metadata": {},
   "outputs": [],
   "source": [
    "def calc_profile(tot_sales, quantiles):\n",
    "    if (tot_sales < quantiles[10]):\n",
    "        return \"low\"\n",
    "    elif (tot_sales < quantiles[15]):\n",
    "        return \"medium\"\n",
    "    else:\n",
    "        return \"high\"\n",
    "\n",
    "indicators[\"spending_profile\"] = indicators[LABEL_FEATURE].apply(lambda x : calc_profile(x, quantiles))"
   ]
  },
  {
   "cell_type": "markdown",
   "metadata": {},
   "source": [
    "We drop the column we used to compute our label in order to proceed with classification"
   ]
  },
  {
   "cell_type": "code",
   "execution_count": 163,
   "metadata": {},
   "outputs": [],
   "source": [
    "indicators = indicators.drop(LABEL_FEATURE, axis=1)"
   ]
  },
  {
   "cell_type": "code",
   "execution_count": 164,
   "metadata": {},
   "outputs": [
    {
     "data": {
      "text/html": [
       "<div>\n",
       "<style scoped>\n",
       "    .dataframe tbody tr th:only-of-type {\n",
       "        vertical-align: middle;\n",
       "    }\n",
       "\n",
       "    .dataframe tbody tr th {\n",
       "        vertical-align: top;\n",
       "    }\n",
       "\n",
       "    .dataframe thead th {\n",
       "        text-align: right;\n",
       "    }\n",
       "</style>\n",
       "<table border=\"1\" class=\"dataframe\">\n",
       "  <thead>\n",
       "    <tr style=\"text-align: right;\">\n",
       "      <th></th>\n",
       "      <th>Entropy</th>\n",
       "      <th>i</th>\n",
       "      <th>iu</th>\n",
       "      <th>imax</th>\n",
       "      <th>mean_sales</th>\n",
       "      <th>spending_profile</th>\n",
       "    </tr>\n",
       "    <tr>\n",
       "      <th>CustomerID</th>\n",
       "      <th></th>\n",
       "      <th></th>\n",
       "      <th></th>\n",
       "      <th></th>\n",
       "      <th></th>\n",
       "      <th></th>\n",
       "    </tr>\n",
       "  </thead>\n",
       "  <tbody>\n",
       "    <tr>\n",
       "      <th>12347</th>\n",
       "      <td>1.945910</td>\n",
       "      <td>2458</td>\n",
       "      <td>103</td>\n",
       "      <td>319</td>\n",
       "      <td>68.744286</td>\n",
       "      <td>high</td>\n",
       "    </tr>\n",
       "    <tr>\n",
       "      <th>12348</th>\n",
       "      <td>1.386294</td>\n",
       "      <td>2341</td>\n",
       "      <td>22</td>\n",
       "      <td>1254</td>\n",
       "      <td>44.677500</td>\n",
       "      <td>medium</td>\n",
       "    </tr>\n",
       "    <tr>\n",
       "      <th>12350</th>\n",
       "      <td>-0.000000</td>\n",
       "      <td>197</td>\n",
       "      <td>17</td>\n",
       "      <td>197</td>\n",
       "      <td>65.300000</td>\n",
       "      <td>low</td>\n",
       "    </tr>\n",
       "    <tr>\n",
       "      <th>12352</th>\n",
       "      <td>2.079442</td>\n",
       "      <td>473</td>\n",
       "      <td>59</td>\n",
       "      <td>98</td>\n",
       "      <td>167.177500</td>\n",
       "      <td>high</td>\n",
       "    </tr>\n",
       "    <tr>\n",
       "      <th>12353</th>\n",
       "      <td>-0.000000</td>\n",
       "      <td>20</td>\n",
       "      <td>4</td>\n",
       "      <td>20</td>\n",
       "      <td>24.300000</td>\n",
       "      <td>low</td>\n",
       "    </tr>\n",
       "  </tbody>\n",
       "</table>\n",
       "</div>"
      ],
      "text/plain": [
       "             Entropy     i   iu  imax  mean_sales spending_profile\n",
       "CustomerID                                                        \n",
       "12347       1.945910  2458  103   319   68.744286             high\n",
       "12348       1.386294  2341   22  1254   44.677500           medium\n",
       "12350      -0.000000   197   17   197   65.300000              low\n",
       "12352       2.079442   473   59    98  167.177500             high\n",
       "12353      -0.000000    20    4    20   24.300000              low"
      ]
     },
     "execution_count": 164,
     "metadata": {},
     "output_type": "execute_result"
    }
   ],
   "source": [
    "indicators.head()"
   ]
  },
  {
   "cell_type": "markdown",
   "metadata": {},
   "source": [
    "### Discretizing the label"
   ]
  },
  {
   "cell_type": "markdown",
   "metadata": {},
   "source": [
    "#function to discretize the variables\n",
    "#input: the dataset and the list of variables' names to discretize\n",
    "def discretize_data(dataset, variables):\n",
    "    for variable in variables:\n",
    "        #get the unique variable's values\n",
    "        var = sorted(dataset[variable].unique())\n",
    "        \n",
    "        #generate a mapping from the variable's values to the number representation  \n",
    "        mapping = dict(zip(var, range(0, len(var) + 1)))\n",
    "\n",
    "        #add a new colum with the number representation of the variable\n",
    "        dataset[variable+'_num'] = dataset[variable].map(mapping).astype(int)\n",
    "    return dataset"
   ]
  },
  {
   "cell_type": "markdown",
   "metadata": {},
   "source": [
    "adult = discretize_data(adult, variables)"
   ]
  },
  {
   "cell_type": "markdown",
   "metadata": {},
   "source": [
    "## Classification with Decision Tree"
   ]
  },
  {
   "cell_type": "code",
   "execution_count": 170,
   "metadata": {},
   "outputs": [
    {
     "name": "stdout",
     "output_type": "stream",
     "text": [
      "             Entropy     i   iu  imax  mean_sales spending_profile\n",
      "CustomerID                                                        \n",
      "12347       1.945910  2458  103   319   68.744286             high\n",
      "12348       1.386294  2341   22  1254   44.677500           medium\n",
      "12350      -0.000000   197   17   197   65.300000              low\n",
      "12352       2.079442   473   59    98  167.177500             high\n",
      "12353      -0.000000    20    4    20   24.300000              low\n",
      "...              ...   ...  ...   ...         ...              ...\n",
      "18280      -0.000000    45   10    45   47.650000              low\n",
      "18281      -0.000000    54    7    54   39.360000              low\n",
      "18282       0.693147   103   12    75   31.195000              low\n",
      "18283       2.566599  1357  263    61   73.395625             high\n",
      "18287       1.098612  1586   59   488   34.850000              low\n",
      "\n",
      "[4183 rows x 6 columns]\n"
     ]
    }
   ],
   "source": [
    "df = indicators.copy(deep=True)\n",
    "print(df)"
   ]
  },
  {
   "cell_type": "code",
   "execution_count": 171,
   "metadata": {},
   "outputs": [],
   "source": [
    "#to classify, we first need to split the dataset into train and test dataset.\n",
    "#we can do so using train_test_split, in this case we select a stratified split\n",
    "from sklearn.model_selection import train_test_split\n",
    "label = df.pop('spending_profile')\n",
    "train_set, test_set, train_label, test_label = train_test_split(df, label, stratify =label, test_size=0.5)"
   ]
  },
  {
   "cell_type": "code",
   "execution_count": 172,
   "metadata": {},
   "outputs": [],
   "source": [
    "from sklearn import tree\n",
    "dt = tree.DecisionTreeClassifier(criterion='gini', splitter='best', \n",
    "                                  max_depth=10, \n",
    "                                  min_samples_split=3, min_samples_leaf=4)\n",
    "dt = dt.fit(train_set, train_label)"
   ]
  },
  {
   "cell_type": "code",
   "execution_count": 173,
   "metadata": {},
   "outputs": [
    {
     "ename": "InvocationException",
     "evalue": "GraphViz's executables not found",
     "output_type": "error",
     "traceback": [
      "\u001b[0;31m---------------------------------------------------------------------------\u001b[0m",
      "\u001b[0;31mInvocationException\u001b[0m                       Traceback (most recent call last)",
      "\u001b[0;32m<ipython-input-173-5081ad91ad7a>\u001b[0m in \u001b[0;36m<module>\u001b[0;34m\u001b[0m\n\u001b[1;32m      7\u001b[0m                          filled=True, rounded=True)  \n\u001b[1;32m      8\u001b[0m \u001b[0mgraph\u001b[0m \u001b[0;34m=\u001b[0m \u001b[0mpydotplus\u001b[0m\u001b[0;34m.\u001b[0m\u001b[0mgraph_from_dot_data\u001b[0m\u001b[0;34m(\u001b[0m\u001b[0mdot_data\u001b[0m\u001b[0;34m)\u001b[0m\u001b[0;34m\u001b[0m\u001b[0;34m\u001b[0m\u001b[0m\n\u001b[0;32m----> 9\u001b[0;31m \u001b[0mImage\u001b[0m\u001b[0;34m(\u001b[0m\u001b[0mgraph\u001b[0m\u001b[0;34m.\u001b[0m\u001b[0mcreate_png\u001b[0m\u001b[0;34m(\u001b[0m\u001b[0;34m)\u001b[0m\u001b[0;34m)\u001b[0m\u001b[0;34m\u001b[0m\u001b[0;34m\u001b[0m\u001b[0m\n\u001b[0m",
      "\u001b[0;32m~/opt/anaconda3/envs/skmob/lib/python3.7/site-packages/pydotplus/graphviz.py\u001b[0m in \u001b[0;36m<lambda>\u001b[0;34m(f, prog)\u001b[0m\n\u001b[1;32m   1789\u001b[0m             self.__setattr__(\n\u001b[1;32m   1790\u001b[0m                 \u001b[0;34m'create_'\u001b[0m \u001b[0;34m+\u001b[0m \u001b[0mfrmt\u001b[0m\u001b[0;34m,\u001b[0m\u001b[0;34m\u001b[0m\u001b[0;34m\u001b[0m\u001b[0m\n\u001b[0;32m-> 1791\u001b[0;31m                 \u001b[0;32mlambda\u001b[0m \u001b[0mf\u001b[0m\u001b[0;34m=\u001b[0m\u001b[0mfrmt\u001b[0m\u001b[0;34m,\u001b[0m \u001b[0mprog\u001b[0m\u001b[0;34m=\u001b[0m\u001b[0mself\u001b[0m\u001b[0;34m.\u001b[0m\u001b[0mprog\u001b[0m\u001b[0;34m:\u001b[0m \u001b[0mself\u001b[0m\u001b[0;34m.\u001b[0m\u001b[0mcreate\u001b[0m\u001b[0;34m(\u001b[0m\u001b[0mformat\u001b[0m\u001b[0;34m=\u001b[0m\u001b[0mf\u001b[0m\u001b[0;34m,\u001b[0m \u001b[0mprog\u001b[0m\u001b[0;34m=\u001b[0m\u001b[0mprog\u001b[0m\u001b[0;34m)\u001b[0m\u001b[0;34m\u001b[0m\u001b[0;34m\u001b[0m\u001b[0m\n\u001b[0m\u001b[1;32m   1792\u001b[0m             )\n\u001b[1;32m   1793\u001b[0m             \u001b[0mf\u001b[0m \u001b[0;34m=\u001b[0m \u001b[0mself\u001b[0m\u001b[0;34m.\u001b[0m\u001b[0m__dict__\u001b[0m\u001b[0;34m[\u001b[0m\u001b[0;34m'create_'\u001b[0m \u001b[0;34m+\u001b[0m \u001b[0mfrmt\u001b[0m\u001b[0;34m]\u001b[0m\u001b[0;34m\u001b[0m\u001b[0;34m\u001b[0m\u001b[0m\n",
      "\u001b[0;32m~/opt/anaconda3/envs/skmob/lib/python3.7/site-packages/pydotplus/graphviz.py\u001b[0m in \u001b[0;36mcreate\u001b[0;34m(self, prog, format)\u001b[0m\n\u001b[1;32m   1952\u001b[0m             \u001b[0;32mif\u001b[0m \u001b[0mself\u001b[0m\u001b[0;34m.\u001b[0m\u001b[0mprogs\u001b[0m \u001b[0;32mis\u001b[0m \u001b[0;32mNone\u001b[0m\u001b[0;34m:\u001b[0m\u001b[0;34m\u001b[0m\u001b[0;34m\u001b[0m\u001b[0m\n\u001b[1;32m   1953\u001b[0m                 raise InvocationException(\n\u001b[0;32m-> 1954\u001b[0;31m                     'GraphViz\\'s executables not found')\n\u001b[0m\u001b[1;32m   1955\u001b[0m \u001b[0;34m\u001b[0m\u001b[0m\n\u001b[1;32m   1956\u001b[0m         \u001b[0;32mif\u001b[0m \u001b[0mprog\u001b[0m \u001b[0;32mnot\u001b[0m \u001b[0;32min\u001b[0m \u001b[0mself\u001b[0m\u001b[0;34m.\u001b[0m\u001b[0mprogs\u001b[0m\u001b[0;34m:\u001b[0m\u001b[0;34m\u001b[0m\u001b[0;34m\u001b[0m\u001b[0m\n",
      "\u001b[0;31mInvocationException\u001b[0m: GraphViz's executables not found"
     ]
    }
   ],
   "source": [
    "#visualize the actual decision tree obtained \n",
    "import pydotplus \n",
    "from IPython.display import Image  \n",
    "dot_data = tree.export_graphviz(dt, out_file=None, \n",
    "                         feature_names=list(train_set.columns),  \n",
    "                         class_names=['low', 'medium', \"high\"],  \n",
    "                         filled=True, rounded=True)  \n",
    "graph = pydotplus.graph_from_dot_data(dot_data)  \n",
    "Image(graph.create_png())"
   ]
  },
  {
   "cell_type": "code",
   "execution_count": 174,
   "metadata": {},
   "outputs": [],
   "source": [
    "#predict using the decision tree\n",
    "#the predict function returns the actual predicted labels: we need them for the evaluation phase\n",
    "train_pred_dt = dt.predict(train_set)\n",
    "test_pred_dt = dt.predict(test_set)"
   ]
  },
  {
   "cell_type": "markdown",
   "metadata": {},
   "source": [
    "### Decision Tree evaluation"
   ]
  },
  {
   "cell_type": "code",
   "execution_count": 175,
   "metadata": {},
   "outputs": [
    {
     "name": "stdout",
     "output_type": "stream",
     "text": [
      "Accuracy train set  0.9751315160210425\n",
      "Accuracy test set  0.9297323135755258\n",
      "Precision train set  0.975037312051752\n",
      "Recall train set  0.9751315160210425\n",
      "F1 score train set  0.9750759596552299\n",
      "Support train set  (array([0.96545106, 0.99048525, 0.95375723]), array([0.96175908, 0.99617225, 0.94646272]), array([0.96360153, 0.99332061, 0.95009597]), array([ 523, 1045,  523]))\n"
     ]
    }
   ],
   "source": [
    "#evaulate the accuracy on the train set and the test set\n",
    "#metrics also contains precision, recall, f1 and the support\n",
    "from sklearn import metrics\n",
    "print('Accuracy train set ', metrics.accuracy_score(train_label, train_pred_dt))\n",
    "print('Accuracy test set ', metrics.accuracy_score(test_label, test_pred_dt))\n",
    "print('Precision train set ', metrics.precision_score(train_label, train_pred_dt, average='weighted'))\n",
    "print('Recall train set ', metrics.recall_score(train_label, train_pred_dt, average='weighted'))\n",
    "print('F1 score train set ', metrics.f1_score(train_label, train_pred_dt, average='weighted'))\n",
    "print('Support train set ', metrics.precision_recall_fscore_support(train_label, train_pred_dt))"
   ]
  },
  {
   "cell_type": "code",
   "execution_count": 176,
   "metadata": {},
   "outputs": [],
   "source": [
    "#metrics computed on the test set\n",
    "from sklearn.metrics import classification_report\n",
    "def report_scores(test_label, test_pred):\n",
    "    print(classification_report(test_label, \n",
    "                            test_pred, \n",
    "                            target_names=[\"low\", \"medium\", \"high\"]))"
   ]
  },
  {
   "cell_type": "code",
   "execution_count": 177,
   "metadata": {},
   "outputs": [
    {
     "name": "stdout",
     "output_type": "stream",
     "text": [
      "              precision    recall  f1-score   support\n",
      "\n",
      "         low       0.91      0.88      0.90       523\n",
      "      medium       0.98      0.98      0.98      1046\n",
      "        high       0.85      0.87      0.86       523\n",
      "\n",
      "    accuracy                           0.93      2092\n",
      "   macro avg       0.91      0.91      0.91      2092\n",
      "weighted avg       0.93      0.93      0.93      2092\n",
      "\n"
     ]
    }
   ],
   "source": [
    "report_scores(test_label, test_pred_dt)"
   ]
  },
  {
   "cell_type": "code",
   "execution_count": 178,
   "metadata": {},
   "outputs": [
    {
     "name": "stdout",
     "output_type": "stream",
     "text": [
      "Fit time  0.010712703069051107\n",
      "Score time  0.004890600840250651\n",
      "Test score  0.9277857484457198\n",
      "Train score  0.9703491152558584\n"
     ]
    }
   ],
   "source": [
    "#cross validation\n",
    "#the score array for test/train scores on each cv split\n",
    "#the time for fitting/scoring the estimator on the train set for each cv split\n",
    "from sklearn.model_selection import cross_validate\n",
    "import statistics \n",
    "scores = cross_validate(dt, train_set, train_label, cv=3, return_train_score= True)\n",
    "print('Fit time ', statistics.mean(scores['fit_time']))\n",
    "print('Score time ', statistics.mean(scores['score_time']))\n",
    "print('Test score ', statistics.mean(scores['test_score']))\n",
    "print('Train score ', statistics.mean(scores['train_score']))"
   ]
  },
  {
   "cell_type": "code",
   "execution_count": 179,
   "metadata": {},
   "outputs": [
    {
     "data": {
      "text/plain": [
       "array([[ 460,    0,   63],\n",
       "       [   0, 1030,   16],\n",
       "       [  44,   24,  455]])"
      ]
     },
     "execution_count": 179,
     "metadata": {},
     "output_type": "execute_result"
    }
   ],
   "source": [
    "#compute confusion matrix\n",
    "from sklearn.metrics import confusion_matrix\n",
    "cm = confusion_matrix(test_label, test_pred_dt)\n",
    "cm"
   ]
  },
  {
   "cell_type": "code",
   "execution_count": 187,
   "metadata": {},
   "outputs": [
    {
     "data": {
      "image/png": "[encoded data removed]",
      "text/plain": [
       "<Figure size 720x720 with 2 Axes>"
      ]
     },
     "metadata": {
      "needs_background": "light"
     },
     "output_type": "display_data"
    }
   ],
   "source": [
    "#it is possible to plot the confusion matrix \n",
    "from sklearn.metrics import plot_confusion_matrix\n",
    "import matplotlib.pyplot as plt\n",
    "\n",
    "fig, ax = plt.subplots(figsize=(10, 10))\n",
    "plt.rcParams.update({'font.size': 16, \"axes.labelsize\" : 14})\n",
    "\n",
    "\n",
    "plot_confusion_matrix(dt, test_set, test_label, ax=ax)\n",
    "plt.show() "
   ]
  },
  {
   "cell_type": "markdown",
   "metadata": {},
   "source": [
    "## Classification with Naive Bayes"
   ]
  },
  {
   "cell_type": "code",
   "execution_count": 189,
   "metadata": {},
   "outputs": [],
   "source": [
    "#import, define and fit the model\n",
    "from sklearn.naive_bayes import GaussianNB\n",
    "\n",
    "gnb = GaussianNB()\n",
    "gnb.fit(train_set, train_label)\n",
    "\n",
    "#predict on the test set\n",
    "test_pred_gnb = gnb.predict(test_set)"
   ]
  },
  {
   "cell_type": "code",
   "execution_count": 190,
   "metadata": {},
   "outputs": [
    {
     "name": "stdout",
     "output_type": "stream",
     "text": [
      "              precision    recall  f1-score   support\n",
      "\n",
      "         low       0.88      0.70      0.78       523\n",
      "      medium       0.90      0.91      0.90      1046\n",
      "        high       0.61      0.73      0.67       523\n",
      "\n",
      "    accuracy                           0.81      2092\n",
      "   macro avg       0.80      0.78      0.78      2092\n",
      "weighted avg       0.82      0.81      0.81      2092\n",
      "\n"
     ]
    }
   ],
   "source": [
    "#compute the performance of the model\n",
    "report_scores(test_label,test_pred_gnb)"
   ]
  },
  {
   "cell_type": "code",
   "execution_count": null,
   "metadata": {},
   "outputs": [],
   "source": []
  }
 ],
 "metadata": {
  "kernelspec": {
   "display_name": "Python [conda env:skmob]",
   "language": "python",
   "name": "skmob"
  },
  "language_info": {
   "codemirror_mode": {
    "name": "ipython",
    "version": 3
   },
   "file_extension": ".py",
   "mimetype": "text/x-python",
   "name": "python",
   "nbconvert_exporter": "python",
   "pygments_lexer": "ipython3",
   "version": "3.7.7"
  }
 },
 "nbformat": 4,
 "nbformat_minor": 4
}
