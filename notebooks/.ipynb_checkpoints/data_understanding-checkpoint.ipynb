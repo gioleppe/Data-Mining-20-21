{
 "cells": [
  {
   "cell_type": "code",
   "execution_count": 52,
   "metadata": {},
   "outputs": [],
   "source": [
    "import matplotlib.pyplot as plt\n",
    "import numpy as np\n",
    "import pandas as pd\n",
    "import math\n",
    "import scipy.stats as stats\n",
    "\n",
    "from collections import defaultdict\n",
    "from scipy.stats.stats import pearsonr"
   ]
  },
  {
   "cell_type": "markdown",
   "metadata": {},
   "source": [
    "## Loading the dataset"
   ]
  },
  {
   "cell_type": "code",
   "execution_count": 53,
   "metadata": {},
   "outputs": [],
   "source": [
    "df = pd.read_csv(\"../dataset/customer_supermarket.csv\", sep=\"\\t\", index_col=0, parse_dates=[\"BasketDate\"])"
   ]
  },
  {
   "cell_type": "code",
   "execution_count": 54,
   "metadata": {},
   "outputs": [
    {
     "name": "stdout",
     "output_type": "stream",
     "text": [
      "  BasketID          BasketDate  Sale  CustomerID CustomerCountry  ProdID  \\\n",
      "0   536365 2010-01-12 08:26:00  2,55     17850.0  United Kingdom  85123A   \n",
      "1   536365 2010-01-12 08:26:00  3,39     17850.0  United Kingdom   71053   \n",
      "2   536365 2010-01-12 08:26:00  2,75     17850.0  United Kingdom  84406B   \n",
      "3   536365 2010-01-12 08:26:00  3,39     17850.0  United Kingdom  84029G   \n",
      "4   536365 2010-01-12 08:26:00  3,39     17850.0  United Kingdom  84029E   \n",
      "\n",
      "                             ProdDescr  Qta  \n",
      "0   WHITE HANGING HEART T-LIGHT HOLDER    6  \n",
      "1                  WHITE METAL LANTERN    6  \n",
      "2       CREAM CUPID HEARTS COAT HANGER    8  \n",
      "3  KNITTED UNION FLAG HOT WATER BOTTLE    6  \n",
      "4       RED WOOLLY HOTTIE WHITE HEART.    6  \n",
      "\n",
      "       BasketID          BasketDate  Sale  CustomerID CustomerCountry ProdID  \\\n",
      "541905   581587 2011-09-12 12:50:00   2,1     12680.0          France  22899   \n",
      "541906   581587 2011-09-12 12:50:00  4,15     12680.0          France  23254   \n",
      "541907   581587 2011-09-12 12:50:00  4,15     12680.0          France  23255   \n",
      "541908   581587 2011-09-12 12:50:00  4,95     12680.0          France  22138   \n",
      "541909   581587 2011-09-12 12:50:00    18     12680.0          France   POST   \n",
      "\n",
      "                              ProdDescr  Qta  \n",
      "541905     CHILDREN'S APRON DOLLY GIRL     6  \n",
      "541906    CHILDRENS CUTLERY DOLLY GIRL     4  \n",
      "541907  CHILDRENS CUTLERY CIRCUS PARADE    4  \n",
      "541908    BAKING SET 9 PIECE RETROSPOT     3  \n",
      "541909                          POSTAGE    1  \n"
     ]
    }
   ],
   "source": [
    "print(df.head())\n",
    "print()\n",
    "print(df.tail())"
   ]
  },
  {
   "cell_type": "markdown",
   "metadata": {},
   "source": [
    "## Attributes and check"
   ]
  },
  {
   "cell_type": "code",
   "execution_count": 55,
   "metadata": {},
   "outputs": [
    {
     "data": {
      "text/plain": [
       "BasketID                   object\n",
       "BasketDate         datetime64[ns]\n",
       "Sale                       object\n",
       "CustomerID                float64\n",
       "CustomerCountry            object\n",
       "ProdID                     object\n",
       "ProdDescr                  object\n",
       "Qta                         int64\n",
       "dtype: object"
      ]
     },
     "execution_count": 55,
     "metadata": {},
     "output_type": "execute_result"
    }
   ],
   "source": [
    "df.dtypes"
   ]
  },
  {
   "cell_type": "code",
   "execution_count": 56,
   "metadata": {},
   "outputs": [
    {
     "name": "stdout",
     "output_type": "stream",
     "text": [
      "<class 'pandas.core.frame.DataFrame'>\n",
      "Int64Index: 471910 entries, 0 to 541909\n",
      "Data columns (total 8 columns):\n",
      " #   Column           Non-Null Count   Dtype         \n",
      "---  ------           --------------   -----         \n",
      " 0   BasketID         471910 non-null  object        \n",
      " 1   BasketDate       471910 non-null  datetime64[ns]\n",
      " 2   Sale             471910 non-null  object        \n",
      " 3   CustomerID       406830 non-null  float64       \n",
      " 4   CustomerCountry  471910 non-null  object        \n",
      " 5   ProdID           471910 non-null  object        \n",
      " 6   ProdDescr        471157 non-null  object        \n",
      " 7   Qta              471910 non-null  int64         \n",
      "dtypes: datetime64[ns](1), float64(1), int64(1), object(5)\n",
      "memory usage: 167.4 MB\n"
     ]
    }
   ],
   "source": [
    "df.info(memory_usage=\"deep\")"
   ]
  },
  {
   "cell_type": "markdown",
   "metadata": {},
   "source": [
    "## Observations\n",
    "CustomerID and ProdDescr both feature some null values.\n",
    "All the columns have wrong datatypes."
   ]
  },
  {
   "cell_type": "markdown",
   "metadata": {},
   "source": [
    "## Dropping duplicates"
   ]
  },
  {
   "cell_type": "code",
   "execution_count": 57,
   "metadata": {},
   "outputs": [],
   "source": [
    "df_nodup = df.drop_duplicates()"
   ]
  },
  {
   "cell_type": "code",
   "execution_count": 58,
   "metadata": {},
   "outputs": [
    {
     "name": "stdout",
     "output_type": "stream",
     "text": [
      "Dropped 5232 duplicate rows\n"
     ]
    }
   ],
   "source": [
    "print(f\"Dropped {len(df) - len(df_nodup)} duplicate rows\")"
   ]
  },
  {
   "cell_type": "code",
   "execution_count": 59,
   "metadata": {},
   "outputs": [
    {
     "name": "stdout",
     "output_type": "stream",
     "text": [
      "<class 'pandas.core.frame.DataFrame'>\n",
      "Int64Index: 471910 entries, 0 to 541909\n",
      "Data columns (total 8 columns):\n",
      " #   Column           Non-Null Count   Dtype         \n",
      "---  ------           --------------   -----         \n",
      " 0   BasketID         471910 non-null  object        \n",
      " 1   BasketDate       471910 non-null  datetime64[ns]\n",
      " 2   Sale             471910 non-null  object        \n",
      " 3   CustomerID       406830 non-null  float64       \n",
      " 4   CustomerCountry  471910 non-null  object        \n",
      " 5   ProdID           471910 non-null  object        \n",
      " 6   ProdDescr        471157 non-null  object        \n",
      " 7   Qta              471910 non-null  int64         \n",
      "dtypes: datetime64[ns](1), float64(1), int64(1), object(5)\n",
      "memory usage: 32.4+ MB\n"
     ]
    }
   ],
   "source": [
    "df.info()"
   ]
  },
  {
   "cell_type": "markdown",
   "metadata": {},
   "source": [
    "## Printing rows with null values"
   ]
  },
  {
   "cell_type": "code",
   "execution_count": 60,
   "metadata": {},
   "outputs": [
    {
     "name": "stdout",
     "output_type": "stream",
     "text": [
      "       BasketID          BasketDate     Sale  CustomerID CustomerCountry  \\\n",
      "1444     536544 2010-01-12 14:32:00     2,51         NaN  United Kingdom   \n",
      "1446     536544 2010-01-12 14:32:00     1,66         NaN  United Kingdom   \n",
      "1447     536544 2010-01-12 14:32:00     1,66         NaN  United Kingdom   \n",
      "1448     536544 2010-01-12 14:32:00     2,51         NaN  United Kingdom   \n",
      "1450     536544 2010-01-12 14:32:00     0,43         NaN  United Kingdom   \n",
      "...         ...                 ...      ...         ...             ...   \n",
      "541532   581498 2011-09-12 10:26:00     4,13         NaN  United Kingdom   \n",
      "541534   581498 2011-09-12 10:26:00     3,29         NaN  United Kingdom   \n",
      "541538   581498 2011-09-12 10:26:00     4,96         NaN  United Kingdom   \n",
      "541539   581498 2011-09-12 10:26:00    10,79         NaN  United Kingdom   \n",
      "541540   581498 2011-09-12 10:26:00  1714,17         NaN  United Kingdom   \n",
      "\n",
      "        ProdID                           ProdDescr  Qta  \n",
      "1444     21774     DECORATIVE CATS BATHROOM BOTTLE    2  \n",
      "1446     21787               RAIN PONCHO RETROSPOT    2  \n",
      "1447     21790                  VINTAGE SNAP CARDS    9  \n",
      "1448     21791  VINTAGE HEADS AND TAILS CARD GAME     2  \n",
      "1450     21802     CHRISTMAS TREE HEART DECORATION    9  \n",
      "...        ...                                 ...  ...  \n",
      "541532   85038     6 CHOCOLATE LOVE HEART T-LIGHTS    1  \n",
      "541534  85049a       TRADITIONAL CHRISTMAS RIBBONS    5  \n",
      "541538   85150       LADIES & GENTLEMEN METAL SIGN    1  \n",
      "541539   85174                   S/4 CACTI CANDLES    1  \n",
      "541540     DOT                      DOTCOM POSTAGE    1  \n",
      "\n",
      "[65073 rows x 8 columns]\n",
      "\n",
      "We have 65073 rows with null values,       13.943875648734243 percent of the dataset without duplicated.\n"
     ]
    }
   ],
   "source": [
    "df_null = df_nodup[df_nodup.isna().any(axis=1)]\n",
    "print(df_null)\n",
    "print()\n",
    "print(f\"We have {len(df_null)} rows with null values, \\\n",
    "      {len(df_null)/len(df_nodup) * 100} percent of the dataset without duplicated.\")"
   ]
  },
  {
   "cell_type": "markdown",
   "metadata": {},
   "source": [
    "### Dropping null columns (or not?)"
   ]
  },
  {
   "cell_type": "markdown",
   "metadata": {},
   "source": [
    "First of all we detect missing values"
   ]
  },
  {
   "cell_type": "code",
   "execution_count": 61,
   "metadata": {},
   "outputs": [
    {
     "data": {
      "text/plain": [
       "BasketID           False\n",
       "BasketDate         False\n",
       "Sale               False\n",
       "CustomerID          True\n",
       "CustomerCountry    False\n",
       "ProdID             False\n",
       "ProdDescr           True\n",
       "Qta                False\n",
       "dtype: bool"
      ]
     },
     "execution_count": 61,
     "metadata": {},
     "output_type": "execute_result"
    }
   ],
   "source": [
    "df_nodup.isna().any()"
   ]
  },
  {
   "cell_type": "markdown",
   "metadata": {},
   "source": [
    "We see that the only columns with null values are CustomerID and ProdDescr.\n",
    "For now we'd like to drop rows containing null values."
   ]
  },
  {
   "cell_type": "code",
   "execution_count": 62,
   "metadata": {},
   "outputs": [
    {
     "name": "stdout",
     "output_type": "stream",
     "text": [
      "<class 'pandas.core.frame.DataFrame'>\n",
      "Int64Index: 401605 entries, 0 to 541909\n",
      "Data columns (total 8 columns):\n",
      " #   Column           Non-Null Count   Dtype         \n",
      "---  ------           --------------   -----         \n",
      " 0   BasketID         401605 non-null  object        \n",
      " 1   BasketDate       401605 non-null  datetime64[ns]\n",
      " 2   Sale             401605 non-null  object        \n",
      " 3   CustomerID       401605 non-null  float64       \n",
      " 4   CustomerCountry  401605 non-null  object        \n",
      " 5   ProdID           401605 non-null  object        \n",
      " 6   ProdDescr        401605 non-null  object        \n",
      " 7   Qta              401605 non-null  int64         \n",
      "dtypes: datetime64[ns](1), float64(1), int64(1), object(5)\n",
      "memory usage: 27.6+ MB\n"
     ]
    }
   ],
   "source": [
    "df_clean = df_nodup.dropna()\n",
    "df_clean.info()"
   ]
  },
  {
   "cell_type": "code",
   "execution_count": 63,
   "metadata": {},
   "outputs": [
    {
     "name": "stdout",
     "output_type": "stream",
     "text": [
      "Distinct values in Customer Country: \t ['United Kingdom' 'France' 'Australia' 'Netherlands' 'Germany' 'Norway'\n",
      " 'EIRE' 'Switzerland' 'Spain' 'Poland' 'Portugal' 'Italy' 'Belgium'\n",
      " 'Lithuania' 'Japan' 'Iceland' 'Channel Islands' 'Denmark' 'Cyprus'\n",
      " 'Sweden' 'Austria' 'Israel' 'Finland' 'Greece' 'Singapore' 'Lebanon'\n",
      " 'United Arab Emirates' 'Saudi Arabia' 'Czech Republic' 'Canada'\n",
      " 'Unspecified' 'Brazil' 'USA' 'European Community' 'Bahrain' 'Malta' 'RSA']\n"
     ]
    }
   ],
   "source": [
    "print(\"Distinct values in Customer Country: \\t\", df_clean.CustomerCountry.unique())\n",
    "#print(\"Distinct values in ProdID: \\t\", df_clean.ProdID.unique())\n",
    "#print(\"Distinct values in ProdDescr: \\t\", df_clean.ProdDescr.unique())"
   ]
  },
  {
   "cell_type": "markdown",
   "metadata": {},
   "source": [
    "We have people coming from unspecified countries, a generic \"European Community\", EIRE which stands for Ireland and RSA which stands for Republic of South Africa."
   ]
  },
  {
   "cell_type": "code",
   "execution_count": 64,
   "metadata": {},
   "outputs": [
    {
     "name": "stdout",
     "output_type": "stream",
     "text": [
      "Number of customers from Unspecified countries: \t 241\n",
      "Number of customers from generic European Community countries: \t 61\n"
     ]
    }
   ],
   "source": [
    "print(\"Number of customers from Unspecified countries: \\t\", (df_clean.CustomerCountry == \"Unspecified\").sum())\n",
    "print(\"Number of customers from generic European Community countries: \\t\", (df_clean.CustomerCountry == \"European Community\").sum())\n"
   ]
  },
  {
   "cell_type": "code",
   "execution_count": 65,
   "metadata": {},
   "outputs": [
    {
     "data": {
      "text/plain": [
       "BasketID                   object\n",
       "BasketDate         datetime64[ns]\n",
       "Sale                       object\n",
       "CustomerID                float64\n",
       "CustomerCountry            object\n",
       "ProdID                     object\n",
       "ProdDescr                  object\n",
       "Qta                         int64\n",
       "dtype: object"
      ]
     },
     "execution_count": 65,
     "metadata": {},
     "output_type": "execute_result"
    }
   ],
   "source": [
    "df_clean.infer_objects().dtypes"
   ]
  },
  {
   "cell_type": "code",
   "execution_count": 69,
   "metadata": {},
   "outputs": [
    {
     "name": "stdout",
     "output_type": "stream",
     "text": [
      "<class 'pandas.core.frame.DataFrame'>\n",
      "Int64Index: 401605 entries, 0 to 541909\n",
      "Data columns (total 8 columns):\n",
      " #   Column           Non-Null Count   Dtype         \n",
      "---  ------           --------------   -----         \n",
      " 0   BasketID         401605 non-null  string        \n",
      " 1   BasketDate       401605 non-null  datetime64[ns]\n",
      " 2   Sale             401605 non-null  string        \n",
      " 3   CustomerID       401605 non-null  Int64         \n",
      " 4   CustomerCountry  401605 non-null  string        \n",
      " 5   ProdID           401605 non-null  string        \n",
      " 6   ProdDescr        401605 non-null  string        \n",
      " 7   Qta              401605 non-null  Int64         \n",
      "dtypes: Int64(2), datetime64[ns](1), string(5)\n",
      "memory usage: 28.3 MB\n",
      "None\n"
     ]
    }
   ],
   "source": [
    "print(df_clean.convert_dtypes().info())"
   ]
  },
  {
   "cell_type": "code",
   "execution_count": 67,
   "metadata": {},
   "outputs": [
    {
     "data": {
      "text/html": [
       "<div>\n",
       "<style scoped>\n",
       "    .dataframe tbody tr th:only-of-type {\n",
       "        vertical-align: middle;\n",
       "    }\n",
       "\n",
       "    .dataframe tbody tr th {\n",
       "        vertical-align: top;\n",
       "    }\n",
       "\n",
       "    .dataframe thead th {\n",
       "        text-align: right;\n",
       "    }\n",
       "</style>\n",
       "<table border=\"1\" class=\"dataframe\">\n",
       "  <thead>\n",
       "    <tr style=\"text-align: right;\">\n",
       "      <th></th>\n",
       "      <th>CustomerID</th>\n",
       "      <th>Qta</th>\n",
       "    </tr>\n",
       "  </thead>\n",
       "  <tbody>\n",
       "    <tr>\n",
       "      <th>count</th>\n",
       "      <td>401605.000000</td>\n",
       "      <td>401605.000000</td>\n",
       "    </tr>\n",
       "    <tr>\n",
       "      <th>mean</th>\n",
       "      <td>15281.154341</td>\n",
       "      <td>12.183245</td>\n",
       "    </tr>\n",
       "    <tr>\n",
       "      <th>std</th>\n",
       "      <td>1714.008869</td>\n",
       "      <td>250.282726</td>\n",
       "    </tr>\n",
       "    <tr>\n",
       "      <th>min</th>\n",
       "      <td>12346.000000</td>\n",
       "      <td>-80995.000000</td>\n",
       "    </tr>\n",
       "    <tr>\n",
       "      <th>25%</th>\n",
       "      <td>13939.000000</td>\n",
       "      <td>2.000000</td>\n",
       "    </tr>\n",
       "    <tr>\n",
       "      <th>50%</th>\n",
       "      <td>15145.000000</td>\n",
       "      <td>5.000000</td>\n",
       "    </tr>\n",
       "    <tr>\n",
       "      <th>75%</th>\n",
       "      <td>16784.000000</td>\n",
       "      <td>12.000000</td>\n",
       "    </tr>\n",
       "    <tr>\n",
       "      <th>max</th>\n",
       "      <td>18287.000000</td>\n",
       "      <td>80995.000000</td>\n",
       "    </tr>\n",
       "  </tbody>\n",
       "</table>\n",
       "</div>"
      ],
      "text/plain": [
       "          CustomerID            Qta\n",
       "count  401605.000000  401605.000000\n",
       "mean    15281.154341      12.183245\n",
       "std      1714.008869     250.282726\n",
       "min     12346.000000  -80995.000000\n",
       "25%     13939.000000       2.000000\n",
       "50%     15145.000000       5.000000\n",
       "75%     16784.000000      12.000000\n",
       "max     18287.000000   80995.000000"
      ]
     },
     "execution_count": 67,
     "metadata": {},
     "output_type": "execute_result"
    }
   ],
   "source": [
    "df_clean.describe()"
   ]
  },
  {
   "cell_type": "code",
   "execution_count": null,
   "metadata": {},
   "outputs": [],
   "source": []
  }
 ],
 "metadata": {
  "kernelspec": {
   "display_name": "Python 3",
   "language": "python",
   "name": "python3"
  },
  "language_info": {
   "codemirror_mode": {
    "name": "ipython",
    "version": 3
   },
   "file_extension": ".py",
   "mimetype": "text/x-python",
   "name": "python",
   "nbconvert_exporter": "python",
   "pygments_lexer": "ipython3",
   "version": "3.7.6"
  }
 },
 "nbformat": 4,
 "nbformat_minor": 4
}
