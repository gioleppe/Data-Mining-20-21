{
 "cells": [
  {
   "cell_type": "code",
   "execution_count": 1,
   "metadata": {},
   "outputs": [],
   "source": [
    "# imports\n",
    "import pandas as pd\n",
    "import numpy as np\n",
    "import matplotlib.pyplot as plt\n",
    "import json\n",
    "from tqdm import tqdm\n",
    "import math"
   ]
  },
  {
   "cell_type": "markdown",
   "metadata": {},
   "source": [
    "## Data cleaning\n",
    "\n",
    "The following cells will improve the DF, which presents inconsistency, missing values and outliers, thanks to consideration done during the data understanding phase"
   ]
  },
  {
   "cell_type": "code",
   "execution_count": 2,
   "metadata": {},
   "outputs": [],
   "source": [
    "# load df\n",
    "df = pd.read_csv(\"../dataset/customer_supermarket_regex.csv\", index_col=0, parse_dates=[\"BasketDate\"], decimal=\",\")"
   ]
  },
  {
   "cell_type": "code",
   "execution_count": 3,
   "metadata": {},
   "outputs": [
    {
     "name": "stdout",
     "output_type": "stream",
     "text": [
      "DF len before deleting rows with Qta  <= 0 396687\n",
      "DF len after deleting rows with Qta  <= 0 387881\n"
     ]
    }
   ],
   "source": [
    "#delete every row with Qta <= 0\n",
    "print(\"DF len before deleting rows with Qta  <= 0\", len(df))\n",
    "df = df[df['Qta'] > 0]\n",
    "print(\"DF len after deleting rows with Qta  <= 0\", len(df))"
   ]
  },
  {
   "cell_type": "code",
   "execution_count": 4,
   "metadata": {},
   "outputs": [],
   "source": [
    "# inconsistency resolution\n",
    "\n",
    "def inconsistency_resolver(path,col1,col2):\n",
    "    \n",
    "    with open(path, 'r') as f:\n",
    "        inconsistent_list = json.load(f)\n",
    "        \n",
    "    df_inconsistent = df[df[col1].isin(inconsistent_list)]\n",
    "\n",
    "    df_grouped = df_inconsistent.groupby([col1,col2]).size().reset_index()\n",
    "    \n",
    "    df_grouped = df_grouped.sort_values(0, ascending=False).drop_duplicates(col1).sort_index()\n",
    "    \n",
    "    mydict = pd.Series(df_grouped[col2].values,index=df_grouped[col1]).to_dict()\n",
    "    \n",
    "    for k,v in mydict.items():\n",
    "        \n",
    "        df.loc[df[col1] == k, col2] = v\n",
    "\n",
    "inconsistency_resolver(\"../dataset/inconsistent_CustomerID_CustomerCountry.json\",\"CustomerID\",\"CustomerCountry\") \n",
    "inconsistency_resolver(\"../dataset/inconsistent_ProdID_ProdDescr.json\",\"ProdID\",\"ProdDescr\") "
   ]
  },
  {
   "cell_type": "code",
   "execution_count": 5,
   "metadata": {},
   "outputs": [
    {
     "name": "stdout",
     "output_type": "stream",
     "text": [
      "Number of not consistent ProdDescr: 0\n",
      "Number of not consistent CustomerCountry: 8\n"
     ]
    }
   ],
   "source": [
    "def inconsistent_set(K,V):\n",
    "    \n",
    "    inconsistentset = list()\n",
    "\n",
    "    for key in df[K].unique().tolist():\n",
    "        temp_df = df[df[K] == key]\n",
    "        valueslist = temp_df[V].tolist()\n",
    "        for value in valueslist:\n",
    "            if(valueslist[0] != value):\n",
    "                inconsistentset.append(key)\n",
    "                break;\n",
    "    return inconsistentset\n",
    "\n",
    "\n",
    "# 1\n",
    "ProdID_ProdDescr_IS = inconsistent_set(\"ProdID\",\"ProdDescr\")\n",
    "            \n",
    "print(\"Number of not consistent ProdDescr:\", len(ProdID_ProdDescr_IS))\n",
    "\n",
    "#3 \n",
    "CustomerID_CustomerCountry_IS = inconsistent_set(\"CustomerID\",\"CustomerCountry\")\n",
    "            \n",
    "print(\"Number of not consistent CustomerCountry:\", len(CustomerID_CustomerCountry_IS))"
   ]
  },
  {
   "cell_type": "markdown",
   "metadata": {},
   "source": [
    "## Data recovery\n",
    "\n",
    "Some rows from the initial database were partially completed, there were missing values. We want to recover these rows by checking if there are rows with missing values that are very close to rows without partial data."
   ]
  },
  {
   "cell_type": "code",
   "execution_count": null,
   "metadata": {},
   "outputs": [],
   "source": [
    "def similar_rows(basketID, basketDate):\n",
    "    \n",
    "    for i in tqdm(range(len(basketID))):\n",
    "        temp_df = df[(df['BasketID'] == basketID[i]) & (df['BasketDate'] == basketDate[i])]\n",
    "        if(len(temp_df) > 0):\n",
    "            print(temp_df)\n",
    "    \n",
    "    \n",
    "    \n",
    "df_nan = pd.read_csv(\"../dataset/customer_supermarket_nan.csv\", sep=\"\\t\", index_col=0, decimal=\",\")\n",
    "print(\"Number of rows with nan values\", len(df_nan))\n",
    "\n",
    "#df_nan['CustomerID'] = df[df['BasketID'] == df_nan['BasketID']][0]['CustomerID']\n",
    "similar_rows(df_nan.BasketID.values,df_nan.BasketDate.values)\n",
    "\n",
    "is_NaN = df_nan.isnull()\n",
    "row_has_NaN = is_NaN.any(axis=1)\n",
    "print(\"Number of rows with nan values after matching partial rows with complete rows\", len(df_nan[row_has_NaN]))\n",
    "\n",
    "\n",
    "#duplicates_free = df_nan.drop_duplicates(subset=['BasketID','BasketDate','CustomerCountry','ProdID'])\n",
    "#only_duplicates = df_nan[np.invert(df_nan.index.isin(duplicates_free.index))]\n",
    "#df_nan_group = df_nan.groupby(['BasketID','BasketDate','CustomerCountry','ProdID']).size()\n",
    "\n",
    "#df_nan['CustomerID'] = df[df['BasketID'] == df_nan['BasketID'] & df['BasketDate'] == df_nan['BasketDate'] & df['CustomerCountry'] == df_nan['CustomerCountry']]['CustomerID']"
   ]
  },
  {
   "cell_type": "markdown",
   "metadata": {},
   "source": [
    "DF without inconsistency serialization"
   ]
  },
  {
   "cell_type": "code",
   "execution_count": 7,
   "metadata": {},
   "outputs": [],
   "source": [
    "df.to_csv(\"../dataset/customer_supermarket_no_inconsistency.csv\", sep=\"\\t\", decimal=\",\")"
   ]
  },
  {
   "cell_type": "markdown",
   "metadata": {},
   "source": [
    "## Indicators"
   ]
  },
  {
   "cell_type": "code",
   "execution_count": 8,
   "metadata": {},
   "outputs": [
    {
     "name": "stdout",
     "output_type": "stream",
     "text": [
      "   BasketID          BasketDate  ProdID  Qta  Sale  CustomerID  \\\n",
      "0    536365 2010-01-12 08:26:00   21730    6  4.25       17850   \n",
      "1    536365 2010-01-12 08:26:00   22752    2  7.65       17850   \n",
      "2    536365 2010-01-12 08:26:00   71053    6  3.39       17850   \n",
      "3    536365 2010-01-12 08:26:00  84029E    6  3.39       17850   \n",
      "4    536365 2010-01-12 08:26:00  84029G    6  3.39       17850   \n",
      "\n",
      "  CustomerCountry                            ProdDescr  \n",
      "0  United Kingdom    GLASS STAR FROSTED T-LIGHT HOLDER  \n",
      "1  United Kingdom         SET 7 BABUSHKA NESTING BOXES  \n",
      "2  United Kingdom                  WHITE METAL LANTERN  \n",
      "3  United Kingdom       RED WOOLLY HOTTIE WHITE HEART.  \n",
      "4  United Kingdom  KNITTED UNION FLAG HOT WATER BOTTLE  \n",
      "<class 'pandas.core.frame.DataFrame'>\n",
      "Int64Index: 387881 entries, 0 to 387880\n",
      "Data columns (total 8 columns):\n",
      " #   Column           Non-Null Count   Dtype         \n",
      "---  ------           --------------   -----         \n",
      " 0   BasketID         387881 non-null  int64         \n",
      " 1   BasketDate       387881 non-null  datetime64[ns]\n",
      " 2   ProdID           387881 non-null  object        \n",
      " 3   Qta              387881 non-null  int64         \n",
      " 4   Sale             387881 non-null  object        \n",
      " 5   CustomerID       387881 non-null  int64         \n",
      " 6   CustomerCountry  387881 non-null  object        \n",
      " 7   ProdDescr        387881 non-null  object        \n",
      "dtypes: datetime64[ns](1), int64(3), object(4)\n",
      "memory usage: 26.6+ MB\n",
      "None\n"
     ]
    }
   ],
   "source": [
    "# first of all we deserialize our dataframe\n",
    "df = pd.read_csv(\"../dataset/customer_supermarket_no_inconsistency.csv\", sep=\"\\t\", index_col=0, parse_dates=[\"BasketDate\"], decimal=\",\")\n",
    "print(df.head())\n",
    "print(df.info())"
   ]
  },
  {
   "cell_type": "markdown",
   "metadata": {},
   "source": [
    "# I - indicator\n",
    "the total number of items purchased by a customer during the period of\n",
    "observation."
   ]
  },
  {
   "cell_type": "code",
   "execution_count": 9,
   "metadata": {},
   "outputs": [
    {
     "data": {
      "text/html": [
       "<div>\n",
       "<style scoped>\n",
       "    .dataframe tbody tr th:only-of-type {\n",
       "        vertical-align: middle;\n",
       "    }\n",
       "\n",
       "    .dataframe tbody tr th {\n",
       "        vertical-align: top;\n",
       "    }\n",
       "\n",
       "    .dataframe thead th {\n",
       "        text-align: right;\n",
       "    }\n",
       "</style>\n",
       "<table border=\"1\" class=\"dataframe\">\n",
       "  <thead>\n",
       "    <tr style=\"text-align: right;\">\n",
       "      <th></th>\n",
       "      <th>CustomerID</th>\n",
       "      <th>Qta</th>\n",
       "    </tr>\n",
       "  </thead>\n",
       "  <tbody>\n",
       "    <tr>\n",
       "      <th>0</th>\n",
       "      <td>12346</td>\n",
       "      <td>74215</td>\n",
       "    </tr>\n",
       "    <tr>\n",
       "      <th>1</th>\n",
       "      <td>12347</td>\n",
       "      <td>2458</td>\n",
       "    </tr>\n",
       "    <tr>\n",
       "      <th>2</th>\n",
       "      <td>12348</td>\n",
       "      <td>2341</td>\n",
       "    </tr>\n",
       "    <tr>\n",
       "      <th>3</th>\n",
       "      <td>12349</td>\n",
       "      <td>631</td>\n",
       "    </tr>\n",
       "    <tr>\n",
       "      <th>4</th>\n",
       "      <td>12350</td>\n",
       "      <td>197</td>\n",
       "    </tr>\n",
       "    <tr>\n",
       "      <th>...</th>\n",
       "      <td>...</td>\n",
       "      <td>...</td>\n",
       "    </tr>\n",
       "    <tr>\n",
       "      <th>4334</th>\n",
       "      <td>18280</td>\n",
       "      <td>45</td>\n",
       "    </tr>\n",
       "    <tr>\n",
       "      <th>4335</th>\n",
       "      <td>18281</td>\n",
       "      <td>54</td>\n",
       "    </tr>\n",
       "    <tr>\n",
       "      <th>4336</th>\n",
       "      <td>18282</td>\n",
       "      <td>103</td>\n",
       "    </tr>\n",
       "    <tr>\n",
       "      <th>4337</th>\n",
       "      <td>18283</td>\n",
       "      <td>1357</td>\n",
       "    </tr>\n",
       "    <tr>\n",
       "      <th>4338</th>\n",
       "      <td>18287</td>\n",
       "      <td>1586</td>\n",
       "    </tr>\n",
       "  </tbody>\n",
       "</table>\n",
       "<p>4339 rows × 2 columns</p>\n",
       "</div>"
      ],
      "text/plain": [
       "      CustomerID    Qta\n",
       "0          12346  74215\n",
       "1          12347   2458\n",
       "2          12348   2341\n",
       "3          12349    631\n",
       "4          12350    197\n",
       "...          ...    ...\n",
       "4334       18280     45\n",
       "4335       18281     54\n",
       "4336       18282    103\n",
       "4337       18283   1357\n",
       "4338       18287   1586\n",
       "\n",
       "[4339 rows x 2 columns]"
      ]
     },
     "execution_count": 9,
     "metadata": {},
     "output_type": "execute_result"
    }
   ],
   "source": [
    "df_i = df.groupby(\"CustomerID\").sum().reset_index()\n",
    "df_i = df_i[[\"CustomerID\", \"Qta\"]]\n",
    "df_i"
   ]
  },
  {
   "cell_type": "code",
   "execution_count": 10,
   "metadata": {},
   "outputs": [
    {
     "name": "stdout",
     "output_type": "stream",
     "text": [
      "       BasketID          BasketDate ProdID    Qta  Sale  CustomerID  \\\n",
      "36061    541431 2011-01-18 10:01:00  23166  74215  1.04       12346   \n",
      "\n",
      "      CustomerCountry                       ProdDescr  \n",
      "36061  United Kingdom  MEDIUM CERAMIC TOP STORAGE JAR  \n"
     ]
    }
   ],
   "source": [
    "#!! look at this, it might be an outlier\n",
    "print(df[df.CustomerID == 12346])"
   ]
  },
  {
   "cell_type": "markdown",
   "metadata": {},
   "source": [
    "# Iu - indicator\n",
    "the number of distinct items bought by a customer in the period of\n",
    "observation."
   ]
  },
  {
   "cell_type": "code",
   "execution_count": 11,
   "metadata": {},
   "outputs": [
    {
     "data": {
      "text/html": [
       "<div>\n",
       "<style scoped>\n",
       "    .dataframe tbody tr th:only-of-type {\n",
       "        vertical-align: middle;\n",
       "    }\n",
       "\n",
       "    .dataframe tbody tr th {\n",
       "        vertical-align: top;\n",
       "    }\n",
       "\n",
       "    .dataframe thead th {\n",
       "        text-align: right;\n",
       "    }\n",
       "</style>\n",
       "<table border=\"1\" class=\"dataframe\">\n",
       "  <thead>\n",
       "    <tr style=\"text-align: right;\">\n",
       "      <th></th>\n",
       "      <th>CustomerID</th>\n",
       "      <th>ProdID</th>\n",
       "    </tr>\n",
       "  </thead>\n",
       "  <tbody>\n",
       "    <tr>\n",
       "      <th>0</th>\n",
       "      <td>12346</td>\n",
       "      <td>1</td>\n",
       "    </tr>\n",
       "    <tr>\n",
       "      <th>1</th>\n",
       "      <td>12347</td>\n",
       "      <td>103</td>\n",
       "    </tr>\n",
       "    <tr>\n",
       "      <th>2</th>\n",
       "      <td>12348</td>\n",
       "      <td>22</td>\n",
       "    </tr>\n",
       "    <tr>\n",
       "      <th>3</th>\n",
       "      <td>12349</td>\n",
       "      <td>73</td>\n",
       "    </tr>\n",
       "    <tr>\n",
       "      <th>4</th>\n",
       "      <td>12350</td>\n",
       "      <td>17</td>\n",
       "    </tr>\n",
       "    <tr>\n",
       "      <th>...</th>\n",
       "      <td>...</td>\n",
       "      <td>...</td>\n",
       "    </tr>\n",
       "    <tr>\n",
       "      <th>4334</th>\n",
       "      <td>18280</td>\n",
       "      <td>10</td>\n",
       "    </tr>\n",
       "    <tr>\n",
       "      <th>4335</th>\n",
       "      <td>18281</td>\n",
       "      <td>7</td>\n",
       "    </tr>\n",
       "    <tr>\n",
       "      <th>4336</th>\n",
       "      <td>18282</td>\n",
       "      <td>12</td>\n",
       "    </tr>\n",
       "    <tr>\n",
       "      <th>4337</th>\n",
       "      <td>18283</td>\n",
       "      <td>263</td>\n",
       "    </tr>\n",
       "    <tr>\n",
       "      <th>4338</th>\n",
       "      <td>18287</td>\n",
       "      <td>59</td>\n",
       "    </tr>\n",
       "  </tbody>\n",
       "</table>\n",
       "<p>4339 rows × 2 columns</p>\n",
       "</div>"
      ],
      "text/plain": [
       "      CustomerID  ProdID\n",
       "0          12346       1\n",
       "1          12347     103\n",
       "2          12348      22\n",
       "3          12349      73\n",
       "4          12350      17\n",
       "...          ...     ...\n",
       "4334       18280      10\n",
       "4335       18281       7\n",
       "4336       18282      12\n",
       "4337       18283     263\n",
       "4338       18287      59\n",
       "\n",
       "[4339 rows x 2 columns]"
      ]
     },
     "execution_count": 11,
     "metadata": {},
     "output_type": "execute_result"
    }
   ],
   "source": [
    "df_iu = df.groupby('CustomerID')['ProdID'].nunique().reset_index()\n",
    "df_iu"
   ]
  },
  {
   "cell_type": "markdown",
   "metadata": {},
   "source": [
    "# Imax - indicator\n",
    "the maximum number of items purchased by a customer during a\n",
    "shopping session"
   ]
  },
  {
   "cell_type": "code",
   "execution_count": 12,
   "metadata": {},
   "outputs": [
    {
     "data": {
      "text/html": [
       "<div>\n",
       "<style scoped>\n",
       "    .dataframe tbody tr th:only-of-type {\n",
       "        vertical-align: middle;\n",
       "    }\n",
       "\n",
       "    .dataframe tbody tr th {\n",
       "        vertical-align: top;\n",
       "    }\n",
       "\n",
       "    .dataframe thead th {\n",
       "        text-align: right;\n",
       "    }\n",
       "</style>\n",
       "<table border=\"1\" class=\"dataframe\">\n",
       "  <thead>\n",
       "    <tr style=\"text-align: right;\">\n",
       "      <th></th>\n",
       "      <th>CustomerID</th>\n",
       "      <th>BasketID</th>\n",
       "      <th>Qta</th>\n",
       "    </tr>\n",
       "  </thead>\n",
       "  <tbody>\n",
       "    <tr>\n",
       "      <th>0</th>\n",
       "      <td>12346</td>\n",
       "      <td>541431</td>\n",
       "      <td>74215</td>\n",
       "    </tr>\n",
       "    <tr>\n",
       "      <th>1</th>\n",
       "      <td>12347</td>\n",
       "      <td>537626</td>\n",
       "      <td>319</td>\n",
       "    </tr>\n",
       "    <tr>\n",
       "      <th>2</th>\n",
       "      <td>12348</td>\n",
       "      <td>539318</td>\n",
       "      <td>1254</td>\n",
       "    </tr>\n",
       "    <tr>\n",
       "      <th>3</th>\n",
       "      <td>12349</td>\n",
       "      <td>577609</td>\n",
       "      <td>631</td>\n",
       "    </tr>\n",
       "    <tr>\n",
       "      <th>4</th>\n",
       "      <td>12350</td>\n",
       "      <td>543037</td>\n",
       "      <td>197</td>\n",
       "    </tr>\n",
       "    <tr>\n",
       "      <th>...</th>\n",
       "      <td>...</td>\n",
       "      <td>...</td>\n",
       "      <td>...</td>\n",
       "    </tr>\n",
       "    <tr>\n",
       "      <th>4334</th>\n",
       "      <td>18280</td>\n",
       "      <td>545712</td>\n",
       "      <td>45</td>\n",
       "    </tr>\n",
       "    <tr>\n",
       "      <th>4335</th>\n",
       "      <td>18281</td>\n",
       "      <td>556464</td>\n",
       "      <td>54</td>\n",
       "    </tr>\n",
       "    <tr>\n",
       "      <th>4336</th>\n",
       "      <td>18282</td>\n",
       "      <td>562525</td>\n",
       "      <td>75</td>\n",
       "    </tr>\n",
       "    <tr>\n",
       "      <th>4337</th>\n",
       "      <td>18283</td>\n",
       "      <td>540350</td>\n",
       "      <td>61</td>\n",
       "    </tr>\n",
       "    <tr>\n",
       "      <th>4338</th>\n",
       "      <td>18287</td>\n",
       "      <td>554065</td>\n",
       "      <td>488</td>\n",
       "    </tr>\n",
       "  </tbody>\n",
       "</table>\n",
       "<p>4339 rows × 3 columns</p>\n",
       "</div>"
      ],
      "text/plain": [
       "      CustomerID  BasketID    Qta\n",
       "0          12346    541431  74215\n",
       "1          12347    537626    319\n",
       "2          12348    539318   1254\n",
       "3          12349    577609    631\n",
       "4          12350    543037    197\n",
       "...          ...       ...    ...\n",
       "4334       18280    545712     45\n",
       "4335       18281    556464     54\n",
       "4336       18282    562525     75\n",
       "4337       18283    540350     61\n",
       "4338       18287    554065    488\n",
       "\n",
       "[4339 rows x 3 columns]"
      ]
     },
     "execution_count": 12,
     "metadata": {},
     "output_type": "execute_result"
    }
   ],
   "source": [
    "df_imax = df.groupby([\"CustomerID\", \"BasketID\"]).Qta.sum()\n",
    "df_imax = df_imax.groupby(level=0).head(1).reset_index()\n",
    "\n",
    "#df_imax = df_imax.max(level=0)\n",
    "\n",
    "df_imax"
   ]
  },
  {
   "cell_type": "markdown",
   "metadata": {},
   "source": [
    "# E - indicator\n",
    "the Shannon entropy on the purchasing behaviour of the customer"
   ]
  },
  {
   "cell_type": "code",
   "execution_count": 13,
   "metadata": {},
   "outputs": [
    {
     "data": {
      "text/html": [
       "<div>\n",
       "<style scoped>\n",
       "    .dataframe tbody tr th:only-of-type {\n",
       "        vertical-align: middle;\n",
       "    }\n",
       "\n",
       "    .dataframe tbody tr th {\n",
       "        vertical-align: top;\n",
       "    }\n",
       "\n",
       "    .dataframe thead th {\n",
       "        text-align: right;\n",
       "    }\n",
       "</style>\n",
       "<table border=\"1\" class=\"dataframe\">\n",
       "  <thead>\n",
       "    <tr style=\"text-align: right;\">\n",
       "      <th></th>\n",
       "      <th>CustomerID</th>\n",
       "      <th>Entropy</th>\n",
       "    </tr>\n",
       "  </thead>\n",
       "  <tbody>\n",
       "    <tr>\n",
       "      <th>0</th>\n",
       "      <td>12346</td>\n",
       "      <td>-832300.560951</td>\n",
       "    </tr>\n",
       "    <tr>\n",
       "      <th>1</th>\n",
       "      <td>12347</td>\n",
       "      <td>-14642.853340</td>\n",
       "    </tr>\n",
       "    <tr>\n",
       "      <th>2</th>\n",
       "      <td>12348</td>\n",
       "      <td>-15464.124169</td>\n",
       "    </tr>\n",
       "    <tr>\n",
       "      <th>3</th>\n",
       "      <td>12349</td>\n",
       "      <td>-4068.249999</td>\n",
       "    </tr>\n",
       "    <tr>\n",
       "      <th>4</th>\n",
       "      <td>12350</td>\n",
       "      <td>-1040.791135</td>\n",
       "    </tr>\n",
       "    <tr>\n",
       "      <th>...</th>\n",
       "      <td>...</td>\n",
       "      <td>...</td>\n",
       "    </tr>\n",
       "    <tr>\n",
       "      <th>4334</th>\n",
       "      <td>18280</td>\n",
       "      <td>-171.299812</td>\n",
       "    </tr>\n",
       "    <tr>\n",
       "      <th>4335</th>\n",
       "      <td>18281</td>\n",
       "      <td>-215.405139</td>\n",
       "    </tr>\n",
       "    <tr>\n",
       "      <th>4336</th>\n",
       "      <td>18282</td>\n",
       "      <td>-417.113335</td>\n",
       "    </tr>\n",
       "    <tr>\n",
       "      <th>4337</th>\n",
       "      <td>18283</td>\n",
       "      <td>-6354.286026</td>\n",
       "    </tr>\n",
       "    <tr>\n",
       "      <th>4338</th>\n",
       "      <td>18287</td>\n",
       "      <td>-10355.271984</td>\n",
       "    </tr>\n",
       "  </tbody>\n",
       "</table>\n",
       "<p>4339 rows × 2 columns</p>\n",
       "</div>"
      ],
      "text/plain": [
       "      CustomerID        Entropy\n",
       "0          12346 -832300.560951\n",
       "1          12347  -14642.853340\n",
       "2          12348  -15464.124169\n",
       "3          12349   -4068.249999\n",
       "4          12350   -1040.791135\n",
       "...          ...            ...\n",
       "4334       18280    -171.299812\n",
       "4335       18281    -215.405139\n",
       "4336       18282    -417.113335\n",
       "4337       18283   -6354.286026\n",
       "4338       18287  -10355.271984\n",
       "\n",
       "[4339 rows x 2 columns]"
      ]
     },
     "execution_count": 13,
     "metadata": {},
     "output_type": "execute_result"
    }
   ],
   "source": [
    "df_temp = df.groupby([\"CustomerID\", \"BasketID\"]).Qta.sum().reset_index()\n",
    "values = df_temp[\"Qta\"]\n",
    "df_temp['Entropy'] = -(values*np.log(values))\n",
    "df_entropy = df_temp.groupby('CustomerID')['Entropy'].sum().reset_index()\n",
    "# to remove nan values caused by logs\n",
    "df_entropy['Entropy'] = df_entropy['Entropy'].fillna(0)\n",
    "\n",
    "\n",
    "df_entropy"
   ]
  },
  {
   "cell_type": "markdown",
   "metadata": {},
   "source": [
    "### Putting together all indicators"
   ]
  },
  {
   "cell_type": "code",
   "execution_count": 14,
   "metadata": {},
   "outputs": [
    {
     "name": "stdout",
     "output_type": "stream",
     "text": [
      "   CustomerID        Entropy   imax   iu      i\n",
      "0       12346 -832300.560951  74215    1  74215\n",
      "1       12347  -14642.853340    319  103   2458\n",
      "2       12348  -15464.124169   1254   22   2341\n",
      "3       12349   -4068.249999    631   73    631\n",
      "4       12350   -1040.791135    197   17    197\n"
     ]
    }
   ],
   "source": [
    "frames = [df_entropy, df_imax.Qta, df_iu.ProdID, df_i.Qta]\n",
    "indicators = pd.concat(frames, join='outer', axis=1)\n",
    "indicators.columns = (\"CustomerID\", \"Entropy\", \"imax\", \"iu\", \"i\")\n",
    "print(indicators.head())\n",
    "\n",
    "indicators.to_csv(\"../dataset/indicators.csv\")"
   ]
  },
  {
   "cell_type": "markdown",
   "metadata": {},
   "source": [
    "# Additional indicators"
   ]
  },
  {
   "cell_type": "markdown",
   "metadata": {},
   "source": [
    "### Sales per country\n",
    "(is this even an indicator?)"
   ]
  },
  {
   "cell_type": "code",
   "execution_count": 15,
   "metadata": {},
   "outputs": [
    {
     "data": {
      "text/html": [
       "<div>\n",
       "<style scoped>\n",
       "    .dataframe tbody tr th:only-of-type {\n",
       "        vertical-align: middle;\n",
       "    }\n",
       "\n",
       "    .dataframe tbody tr th {\n",
       "        vertical-align: top;\n",
       "    }\n",
       "\n",
       "    .dataframe thead th {\n",
       "        text-align: right;\n",
       "    }\n",
       "</style>\n",
       "<table border=\"1\" class=\"dataframe\">\n",
       "  <thead>\n",
       "    <tr style=\"text-align: right;\">\n",
       "      <th></th>\n",
       "      <th>BasketID</th>\n",
       "      <th>BasketDate</th>\n",
       "      <th>ProdID</th>\n",
       "      <th>Qta</th>\n",
       "      <th>Sale</th>\n",
       "      <th>CustomerID</th>\n",
       "      <th>CustomerCountry</th>\n",
       "      <th>ProdDescr</th>\n",
       "    </tr>\n",
       "  </thead>\n",
       "  <tbody>\n",
       "    <tr>\n",
       "      <th>0</th>\n",
       "      <td>536365</td>\n",
       "      <td>2010-01-12 08:26:00</td>\n",
       "      <td>21730</td>\n",
       "      <td>6</td>\n",
       "      <td>4.25</td>\n",
       "      <td>17850</td>\n",
       "      <td>United Kingdom</td>\n",
       "      <td>GLASS STAR FROSTED T-LIGHT HOLDER</td>\n",
       "    </tr>\n",
       "    <tr>\n",
       "      <th>1</th>\n",
       "      <td>536365</td>\n",
       "      <td>2010-01-12 08:26:00</td>\n",
       "      <td>22752</td>\n",
       "      <td>2</td>\n",
       "      <td>7.65</td>\n",
       "      <td>17850</td>\n",
       "      <td>United Kingdom</td>\n",
       "      <td>SET 7 BABUSHKA NESTING BOXES</td>\n",
       "    </tr>\n",
       "    <tr>\n",
       "      <th>2</th>\n",
       "      <td>536365</td>\n",
       "      <td>2010-01-12 08:26:00</td>\n",
       "      <td>71053</td>\n",
       "      <td>6</td>\n",
       "      <td>3.39</td>\n",
       "      <td>17850</td>\n",
       "      <td>United Kingdom</td>\n",
       "      <td>WHITE METAL LANTERN</td>\n",
       "    </tr>\n",
       "    <tr>\n",
       "      <th>3</th>\n",
       "      <td>536365</td>\n",
       "      <td>2010-01-12 08:26:00</td>\n",
       "      <td>84029E</td>\n",
       "      <td>6</td>\n",
       "      <td>3.39</td>\n",
       "      <td>17850</td>\n",
       "      <td>United Kingdom</td>\n",
       "      <td>RED WOOLLY HOTTIE WHITE HEART.</td>\n",
       "    </tr>\n",
       "    <tr>\n",
       "      <th>4</th>\n",
       "      <td>536365</td>\n",
       "      <td>2010-01-12 08:26:00</td>\n",
       "      <td>84029G</td>\n",
       "      <td>6</td>\n",
       "      <td>3.39</td>\n",
       "      <td>17850</td>\n",
       "      <td>United Kingdom</td>\n",
       "      <td>KNITTED UNION FLAG HOT WATER BOTTLE</td>\n",
       "    </tr>\n",
       "    <tr>\n",
       "      <th>...</th>\n",
       "      <td>...</td>\n",
       "      <td>...</td>\n",
       "      <td>...</td>\n",
       "      <td>...</td>\n",
       "      <td>...</td>\n",
       "      <td>...</td>\n",
       "      <td>...</td>\n",
       "      <td>...</td>\n",
       "    </tr>\n",
       "    <tr>\n",
       "      <th>387876</th>\n",
       "      <td>581587</td>\n",
       "      <td>2011-09-12 12:50:00</td>\n",
       "      <td>22899</td>\n",
       "      <td>6</td>\n",
       "      <td>2.1</td>\n",
       "      <td>12680</td>\n",
       "      <td>France</td>\n",
       "      <td>CHILDREN'S APRON DOLLY GIRL</td>\n",
       "    </tr>\n",
       "    <tr>\n",
       "      <th>387877</th>\n",
       "      <td>581587</td>\n",
       "      <td>2011-09-12 12:50:00</td>\n",
       "      <td>23254</td>\n",
       "      <td>4</td>\n",
       "      <td>4.15</td>\n",
       "      <td>12680</td>\n",
       "      <td>France</td>\n",
       "      <td>CHILDRENS CUTLERY DOLLY GIRL</td>\n",
       "    </tr>\n",
       "    <tr>\n",
       "      <th>387878</th>\n",
       "      <td>581587</td>\n",
       "      <td>2011-09-12 12:50:00</td>\n",
       "      <td>23255</td>\n",
       "      <td>4</td>\n",
       "      <td>4.15</td>\n",
       "      <td>12680</td>\n",
       "      <td>France</td>\n",
       "      <td>CHILDRENS CUTLERY CIRCUS PARADE</td>\n",
       "    </tr>\n",
       "    <tr>\n",
       "      <th>387879</th>\n",
       "      <td>581587</td>\n",
       "      <td>2011-09-12 12:50:00</td>\n",
       "      <td>23256</td>\n",
       "      <td>4</td>\n",
       "      <td>4.15</td>\n",
       "      <td>12680</td>\n",
       "      <td>France</td>\n",
       "      <td>CHILDRENS CUTLERY SPACEBOY</td>\n",
       "    </tr>\n",
       "    <tr>\n",
       "      <th>387880</th>\n",
       "      <td>581587</td>\n",
       "      <td>2011-09-12 12:50:00</td>\n",
       "      <td>POST</td>\n",
       "      <td>1</td>\n",
       "      <td>18.0</td>\n",
       "      <td>12680</td>\n",
       "      <td>France</td>\n",
       "      <td>POSTAGE</td>\n",
       "    </tr>\n",
       "  </tbody>\n",
       "</table>\n",
       "<p>387881 rows × 8 columns</p>\n",
       "</div>"
      ],
      "text/plain": [
       "        BasketID          BasketDate  ProdID  Qta  Sale  CustomerID  \\\n",
       "0         536365 2010-01-12 08:26:00   21730    6  4.25       17850   \n",
       "1         536365 2010-01-12 08:26:00   22752    2  7.65       17850   \n",
       "2         536365 2010-01-12 08:26:00   71053    6  3.39       17850   \n",
       "3         536365 2010-01-12 08:26:00  84029E    6  3.39       17850   \n",
       "4         536365 2010-01-12 08:26:00  84029G    6  3.39       17850   \n",
       "...          ...                 ...     ...  ...   ...         ...   \n",
       "387876    581587 2011-09-12 12:50:00   22899    6   2.1       12680   \n",
       "387877    581587 2011-09-12 12:50:00   23254    4  4.15       12680   \n",
       "387878    581587 2011-09-12 12:50:00   23255    4  4.15       12680   \n",
       "387879    581587 2011-09-12 12:50:00   23256    4  4.15       12680   \n",
       "387880    581587 2011-09-12 12:50:00    POST    1  18.0       12680   \n",
       "\n",
       "       CustomerCountry                            ProdDescr  \n",
       "0       United Kingdom    GLASS STAR FROSTED T-LIGHT HOLDER  \n",
       "1       United Kingdom         SET 7 BABUSHKA NESTING BOXES  \n",
       "2       United Kingdom                  WHITE METAL LANTERN  \n",
       "3       United Kingdom       RED WOOLLY HOTTIE WHITE HEART.  \n",
       "4       United Kingdom  KNITTED UNION FLAG HOT WATER BOTTLE  \n",
       "...                ...                                  ...  \n",
       "387876          France         CHILDREN'S APRON DOLLY GIRL   \n",
       "387877          France        CHILDRENS CUTLERY DOLLY GIRL   \n",
       "387878          France      CHILDRENS CUTLERY CIRCUS PARADE  \n",
       "387879          France          CHILDRENS CUTLERY SPACEBOY   \n",
       "387880          France                              POSTAGE  \n",
       "\n",
       "[387881 rows x 8 columns]"
      ]
     },
     "execution_count": 15,
     "metadata": {},
     "output_type": "execute_result"
    }
   ],
   "source": [
    "df"
   ]
  },
  {
   "cell_type": "code",
   "execution_count": 16,
   "metadata": {},
   "outputs": [
    {
     "name": "stdout",
     "output_type": "stream",
     "text": [
      "         CustomerCountry                                               Sale\n",
      "0              Australia  4.951.258.58.58.51.650.853.753.758.55.456.355....\n",
      "1                Austria  4.253.752.952.950.851.458.540.01.951.950.850.8...\n",
      "2                Bahrain  12.754.951.252.952.952.959.951.251.254.254.254...\n",
      "3                Belgium  0.429.950.550.550.420.850.421.652.10.551.9518....\n",
      "4                 Brazil  5.955.955.955.952.082.13.253.394.956.756.751.6...\n",
      "5                 Canada  1.954.251.694.950.850.851.650.651.692.11.060.8...\n",
      "6        Channel Islands  7.954.951.694.957.952.551.2514.9514.958.957.95...\n",
      "7                 Cyprus  2.551.251.251.251.251.253.753.753.751.250.651....\n",
      "8         Czech Republic  1.254.251.250.851.451.950.852.954.950.852.551....\n",
      "9                Denmark  2.951.657.951.251.251.253.753.753.753.753.757....\n",
      "10                  EIRE  8.958.952.252.251.691.251.251.451.950.850.651....\n",
      "11    European Community  2.952.9512.752.953.9514.957.957.956.756.7518.0...\n",
      "12               Finland  1.450.970.850.970.290.290.290.550.971.450.970....\n",
      "13                France  0.852.950.851.651.250.653.752.950.650.420.421....\n",
      "14               Germany  1.951.951.651.651.951.452.954.651.451.650.422....\n",
      "15                Greece  6.751.251.252.956.7510.9510.951.654.952.16.752...\n",
      "16               Iceland  4.655.495.951.451.651.652.14.250.651.254.253.7...\n",
      "17                Israel  0.850.857.657.651.651.950.852.551.2510.951.951...\n",
      "18                 Italy  1.251.251.952.951.252.952.951.454.254.254.251....\n",
      "19                 Japan  0.851.451.690.420.420.423.753.753.754.250.420....\n",
      "20               Lebanon  1.693.251.257.955.955.9514.959.956.758.58.51.2...\n",
      "21             Lithuania  5.955.955.953.253.253.253.751.651.251.252.952....\n",
      "22                 Malta  3.252.951.251.251.251.251.251.252.552.950.290....\n",
      "23           Netherlands  1.8515.02.11.254.951.950.290.291.251.651.650.8...\n",
      "24                Norway  7.950.851.951.950.550.553.250.420.422.950.421....\n",
      "25                Poland  1.250.852.558.51.451.451.451.490.750.421.951.2...\n",
      "26              Portugal  1.251.251.651.652.951.6528.01.651.651.951.952....\n",
      "27                   RSA  1.251.251.251.650.851.691.6912.752.251.252.954...\n",
      "28          Saudi Arabia               5.492.952.952.951.651.651.650.421.45\n",
      "29             Singapore  3.253.256.751.251.250.650.851.952.10.551.251.2...\n",
      "30                 Spain  1.651.651.451.651.452.552.11.259.953.750.650.6...\n",
      "31                Sweden  4.951.450.554.950.551.652.952.950.850.550.420....\n",
      "32           Switzerland  1.257.951.652.951.6540.00.421.651.251.250.420....\n",
      "33                   USA  1.252.951.250.851.452.12.5512.754.953.953.252....\n",
      "34  United Arab Emirates  1.251.251.692.082.551.251.254.950.851.652.11.6...\n",
      "35        United Kingdom  4.257.653.393.393.392.752.551.851.855.955.957....\n",
      "36           Unspecified  7.951.251.251.251.251.450.550.551.451.450.550....\n"
     ]
    }
   ],
   "source": [
    "df_sales_per_country = df.groupby([\"CustomerCountry\"])[\"Sale\"].sum().reset_index()\n",
    "print(df_sales_per_country)"
   ]
  },
  {
   "cell_type": "code",
   "execution_count": 17,
   "metadata": {},
   "outputs": [
    {
     "ename": "ValueError",
     "evalue": "could not convert string to float: '4.951.258.58.58.51.650.853.753.758.55.456.355.955.956.752.951.651.651.250.365.951.257.951.651.650.850.853.756.752.951.951.061.061.066.750.720.720.721.451.451.451.061.061.061.451.851.451.451.653.390.851.850.554.251.851.851.851.851.851.850.721.061.063.391.061.656.754.253.450.721.651.651.652.952.551.690.371.250.850.851.651.651.652.952.252.252.251.252.952.951.950.850.851.651.651.453.753.753.752.952.952.951.950.851.654.252.954.953.952.953.751.450.850.852.951.454.655.455.450.850.951.951.951.251.651.652.952.952.950.852.11.6512.751.958.952.954.252.950.856.751.691.691.691.697.958.58.58.58.52.553.753.753.753.753.756.755.951.452.954.954.254.955.451.252.954.952.954.951.450.550.720.720.530.642.551.691.451.691.250.424.258.953.252.550.650.420.364.252.551.451.451.451.450.4210.954.250.361.450.724.254.251.651.651.658.58.57.650.721.451.954.951.452.552.552.552.552.550.363.454.656.956.955.955.950.723.750.720.728.51.252.754.250.340.340.423.753.752.551.452.952.952.951.954.956.755.951.951.061.061.060.720.530.644.258.953.250.720.720.721.451.451.450.360.361.061.060.250.250.360.360.360.360.360.340.342.552.551.062.552.552.552.551.4510.954.250.360.360.361.451.451.451.450.254.253.391.061.651.651.658.58.57.654.951.452.552.550.340.360.363.393.393.3914.9512.756.956.955.955.9514.9514.9514.953.751.258.51.253.391.451.063.752.951.950.851.654.952.952.954.950.851.252.957.957.950.850.854.252.951.656.755.958.258.258.255.455.457.95350.01.651.651.654.951.652.951.652.12.11.651.651.653.354.951.651.254.152.957.951.651.657.957.952.952.952.953.751.655.752.086.250.832.082.081.657.957.957.955.950.850.726.750.190.391.696.751.454.251.061.251.063.391.451.060.530.530.533.392.551.651.451.253.391.256.752.552.552.554.254.254.250.550.550.550.550.550.554.954.953.391.251.451.251.651.658.251.451.451.458.152.751.951.951.951.9512.56.754.153.391.254.154.654.656.751.251.255.955.950.380.380.381.951.250.00.3614.953.755.951.651.652.950.654.957.958.952.897.951.656.356.750.850.851.255.950.341.450.830.851.060.290.725.951.061.451.250.420.422.550.360.362.13.754.959.950.851.060.420.421.791.652.551.250.420.420.650.640.721.251.251.250.360.360.343.392.552.552.554.254.251.251.652.552.552.552.12.551.451.451.450.722.552.552.550.420.8510.950.550.360.360.421.450.721.651.651.651.652.550.340.340.340.364.253.393.393.390.722.553.751.252.11.451.0614.951.795.391.851.851.451.040.691.451.451.458.153.751.451.451.791.791.451.451.453.390.342.492.493.753.753.753.751.851.854.151.654.153.753.753.751.051.051.651.651.250.420.420.420.632.951.061.653.751.793.391.252.952.954.251.654.252.552.552.952.951.651.651.651.951.951.651.451.250.830.834.954.952.16.954.954.954.954.151.251.060.390.340.340.394.250.390.390.390.340.530.360.360.720.290.340.340.340.720.720.721.041.452.552.950.851.650.651.252.952.950.855.950.852.9511.157.452.892.894.954.951.651.253.750.830.830.831.251.654.952.552.492.494.955.455.450.850.951.257.951.652.950.427.954.954.953.750.424.954.952.950.423.753.754.653.751.654.153.254.957.951.251.651.251.450.4210.950.420.422.081.652.951.454.951.451.950.650.420.424.951.656.252.082.081.651.250.834.151.651.652.082.081.651.651.653.750.422.892.894.154.152.082.084.951.954.954.154.154.151.251.250.830.830.831.251.651.450.552.081.652.084.954.952.953.753.753.753.752.086.751.651.651.454.651.951.061.451.651.651.651.651.652.951.452.951.652.081.452.086.351.451.060.851.651.451.651.652.12.11.459.950.791.061.061.794.254.251.251.652.552.551.4510.950.550.361.451.454.253.391.651.651.456.752.552.552.554.252.491.451.451.451.453.392.550.722.553.7512.751.250.420.341.251.451.061.451.040.833.751.951.952.491.952.251.791.791.791.451.451.452.493.753.751.851.851.650.720.720.720.724.153.7510.390.550.633.391.451.791.081.081.250.721.651.040.340.344.151.791.060.551.453.390.361.041.250.721.452.082.082.081.651.651.651.252.087.957.950.850.650.651.651.650.399.957.951.251.250.421.252.12.14.950.425.950.422.894.154.150.850.850.850.830.830.831.254.953.753.758.252.951.252.952.952.954.253.952.952.892.894.952.081.650.630.633.390.834.955.451.250.851.251.652.951.652.951.651.651.651.250.850.552.251.651.251.651.650.552.951.652.12.11.651.953.751.454.158.34.154.153.451.791.451.061.065.954.954.251.069.950.362.557.657.657.652.551.7910.950.360.360.361.251.451.651.651.652.552.554.253.453.393.393.393.393.391.060.721.253.391.651.653.453.453.455.394.154.152.751.452.494.150.427.657.651.061.061.063.753.753.751.791.041.040.360.361.791.791.793.292.493.293.293.293.295.353.295.355.355.355.357.457.450.422.082.951.694.952.950.420.420.428.52.0812.758.253.753.754.954.959.958.54.954.152.081.250.422.085.955.952.082.086.255.955.952.890.421.792.080.03.290.01.791.451.061.454.251.650.721.450.722.551.451.451.451.651.651.651.651.451.791.451.453.291.254.654.657.080.421.792.950.190.390.855.950.852.952.95'",
     "output_type": "error",
     "traceback": [
      "\u001b[0;31m---------------------------------------------------------------------------\u001b[0m",
      "\u001b[0;31mValueError\u001b[0m                                Traceback (most recent call last)",
      "\u001b[0;32m<ipython-input-17-624a4750d238>\u001b[0m in \u001b[0;36m<module>\u001b[0;34m\u001b[0m\n\u001b[1;32m      2\u001b[0m \u001b[0;31m#explode=np.zeros(len(df_sales_per_country.CustomerCountry))\u001b[0m\u001b[0;34m\u001b[0m\u001b[0;34m\u001b[0m\u001b[0;34m\u001b[0m\u001b[0m\n\u001b[1;32m      3\u001b[0m \u001b[0;34m\u001b[0m\u001b[0m\n\u001b[0;32m----> 4\u001b[0;31m \u001b[0mplt\u001b[0m\u001b[0;34m.\u001b[0m\u001b[0mpie\u001b[0m\u001b[0;34m(\u001b[0m\u001b[0mdf_sales_per_country\u001b[0m\u001b[0;34m.\u001b[0m\u001b[0mSale\u001b[0m\u001b[0;34m,\u001b[0m \u001b[0mlabels\u001b[0m\u001b[0;34m=\u001b[0m\u001b[0mdf_sales_per_country\u001b[0m\u001b[0;34m.\u001b[0m\u001b[0mCustomerCountry\u001b[0m\u001b[0;34m,\u001b[0m \u001b[0mautopct\u001b[0m\u001b[0;34m=\u001b[0m\u001b[0;34m'%1.1f%%'\u001b[0m\u001b[0;34m)\u001b[0m\u001b[0;34m\u001b[0m\u001b[0;34m\u001b[0m\u001b[0m\n\u001b[0m\u001b[1;32m      5\u001b[0m \u001b[0mplt\u001b[0m\u001b[0;34m.\u001b[0m\u001b[0mshow\u001b[0m\u001b[0;34m(\u001b[0m\u001b[0;34m)\u001b[0m\u001b[0;34m\u001b[0m\u001b[0;34m\u001b[0m\u001b[0m\n",
      "\u001b[0;32m~/.local/lib/python3.8/site-packages/matplotlib/pyplot.py\u001b[0m in \u001b[0;36mpie\u001b[0;34m(x, explode, labels, colors, autopct, pctdistance, shadow, labeldistance, startangle, radius, counterclock, wedgeprops, textprops, center, frame, rotatelabels, normalize, data)\u001b[0m\n\u001b[1;32m   2825\u001b[0m         \u001b[0mtextprops\u001b[0m\u001b[0;34m=\u001b[0m\u001b[0;32mNone\u001b[0m\u001b[0;34m,\u001b[0m \u001b[0mcenter\u001b[0m\u001b[0;34m=\u001b[0m\u001b[0;34m(\u001b[0m\u001b[0;36m0\u001b[0m\u001b[0;34m,\u001b[0m \u001b[0;36m0\u001b[0m\u001b[0;34m)\u001b[0m\u001b[0;34m,\u001b[0m \u001b[0mframe\u001b[0m\u001b[0;34m=\u001b[0m\u001b[0;32mFalse\u001b[0m\u001b[0;34m,\u001b[0m\u001b[0;34m\u001b[0m\u001b[0;34m\u001b[0m\u001b[0m\n\u001b[1;32m   2826\u001b[0m         rotatelabels=False, *, normalize=None, data=None):\n\u001b[0;32m-> 2827\u001b[0;31m     return gca().pie(\n\u001b[0m\u001b[1;32m   2828\u001b[0m         \u001b[0mx\u001b[0m\u001b[0;34m,\u001b[0m \u001b[0mexplode\u001b[0m\u001b[0;34m=\u001b[0m\u001b[0mexplode\u001b[0m\u001b[0;34m,\u001b[0m \u001b[0mlabels\u001b[0m\u001b[0;34m=\u001b[0m\u001b[0mlabels\u001b[0m\u001b[0;34m,\u001b[0m \u001b[0mcolors\u001b[0m\u001b[0;34m=\u001b[0m\u001b[0mcolors\u001b[0m\u001b[0;34m,\u001b[0m\u001b[0;34m\u001b[0m\u001b[0;34m\u001b[0m\u001b[0m\n\u001b[1;32m   2829\u001b[0m         \u001b[0mautopct\u001b[0m\u001b[0;34m=\u001b[0m\u001b[0mautopct\u001b[0m\u001b[0;34m,\u001b[0m \u001b[0mpctdistance\u001b[0m\u001b[0;34m=\u001b[0m\u001b[0mpctdistance\u001b[0m\u001b[0;34m,\u001b[0m \u001b[0mshadow\u001b[0m\u001b[0;34m=\u001b[0m\u001b[0mshadow\u001b[0m\u001b[0;34m,\u001b[0m\u001b[0;34m\u001b[0m\u001b[0;34m\u001b[0m\u001b[0m\n",
      "\u001b[0;32m~/.local/lib/python3.8/site-packages/matplotlib/__init__.py\u001b[0m in \u001b[0;36minner\u001b[0;34m(ax, data, *args, **kwargs)\u001b[0m\n\u001b[1;32m   1436\u001b[0m     \u001b[0;32mdef\u001b[0m \u001b[0minner\u001b[0m\u001b[0;34m(\u001b[0m\u001b[0max\u001b[0m\u001b[0;34m,\u001b[0m \u001b[0;34m*\u001b[0m\u001b[0margs\u001b[0m\u001b[0;34m,\u001b[0m \u001b[0mdata\u001b[0m\u001b[0;34m=\u001b[0m\u001b[0;32mNone\u001b[0m\u001b[0;34m,\u001b[0m \u001b[0;34m**\u001b[0m\u001b[0mkwargs\u001b[0m\u001b[0;34m)\u001b[0m\u001b[0;34m:\u001b[0m\u001b[0;34m\u001b[0m\u001b[0;34m\u001b[0m\u001b[0m\n\u001b[1;32m   1437\u001b[0m         \u001b[0;32mif\u001b[0m \u001b[0mdata\u001b[0m \u001b[0;32mis\u001b[0m \u001b[0;32mNone\u001b[0m\u001b[0;34m:\u001b[0m\u001b[0;34m\u001b[0m\u001b[0;34m\u001b[0m\u001b[0m\n\u001b[0;32m-> 1438\u001b[0;31m             \u001b[0;32mreturn\u001b[0m \u001b[0mfunc\u001b[0m\u001b[0;34m(\u001b[0m\u001b[0max\u001b[0m\u001b[0;34m,\u001b[0m \u001b[0;34m*\u001b[0m\u001b[0mmap\u001b[0m\u001b[0;34m(\u001b[0m\u001b[0msanitize_sequence\u001b[0m\u001b[0;34m,\u001b[0m \u001b[0margs\u001b[0m\u001b[0;34m)\u001b[0m\u001b[0;34m,\u001b[0m \u001b[0;34m**\u001b[0m\u001b[0mkwargs\u001b[0m\u001b[0;34m)\u001b[0m\u001b[0;34m\u001b[0m\u001b[0;34m\u001b[0m\u001b[0m\n\u001b[0m\u001b[1;32m   1439\u001b[0m \u001b[0;34m\u001b[0m\u001b[0m\n\u001b[1;32m   1440\u001b[0m         \u001b[0mbound\u001b[0m \u001b[0;34m=\u001b[0m \u001b[0mnew_sig\u001b[0m\u001b[0;34m.\u001b[0m\u001b[0mbind\u001b[0m\u001b[0;34m(\u001b[0m\u001b[0max\u001b[0m\u001b[0;34m,\u001b[0m \u001b[0;34m*\u001b[0m\u001b[0margs\u001b[0m\u001b[0;34m,\u001b[0m \u001b[0;34m**\u001b[0m\u001b[0mkwargs\u001b[0m\u001b[0;34m)\u001b[0m\u001b[0;34m\u001b[0m\u001b[0;34m\u001b[0m\u001b[0m\n",
      "\u001b[0;32m~/.local/lib/python3.8/site-packages/matplotlib/axes/_axes.py\u001b[0m in \u001b[0;36mpie\u001b[0;34m(self, x, explode, labels, colors, autopct, pctdistance, shadow, labeldistance, startangle, radius, counterclock, wedgeprops, textprops, center, frame, rotatelabels, normalize)\u001b[0m\n\u001b[1;32m   2993\u001b[0m         \u001b[0;31m# The use of float32 is \"historical\", but can't be changed without\u001b[0m\u001b[0;34m\u001b[0m\u001b[0;34m\u001b[0m\u001b[0;34m\u001b[0m\u001b[0m\n\u001b[1;32m   2994\u001b[0m         \u001b[0;31m# regenerating the test baselines.\u001b[0m\u001b[0;34m\u001b[0m\u001b[0;34m\u001b[0m\u001b[0;34m\u001b[0m\u001b[0m\n\u001b[0;32m-> 2995\u001b[0;31m         \u001b[0mx\u001b[0m \u001b[0;34m=\u001b[0m \u001b[0mnp\u001b[0m\u001b[0;34m.\u001b[0m\u001b[0masarray\u001b[0m\u001b[0;34m(\u001b[0m\u001b[0mx\u001b[0m\u001b[0;34m,\u001b[0m \u001b[0mnp\u001b[0m\u001b[0;34m.\u001b[0m\u001b[0mfloat32\u001b[0m\u001b[0;34m)\u001b[0m\u001b[0;34m\u001b[0m\u001b[0;34m\u001b[0m\u001b[0m\n\u001b[0m\u001b[1;32m   2996\u001b[0m         \u001b[0;32mif\u001b[0m \u001b[0mx\u001b[0m\u001b[0;34m.\u001b[0m\u001b[0mndim\u001b[0m \u001b[0;34m>\u001b[0m \u001b[0;36m1\u001b[0m\u001b[0;34m:\u001b[0m\u001b[0;34m\u001b[0m\u001b[0;34m\u001b[0m\u001b[0m\n\u001b[1;32m   2997\u001b[0m             \u001b[0;32mraise\u001b[0m \u001b[0mValueError\u001b[0m\u001b[0;34m(\u001b[0m\u001b[0;34m\"x must be 1D\"\u001b[0m\u001b[0;34m)\u001b[0m\u001b[0;34m\u001b[0m\u001b[0;34m\u001b[0m\u001b[0m\n",
      "\u001b[0;32m~/.local/lib/python3.8/site-packages/numpy/core/_asarray.py\u001b[0m in \u001b[0;36masarray\u001b[0;34m(a, dtype, order)\u001b[0m\n\u001b[1;32m     81\u001b[0m \u001b[0;34m\u001b[0m\u001b[0m\n\u001b[1;32m     82\u001b[0m     \"\"\"\n\u001b[0;32m---> 83\u001b[0;31m     \u001b[0;32mreturn\u001b[0m \u001b[0marray\u001b[0m\u001b[0;34m(\u001b[0m\u001b[0ma\u001b[0m\u001b[0;34m,\u001b[0m \u001b[0mdtype\u001b[0m\u001b[0;34m,\u001b[0m \u001b[0mcopy\u001b[0m\u001b[0;34m=\u001b[0m\u001b[0;32mFalse\u001b[0m\u001b[0;34m,\u001b[0m \u001b[0morder\u001b[0m\u001b[0;34m=\u001b[0m\u001b[0morder\u001b[0m\u001b[0;34m)\u001b[0m\u001b[0;34m\u001b[0m\u001b[0;34m\u001b[0m\u001b[0m\n\u001b[0m\u001b[1;32m     84\u001b[0m \u001b[0;34m\u001b[0m\u001b[0m\n\u001b[1;32m     85\u001b[0m \u001b[0;34m\u001b[0m\u001b[0m\n",
      "\u001b[0;32m~/.local/lib/python3.8/site-packages/pandas/core/series.py\u001b[0m in \u001b[0;36m__array__\u001b[0;34m(self, dtype)\u001b[0m\n\u001b[1;32m    795\u001b[0m               dtype='datetime64[ns]')\n\u001b[1;32m    796\u001b[0m         \"\"\"\n\u001b[0;32m--> 797\u001b[0;31m         \u001b[0;32mreturn\u001b[0m \u001b[0mnp\u001b[0m\u001b[0;34m.\u001b[0m\u001b[0masarray\u001b[0m\u001b[0;34m(\u001b[0m\u001b[0mself\u001b[0m\u001b[0;34m.\u001b[0m\u001b[0marray\u001b[0m\u001b[0;34m,\u001b[0m \u001b[0mdtype\u001b[0m\u001b[0;34m)\u001b[0m\u001b[0;34m\u001b[0m\u001b[0;34m\u001b[0m\u001b[0m\n\u001b[0m\u001b[1;32m    798\u001b[0m \u001b[0;34m\u001b[0m\u001b[0m\n\u001b[1;32m    799\u001b[0m     \u001b[0;31m# ----------------------------------------------------------------------\u001b[0m\u001b[0;34m\u001b[0m\u001b[0;34m\u001b[0m\u001b[0;34m\u001b[0m\u001b[0m\n",
      "\u001b[0;32m~/.local/lib/python3.8/site-packages/numpy/core/_asarray.py\u001b[0m in \u001b[0;36masarray\u001b[0;34m(a, dtype, order)\u001b[0m\n\u001b[1;32m     81\u001b[0m \u001b[0;34m\u001b[0m\u001b[0m\n\u001b[1;32m     82\u001b[0m     \"\"\"\n\u001b[0;32m---> 83\u001b[0;31m     \u001b[0;32mreturn\u001b[0m \u001b[0marray\u001b[0m\u001b[0;34m(\u001b[0m\u001b[0ma\u001b[0m\u001b[0;34m,\u001b[0m \u001b[0mdtype\u001b[0m\u001b[0;34m,\u001b[0m \u001b[0mcopy\u001b[0m\u001b[0;34m=\u001b[0m\u001b[0;32mFalse\u001b[0m\u001b[0;34m,\u001b[0m \u001b[0morder\u001b[0m\u001b[0;34m=\u001b[0m\u001b[0morder\u001b[0m\u001b[0;34m)\u001b[0m\u001b[0;34m\u001b[0m\u001b[0;34m\u001b[0m\u001b[0m\n\u001b[0m\u001b[1;32m     84\u001b[0m \u001b[0;34m\u001b[0m\u001b[0m\n\u001b[1;32m     85\u001b[0m \u001b[0;34m\u001b[0m\u001b[0m\n",
      "\u001b[0;32m~/.local/lib/python3.8/site-packages/pandas/core/arrays/numpy_.py\u001b[0m in \u001b[0;36m__array__\u001b[0;34m(self, dtype)\u001b[0m\n\u001b[1;32m    209\u001b[0m \u001b[0;34m\u001b[0m\u001b[0m\n\u001b[1;32m    210\u001b[0m     \u001b[0;32mdef\u001b[0m \u001b[0m__array__\u001b[0m\u001b[0;34m(\u001b[0m\u001b[0mself\u001b[0m\u001b[0;34m,\u001b[0m \u001b[0mdtype\u001b[0m\u001b[0;34m=\u001b[0m\u001b[0;32mNone\u001b[0m\u001b[0;34m)\u001b[0m \u001b[0;34m->\u001b[0m \u001b[0mnp\u001b[0m\u001b[0;34m.\u001b[0m\u001b[0mndarray\u001b[0m\u001b[0;34m:\u001b[0m\u001b[0;34m\u001b[0m\u001b[0;34m\u001b[0m\u001b[0m\n\u001b[0;32m--> 211\u001b[0;31m         \u001b[0;32mreturn\u001b[0m \u001b[0mnp\u001b[0m\u001b[0;34m.\u001b[0m\u001b[0masarray\u001b[0m\u001b[0;34m(\u001b[0m\u001b[0mself\u001b[0m\u001b[0;34m.\u001b[0m\u001b[0m_ndarray\u001b[0m\u001b[0;34m,\u001b[0m \u001b[0mdtype\u001b[0m\u001b[0;34m=\u001b[0m\u001b[0mdtype\u001b[0m\u001b[0;34m)\u001b[0m\u001b[0;34m\u001b[0m\u001b[0;34m\u001b[0m\u001b[0m\n\u001b[0m\u001b[1;32m    212\u001b[0m \u001b[0;34m\u001b[0m\u001b[0m\n\u001b[1;32m    213\u001b[0m     \u001b[0m_HANDLED_TYPES\u001b[0m \u001b[0;34m=\u001b[0m \u001b[0;34m(\u001b[0m\u001b[0mnp\u001b[0m\u001b[0;34m.\u001b[0m\u001b[0mndarray\u001b[0m\u001b[0;34m,\u001b[0m \u001b[0mnumbers\u001b[0m\u001b[0;34m.\u001b[0m\u001b[0mNumber\u001b[0m\u001b[0;34m)\u001b[0m\u001b[0;34m\u001b[0m\u001b[0;34m\u001b[0m\u001b[0m\n",
      "\u001b[0;32m~/.local/lib/python3.8/site-packages/numpy/core/_asarray.py\u001b[0m in \u001b[0;36masarray\u001b[0;34m(a, dtype, order)\u001b[0m\n\u001b[1;32m     81\u001b[0m \u001b[0;34m\u001b[0m\u001b[0m\n\u001b[1;32m     82\u001b[0m     \"\"\"\n\u001b[0;32m---> 83\u001b[0;31m     \u001b[0;32mreturn\u001b[0m \u001b[0marray\u001b[0m\u001b[0;34m(\u001b[0m\u001b[0ma\u001b[0m\u001b[0;34m,\u001b[0m \u001b[0mdtype\u001b[0m\u001b[0;34m,\u001b[0m \u001b[0mcopy\u001b[0m\u001b[0;34m=\u001b[0m\u001b[0;32mFalse\u001b[0m\u001b[0;34m,\u001b[0m \u001b[0morder\u001b[0m\u001b[0;34m=\u001b[0m\u001b[0morder\u001b[0m\u001b[0;34m)\u001b[0m\u001b[0;34m\u001b[0m\u001b[0;34m\u001b[0m\u001b[0m\n\u001b[0m\u001b[1;32m     84\u001b[0m \u001b[0;34m\u001b[0m\u001b[0m\n\u001b[1;32m     85\u001b[0m \u001b[0;34m\u001b[0m\u001b[0m\n",
      "\u001b[0;31mValueError\u001b[0m: could not convert string to float: '4.951.258.58.58.51.650.853.753.758.55.456.355.955.956.752.951.651.651.250.365.951.257.951.651.650.850.853.756.752.951.951.061.061.066.750.720.720.721.451.451.451.061.061.061.451.851.451.451.653.390.851.850.554.251.851.851.851.851.851.850.721.061.063.391.061.656.754.253.450.721.651.651.652.952.551.690.371.250.850.851.651.651.652.952.252.252.251.252.952.951.950.850.851.651.651.453.753.753.752.952.952.951.950.851.654.252.954.953.952.953.751.450.850.852.951.454.655.455.450.850.951.951.951.251.651.652.952.952.950.852.11.6512.751.958.952.954.252.950.856.751.691.691.691.697.958.58.58.58.52.553.753.753.753.753.756.755.951.452.954.954.254.955.451.252.954.952.954.951.450.550.720.720.530.642.551.691.451.691.250.424.258.953.252.550.650.420.364.252.551.451.451.451.450.4210.954.250.361.450.724.254.251.651.651.658.58.57.650.721.451.954.951.452.552.552.552.552.550.363.454.656.956.955.955.950.723.750.720.728.51.252.754.250.340.340.423.753.752.551.452.952.952.951.954.956.755.951.951.061.061.060.720.530.644.258.953.250.720.720.721.451.451.450.360.361.061.060.250.250.360.360.360.360.360.340.342.552.551.062.552.552.552.551.4510.954.250.360.360.361.451.451.451.450.254.253.391.061.651.651.658.58.57.654.951.452.552.550.340.360.363.393.393.3914.9512.756.956.955.955.9514.9514.9514.953.751.258.51.253.391.451.063.752.951.950.851.654.952.952.954.950.851.252.957.957.950.850.854.252.951.656.755.958.258.258.255.455.457.95350.01.651.651.654.951.652.951.652.12.11.651.651.653.354.951.651.254.152.957.951.651.657.957.952.952.952.953.751.655.752.086.250.832.082.081.657.957.957.955.950.850.726.750.190.391.696.751.454.251.061.251.063.391.451.060.530.530.533.392.551.651.451.253.391.256.752.552.552.554.254.254.250.550.550.550.550.550.554.954.953.391.251.451.251.651.658.251.451.451.458.152.751.951.951.951.9512.56.754.153.391.254.154.654.656.751.251.255.955.950.380.380.381.951.250.00.3614.953.755.951.651.652.950.654.957.958.952.897.951.656.356.750.850.851.255.950.341.450.830.851.060.290.725.951.061.451.250.420.422.550.360.362.13.754.959.950.851.060.420.421.791.652.551.250.420.420.650.640.721.251.251.250.360.360.343.392.552.552.554.254.251.251.652.552.552.552.12.551.451.451.450.722.552.552.550.420.8510.950.550.360.360.421.450.721.651.651.651.652.550.340.340.340.364.253.393.393.390.722.553.751.252.11.451.0614.951.795.391.851.851.451.040.691.451.451.458.153.751.451.451.791.791.451.451.453.390.342.492.493.753.753.753.751.851.854.151.654.153.753.753.751.051.051.651.651.250.420.420.420.632.951.061.653.751.793.391.252.952.954.251.654.252.552.552.952.951.651.651.651.951.951.651.451.250.830.834.954.952.16.954.954.954.954.151.251.060.390.340.340.394.250.390.390.390.340.530.360.360.720.290.340.340.340.720.720.721.041.452.552.950.851.650.651.252.952.950.855.950.852.9511.157.452.892.894.954.951.651.253.750.830.830.831.251.654.952.552.492.494.955.455.450.850.951.257.951.652.950.427.954.954.953.750.424.954.952.950.423.753.754.653.751.654.153.254.957.951.251.651.251.450.4210.950.420.422.081.652.951.454.951.451.950.650.420.424.951.656.252.082.081.651.250.834.151.651.652.082.081.651.651.653.750.422.892.894.154.152.082.084.951.954.954.154.154.151.251.250.830.830.831.251.651.450.552.081.652.084.954.952.953.753.753.753.752.086.751.651.651.454.651.951.061.451.651.651.651.651.652.951.452.951.652.081.452.086.351.451.060.851.651.451.651.652.12.11.459.950.791.061.061.794.254.251.251.652.552.551.4510.950.550.361.451.454.253.391.651.651.456.752.552.552.554.252.491.451.451.451.453.392.550.722.553.7512.751.250.420.341.251.451.061.451.040.833.751.951.952.491.952.251.791.791.791.451.451.452.493.753.751.851.851.650.720.720.720.724.153.7510.390.550.633.391.451.791.081.081.250.721.651.040.340.344.151.791.060.551.453.390.361.041.250.721.452.082.082.081.651.651.651.252.087.957.950.850.650.651.651.650.399.957.951.251.250.421.252.12.14.950.425.950.422.894.154.150.850.850.850.830.830.831.254.953.753.758.252.951.252.952.952.954.253.952.952.892.894.952.081.650.630.633.390.834.955.451.250.851.251.652.951.652.951.651.651.651.250.850.552.251.651.251.651.650.552.951.652.12.11.651.953.751.454.158.34.154.153.451.791.451.061.065.954.954.251.069.950.362.557.657.657.652.551.7910.950.360.360.361.251.451.651.651.652.552.554.253.453.393.393.393.393.391.060.721.253.391.651.653.453.453.455.394.154.152.751.452.494.150.427.657.651.061.061.063.753.753.751.791.041.040.360.361.791.791.793.292.493.293.293.293.295.353.295.355.355.355.357.457.450.422.082.951.694.952.950.420.420.428.52.0812.758.253.753.754.954.959.958.54.954.152.081.250.422.085.955.952.082.086.255.955.952.890.421.792.080.03.290.01.791.451.061.454.251.650.721.450.722.551.451.451.451.651.651.651.651.451.791.451.453.291.254.654.657.080.421.792.950.190.390.855.950.852.952.95'"
     ]
    },
    {
     "data": {
      "image/png": "[encoded data removed]",
      "text/plain": [
       "<Figure size 432x288 with 1 Axes>"
      ]
     },
     "metadata": {
      "needs_background": "light"
     },
     "output_type": "display_data"
    }
   ],
   "source": [
    "# the pie plot is horrible because of england, that probably has some outliers\n",
    "#explode=np.zeros(len(df_sales_per_country.CustomerCountry))\n",
    "\n",
    "plt.pie(df_sales_per_country.Sale, labels=df_sales_per_country.CustomerCountry, autopct='%1.1f%%')\n",
    "plt.show()"
   ]
  },
  {
   "cell_type": "markdown",
   "metadata": {},
   "source": [
    "### Most bought items"
   ]
  },
  {
   "cell_type": "code",
   "execution_count": null,
   "metadata": {},
   "outputs": [],
   "source": [
    "cols_dropped = [2, 3, 6]\n",
    "df_most_bought = df.groupby([\"ProdID\", \"ProdDescr\"]).sum().reset_index()\n",
    "#df_most_bought = df_most_bought.drop(df_most_bought.columns[cols_dropped], axis=1)\n",
    "df_most_bought = df_most_bought.sort_values(by=\"Qta\", ascending=False)\n",
    "#df_most_bought = df_most_bought.groupby(level=0).head(1).reset_index()\n",
    "df_most_bought \n",
    "\n",
    "#print(df[df.ProdDescr == \"Discount\"])"
   ]
  },
  {
   "cell_type": "code",
   "execution_count": null,
   "metadata": {},
   "outputs": [],
   "source": [
    "plt.pie(df_most_bought[:10].Qta, labels=df_most_bought[:10].ProdDescr, autopct='%1.1f%%')\n",
    "plt.savefig(\"../output/most_bought_item_piechart.png\")\n",
    "plt.show()"
   ]
  },
  {
   "cell_type": "markdown",
   "metadata": {},
   "source": [
    "### Most bought item per country\n"
   ]
  },
  {
   "cell_type": "code",
   "execution_count": null,
   "metadata": {},
   "outputs": [],
   "source": [
    "#cols_dropped = [3, 4, 7]\n",
    "df_mb_country = df.groupby([\"ProdID\", \"ProdDescr\", \"CustomerCountry\"]).sum().reset_index()\n",
    "df_mb_country = df_mb_country.drop([\"Sale\"], axis = 1)\n",
    "\n",
    "df_mb_country = df_mb_country[df_mb_country.groupby([\"CustomerCountry\"])[\"Qta\"].transform(\"max\") == df_mb_country[\"Qta\"]].reset_index()\n",
    "\n",
    "#df_mb_country = df_mb_country.groupby([\"CustomerCountry\"]).agg({\"Qta\" : \"max\"}).reset_index()\n",
    "#print(df_mb_country.CustomerCountry.unique())\n",
    "\n",
    "\n",
    "print(df_mb_country)\n"
   ]
  },
  {
   "cell_type": "markdown",
   "metadata": {},
   "source": [
    "### Linear Graphs"
   ]
  },
  {
   "cell_type": "code",
   "execution_count": null,
   "metadata": {},
   "outputs": [],
   "source": [
    "# start and end datetimes\n",
    "print(df.BasketDate.min(), df.BasketDate.max())"
   ]
  },
  {
   "cell_type": "code",
   "execution_count": null,
   "metadata": {},
   "outputs": [],
   "source": [
    "weekly = df.set_index(\"BasketDate\").copy()\n",
    "weekly = weekly.groupby(pd.Grouper(freq='M'))[\"Qta\"].sum()\n",
    "\n",
    "#print(weekly)\n",
    "\n",
    "plt.figure(figsize=(16,5))\n",
    "plt.plot(weekly.index, weekly, color='tab:blue', marker=\"o\")"
   ]
  },
  {
   "cell_type": "code",
   "execution_count": null,
   "metadata": {},
   "outputs": [],
   "source": []
  }
 ],
 "metadata": {
  "kernelspec": {
   "display_name": "Python 3",
   "language": "python",
   "name": "python3"
  },
  "language_info": {
   "codemirror_mode": {
    "name": "ipython",
    "version": 3
   },
   "file_extension": ".py",
   "mimetype": "text/x-python",
   "name": "python",
   "nbconvert_exporter": "python",
   "pygments_lexer": "ipython3",
   "version": "3.8.5"
  }
 },
 "nbformat": 4,
 "nbformat_minor": 4
}
