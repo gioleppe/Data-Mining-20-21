{
 "cells": [
  {
   "cell_type": "code",
   "execution_count": 60,
   "metadata": {},
   "outputs": [],
   "source": [
    "# imports\n",
    "import pandas as pd\n",
    "import numpy as np\n",
    "import matplotlib.pyplot as plt\n",
    "import json\n",
    "from tqdm import tqdm\n",
    "import math"
   ]
  },
  {
   "cell_type": "markdown",
   "metadata": {},
   "source": [
    "## Data cleaning\n",
    "\n",
    "The following cells will improve the DF, which presents inconsistency, missing values and outliers, thanks to consideration done during the data understanding phase"
   ]
  },
  {
   "cell_type": "code",
   "execution_count": 61,
   "metadata": {},
   "outputs": [],
   "source": [
    "# load df\n",
    "df = pd.read_csv(\"../dataset/customer_supermarket_regex.csv\", index_col=0, parse_dates=[\"BasketDate\"], decimal=\",\")\n",
    "df.Sale = df.Sale.astype(float)"
   ]
  },
  {
   "cell_type": "code",
   "execution_count": 62,
   "metadata": {},
   "outputs": [
    {
     "name": "stdout",
     "output_type": "stream",
     "text": [
      "DF len before deleting rows with Qta  <= 0 396687\n",
      "DF len after deleting rows with Qta  <= 0 387881\n"
     ]
    }
   ],
   "source": [
    "#delete every row with Qta <= 0\n",
    "print(\"DF len before deleting rows with Qta  <= 0\", len(df))\n",
    "df = df[df['Qta'] > 0]\n",
    "print(\"DF len after deleting rows with Qta  <= 0\", len(df))"
   ]
  },
  {
   "cell_type": "code",
   "execution_count": 63,
   "metadata": {},
   "outputs": [],
   "source": [
    "# inconsistency resolution\n",
    "\n",
    "def inconsistency_resolver(path,col1,col2):\n",
    "    \n",
    "    with open(path, 'r') as f:\n",
    "        inconsistent_list = json.load(f)\n",
    "        \n",
    "    df_inconsistent = df[df[col1].isin(inconsistent_list)]\n",
    "\n",
    "    df_grouped = df_inconsistent.groupby([col1,col2]).size().reset_index()\n",
    "    \n",
    "    df_grouped = df_grouped.sort_values(0, ascending=False).drop_duplicates(col1).sort_index()\n",
    "    \n",
    "    mydict = pd.Series(df_grouped[col2].values,index=df_grouped[col1]).to_dict()\n",
    "    \n",
    "    for k,v in mydict.items():\n",
    "        \n",
    "        df.loc[df[col1] == k, col2] = v\n",
    "\n",
    "inconsistency_resolver(\"../dataset/inconsistent_CustomerID_CustomerCountry.json\",\"CustomerID\",\"CustomerCountry\") \n",
    "inconsistency_resolver(\"../dataset/inconsistent_ProdID_ProdDescr.json\",\"ProdID\",\"ProdDescr\") "
   ]
  },
  {
   "cell_type": "code",
   "execution_count": 64,
   "metadata": {},
   "outputs": [
    {
     "data": {
      "text/plain": [
       "' check if inconsistency has been solved\\ndef inconsistent_set(K,V):\\n    \\n    inconsistentset = list()\\n\\n    for key in df[K].unique().tolist():\\n        temp_df = df[df[K] == key]\\n        valueslist = temp_df[V].tolist()\\n        for value in valueslist:\\n            if(valueslist[0] != value):\\n                inconsistentset.append(key)\\n                break;\\n    return inconsistentset\\n\\n\\n# 1\\nProdID_ProdDescr_IS = inconsistent_set(\"ProdID\",\"ProdDescr\")\\n            \\nprint(\"Number of not consistent ProdDescr:\", len(ProdID_ProdDescr_IS))\\n\\n#3 \\nCustomerID_CustomerCountry_IS = inconsistent_set(\"CustomerID\",\"CustomerCountry\")\\n            \\nprint(\"Number of not consistent CustomerCountry:\", len(CustomerID_CustomerCountry_IS))\\n'"
      ]
     },
     "execution_count": 64,
     "metadata": {},
     "output_type": "execute_result"
    }
   ],
   "source": [
    "''' check if inconsistency has been solved\n",
    "def inconsistent_set(K,V):\n",
    "    \n",
    "    inconsistentset = list()\n",
    "\n",
    "    for key in df[K].unique().tolist():\n",
    "        temp_df = df[df[K] == key]\n",
    "        valueslist = temp_df[V].tolist()\n",
    "        for value in valueslist:\n",
    "            if(valueslist[0] != value):\n",
    "                inconsistentset.append(key)\n",
    "                break;\n",
    "    return inconsistentset\n",
    "\n",
    "\n",
    "# 1\n",
    "ProdID_ProdDescr_IS = inconsistent_set(\"ProdID\",\"ProdDescr\")\n",
    "            \n",
    "print(\"Number of not consistent ProdDescr:\", len(ProdID_ProdDescr_IS))\n",
    "\n",
    "#3 \n",
    "CustomerID_CustomerCountry_IS = inconsistent_set(\"CustomerID\",\"CustomerCountry\")\n",
    "            \n",
    "print(\"Number of not consistent CustomerCountry:\", len(CustomerID_CustomerCountry_IS))\n",
    "'''"
   ]
  },
  {
   "cell_type": "markdown",
   "metadata": {},
   "source": [
    "## Data recovery\n",
    "\n",
    "Some rows from the initial database were partially completed, there were missing values. We want to recover these rows by checking if there are rows with missing values that are very close to rows without partial data.\n",
    "\n",
    "The result of the following cell is negative, we can't recovery the partial rows."
   ]
  },
  {
   "cell_type": "code",
   "execution_count": 65,
   "metadata": {},
   "outputs": [
    {
     "data": {
      "text/plain": [
       "' uncomment to check if there are similar rows. (there aren\\'t similar rows)\\ndef similar_rows(basketID, basketDate):\\n    \\n    for i in tqdm(range(len(basketID))):\\n        temp_df = df[(df[\\'BasketID\\'] == basketID[i]) & (df[\\'BasketDate\\'] == basketDate[i])]\\n        if(len(temp_df) > 0):\\n            print(temp_df)\\n    \\n    \\n    \\ndf_nan = pd.read_csv(\"../dataset/customer_supermarket_nan.csv\", sep=\"\\t\", index_col=0, decimal=\",\")\\nprint(\"Number of rows with nan values\", len(df_nan))\\n\\n#df_nan[\\'CustomerID\\'] = df[df[\\'BasketID\\'] == df_nan[\\'BasketID\\']][0][\\'CustomerID\\']\\nsimilar_rows(df_nan.BasketID.values,df_nan.BasketDate.values)\\n\\nis_NaN = df_nan.isnull()\\nrow_has_NaN = is_NaN.any(axis=1)\\nprint(\"Number of rows with nan values after matching partial rows with complete rows\", len(df_nan[row_has_NaN]))\\n'"
      ]
     },
     "execution_count": 65,
     "metadata": {},
     "output_type": "execute_result"
    }
   ],
   "source": [
    "''' uncomment to check if there are similar rows. (there aren't similar rows)\n",
    "def similar_rows(basketID, basketDate):\n",
    "    \n",
    "    for i in tqdm(range(len(basketID))):\n",
    "        temp_df = df[(df['BasketID'] == basketID[i]) & (df['BasketDate'] == basketDate[i])]\n",
    "        if(len(temp_df) > 0):\n",
    "            print(temp_df)\n",
    "    \n",
    "    \n",
    "    \n",
    "df_nan = pd.read_csv(\"../dataset/customer_supermarket_nan.csv\", sep=\"\\t\", index_col=0, decimal=\",\")\n",
    "print(\"Number of rows with nan values\", len(df_nan))\n",
    "\n",
    "#df_nan['CustomerID'] = df[df['BasketID'] == df_nan['BasketID']][0]['CustomerID']\n",
    "similar_rows(df_nan.BasketID.values,df_nan.BasketDate.values)\n",
    "\n",
    "is_NaN = df_nan.isnull()\n",
    "row_has_NaN = is_NaN.any(axis=1)\n",
    "print(\"Number of rows with nan values after matching partial rows with complete rows\", len(df_nan[row_has_NaN]))\n",
    "'''\n",
    "\n",
    "#duplicates_free = df_nan.drop_duplicates(subset=['BasketID','BasketDate','CustomerCountry','ProdID'])\n",
    "#only_duplicates = df_nan[np.invert(df_nan.index.isin(duplicates_free.index))]\n",
    "#df_nan_group = df_nan.groupby(['BasketID','BasketDate','CustomerCountry','ProdID']).size()\n",
    "\n",
    "#df_nan['CustomerID'] = df[df['BasketID'] == df_nan['BasketID'] & df['BasketDate'] == df_nan['BasketDate'] & df['CustomerCountry'] == df_nan['CustomerCountry']]['CustomerID']"
   ]
  },
  {
   "cell_type": "markdown",
   "metadata": {},
   "source": [
    "DF without inconsistency serialization"
   ]
  },
  {
   "cell_type": "code",
   "execution_count": 66,
   "metadata": {},
   "outputs": [],
   "source": [
    "df.to_csv(\"../dataset/customer_supermarket_no_inconsistency.csv\", sep=\"\\t\", decimal=\",\")"
   ]
  },
  {
   "cell_type": "markdown",
   "metadata": {},
   "source": [
    "## Indicators"
   ]
  },
  {
   "cell_type": "code",
   "execution_count": 67,
   "metadata": {},
   "outputs": [
    {
     "name": "stdout",
     "output_type": "stream",
     "text": [
      "   BasketID          BasketDate  ProdID  Qta  Sale  CustomerID  \\\n",
      "0    536365 2010-01-12 08:26:00   21730    6  4.25       17850   \n",
      "1    536365 2010-01-12 08:26:00   22752    2  7.65       17850   \n",
      "2    536365 2010-01-12 08:26:00   71053    6  3.39       17850   \n",
      "3    536365 2010-01-12 08:26:00  84029E    6  3.39       17850   \n",
      "4    536365 2010-01-12 08:26:00  84029G    6  3.39       17850   \n",
      "\n",
      "  CustomerCountry                            ProdDescr  Outlier  \n",
      "0  United Kingdom    GLASS STAR FROSTED T-LIGHT HOLDER    False  \n",
      "1  United Kingdom         SET 7 BABUSHKA NESTING BOXES    False  \n",
      "2  United Kingdom                  WHITE METAL LANTERN    False  \n",
      "3  United Kingdom       RED WOOLLY HOTTIE WHITE HEART.    False  \n",
      "4  United Kingdom  KNITTED UNION FLAG HOT WATER BOTTLE    False  \n",
      "<class 'pandas.core.frame.DataFrame'>\n",
      "Int64Index: 387641 entries, 0 to 387880\n",
      "Data columns (total 9 columns):\n",
      " #   Column           Non-Null Count   Dtype         \n",
      "---  ------           --------------   -----         \n",
      " 0   BasketID         387641 non-null  int64         \n",
      " 1   BasketDate       387641 non-null  datetime64[ns]\n",
      " 2   ProdID           387641 non-null  object        \n",
      " 3   Qta              387641 non-null  int64         \n",
      " 4   Sale             387641 non-null  float64       \n",
      " 5   CustomerID       387641 non-null  int64         \n",
      " 6   CustomerCountry  387641 non-null  object        \n",
      " 7   ProdDescr        387641 non-null  object        \n",
      " 8   Outlier          387641 non-null  bool          \n",
      "dtypes: bool(1), datetime64[ns](1), float64(1), int64(3), object(3)\n",
      "memory usage: 27.0+ MB\n",
      "None\n"
     ]
    }
   ],
   "source": [
    "# first of all we deserialize our dataframe\n",
    "df = pd.read_csv(\"../dataset/customer_supermarket_no_inconsistency.csv\", sep=\"\\t\", index_col=0, parse_dates=[\"BasketDate\"], decimal=\",\")\n",
    "# second remove outliers from df\n",
    "df = df[df['Outlier'] == False]\n",
    "print(df.head())\n",
    "print(df.info())"
   ]
  },
  {
   "cell_type": "markdown",
   "metadata": {},
   "source": [
    "# I - indicator\n",
    "the total number of items purchased by a customer during the period of\n",
    "observation."
   ]
  },
  {
   "cell_type": "code",
   "execution_count": 68,
   "metadata": {},
   "outputs": [
    {
     "data": {
      "text/html": [
       "<div>\n",
       "<style scoped>\n",
       "    .dataframe tbody tr th:only-of-type {\n",
       "        vertical-align: middle;\n",
       "    }\n",
       "\n",
       "    .dataframe tbody tr th {\n",
       "        vertical-align: top;\n",
       "    }\n",
       "\n",
       "    .dataframe thead th {\n",
       "        text-align: right;\n",
       "    }\n",
       "</style>\n",
       "<table border=\"1\" class=\"dataframe\">\n",
       "  <thead>\n",
       "    <tr style=\"text-align: right;\">\n",
       "      <th></th>\n",
       "      <th>CustomerID</th>\n",
       "      <th>Qta</th>\n",
       "    </tr>\n",
       "  </thead>\n",
       "  <tbody>\n",
       "    <tr>\n",
       "      <th>0</th>\n",
       "      <td>12347</td>\n",
       "      <td>2458</td>\n",
       "    </tr>\n",
       "    <tr>\n",
       "      <th>1</th>\n",
       "      <td>12348</td>\n",
       "      <td>2341</td>\n",
       "    </tr>\n",
       "    <tr>\n",
       "      <th>2</th>\n",
       "      <td>12349</td>\n",
       "      <td>630</td>\n",
       "    </tr>\n",
       "    <tr>\n",
       "      <th>3</th>\n",
       "      <td>12350</td>\n",
       "      <td>197</td>\n",
       "    </tr>\n",
       "    <tr>\n",
       "      <th>4</th>\n",
       "      <td>12352</td>\n",
       "      <td>533</td>\n",
       "    </tr>\n",
       "    <tr>\n",
       "      <th>...</th>\n",
       "      <td>...</td>\n",
       "      <td>...</td>\n",
       "    </tr>\n",
       "    <tr>\n",
       "      <th>4321</th>\n",
       "      <td>18280</td>\n",
       "      <td>45</td>\n",
       "    </tr>\n",
       "    <tr>\n",
       "      <th>4322</th>\n",
       "      <td>18281</td>\n",
       "      <td>54</td>\n",
       "    </tr>\n",
       "    <tr>\n",
       "      <th>4323</th>\n",
       "      <td>18282</td>\n",
       "      <td>103</td>\n",
       "    </tr>\n",
       "    <tr>\n",
       "      <th>4324</th>\n",
       "      <td>18283</td>\n",
       "      <td>1357</td>\n",
       "    </tr>\n",
       "    <tr>\n",
       "      <th>4325</th>\n",
       "      <td>18287</td>\n",
       "      <td>1586</td>\n",
       "    </tr>\n",
       "  </tbody>\n",
       "</table>\n",
       "<p>4326 rows × 2 columns</p>\n",
       "</div>"
      ],
      "text/plain": [
       "      CustomerID   Qta\n",
       "0          12347  2458\n",
       "1          12348  2341\n",
       "2          12349   630\n",
       "3          12350   197\n",
       "4          12352   533\n",
       "...          ...   ...\n",
       "4321       18280    45\n",
       "4322       18281    54\n",
       "4323       18282   103\n",
       "4324       18283  1357\n",
       "4325       18287  1586\n",
       "\n",
       "[4326 rows x 2 columns]"
      ]
     },
     "execution_count": 68,
     "metadata": {},
     "output_type": "execute_result"
    }
   ],
   "source": [
    "df_i = df.groupby(\"CustomerID\").sum().reset_index()\n",
    "df_i = df_i[[\"CustomerID\", \"Qta\"]]\n",
    "df_i"
   ]
  },
  {
   "cell_type": "code",
   "execution_count": 69,
   "metadata": {},
   "outputs": [
    {
     "data": {
      "text/html": [
       "<div>\n",
       "<style scoped>\n",
       "    .dataframe tbody tr th:only-of-type {\n",
       "        vertical-align: middle;\n",
       "    }\n",
       "\n",
       "    .dataframe tbody tr th {\n",
       "        vertical-align: top;\n",
       "    }\n",
       "\n",
       "    .dataframe thead th {\n",
       "        text-align: right;\n",
       "    }\n",
       "</style>\n",
       "<table border=\"1\" class=\"dataframe\">\n",
       "  <thead>\n",
       "    <tr style=\"text-align: right;\">\n",
       "      <th></th>\n",
       "      <th>CustomerID</th>\n",
       "      <th>Qta</th>\n",
       "    </tr>\n",
       "  </thead>\n",
       "  <tbody>\n",
       "    <tr>\n",
       "      <th>1686</th>\n",
       "      <td>14646</td>\n",
       "      <td>188323</td>\n",
       "    </tr>\n",
       "    <tr>\n",
       "      <th>1876</th>\n",
       "      <td>14911</td>\n",
       "      <td>80488</td>\n",
       "    </tr>\n",
       "    <tr>\n",
       "      <th>54</th>\n",
       "      <td>12415</td>\n",
       "      <td>75557</td>\n",
       "    </tr>\n",
       "    <tr>\n",
       "      <th>3762</th>\n",
       "      <td>17511</td>\n",
       "      <td>64549</td>\n",
       "    </tr>\n",
       "    <tr>\n",
       "      <th>4190</th>\n",
       "      <td>18102</td>\n",
       "      <td>60164</td>\n",
       "    </tr>\n",
       "    <tr>\n",
       "      <th>...</th>\n",
       "      <td>...</td>\n",
       "      <td>...</td>\n",
       "    </tr>\n",
       "    <tr>\n",
       "      <th>3477</th>\n",
       "      <td>17102</td>\n",
       "      <td>2</td>\n",
       "    </tr>\n",
       "    <tr>\n",
       "      <th>2867</th>\n",
       "      <td>16257</td>\n",
       "      <td>2</td>\n",
       "    </tr>\n",
       "    <tr>\n",
       "      <th>4312</th>\n",
       "      <td>18268</td>\n",
       "      <td>2</td>\n",
       "    </tr>\n",
       "    <tr>\n",
       "      <th>2552</th>\n",
       "      <td>15823</td>\n",
       "      <td>1</td>\n",
       "    </tr>\n",
       "    <tr>\n",
       "      <th>4088</th>\n",
       "      <td>17956</td>\n",
       "      <td>1</td>\n",
       "    </tr>\n",
       "  </tbody>\n",
       "</table>\n",
       "<p>4326 rows × 2 columns</p>\n",
       "</div>"
      ],
      "text/plain": [
       "      CustomerID     Qta\n",
       "1686       14646  188323\n",
       "1876       14911   80488\n",
       "54         12415   75557\n",
       "3762       17511   64549\n",
       "4190       18102   60164\n",
       "...          ...     ...\n",
       "3477       17102       2\n",
       "2867       16257       2\n",
       "4312       18268       2\n",
       "2552       15823       1\n",
       "4088       17956       1\n",
       "\n",
       "[4326 rows x 2 columns]"
      ]
     },
     "execution_count": 69,
     "metadata": {},
     "output_type": "execute_result"
    }
   ],
   "source": [
    "df_i.sort_values(by='Qta', ascending=False)"
   ]
  },
  {
   "cell_type": "code",
   "execution_count": 70,
   "metadata": {},
   "outputs": [
    {
     "name": "stdout",
     "output_type": "stream",
     "text": [
      "        BasketID          BasketDate ProdID  Qta  Sale  CustomerID  \\\n",
      "23611     539491 2010-12-20 10:09:00  20751    1  2.10       14646   \n",
      "23612     539491 2010-12-20 10:09:00  21123    2  1.25       14646   \n",
      "23613     539491 2010-12-20 10:09:00  21246    2  4.95       14646   \n",
      "23614     539491 2010-12-20 10:09:00  21931    1  1.95       14646   \n",
      "23615     539491 2010-12-20 10:09:00  21981   12  0.29       14646   \n",
      "...          ...                 ...    ...  ...   ...         ...   \n",
      "384485    581176 2011-07-12 15:19:00  22907   96  0.72       14646   \n",
      "384486    581176 2011-07-12 15:19:00  22908   96  0.72       14646   \n",
      "384487    581176 2011-07-12 15:19:00  23112   12  6.65       14646   \n",
      "384488    581176 2011-07-12 15:19:00  23118   16  6.65       14646   \n",
      "385531    581338 2011-08-12 12:12:00  23344  140  1.79       14646   \n",
      "\n",
      "       CustomerCountry                            ProdDescr  Outlier  \n",
      "23611      Netherlands     FUNKY WASHING UP GLOVES ASSORTED    False  \n",
      "23612      Netherlands  SET/10 IVORY POLKADOT PARTY CANDLES    False  \n",
      "23613      Netherlands               RED RETROSPOT BIG BOWL    False  \n",
      "23614      Netherlands               JUMBO STORAGE BAG SUKI    False  \n",
      "23615      Netherlands         PACK OF 12 WOODLAND TISSUES     False  \n",
      "...                ...                                  ...      ...  \n",
      "384485     Netherlands     PACK OF 20 NAPKINS PANTRY DESIGN    False  \n",
      "384486     Netherlands        PACK OF 20 NAPKINS RED APPLES    False  \n",
      "384487     Netherlands             PARISIENNE CURIO CABINET    False  \n",
      "384488     Netherlands         PARISIENNE JEWELLERY DRAWER     False  \n",
      "385531     Netherlands            JUMBO BAG 50'S CHRISTMAS     False  \n",
      "\n",
      "[2074 rows x 9 columns]\n"
     ]
    }
   ],
   "source": [
    "#!! look at this, it might be an outlier\n",
    "print(df[df.CustomerID == 14646])"
   ]
  },
  {
   "cell_type": "markdown",
   "metadata": {},
   "source": [
    "# Iu - indicator\n",
    "the number of distinct items bought by a customer in the period of\n",
    "observation."
   ]
  },
  {
   "cell_type": "code",
   "execution_count": 71,
   "metadata": {},
   "outputs": [
    {
     "data": {
      "text/html": [
       "<div>\n",
       "<style scoped>\n",
       "    .dataframe tbody tr th:only-of-type {\n",
       "        vertical-align: middle;\n",
       "    }\n",
       "\n",
       "    .dataframe tbody tr th {\n",
       "        vertical-align: top;\n",
       "    }\n",
       "\n",
       "    .dataframe thead th {\n",
       "        text-align: right;\n",
       "    }\n",
       "</style>\n",
       "<table border=\"1\" class=\"dataframe\">\n",
       "  <thead>\n",
       "    <tr style=\"text-align: right;\">\n",
       "      <th></th>\n",
       "      <th>CustomerID</th>\n",
       "      <th>ProdID</th>\n",
       "    </tr>\n",
       "  </thead>\n",
       "  <tbody>\n",
       "    <tr>\n",
       "      <th>0</th>\n",
       "      <td>12347</td>\n",
       "      <td>103</td>\n",
       "    </tr>\n",
       "    <tr>\n",
       "      <th>1</th>\n",
       "      <td>12348</td>\n",
       "      <td>22</td>\n",
       "    </tr>\n",
       "    <tr>\n",
       "      <th>2</th>\n",
       "      <td>12349</td>\n",
       "      <td>72</td>\n",
       "    </tr>\n",
       "    <tr>\n",
       "      <th>3</th>\n",
       "      <td>12350</td>\n",
       "      <td>17</td>\n",
       "    </tr>\n",
       "    <tr>\n",
       "      <th>4</th>\n",
       "      <td>12352</td>\n",
       "      <td>58</td>\n",
       "    </tr>\n",
       "    <tr>\n",
       "      <th>...</th>\n",
       "      <td>...</td>\n",
       "      <td>...</td>\n",
       "    </tr>\n",
       "    <tr>\n",
       "      <th>4321</th>\n",
       "      <td>18280</td>\n",
       "      <td>10</td>\n",
       "    </tr>\n",
       "    <tr>\n",
       "      <th>4322</th>\n",
       "      <td>18281</td>\n",
       "      <td>7</td>\n",
       "    </tr>\n",
       "    <tr>\n",
       "      <th>4323</th>\n",
       "      <td>18282</td>\n",
       "      <td>12</td>\n",
       "    </tr>\n",
       "    <tr>\n",
       "      <th>4324</th>\n",
       "      <td>18283</td>\n",
       "      <td>263</td>\n",
       "    </tr>\n",
       "    <tr>\n",
       "      <th>4325</th>\n",
       "      <td>18287</td>\n",
       "      <td>59</td>\n",
       "    </tr>\n",
       "  </tbody>\n",
       "</table>\n",
       "<p>4326 rows × 2 columns</p>\n",
       "</div>"
      ],
      "text/plain": [
       "      CustomerID  ProdID\n",
       "0          12347     103\n",
       "1          12348      22\n",
       "2          12349      72\n",
       "3          12350      17\n",
       "4          12352      58\n",
       "...          ...     ...\n",
       "4321       18280      10\n",
       "4322       18281       7\n",
       "4323       18282      12\n",
       "4324       18283     263\n",
       "4325       18287      59\n",
       "\n",
       "[4326 rows x 2 columns]"
      ]
     },
     "execution_count": 71,
     "metadata": {},
     "output_type": "execute_result"
    }
   ],
   "source": [
    "df_iu = df.groupby('CustomerID')['ProdID'].nunique().reset_index()\n",
    "df_iu"
   ]
  },
  {
   "cell_type": "markdown",
   "metadata": {},
   "source": [
    "# Imax - indicator\n",
    "the maximum number of items purchased by a customer during a\n",
    "shopping session"
   ]
  },
  {
   "cell_type": "code",
   "execution_count": 72,
   "metadata": {},
   "outputs": [
    {
     "data": {
      "text/html": [
       "<div>\n",
       "<style scoped>\n",
       "    .dataframe tbody tr th:only-of-type {\n",
       "        vertical-align: middle;\n",
       "    }\n",
       "\n",
       "    .dataframe tbody tr th {\n",
       "        vertical-align: top;\n",
       "    }\n",
       "\n",
       "    .dataframe thead th {\n",
       "        text-align: right;\n",
       "    }\n",
       "</style>\n",
       "<table border=\"1\" class=\"dataframe\">\n",
       "  <thead>\n",
       "    <tr style=\"text-align: right;\">\n",
       "      <th></th>\n",
       "      <th>CustomerID</th>\n",
       "      <th>BasketID</th>\n",
       "      <th>Qta</th>\n",
       "    </tr>\n",
       "  </thead>\n",
       "  <tbody>\n",
       "    <tr>\n",
       "      <th>0</th>\n",
       "      <td>12347</td>\n",
       "      <td>537626</td>\n",
       "      <td>319</td>\n",
       "    </tr>\n",
       "    <tr>\n",
       "      <th>1</th>\n",
       "      <td>12348</td>\n",
       "      <td>539318</td>\n",
       "      <td>1254</td>\n",
       "    </tr>\n",
       "    <tr>\n",
       "      <th>2</th>\n",
       "      <td>12349</td>\n",
       "      <td>577609</td>\n",
       "      <td>630</td>\n",
       "    </tr>\n",
       "    <tr>\n",
       "      <th>3</th>\n",
       "      <td>12350</td>\n",
       "      <td>543037</td>\n",
       "      <td>197</td>\n",
       "    </tr>\n",
       "    <tr>\n",
       "      <th>4</th>\n",
       "      <td>12352</td>\n",
       "      <td>544156</td>\n",
       "      <td>98</td>\n",
       "    </tr>\n",
       "    <tr>\n",
       "      <th>...</th>\n",
       "      <td>...</td>\n",
       "      <td>...</td>\n",
       "      <td>...</td>\n",
       "    </tr>\n",
       "    <tr>\n",
       "      <th>4321</th>\n",
       "      <td>18280</td>\n",
       "      <td>545712</td>\n",
       "      <td>45</td>\n",
       "    </tr>\n",
       "    <tr>\n",
       "      <th>4322</th>\n",
       "      <td>18281</td>\n",
       "      <td>556464</td>\n",
       "      <td>54</td>\n",
       "    </tr>\n",
       "    <tr>\n",
       "      <th>4323</th>\n",
       "      <td>18282</td>\n",
       "      <td>562525</td>\n",
       "      <td>75</td>\n",
       "    </tr>\n",
       "    <tr>\n",
       "      <th>4324</th>\n",
       "      <td>18283</td>\n",
       "      <td>540350</td>\n",
       "      <td>61</td>\n",
       "    </tr>\n",
       "    <tr>\n",
       "      <th>4325</th>\n",
       "      <td>18287</td>\n",
       "      <td>554065</td>\n",
       "      <td>488</td>\n",
       "    </tr>\n",
       "  </tbody>\n",
       "</table>\n",
       "<p>4326 rows × 3 columns</p>\n",
       "</div>"
      ],
      "text/plain": [
       "      CustomerID  BasketID   Qta\n",
       "0          12347    537626   319\n",
       "1          12348    539318  1254\n",
       "2          12349    577609   630\n",
       "3          12350    543037   197\n",
       "4          12352    544156    98\n",
       "...          ...       ...   ...\n",
       "4321       18280    545712    45\n",
       "4322       18281    556464    54\n",
       "4323       18282    562525    75\n",
       "4324       18283    540350    61\n",
       "4325       18287    554065   488\n",
       "\n",
       "[4326 rows x 3 columns]"
      ]
     },
     "execution_count": 72,
     "metadata": {},
     "output_type": "execute_result"
    }
   ],
   "source": [
    "df_imax = df.groupby([\"CustomerID\", \"BasketID\"]).Qta.sum()\n",
    "df_imax = df_imax.groupby(level=0).head(1).reset_index()\n",
    "\n",
    "#df_imax = df_imax.max(level=0)\n",
    "\n",
    "df_imax"
   ]
  },
  {
   "cell_type": "markdown",
   "metadata": {},
   "source": [
    "# E - indicator\n",
    "the Shannon entropy on the purchasing behaviour of the customer"
   ]
  },
  {
   "cell_type": "code",
   "execution_count": 73,
   "metadata": {},
   "outputs": [
    {
     "data": {
      "text/html": [
       "<div>\n",
       "<style scoped>\n",
       "    .dataframe tbody tr th:only-of-type {\n",
       "        vertical-align: middle;\n",
       "    }\n",
       "\n",
       "    .dataframe tbody tr th {\n",
       "        vertical-align: top;\n",
       "    }\n",
       "\n",
       "    .dataframe thead th {\n",
       "        text-align: right;\n",
       "    }\n",
       "</style>\n",
       "<table border=\"1\" class=\"dataframe\">\n",
       "  <thead>\n",
       "    <tr style=\"text-align: right;\">\n",
       "      <th></th>\n",
       "      <th>CustomerID</th>\n",
       "      <th>Entropy</th>\n",
       "    </tr>\n",
       "  </thead>\n",
       "  <tbody>\n",
       "    <tr>\n",
       "      <th>0</th>\n",
       "      <td>12347</td>\n",
       "      <td>-14642.853340</td>\n",
       "    </tr>\n",
       "    <tr>\n",
       "      <th>1</th>\n",
       "      <td>12348</td>\n",
       "      <td>-15464.124169</td>\n",
       "    </tr>\n",
       "    <tr>\n",
       "      <th>2</th>\n",
       "      <td>12349</td>\n",
       "      <td>-4060.803486</td>\n",
       "    </tr>\n",
       "    <tr>\n",
       "      <th>3</th>\n",
       "      <td>12350</td>\n",
       "      <td>-1040.791135</td>\n",
       "    </tr>\n",
       "    <tr>\n",
       "      <th>4</th>\n",
       "      <td>12352</td>\n",
       "      <td>-2359.276847</td>\n",
       "    </tr>\n",
       "    <tr>\n",
       "      <th>...</th>\n",
       "      <td>...</td>\n",
       "      <td>...</td>\n",
       "    </tr>\n",
       "    <tr>\n",
       "      <th>4321</th>\n",
       "      <td>18280</td>\n",
       "      <td>-171.299812</td>\n",
       "    </tr>\n",
       "    <tr>\n",
       "      <th>4322</th>\n",
       "      <td>18281</td>\n",
       "      <td>-215.405139</td>\n",
       "    </tr>\n",
       "    <tr>\n",
       "      <th>4323</th>\n",
       "      <td>18282</td>\n",
       "      <td>-417.113335</td>\n",
       "    </tr>\n",
       "    <tr>\n",
       "      <th>4324</th>\n",
       "      <td>18283</td>\n",
       "      <td>-6354.286026</td>\n",
       "    </tr>\n",
       "    <tr>\n",
       "      <th>4325</th>\n",
       "      <td>18287</td>\n",
       "      <td>-10355.271984</td>\n",
       "    </tr>\n",
       "  </tbody>\n",
       "</table>\n",
       "<p>4326 rows × 2 columns</p>\n",
       "</div>"
      ],
      "text/plain": [
       "      CustomerID       Entropy\n",
       "0          12347 -14642.853340\n",
       "1          12348 -15464.124169\n",
       "2          12349  -4060.803486\n",
       "3          12350  -1040.791135\n",
       "4          12352  -2359.276847\n",
       "...          ...           ...\n",
       "4321       18280   -171.299812\n",
       "4322       18281   -215.405139\n",
       "4323       18282   -417.113335\n",
       "4324       18283  -6354.286026\n",
       "4325       18287 -10355.271984\n",
       "\n",
       "[4326 rows x 2 columns]"
      ]
     },
     "execution_count": 73,
     "metadata": {},
     "output_type": "execute_result"
    }
   ],
   "source": [
    "df_temp = df.groupby([\"CustomerID\", \"BasketID\"]).Qta.sum().reset_index()\n",
    "values = df_temp[\"Qta\"]\n",
    "df_temp['Entropy'] = -(values*np.log(values))\n",
    "df_entropy = df_temp.groupby('CustomerID')['Entropy'].sum().reset_index()\n",
    "# to remove nan values caused by logs\n",
    "df_entropy['Entropy'] = df_entropy['Entropy'].fillna(0)\n",
    "\n",
    "\n",
    "df_entropy"
   ]
  },
  {
   "cell_type": "markdown",
   "metadata": {},
   "source": [
    "### Putting together all indicators"
   ]
  },
  {
   "cell_type": "code",
   "execution_count": 74,
   "metadata": {},
   "outputs": [
    {
     "name": "stdout",
     "output_type": "stream",
     "text": [
      "   CustomerID       Entropy  imax   iu     i\n",
      "0       12347 -14642.853340   319  103  2458\n",
      "1       12348 -15464.124169  1254   22  2341\n",
      "2       12349  -4060.803486   630   72   630\n",
      "3       12350  -1040.791135   197   17   197\n",
      "4       12352  -2359.276847    98   58   533\n"
     ]
    }
   ],
   "source": [
    "frames = [df_entropy, df_imax.Qta, df_iu.ProdID, df_i.Qta]\n",
    "indicators = pd.concat(frames, join='outer', axis=1)\n",
    "indicators.columns = (\"CustomerID\", \"Entropy\", \"imax\", \"iu\", \"i\")\n",
    "print(indicators.head())\n",
    "\n",
    "indicators.to_csv(\"../dataset/indicators.csv\")"
   ]
  },
  {
   "cell_type": "markdown",
   "metadata": {},
   "source": [
    "# Additional indicators"
   ]
  },
  {
   "cell_type": "markdown",
   "metadata": {},
   "source": [
    "### Customer Spending Profile \n",
    "we categorize each customer as either low, medium, or high spending according to their average expense"
   ]
  },
  {
   "cell_type": "code",
   "execution_count": 75,
   "metadata": {},
   "outputs": [
    {
     "name": "stdout",
     "output_type": "stream",
     "text": [
      "range(0, 1050, 50)\n"
     ]
    },
    {
     "data": {
      "image/png": "[encoded data removed]",
      "text/plain": [
       "<Figure size 432x288 with 1 Axes>"
      ]
     },
     "metadata": {
      "needs_background": "light"
     },
     "output_type": "display_data"
    },
    {
     "data": {
      "text/plain": [
       "CustomerID\n",
       "12347      high\n",
       "12348    medium\n",
       "12349      high\n",
       "12350       low\n",
       "12352      high\n",
       "          ...  \n",
       "18280       low\n",
       "18281       low\n",
       "18282       low\n",
       "18283      high\n",
       "18287    medium\n",
       "Name: Sale, Length: 4326, dtype: category\n",
       "Categories (3, object): ['low' < 'medium' < 'high']"
      ]
     },
     "execution_count": 75,
     "metadata": {},
     "output_type": "execute_result"
    }
   ],
   "source": [
    "df_profile = df.groupby([\"CustomerID\"]).agg({\"Sale\":sum, \"Qta\":sum})\n",
    "\n",
    "binwidth = 50\n",
    "bins=range(0, 1000 + binwidth, binwidth)\n",
    "print(bins)\n",
    "n, bins, patches = plt.hist(df_profile.Sale, bins=bins, facecolor='blue', alpha=0.5)\n",
    "plt.show()\n",
    "\n",
    "spending_profile = pd.cut(df_profile['Sale'], bins=[0, 100, 300, df_profile.Sale.max()], include_lowest=True, labels=[\"low\", \"medium\", \"high\"])\n",
    "spending_profile"
   ]
  },
  {
   "cell_type": "markdown",
   "metadata": {},
   "source": [
    "### The average cost of a basket"
   ]
  },
  {
   "cell_type": "code",
   "execution_count": 76,
   "metadata": {},
   "outputs": [
    {
     "name": "stdout",
     "output_type": "stream",
     "text": [
      "range(0, 450, 50)\n"
     ]
    },
    {
     "data": {
      "image/png": "[encoded data removed]",
      "text/plain": [
       "<Figure size 432x288 with 1 Axes>"
      ]
     },
     "metadata": {
      "needs_background": "light"
     },
     "output_type": "display_data"
    },
    {
     "data": {
      "text/plain": [
       "CustomerID\n",
       "12347    medium\n",
       "12348       low\n",
       "12349      high\n",
       "12350    medium\n",
       "12352    medium\n",
       "          ...  \n",
       "18280       low\n",
       "18281       low\n",
       "18282       low\n",
       "18283    medium\n",
       "18287       low\n",
       "Name: Sale, Length: 4326, dtype: category\n",
       "Categories (3, object): ['low' < 'medium' < 'high']"
      ]
     },
     "execution_count": 76,
     "metadata": {},
     "output_type": "execute_result"
    }
   ],
   "source": [
    "df_customer_basket_groupby_sum = df.groupby([\"CustomerID\",'BasketID'], as_index=False).agg({\"Sale\":sum})\n",
    "\n",
    "series_customer_basket_groupby_mean = df_customer_basket_groupby_sum.groupby('CustomerID')['Sale'].mean()\n",
    "df_customer_basket_groupby_mean = pd.DataFrame(df_customer_basket_groupby_mean)\n",
    "\n",
    "binwidth = 50\n",
    "bins=range(0, 400 + binwidth, binwidth)\n",
    "print(bins)\n",
    "n, bins, patches = plt.hist(df_customer_basket_groupby_mean.Sale, bins=bins, facecolor='blue', alpha=0.5)\n",
    "plt.show()\n",
    "\n",
    "basket_cost_profile = pd.cut(df_customer_basket_groupby_mean['Sale'], bins=[0, 50, 200, df_customer_basket_groupby_mean.Sale.max()], include_lowest=True, labels=[\"low\", \"medium\", \"high\"])\n",
    "basket_cost_profile"
   ]
  },
  {
   "cell_type": "markdown",
   "metadata": {},
   "source": [
    "### Sales per country\n",
    "(is this even an indicator?)"
   ]
  },
  {
   "cell_type": "code",
   "execution_count": 77,
   "metadata": {},
   "outputs": [
    {
     "name": "stdout",
     "output_type": "stream",
     "text": [
      "         CustomerCountry           Sale\n",
      "0              Australia    3253.410000\n",
      "1                Austria    1693.900000\n",
      "2                Bahrain      78.950000\n",
      "3                Belgium    7372.850000\n",
      "4                 Brazil     142.600000\n",
      "5                 Canada     359.640000\n",
      "6        Channel Islands    3095.000000\n",
      "7                 Cyprus    3145.460000\n",
      "8         Czech Republic      78.270000\n",
      "9                Denmark    1195.550000\n",
      "10                  EIRE   28760.040000\n",
      "11    European Community     289.800000\n",
      "12               Finland    3352.840000\n",
      "13                France   27346.770000\n",
      "14               Germany   30270.790000\n",
      "15                Greece     663.290000\n",
      "16               Iceland     481.210000\n",
      "17                Israel     898.590000\n",
      "18                 Italy    3276.210000\n",
      "19                 Japan     651.080000\n",
      "20               Lebanon     242.440000\n",
      "21             Lithuania      99.440000\n",
      "22                 Malta     545.190000\n",
      "23           Netherlands    6240.850000\n",
      "24                Norway    4122.170000\n",
      "25                Poland    1377.210000\n",
      "26              Portugal    4414.990000\n",
      "27                   RSA     248.100000\n",
      "28          Saudi Arabia      21.160000\n",
      "29             Singapore     791.090000\n",
      "30                 Spain    9492.390000\n",
      "31                Sweden    1693.040000\n",
      "32           Switzerland    6389.270000\n",
      "33                   USA     413.300000\n",
      "34  United Arab Emirates     229.890000\n",
      "35        United Kingdom  998814.553999\n",
      "36           Unspecified     775.950000\n"
     ]
    }
   ],
   "source": [
    "df_sales_per_country = df.groupby([\"CustomerCountry\"])[\"Sale\"].sum().reset_index()\n",
    "print(df_sales_per_country)"
   ]
  },
  {
   "cell_type": "code",
   "execution_count": 78,
   "metadata": {},
   "outputs": [
    {
     "data": {
      "image/png": "[encoded data removed]",
      "text/plain": [
       "<Figure size 432x288 with 1 Axes>"
      ]
     },
     "metadata": {},
     "output_type": "display_data"
    }
   ],
   "source": [
    "# the pie plot is horrible because of england, that probably has some outliers\n",
    "#explode=np.zeros(len(df_sales_per_country.CustomerCountry))\n",
    "\n",
    "plt.pie(df_sales_per_country.Sale, labels=df_sales_per_country.CustomerCountry, autopct='%1.1f%%')\n",
    "plt.show()"
   ]
  },
  {
   "cell_type": "markdown",
   "metadata": {},
   "source": [
    "### Most bought items"
   ]
  },
  {
   "cell_type": "code",
   "execution_count": 79,
   "metadata": {},
   "outputs": [
    {
     "data": {
      "text/html": [
       "<div>\n",
       "<style scoped>\n",
       "    .dataframe tbody tr th:only-of-type {\n",
       "        vertical-align: middle;\n",
       "    }\n",
       "\n",
       "    .dataframe tbody tr th {\n",
       "        vertical-align: top;\n",
       "    }\n",
       "\n",
       "    .dataframe thead th {\n",
       "        text-align: right;\n",
       "    }\n",
       "</style>\n",
       "<table border=\"1\" class=\"dataframe\">\n",
       "  <thead>\n",
       "    <tr style=\"text-align: right;\">\n",
       "      <th></th>\n",
       "      <th>ProdID</th>\n",
       "      <th>ProdDescr</th>\n",
       "      <th>BasketID</th>\n",
       "      <th>Qta</th>\n",
       "      <th>Sale</th>\n",
       "      <th>CustomerID</th>\n",
       "      <th>Outlier</th>\n",
       "    </tr>\n",
       "  </thead>\n",
       "  <tbody>\n",
       "    <tr>\n",
       "      <th>3217</th>\n",
       "      <td>85099B</td>\n",
       "      <td>JUMBO BAG RED RETROSPOT</td>\n",
       "      <td>893874571</td>\n",
       "      <td>42878</td>\n",
       "      <td>3250.56</td>\n",
       "      <td>24412182</td>\n",
       "      <td>0</td>\n",
       "    </tr>\n",
       "    <tr>\n",
       "      <th>1088</th>\n",
       "      <td>22197</td>\n",
       "      <td>POPCORN HOLDER</td>\n",
       "      <td>576233724</td>\n",
       "      <td>35268</td>\n",
       "      <td>883.80</td>\n",
       "      <td>15843335</td>\n",
       "      <td>0</td>\n",
       "    </tr>\n",
       "    <tr>\n",
       "      <th>2802</th>\n",
       "      <td>84077</td>\n",
       "      <td>WORLD WAR 2 GLIDERS ASSTD DESIGNS</td>\n",
       "      <td>258666735</td>\n",
       "      <td>34351</td>\n",
       "      <td>135.83</td>\n",
       "      <td>7039020</td>\n",
       "      <td>0</td>\n",
       "    </tr>\n",
       "    <tr>\n",
       "      <th>3231</th>\n",
       "      <td>85123A</td>\n",
       "      <td>WHITE HANGING HEART T-LIGHT HOLDER</td>\n",
       "      <td>1098920835</td>\n",
       "      <td>30901</td>\n",
       "      <td>5840.68</td>\n",
       "      <td>30691264</td>\n",
       "      <td>0</td>\n",
       "    </tr>\n",
       "    <tr>\n",
       "      <th>3057</th>\n",
       "      <td>84879</td>\n",
       "      <td>ASSORTED COLOUR BIRD ORNAMENT</td>\n",
       "      <td>767400468</td>\n",
       "      <td>30215</td>\n",
       "      <td>2340.24</td>\n",
       "      <td>20893961</td>\n",
       "      <td>0</td>\n",
       "    </tr>\n",
       "    <tr>\n",
       "      <th>...</th>\n",
       "      <td>...</td>\n",
       "      <td>...</td>\n",
       "      <td>...</td>\n",
       "      <td>...</td>\n",
       "      <td>...</td>\n",
       "      <td>...</td>\n",
       "      <td>...</td>\n",
       "    </tr>\n",
       "    <tr>\n",
       "      <th>2415</th>\n",
       "      <td>35597B</td>\n",
       "      <td>BLACKCHRISTMAS TREE 30CM</td>\n",
       "      <td>537335</td>\n",
       "      <td>1</td>\n",
       "      <td>1.25</td>\n",
       "      <td>15048</td>\n",
       "      <td>0</td>\n",
       "    </tr>\n",
       "    <tr>\n",
       "      <th>2414</th>\n",
       "      <td>35597A</td>\n",
       "      <td>DUSTY PINK CHRISTMAS TREE 30CM</td>\n",
       "      <td>537335</td>\n",
       "      <td>1</td>\n",
       "      <td>1.25</td>\n",
       "      <td>15048</td>\n",
       "      <td>0</td>\n",
       "    </tr>\n",
       "    <tr>\n",
       "      <th>3403</th>\n",
       "      <td>90039C</td>\n",
       "      <td>FIRE POLISHED GLASS BRACELET BLACK</td>\n",
       "      <td>543535</td>\n",
       "      <td>1</td>\n",
       "      <td>3.75</td>\n",
       "      <td>17537</td>\n",
       "      <td>0</td>\n",
       "    </tr>\n",
       "    <tr>\n",
       "      <th>2404</th>\n",
       "      <td>35004P</td>\n",
       "      <td>SET OF 3 PINK FLYING DUCKS</td>\n",
       "      <td>538307</td>\n",
       "      <td>1</td>\n",
       "      <td>5.45</td>\n",
       "      <td>14667</td>\n",
       "      <td>0</td>\n",
       "    </tr>\n",
       "    <tr>\n",
       "      <th>2975</th>\n",
       "      <td>84743C</td>\n",
       "      <td>ORANGE FELT VASE + FLOWERS</td>\n",
       "      <td>548492</td>\n",
       "      <td>1</td>\n",
       "      <td>1.25</td>\n",
       "      <td>17841</td>\n",
       "      <td>0</td>\n",
       "    </tr>\n",
       "  </tbody>\n",
       "</table>\n",
       "<p>3663 rows × 7 columns</p>\n",
       "</div>"
      ],
      "text/plain": [
       "      ProdID                           ProdDescr    BasketID    Qta     Sale  \\\n",
       "3217  85099B             JUMBO BAG RED RETROSPOT   893874571  42878  3250.56   \n",
       "1088   22197                      POPCORN HOLDER   576233724  35268   883.80   \n",
       "2802   84077   WORLD WAR 2 GLIDERS ASSTD DESIGNS   258666735  34351   135.83   \n",
       "3231  85123A  WHITE HANGING HEART T-LIGHT HOLDER  1098920835  30901  5840.68   \n",
       "3057   84879       ASSORTED COLOUR BIRD ORNAMENT   767400468  30215  2340.24   \n",
       "...      ...                                 ...         ...    ...      ...   \n",
       "2415  35597B            BLACKCHRISTMAS TREE 30CM      537335      1     1.25   \n",
       "2414  35597A      DUSTY PINK CHRISTMAS TREE 30CM      537335      1     1.25   \n",
       "3403  90039C  FIRE POLISHED GLASS BRACELET BLACK      543535      1     3.75   \n",
       "2404  35004P          SET OF 3 PINK FLYING DUCKS      538307      1     5.45   \n",
       "2975  84743C          ORANGE FELT VASE + FLOWERS      548492      1     1.25   \n",
       "\n",
       "      CustomerID  Outlier  \n",
       "3217    24412182        0  \n",
       "1088    15843335        0  \n",
       "2802     7039020        0  \n",
       "3231    30691264        0  \n",
       "3057    20893961        0  \n",
       "...          ...      ...  \n",
       "2415       15048        0  \n",
       "2414       15048        0  \n",
       "3403       17537        0  \n",
       "2404       14667        0  \n",
       "2975       17841        0  \n",
       "\n",
       "[3663 rows x 7 columns]"
      ]
     },
     "execution_count": 79,
     "metadata": {},
     "output_type": "execute_result"
    }
   ],
   "source": [
    "cols_dropped = [2, 3, 6]\n",
    "df_most_bought = df.groupby([\"ProdID\", \"ProdDescr\"]).sum().reset_index()\n",
    "#df_most_bought = df_most_bought.drop(df_most_bought.columns[cols_dropped], axis=1)\n",
    "df_most_bought = df_most_bought.sort_values(by=\"Qta\", ascending=False)\n",
    "#df_most_bought = df_most_bought.groupby(level=0).head(1).reset_index()\n",
    "df_most_bought \n",
    "\n",
    "#print(df[df.ProdDescr == \"Discount\"])"
   ]
  },
  {
   "cell_type": "code",
   "execution_count": 80,
   "metadata": {},
   "outputs": [
    {
     "data": {
      "image/png": "[encoded data removed]",
      "text/plain": [
       "<Figure size 432x288 with 1 Axes>"
      ]
     },
     "metadata": {},
     "output_type": "display_data"
    }
   ],
   "source": [
    "plt.pie(df_most_bought[:10].Qta, labels=df_most_bought[:10].ProdDescr, autopct='%1.1f%%')\n",
    "plt.savefig(\"../output/most_bought_item_piechart.png\")\n",
    "plt.show()"
   ]
  },
  {
   "cell_type": "markdown",
   "metadata": {},
   "source": [
    "### Most bought item per country\n"
   ]
  },
  {
   "cell_type": "code",
   "execution_count": 81,
   "metadata": {},
   "outputs": [
    {
     "name": "stdout",
     "output_type": "stream",
     "text": [
      "    index  ProdID                            ProdDescr       CustomerCountry  \\\n",
      "0     135   16008  SMALL FOLDING SCISSOR(POINTED EDGE)                Norway   \n",
      "1     661   20719               WOODLAND CHARLOTTE BAG                Israel   \n",
      "2    1966   21212      PACK OF 72 RETROSPOT CAKE CASES               Belgium   \n",
      "3    2100   21232       STRAWBERRY CERAMIC TRINKET BOX                Poland   \n",
      "4    2677   21430   SET/3 RED GINGHAM ROSE STORAGE BOX                Brazil   \n",
      "..    ...     ...                                  ...                   ...   \n",
      "57  17625  84971S            SMALL HEART FLOWERS HOOK                 Brazil   \n",
      "58  17770  84997D      CHILDRENS CUTLERY POLKADOT PINK               Finland   \n",
      "59  17780  84997D      CHILDRENS CUTLERY POLKADOT PINK                 Spain   \n",
      "60  18102  85099B              JUMBO BAG RED RETROSPOT        United Kingdom   \n",
      "61  18418   85215       ASSORTED CHEESE FRIDGE MAGNETS  United Arab Emirates   \n",
      "\n",
      "     BasketID    Qta  CustomerID  Outlier  \n",
      "0     2300398    576       49732        0  \n",
      "1     1667669    120       37994        0  \n",
      "2     6671474    480      149713        0  \n",
      "3     3291002    168       76674        0  \n",
      "4      550201     24       12769        0  \n",
      "..        ...    ...         ...      ...  \n",
      "57     550201     24       12769        0  \n",
      "58    5658490    552      126318        0  \n",
      "59    3347840   1089       79577        0  \n",
      "60  808275113  38678    22403922        0  \n",
      "61     543911     72       17829        0  \n",
      "\n",
      "[62 rows x 8 columns]\n"
     ]
    }
   ],
   "source": [
    "#cols_dropped = [3, 4, 7]\n",
    "df_mb_country = df.groupby([\"ProdID\", \"ProdDescr\", \"CustomerCountry\"]).sum().reset_index()\n",
    "df_mb_country = df_mb_country.drop([\"Sale\"], axis = 1)\n",
    "\n",
    "df_mb_country = df_mb_country[df_mb_country.groupby([\"CustomerCountry\"])[\"Qta\"].transform(\"max\") == df_mb_country[\"Qta\"]].reset_index()\n",
    "\n",
    "#df_mb_country = df_mb_country.groupby([\"CustomerCountry\"]).agg({\"Qta\" : \"max\"}).reset_index()\n",
    "#print(df_mb_country.CustomerCountry.unique())\n",
    "\n",
    "\n",
    "print(df_mb_country)\n"
   ]
  },
  {
   "cell_type": "markdown",
   "metadata": {},
   "source": [
    "### Linear Graphs"
   ]
  },
  {
   "cell_type": "code",
   "execution_count": 82,
   "metadata": {},
   "outputs": [
    {
     "name": "stdout",
     "output_type": "stream",
     "text": [
      "2010-01-12 08:26:00 2011-12-10 17:19:00\n"
     ]
    }
   ],
   "source": [
    "# start and end datetimes\n",
    "print(df.BasketDate.min(), df.BasketDate.max())"
   ]
  },
  {
   "cell_type": "code",
   "execution_count": 83,
   "metadata": {},
   "outputs": [
    {
     "data": {
      "text/plain": [
       "[<matplotlib.lines.Line2D at 0x7fe40e8e5bb0>]"
      ]
     },
     "execution_count": 83,
     "metadata": {},
     "output_type": "execute_result"
    },
    {
     "data": {
      "image/png": "[encoded data removed]",
      "text/plain": [
       "<Figure size 1152x360 with 1 Axes>"
      ]
     },
     "metadata": {
      "needs_background": "light"
     },
     "output_type": "display_data"
    }
   ],
   "source": [
    "weekly = df.set_index(\"BasketDate\").copy()\n",
    "weekly = weekly.groupby(pd.Grouper(freq='M'))[\"Qta\"].sum()\n",
    "\n",
    "#print(weekly)\n",
    "\n",
    "plt.figure(figsize=(16,5))\n",
    "plt.plot(weekly.index, weekly, color='tab:blue', marker=\"o\")"
   ]
  },
  {
   "cell_type": "code",
   "execution_count": null,
   "metadata": {},
   "outputs": [],
   "source": []
  }
 ],
 "metadata": {
  "kernelspec": {
   "display_name": "Python 3",
   "language": "python",
   "name": "python3"
  },
  "language_info": {
   "codemirror_mode": {
    "name": "ipython",
    "version": 3
   },
   "file_extension": ".py",
   "mimetype": "text/x-python",
   "name": "python",
   "nbconvert_exporter": "python",
   "pygments_lexer": "ipython3",
   "version": "3.8.5"
  }
 },
 "nbformat": 4,
 "nbformat_minor": 4
}
