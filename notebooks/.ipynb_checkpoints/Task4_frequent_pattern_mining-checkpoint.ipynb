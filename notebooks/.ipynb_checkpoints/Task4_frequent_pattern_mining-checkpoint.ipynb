{
 "cells": [
  {
   "cell_type": "code",
   "execution_count": 295,
   "metadata": {},
   "outputs": [
    {
     "name": "stdout",
     "output_type": "stream",
     "text": [
      "  BasketID           BasketDate  ProdID  Qta  Sale  CustomerID  \\\n",
      "0   536365  2010-01-12 08:26:00   21730    6  4.25       17850   \n",
      "1   536365  2010-01-12 08:26:00   22752    2  7.65       17850   \n",
      "2   536365  2010-01-12 08:26:00   71053    6  3.39       17850   \n",
      "3   536365  2010-01-12 08:26:00  84029E    6  3.39       17850   \n",
      "4   536365  2010-01-12 08:26:00  84029G    6  3.39       17850   \n",
      "\n",
      "  CustomerCountry                            ProdDescr  \n",
      "0  United Kingdom    GLASS STAR FROSTED T-LIGHT HOLDER  \n",
      "1  United Kingdom         SET 7 BABUSHKA NESTING BOXES  \n",
      "2  United Kingdom                  WHITE METAL LANTERN  \n",
      "3  United Kingdom       RED WOOLLY HOTTIE WHITE HEART.  \n",
      "4  United Kingdom  KNITTED UNION FLAG HOT WATER BOTTLE  \n"
     ]
    },
    {
     "name": "stderr",
     "output_type": "stream",
     "text": [
      "/Users/tommasocolella/opt/anaconda3/lib/python3.7/site-packages/IPython/core/interactiveshell.py:3063: DtypeWarning: Columns (0) have mixed types.Specify dtype option on import or set low_memory=False.\n",
      "  interactivity=interactivity, compiler=compiler, result=result)\n"
     ]
    }
   ],
   "source": [
    "import pandas as pd\n",
    "\n",
    "NO_OUTLIER = \"../dataset/customer_supermarket_no_outlier.csv\"\n",
    "\n",
    "data = pd.read_csv(NO_OUTLIER)\n",
    "print(data.head())"
   ]
  },
  {
   "cell_type": "code",
   "execution_count": 296,
   "metadata": {},
   "outputs": [],
   "source": [
    "baskets = data.groupby([\"BasketID\", \"CustomerID\"]).agg({\"BasketDate\" : min, \"Qta\" : sum})"
   ]
  },
  {
   "cell_type": "code",
   "execution_count": 297,
   "metadata": {},
   "outputs": [],
   "source": [
    "baskets = data.groupby([\"CustomerID\"])[\"BasketID\"].apply(list)\n"
   ]
  },
  {
   "cell_type": "code",
   "execution_count": 298,
   "metadata": {},
   "outputs": [
    {
     "name": "stdout",
     "output_type": "stream",
     "text": [
      "CustomerID\n",
      "12347    [537626, 537626, 537626, 537626, 537626, 53762...\n",
      "12348    [539318, 539318, 539318, 539318, 539318, 53931...\n",
      "12350    [543037, 543037, 543037, 543037, 543037, 54303...\n",
      "12352    [544156, 544156, 544156, 544156, 544156, 54415...\n",
      "12353                     [553900, 553900, 553900, 553900]\n",
      "                               ...                        \n",
      "18280    [545712, 545712, 545712, 545712, 545712, 54571...\n",
      "18281    [556464, 556464, 556464, 556464, 556464, 55646...\n",
      "18282    [562525, 562525, 562525, 562525, 562525, 56252...\n",
      "18283    [540350, 540350, 540350, 540350, 540350, 54035...\n",
      "18287    [554065, 554065, 554065, 554065, 554065, 55406...\n",
      "Name: BasketID, Length: 4183, dtype: object\n"
     ]
    }
   ],
   "source": [
    "print(baskets)"
   ]
  },
  {
   "cell_type": "code",
   "execution_count": 299,
   "metadata": {},
   "outputs": [
    {
     "data": {
      "text/plain": [
       "4183"
      ]
     },
     "execution_count": 299,
     "metadata": {},
     "output_type": "execute_result"
    }
   ],
   "source": [
    "len(data.CustomerID.unique())"
   ]
  },
  {
   "cell_type": "code",
   "execution_count": 300,
   "metadata": {},
   "outputs": [],
   "source": [
    "ids = data[\"CustomerID\"].unique()"
   ]
  },
  {
   "cell_type": "code",
   "execution_count": 301,
   "metadata": {},
   "outputs": [
    {
     "name": "stdout",
     "output_type": "stream",
     "text": [
      "<class 'pandas.core.frame.DataFrame'>\n"
     ]
    }
   ],
   "source": [
    "print(type(data))"
   ]
  },
  {
   "cell_type": "code",
   "execution_count": 302,
   "metadata": {},
   "outputs": [
    {
     "name": "stdout",
     "output_type": "stream",
     "text": [
      "<class 'list'>\n"
     ]
    }
   ],
   "source": [
    "import numpy as np\n",
    "\n",
    "samples = list(np.random.choice(ids, 1600))\n",
    "print(type(samples))\n",
    "data_filtered = data[data[\"CustomerID\"].isin(samples)]"
   ]
  },
  {
   "cell_type": "code",
   "execution_count": 303,
   "metadata": {},
   "outputs": [
    {
     "data": {
      "text/html": [
       "<div>\n",
       "<style scoped>\n",
       "    .dataframe tbody tr th:only-of-type {\n",
       "        vertical-align: middle;\n",
       "    }\n",
       "\n",
       "    .dataframe tbody tr th {\n",
       "        vertical-align: top;\n",
       "    }\n",
       "\n",
       "    .dataframe thead th {\n",
       "        text-align: right;\n",
       "    }\n",
       "</style>\n",
       "<table border=\"1\" class=\"dataframe\">\n",
       "  <thead>\n",
       "    <tr style=\"text-align: right;\">\n",
       "      <th></th>\n",
       "      <th>BasketID</th>\n",
       "      <th>BasketDate</th>\n",
       "      <th>ProdID</th>\n",
       "      <th>Qta</th>\n",
       "      <th>Sale</th>\n",
       "      <th>CustomerID</th>\n",
       "      <th>CustomerCountry</th>\n",
       "      <th>ProdDescr</th>\n",
       "    </tr>\n",
       "  </thead>\n",
       "  <tbody>\n",
       "    <tr>\n",
       "      <th>0</th>\n",
       "      <td>536365</td>\n",
       "      <td>2010-01-12 08:26:00</td>\n",
       "      <td>21730</td>\n",
       "      <td>6</td>\n",
       "      <td>4.25</td>\n",
       "      <td>17850</td>\n",
       "      <td>United Kingdom</td>\n",
       "      <td>GLASS STAR FROSTED T-LIGHT HOLDER</td>\n",
       "    </tr>\n",
       "    <tr>\n",
       "      <th>1</th>\n",
       "      <td>536365</td>\n",
       "      <td>2010-01-12 08:26:00</td>\n",
       "      <td>22752</td>\n",
       "      <td>2</td>\n",
       "      <td>7.65</td>\n",
       "      <td>17850</td>\n",
       "      <td>United Kingdom</td>\n",
       "      <td>SET 7 BABUSHKA NESTING BOXES</td>\n",
       "    </tr>\n",
       "    <tr>\n",
       "      <th>2</th>\n",
       "      <td>536365</td>\n",
       "      <td>2010-01-12 08:26:00</td>\n",
       "      <td>71053</td>\n",
       "      <td>6</td>\n",
       "      <td>3.39</td>\n",
       "      <td>17850</td>\n",
       "      <td>United Kingdom</td>\n",
       "      <td>WHITE METAL LANTERN</td>\n",
       "    </tr>\n",
       "    <tr>\n",
       "      <th>3</th>\n",
       "      <td>536365</td>\n",
       "      <td>2010-01-12 08:26:00</td>\n",
       "      <td>84029E</td>\n",
       "      <td>6</td>\n",
       "      <td>3.39</td>\n",
       "      <td>17850</td>\n",
       "      <td>United Kingdom</td>\n",
       "      <td>RED WOOLLY HOTTIE WHITE HEART.</td>\n",
       "    </tr>\n",
       "    <tr>\n",
       "      <th>4</th>\n",
       "      <td>536365</td>\n",
       "      <td>2010-01-12 08:26:00</td>\n",
       "      <td>84029G</td>\n",
       "      <td>6</td>\n",
       "      <td>3.39</td>\n",
       "      <td>17850</td>\n",
       "      <td>United Kingdom</td>\n",
       "      <td>KNITTED UNION FLAG HOT WATER BOTTLE</td>\n",
       "    </tr>\n",
       "    <tr>\n",
       "      <th>...</th>\n",
       "      <td>...</td>\n",
       "      <td>...</td>\n",
       "      <td>...</td>\n",
       "      <td>...</td>\n",
       "      <td>...</td>\n",
       "      <td>...</td>\n",
       "      <td>...</td>\n",
       "      <td>...</td>\n",
       "    </tr>\n",
       "    <tr>\n",
       "      <th>300467</th>\n",
       "      <td>581570</td>\n",
       "      <td>2011-09-12 11:59:00</td>\n",
       "      <td>POST</td>\n",
       "      <td>1</td>\n",
       "      <td>18.00</td>\n",
       "      <td>12662</td>\n",
       "      <td>Germany</td>\n",
       "      <td>POSTAGE</td>\n",
       "    </tr>\n",
       "    <tr>\n",
       "      <th>300603</th>\n",
       "      <td>C543752</td>\n",
       "      <td>2011-11-02 14:12:00</td>\n",
       "      <td>D</td>\n",
       "      <td>-1</td>\n",
       "      <td>64.27</td>\n",
       "      <td>14031</td>\n",
       "      <td>United Kingdom</td>\n",
       "      <td>Discount</td>\n",
       "    </tr>\n",
       "    <tr>\n",
       "      <th>300604</th>\n",
       "      <td>C552650</td>\n",
       "      <td>2011-10-05 14:03:00</td>\n",
       "      <td>D</td>\n",
       "      <td>-18</td>\n",
       "      <td>1.45</td>\n",
       "      <td>16672</td>\n",
       "      <td>United Kingdom</td>\n",
       "      <td>Discount</td>\n",
       "    </tr>\n",
       "    <tr>\n",
       "      <th>300605</th>\n",
       "      <td>C555597</td>\n",
       "      <td>2011-06-06 10:19:00</td>\n",
       "      <td>D</td>\n",
       "      <td>-1</td>\n",
       "      <td>42.00</td>\n",
       "      <td>15796</td>\n",
       "      <td>United Kingdom</td>\n",
       "      <td>Discount</td>\n",
       "    </tr>\n",
       "    <tr>\n",
       "      <th>300607</th>\n",
       "      <td>C578239</td>\n",
       "      <td>2011-11-23 12:29:00</td>\n",
       "      <td>D</td>\n",
       "      <td>-1</td>\n",
       "      <td>26.33</td>\n",
       "      <td>14912</td>\n",
       "      <td>Italy</td>\n",
       "      <td>Discount</td>\n",
       "    </tr>\n",
       "  </tbody>\n",
       "</table>\n",
       "<p>97596 rows × 8 columns</p>\n",
       "</div>"
      ],
      "text/plain": [
       "       BasketID           BasketDate  ProdID  Qta   Sale  CustomerID  \\\n",
       "0        536365  2010-01-12 08:26:00   21730    6   4.25       17850   \n",
       "1        536365  2010-01-12 08:26:00   22752    2   7.65       17850   \n",
       "2        536365  2010-01-12 08:26:00   71053    6   3.39       17850   \n",
       "3        536365  2010-01-12 08:26:00  84029E    6   3.39       17850   \n",
       "4        536365  2010-01-12 08:26:00  84029G    6   3.39       17850   \n",
       "...         ...                  ...     ...  ...    ...         ...   \n",
       "300467   581570  2011-09-12 11:59:00    POST    1  18.00       12662   \n",
       "300603  C543752  2011-11-02 14:12:00       D   -1  64.27       14031   \n",
       "300604  C552650  2011-10-05 14:03:00       D  -18   1.45       16672   \n",
       "300605  C555597  2011-06-06 10:19:00       D   -1  42.00       15796   \n",
       "300607  C578239  2011-11-23 12:29:00       D   -1  26.33       14912   \n",
       "\n",
       "       CustomerCountry                            ProdDescr  \n",
       "0       United Kingdom    GLASS STAR FROSTED T-LIGHT HOLDER  \n",
       "1       United Kingdom         SET 7 BABUSHKA NESTING BOXES  \n",
       "2       United Kingdom                  WHITE METAL LANTERN  \n",
       "3       United Kingdom       RED WOOLLY HOTTIE WHITE HEART.  \n",
       "4       United Kingdom  KNITTED UNION FLAG HOT WATER BOTTLE  \n",
       "...                ...                                  ...  \n",
       "300467         Germany                              POSTAGE  \n",
       "300603  United Kingdom                             Discount  \n",
       "300604  United Kingdom                             Discount  \n",
       "300605  United Kingdom                             Discount  \n",
       "300607           Italy                             Discount  \n",
       "\n",
       "[97596 rows x 8 columns]"
      ]
     },
     "execution_count": 303,
     "metadata": {},
     "output_type": "execute_result"
    }
   ],
   "source": [
    "data_filtered"
   ]
  },
  {
   "cell_type": "code",
   "execution_count": 304,
   "metadata": {},
   "outputs": [],
   "source": [
    "baskets = data.groupby([\"BasketID\", \"CustomerID\"])[\"ProdID\"].apply(list)"
   ]
  },
  {
   "cell_type": "code",
   "execution_count": 305,
   "metadata": {},
   "outputs": [
    {
     "name": "stdout",
     "output_type": "stream",
     "text": [
      "BasketID  CustomerID\n",
      "536365    17850         [21730, 22752, 71053, 84029E, 84029G, 84406B, ...\n",
      "536366    17850                                                   [22633]\n",
      "536367    13047         [21754, 21755, 21777, 22310, 22622, 22623, 227...\n",
      "536368    13047                              [22912, 22913, 22914, 22960]\n",
      "536369    13047                                                   [21756]\n",
      "                                              ...                        \n",
      "C543752   14031                                                       [D]\n",
      "C552650   16672                                                       [D]\n",
      "C555597   15796                                                       [D]\n",
      "C576244   18167                                                       [D]\n",
      "C578239   14912                                                       [D]\n",
      "Name: ProdID, Length: 15519, dtype: object\n"
     ]
    }
   ],
   "source": [
    "print(baskets)"
   ]
  },
  {
   "cell_type": "markdown",
   "metadata": {},
   "source": [
    "## Apriori algorithm"
   ]
  },
  {
   "cell_type": "code",
   "execution_count": 30,
   "metadata": {},
   "outputs": [],
   "source": [
    "from fim import apriori"
   ]
  },
  {
   "cell_type": "code",
   "execution_count": 42,
   "metadata": {},
   "outputs": [
    {
     "name": "stdout",
     "output_type": "stream",
     "text": [
      "Help on built-in function apriori in module fim:\n",
      "\n",
      "apriori(...)\n",
      "    apriori (tracts, target='s', supp=10, zmin=1, zmax=None, report='a',\n",
      "             eval='x', agg='x', thresh=10, prune=None, algo='b', mode='',\n",
      "             border=None)\n",
      "    Find frequent item sets with the Apriori algorithm.\n",
      "    tracts  transaction database to mine (mandatory)\n",
      "            The database must be an iterable of transactions;\n",
      "            each transaction must be an iterable of items;\n",
      "            each item must be a hashable object.\n",
      "            If the database is a dictionary, the transactions are\n",
      "            the keys, the values their (integer) multiplicities.\n",
      "    target  type of frequent item sets to find     (default: s)\n",
      "            s/a   sets/all   all     frequent item sets\n",
      "            c     closed     closed  frequent item sets\n",
      "            m     maximal    maximal frequent item sets\n",
      "            g     gens       generators\n",
      "            r     rules      association rules\n",
      "    supp    minimum support of an item set         (default: 10)\n",
      "            (positive: percentage, negative: absolute number)\n",
      "    conf    minimum confidence of an assoc. rule   (default: 80%)\n",
      "    zmin    minimum number of items per item set   (default: 1)\n",
      "    zmax    maximum number of items per item set   (default: no limit)\n",
      "    report  values to report with an item set      (default: a)\n",
      "            a     absolute item set support (number of transactions)\n",
      "            s     relative item set support as a fraction\n",
      "            S     relative item set support as a percentage\n",
      "            e     value of item set evaluation measure\n",
      "            E     value of item set evaluation measure as a percentage\n",
      "            (     combine values in a tuple (must be first character)\n",
      "            [     combine values in a list  (must be first character)\n",
      "            #     pattern spectrum as a dictionary  (no patterns)\n",
      "            =     pattern spectrum as a list        (no patterns)\n",
      "            |     pattern spectrum as three columns (no patterns)\n",
      "            for target 'r' (association rules) also available:\n",
      "            b     absolute body set  support (number of transactions)\n",
      "            x     relative body set  support as a fraction\n",
      "            X     relative body set  support as a percentage\n",
      "            h     absolute head item support (number of transactions)\n",
      "            y     relative head item support as a fraction\n",
      "            Y     relative head item support as a percentage\n",
      "            c     rule confidence as a fraction\n",
      "            C     rule confidence as a percentage\n",
      "            l     lift value of a rule (confidence/prior)\n",
      "            L     lift value of a rule as a percentage\n",
      "            Q     support of the empty set (total number of transactions)\n",
      "    eval    measure for item set evaluation        (default: x)\n",
      "            x     none       no measure / zero (default)\n",
      "            b     ldratio    binary logarithm of support quotient       (+)\n",
      "            c     conf       rule confidence                            (+)\n",
      "            d     confdiff   absolute confidence difference to prior    (+)\n",
      "            l     lift       lift value (confidence divided by prior)   (+)\n",
      "            a     liftdiff   absolute difference of lift value to 1     (+)\n",
      "            q     liftquot   difference of lift quotient to 1           (+)\n",
      "            v     cvct       conviction (inverse lift for negated head) (+)\n",
      "            e     cvctdiff   absolute difference of conviction to 1     (+)\n",
      "            r     cvctquot   difference of conviction quotient to 1     (+)\n",
      "            k     cprob      conditional probability ratio              (+)\n",
      "            j     import     importance (binary log. of prob. ratio)    (+)\n",
      "            z     cert       certainty factor (relative conf. change)   (+)\n",
      "            n     chi2       normalized chi^2 measure                   (+)\n",
      "            p     chi2pval   p-value from (unnormalized) chi^2 measure  (-)\n",
      "            y     yates      normalized chi^2 with Yates' correction    (+)\n",
      "            t     yatespval  p-value from Yates-corrected chi^2 measure (-)\n",
      "            i     info       information difference to prior            (+)\n",
      "            g     infopval   p-value from G statistic/info. difference  (-)\n",
      "            f     fetprob    Fisher's exact test (table probability)    (-)\n",
      "            h     fetchi2    Fisher's exact test (chi^2 measure)        (-)\n",
      "            m     fetinfo    Fisher's exact test (mutual information)   (-)\n",
      "            s     fetsupp    Fisher's exact test (support)              (-)\n",
      "            Measures marked with (+) must meet or exceed the threshold,\n",
      "            measures marked with (-) must not exceed the threshold\n",
      "            in order for the item set to be reported.\n",
      "    agg     evaluation measure aggregation mode    (default: x)\n",
      "            x     none       no aggregation (use first value)\n",
      "            m     min        minimum of individual measure values\n",
      "            n     max        maximum of individual measure values\n",
      "            a     avg        average of individual measure values\n",
      "    thresh  threshold for evaluation measure       (default: 10%)\n",
      "    prune   min. size for evaluation filtering     (default: no pruning)\n",
      "            = 0   backward filtering       (no subset check)\n",
      "            < 0   weak   forward filtering (one subset  must qualify)\n",
      "            > 0   strong forward filtering (all subsets must qualify)\n",
      "    algo    algorithm variant to use               (default: a)\n",
      "            b     basic      standard algorithm (only choice)\n",
      "    mode    operation mode indicators/flags        (default: None)\n",
      "            x     do not use perfect extension pruning\n",
      "            t/T   do not organize transactions as a prefix tree\n",
      "            y     a-posteriori pruning of infrequent item sets\n",
      "            z     invalidate evaluation below expected support\n",
      "            o     use original rule support definition (body & head)\n",
      "    border  support border for filtering item sets (default: None)\n",
      "            Must be a list or tuple of (absolute) minimum support values\n",
      "            per item set size (by which the list/tuple is indexed).\n",
      "    appear  dictionary mapping items to item appearance indicators,\n",
      "            with the key None referring to the default item appearance.\n",
      "            (If None does not occur as a key or no dictionary is given,\n",
      "            the default item appearance indicator is 'both'.)\n",
      "            This parameter is only used if the target type is rules.\n",
      "            * item may not appear anywhere in a rule:\n",
      "              '-', 'n', 'none', 'neither', 'ignore'\n",
      "            * item may appear only in rule body/antecedent:\n",
      "              'i', 'in', 'inp', 'input', 'b', 'body',\n",
      "              'a', 'ante', 'antecedent'\n",
      "            * item may appear only in rule head/consequent:\n",
      "              'o', 'out',      'output', 'h', 'head',\n",
      "              'c', 'cons', 'consequent'\n",
      "            * item may appear anywhere in a rule:\n",
      "              'io', 'i&o', 'inout', 'in&out', 'bh', 'b&h', 'both'\n",
      "    returns if report is not in ['#','=','|']:\n",
      "              if the target is association rules:\n",
      "                a list of rules (i.e. tuples with two or more elements),\n",
      "                each consisting of a head/consequent item, a tuple with\n",
      "                a body/antecedent item set, and the values selected by\n",
      "                the parameter 'report', which may be combined into a\n",
      "                tuple or a list if report[0] is '(' or '[', respectively.\n",
      "              if the target is a type of item sets:\n",
      "                a list of patterns (i.e. tuples with one or more elements),\n",
      "                each consisting of a tuple with a found frequent item set\n",
      "                and the values selected by the parameter 'report', which\n",
      "                may be combined into a tuple or list if report[0] is '('\n",
      "                or '[', respectively\n",
      "            if report in ['#','=','|']:\n",
      "              a pattern spectrum as a dictionary mapping pattern sizes\n",
      "              to the corresponding occurrence support ranges, as a list\n",
      "              of triplets (size, min. support, max. support) or as three\n",
      "              columns for sizes and minimum and maximum support values\n",
      "\n"
     ]
    }
   ],
   "source": [
    "help(apriori)"
   ]
  },
  {
   "cell_type": "code",
   "execution_count": 101,
   "metadata": {},
   "outputs": [
    {
     "name": "stdout",
     "output_type": "stream",
     "text": [
      "26\n"
     ]
    }
   ],
   "source": [
    "itemsets = apriori(baskets, supp=1, zmin=2, zmax=8, report=\"aS\", target=\"r\")\n",
    "print(len(itemsets))"
   ]
  },
  {
   "cell_type": "code",
   "execution_count": 81,
   "metadata": {},
   "outputs": [],
   "source": [
    "itemsets.sort(reverse=True, key=lambda x : x[2])"
   ]
  },
  {
   "cell_type": "code",
   "execution_count": 82,
   "metadata": {},
   "outputs": [
    {
     "data": {
      "text/plain": [
       "[(('22726', '22727'), 453, 2.919002513048521),\n",
       " (('22697', '22699'), 433, 2.790128229911721),\n",
       " (('22386', '85099B'), 417, 2.6870288034022813),\n",
       " (('23203', '85099B'), 400, 2.577485662736001),\n",
       " (('82494L', '82482'), 393, 2.532379663638121),\n",
       " (('22383', '20725'), 390, 2.513048521167601),\n",
       " (('22384', '20725'), 383, 2.4679425220697206),\n",
       " (('20727', '20725'), 379, 2.4421676654423607),\n",
       " (('22698', '22697'), 378, 2.435723951285521),\n",
       " (('22910', '22086'), 370, 2.384174238030801),\n",
       " (('23209', '23203'), 366, 2.358399381403441),\n",
       " (('20728', '22383'), 351, 2.261743669050841),\n",
       " (('22698', '22699'), 350, 2.2552999548940007),\n",
       " (('20727', '22383'), 348, 2.242412526580321),\n",
       " (('23202', '23203'), 345, 2.223081384109801),\n",
       " (('22384', '20727'), 345, 2.223081384109801),\n",
       " (('20728', '20725'), 341, 2.197306527482441),\n",
       " (('21931', '85099B'), 338, 2.177975385011921),\n",
       " (('22470', '22469'), 337, 2.171531670855081),\n",
       " (('23300', '23301'), 335, 2.1586442425414005),\n",
       " (('22699', '22423'), 334, 2.1522005283845607),\n",
       " (('21733', '85123A'), 332, 2.139313100070881),\n",
       " (('22382', '22383'), 332, 2.139313100070881),\n",
       " (('20725', '85099B'), 331, 2.1328693859140406),\n",
       " (('22382', '20725'), 330, 2.1264256717572008),\n",
       " (('22384', '20728'), 324, 2.0877633868161607),\n",
       " (('23298', '47566'), 322, 2.074875958502481),\n",
       " (('22728', '22727'), 315, 2.029769959404601),\n",
       " (('22698', '22697', '22699'), 313, 2.016882531090921)]"
      ]
     },
     "execution_count": 82,
     "metadata": {},
     "output_type": "execute_result"
    }
   ],
   "source": [
    "itemsets"
   ]
  },
  {
   "cell_type": "code",
   "execution_count": 83,
   "metadata": {},
   "outputs": [
    {
     "name": "stdout",
     "output_type": "stream",
     "text": [
      "1\n",
      "2\n",
      "3\n",
      "4\n",
      "5\n",
      "6\n",
      "7\n",
      "8\n",
      "9\n",
      "10\n",
      "11\n"
     ]
    },
    {
     "data": {
      "text/plain": [
       "[{'supp': 0.012887428313680005,\n",
       "  'conf': 1.2195121951219512,\n",
       "  'lift': 94.6280487804878},\n",
       " {'supp': 0.012887428313680005,\n",
       "  'conf': 1.1764705882352942,\n",
       "  'lift': 91.28823529411764},\n",
       " {'supp': 0.012887428313680005,\n",
       "  'conf': 1.1764705882352942,\n",
       "  'lift': 91.28823529411764},\n",
       " {'supp': 0.012887428313680005,\n",
       "  'conf': 1.1363636363636365,\n",
       "  'lift': 88.17613636363636},\n",
       " {'supp': 0.012887428313680005,\n",
       "  'conf': 1.2121212121212122,\n",
       "  'lift': 62.7030303030303}]"
      ]
     },
     "execution_count": 83,
     "metadata": {},
     "output_type": "execute_result"
    }
   ],
   "source": [
    "results = []\n",
    "for support in range(1, 12):\n",
    "    for confidence in range(1, 71):\n",
    "        itemsets = apriori(baskets, supp=support, zmin=3, target='r', conf=confidence, report='SCl')\n",
    "        for e in itemsets: \n",
    "            results.append({\n",
    "                'supp': e[2],\n",
    "                'conf': e[3],\n",
    "                'lift': e[4]\n",
    "            })\n",
    "    print(support)\n",
    "            \n",
    "results[0:5]"
   ]
  },
  {
   "cell_type": "code",
   "execution_count": 102,
   "metadata": {},
   "outputs": [],
   "source": [
    "results = []\n",
    "itemsets = apriori(baskets, supp=1, zmin=2, target='r', report='SCl')\n",
    "for e in itemsets: \n",
    "        results.append({\n",
    "                'supp': e[2],\n",
    "                'conf': e[3],\n",
    "                'lift': e[4]\n",
    "            })"
   ]
  },
  {
   "cell_type": "code",
   "execution_count": 103,
   "metadata": {},
   "outputs": [
    {
     "data": {
      "text/plain": [
       "26"
      ]
     },
     "execution_count": 103,
     "metadata": {},
     "output_type": "execute_result"
    }
   ],
   "source": [
    "dfcazzo = pd.DataFrame(results)\n",
    "dfcazzo.head()\n",
    "len(dfcazzo)"
   ]
  },
  {
   "cell_type": "code",
   "execution_count": 104,
   "metadata": {},
   "outputs": [
    {
     "ename": "ValueError",
     "evalue": "Cannot take a larger sample than population when 'replace=False'",
     "output_type": "error",
     "traceback": [
      "\u001b[0;31m---------------------------------------------------------------------------\u001b[0m",
      "\u001b[0;31mValueError\u001b[0m                                Traceback (most recent call last)",
      "\u001b[0;32m<ipython-input-104-3e408058987c>\u001b[0m in \u001b[0;36m<module>\u001b[0;34m\u001b[0m\n\u001b[0;32m----> 1\u001b[0;31m \u001b[0mdfcazzo\u001b[0m \u001b[0;34m=\u001b[0m \u001b[0mdfcazzo\u001b[0m\u001b[0;34m.\u001b[0m\u001b[0msample\u001b[0m\u001b[0;34m(\u001b[0m\u001b[0;36m100000\u001b[0m\u001b[0;34m)\u001b[0m\u001b[0;34m\u001b[0m\u001b[0;34m\u001b[0m\u001b[0m\n\u001b[0m",
      "\u001b[0;32m~/opt/anaconda3/lib/python3.7/site-packages/pandas/core/generic.py\u001b[0m in \u001b[0;36msample\u001b[0;34m(self, n, frac, replace, weights, random_state, axis)\u001b[0m\n\u001b[1;32m   5059\u001b[0m             )\n\u001b[1;32m   5060\u001b[0m \u001b[0;34m\u001b[0m\u001b[0m\n\u001b[0;32m-> 5061\u001b[0;31m         \u001b[0mlocs\u001b[0m \u001b[0;34m=\u001b[0m \u001b[0mrs\u001b[0m\u001b[0;34m.\u001b[0m\u001b[0mchoice\u001b[0m\u001b[0;34m(\u001b[0m\u001b[0maxis_length\u001b[0m\u001b[0;34m,\u001b[0m \u001b[0msize\u001b[0m\u001b[0;34m=\u001b[0m\u001b[0mn\u001b[0m\u001b[0;34m,\u001b[0m \u001b[0mreplace\u001b[0m\u001b[0;34m=\u001b[0m\u001b[0mreplace\u001b[0m\u001b[0;34m,\u001b[0m \u001b[0mp\u001b[0m\u001b[0;34m=\u001b[0m\u001b[0mweights\u001b[0m\u001b[0;34m)\u001b[0m\u001b[0;34m\u001b[0m\u001b[0;34m\u001b[0m\u001b[0m\n\u001b[0m\u001b[1;32m   5062\u001b[0m         \u001b[0;32mreturn\u001b[0m \u001b[0mself\u001b[0m\u001b[0;34m.\u001b[0m\u001b[0mtake\u001b[0m\u001b[0;34m(\u001b[0m\u001b[0mlocs\u001b[0m\u001b[0;34m,\u001b[0m \u001b[0maxis\u001b[0m\u001b[0;34m=\u001b[0m\u001b[0maxis\u001b[0m\u001b[0;34m)\u001b[0m\u001b[0;34m\u001b[0m\u001b[0;34m\u001b[0m\u001b[0m\n\u001b[1;32m   5063\u001b[0m \u001b[0;34m\u001b[0m\u001b[0m\n",
      "\u001b[0;32mmtrand.pyx\u001b[0m in \u001b[0;36mnumpy.random.mtrand.RandomState.choice\u001b[0;34m()\u001b[0m\n",
      "\u001b[0;31mValueError\u001b[0m: Cannot take a larger sample than population when 'replace=False'"
     ]
    }
   ],
   "source": [
    "dfcazzo = dfcazzo.sample(100000)"
   ]
  },
  {
   "cell_type": "markdown",
   "metadata": {},
   "source": [
    "A lift value greater than 1 means that item Y is likely to be bought if item X is bought, while a value less than 1 means that item Y is unlikely to be bought if item X is bought"
   ]
  },
  {
   "cell_type": "code",
   "execution_count": 105,
   "metadata": {},
   "outputs": [
    {
     "data": {
      "image/png": "[encoded data removed]",
      "text/plain": [
       "<Figure size 432x288 with 2 Axes>"
      ]
     },
     "metadata": {
      "needs_background": "light"
     },
     "output_type": "display_data"
    }
   ],
   "source": [
    "import matplotlib.pyplot as plt\n",
    "\n",
    "plt.scatter(dfcazzo['conf'], dfcazzo['supp'], c=dfcazzo['lift'], cmap='viridis')\n",
    "plt.xlabel(\"confidence\")\n",
    "plt.ylabel(\"support\")\n",
    "plt.colorbar(label=\"lift\")\n",
    "plt.show()"
   ]
  },
  {
   "cell_type": "markdown",
   "metadata": {},
   "source": [
    "## Generalized Sequential Pattern mining"
   ]
  },
  {
   "cell_type": "code",
   "execution_count": 306,
   "metadata": {},
   "outputs": [],
   "source": [
    "from gsp import *"
   ]
  },
  {
   "cell_type": "code",
   "execution_count": 307,
   "metadata": {},
   "outputs": [],
   "source": [
    "baskets = data_filtered.groupby([\"BasketID\", \"CustomerID\"])[\"ProdID\"].apply(list)"
   ]
  },
  {
   "cell_type": "code",
   "execution_count": 308,
   "metadata": {},
   "outputs": [],
   "source": [
    "list_dict = {}\n",
    "\n",
    "for val, index in zip(baskets.values, baskets.index):\n",
    "    #print(index[1], val)\n",
    "    list_dict.setdefault(index[1], []).append(val)"
   ]
  },
  {
   "cell_type": "code",
   "execution_count": 309,
   "metadata": {},
   "outputs": [],
   "source": [
    "#list_dict\n",
    "data = list(list_dict.values())"
   ]
  },
  {
   "cell_type": "code",
   "execution_count": 310,
   "metadata": {},
   "outputs": [],
   "source": [
    "dataset = list(baskets.values)"
   ]
  },
  {
   "cell_type": "code",
   "execution_count": 311,
   "metadata": {},
   "outputs": [
    {
     "name": "stdout",
     "output_type": "stream",
     "text": [
      "1326\n"
     ]
    }
   ],
   "source": [
    "print(len(data))"
   ]
  },
  {
   "cell_type": "code",
   "execution_count": 312,
   "metadata": {},
   "outputs": [
    {
     "name": "stdout",
     "output_type": "stream",
     "text": [
      "19.52701080432173\n"
     ]
    }
   ],
   "source": [
    "count = 0\n",
    "for el in dataset:\n",
    "    count += len(el)\n",
    "print(count/len(dataset))"
   ]
  },
  {
   "cell_type": "code",
   "execution_count": null,
   "metadata": {},
   "outputs": [],
   "source": [
    "result_set = apriori(data, 50, verbose=False)"
   ]
  },
  {
   "cell_type": "code",
   "execution_count": null,
   "metadata": {},
   "outputs": [],
   "source": [
    "result_set"
   ]
  },
  {
   "cell_type": "code",
   "execution_count": null,
   "metadata": {},
   "outputs": [],
   "source": []
  },
  {
   "cell_type": "code",
   "execution_count": null,
   "metadata": {},
   "outputs": [],
   "source": []
  }
 ],
 "metadata": {
  "kernelspec": {
   "display_name": "Python 3",
   "language": "python",
   "name": "python3"
  },
  "language_info": {
   "codemirror_mode": {
    "name": "ipython",
    "version": 3
   },
   "file_extension": ".py",
   "mimetype": "text/x-python",
   "name": "python",
   "nbconvert_exporter": "python",
   "pygments_lexer": "ipython3",
   "version": "3.7.6"
  }
 },
 "nbformat": 4,
 "nbformat_minor": 4
}
