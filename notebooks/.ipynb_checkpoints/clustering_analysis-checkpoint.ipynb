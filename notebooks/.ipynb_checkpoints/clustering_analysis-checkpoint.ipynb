{
 "cells": [
  {
   "cell_type": "code",
   "execution_count": 1,
   "metadata": {},
   "outputs": [],
   "source": [
    "import pandas as pd\n",
    "import numpy as np\n",
    "import matplotlib.pyplot as plt\n"
   ]
  },
  {
   "cell_type": "code",
   "execution_count": 2,
   "metadata": {},
   "outputs": [
    {
     "data": {
      "text/html": [
       "<div>\n",
       "<style scoped>\n",
       "    .dataframe tbody tr th:only-of-type {\n",
       "        vertical-align: middle;\n",
       "    }\n",
       "\n",
       "    .dataframe tbody tr th {\n",
       "        vertical-align: top;\n",
       "    }\n",
       "\n",
       "    .dataframe thead th {\n",
       "        text-align: right;\n",
       "    }\n",
       "</style>\n",
       "<table border=\"1\" class=\"dataframe\">\n",
       "  <thead>\n",
       "    <tr style=\"text-align: right;\">\n",
       "      <th></th>\n",
       "      <th>BasketID</th>\n",
       "      <th>BasketDate</th>\n",
       "      <th>ProdID</th>\n",
       "      <th>Qta</th>\n",
       "      <th>Sale</th>\n",
       "      <th>CustomerID</th>\n",
       "      <th>CustomerCountry</th>\n",
       "      <th>ProdDescr</th>\n",
       "      <th>Outlier</th>\n",
       "    </tr>\n",
       "  </thead>\n",
       "  <tbody>\n",
       "    <tr>\n",
       "      <th>0</th>\n",
       "      <td>536365</td>\n",
       "      <td>2010-01-12 08:26:00</td>\n",
       "      <td>21730</td>\n",
       "      <td>6</td>\n",
       "      <td>4.25</td>\n",
       "      <td>17850</td>\n",
       "      <td>United Kingdom</td>\n",
       "      <td>GLASS STAR FROSTED T-LIGHT HOLDER</td>\n",
       "      <td>False</td>\n",
       "    </tr>\n",
       "    <tr>\n",
       "      <th>1</th>\n",
       "      <td>536365</td>\n",
       "      <td>2010-01-12 08:26:00</td>\n",
       "      <td>22752</td>\n",
       "      <td>2</td>\n",
       "      <td>7.65</td>\n",
       "      <td>17850</td>\n",
       "      <td>United Kingdom</td>\n",
       "      <td>SET 7 BABUSHKA NESTING BOXES</td>\n",
       "      <td>False</td>\n",
       "    </tr>\n",
       "    <tr>\n",
       "      <th>2</th>\n",
       "      <td>536365</td>\n",
       "      <td>2010-01-12 08:26:00</td>\n",
       "      <td>71053</td>\n",
       "      <td>6</td>\n",
       "      <td>3.39</td>\n",
       "      <td>17850</td>\n",
       "      <td>United Kingdom</td>\n",
       "      <td>WHITE METAL LANTERN</td>\n",
       "      <td>False</td>\n",
       "    </tr>\n",
       "    <tr>\n",
       "      <th>3</th>\n",
       "      <td>536365</td>\n",
       "      <td>2010-01-12 08:26:00</td>\n",
       "      <td>84029E</td>\n",
       "      <td>6</td>\n",
       "      <td>3.39</td>\n",
       "      <td>17850</td>\n",
       "      <td>United Kingdom</td>\n",
       "      <td>RED WOOLLY HOTTIE WHITE HEART.</td>\n",
       "      <td>False</td>\n",
       "    </tr>\n",
       "    <tr>\n",
       "      <th>4</th>\n",
       "      <td>536365</td>\n",
       "      <td>2010-01-12 08:26:00</td>\n",
       "      <td>84029G</td>\n",
       "      <td>6</td>\n",
       "      <td>3.39</td>\n",
       "      <td>17850</td>\n",
       "      <td>United Kingdom</td>\n",
       "      <td>KNITTED UNION FLAG HOT WATER BOTTLE</td>\n",
       "      <td>False</td>\n",
       "    </tr>\n",
       "  </tbody>\n",
       "</table>\n",
       "</div>"
      ],
      "text/plain": [
       "   BasketID          BasketDate  ProdID  Qta  Sale  CustomerID  \\\n",
       "0    536365 2010-01-12 08:26:00   21730    6  4.25       17850   \n",
       "1    536365 2010-01-12 08:26:00   22752    2  7.65       17850   \n",
       "2    536365 2010-01-12 08:26:00   71053    6  3.39       17850   \n",
       "3    536365 2010-01-12 08:26:00  84029E    6  3.39       17850   \n",
       "4    536365 2010-01-12 08:26:00  84029G    6  3.39       17850   \n",
       "\n",
       "  CustomerCountry                            ProdDescr  Outlier  \n",
       "0  United Kingdom    GLASS STAR FROSTED T-LIGHT HOLDER    False  \n",
       "1  United Kingdom         SET 7 BABUSHKA NESTING BOXES    False  \n",
       "2  United Kingdom                  WHITE METAL LANTERN    False  \n",
       "3  United Kingdom       RED WOOLLY HOTTIE WHITE HEART.    False  \n",
       "4  United Kingdom  KNITTED UNION FLAG HOT WATER BOTTLE    False  "
      ]
     },
     "execution_count": 2,
     "metadata": {},
     "output_type": "execute_result"
    }
   ],
   "source": [
    "#df = pd.read_csv(\"../dataset/customer_supermarket_no_inconsistency.csv\", parse_dates=[\"BasketDate\"], index_col=0, decimal=\",\")\n",
    "df = pd.read_csv(\"../dataset/customer_supermarket_no_inconsistency.csv\", sep=\"\\t\", index_col=0, parse_dates=[\"BasketDate\"], decimal=\",\")\n",
    "df.head()"
   ]
  },
  {
   "cell_type": "code",
   "execution_count": 3,
   "metadata": {},
   "outputs": [
    {
     "name": "stdout",
     "output_type": "stream",
     "text": [
      "<class 'pandas.core.frame.DataFrame'>\n",
      "Int64Index: 387881 entries, 0 to 387880\n",
      "Data columns (total 9 columns):\n",
      " #   Column           Non-Null Count   Dtype         \n",
      "---  ------           --------------   -----         \n",
      " 0   BasketID         387881 non-null  int64         \n",
      " 1   BasketDate       387881 non-null  datetime64[ns]\n",
      " 2   ProdID           387881 non-null  object        \n",
      " 3   Qta              387881 non-null  int64         \n",
      " 4   Sale             387881 non-null  float64       \n",
      " 5   CustomerID       387881 non-null  int64         \n",
      " 6   CustomerCountry  387881 non-null  object        \n",
      " 7   ProdDescr        387881 non-null  object        \n",
      " 8   Outlier          387881 non-null  bool          \n",
      "dtypes: bool(1), datetime64[ns](1), float64(1), int64(3), object(3)\n",
      "memory usage: 27.0+ MB\n"
     ]
    }
   ],
   "source": [
    "df.Sale = df.Sale.astype(float)\n",
    "df.info()"
   ]
  },
  {
   "cell_type": "code",
   "execution_count": 4,
   "metadata": {},
   "outputs": [
    {
     "name": "stdout",
     "output_type": "stream",
     "text": [
      "   CustomerID        Entropy   imax   iu      i\n",
      "0       12346 -832300.560951  74215    1  74215\n",
      "1       12347  -14642.853340    319  103   2458\n",
      "2       12348  -15464.124169   1254   22   2341\n",
      "3       12349   -4068.249999    631   73    631\n",
      "4       12350   -1040.791135    197   17    197\n",
      "<class 'pandas.core.frame.DataFrame'>\n",
      "Int64Index: 4339 entries, 0 to 4338\n",
      "Data columns (total 5 columns):\n",
      " #   Column      Non-Null Count  Dtype  \n",
      "---  ------      --------------  -----  \n",
      " 0   CustomerID  4339 non-null   int64  \n",
      " 1   Entropy     4339 non-null   float64\n",
      " 2   imax        4339 non-null   int64  \n",
      " 3   iu          4339 non-null   int64  \n",
      " 4   i           4339 non-null   int64  \n",
      "dtypes: float64(1), int64(4)\n",
      "memory usage: 203.4 KB\n",
      "None\n"
     ]
    }
   ],
   "source": [
    "ind = pd.read_csv(\"../dataset/indicators.csv\", index_col=0)\n",
    "ind.CustomerID = ind.CustomerID.astype(int)\n",
    "print(ind.head())\n",
    "print(ind.info())"
   ]
  },
  {
   "cell_type": "code",
   "execution_count": 5,
   "metadata": {},
   "outputs": [
    {
     "data": {
      "text/html": [
       "<div>\n",
       "<style scoped>\n",
       "    .dataframe tbody tr th:only-of-type {\n",
       "        vertical-align: middle;\n",
       "    }\n",
       "\n",
       "    .dataframe tbody tr th {\n",
       "        vertical-align: top;\n",
       "    }\n",
       "\n",
       "    .dataframe thead th {\n",
       "        text-align: right;\n",
       "    }\n",
       "</style>\n",
       "<table border=\"1\" class=\"dataframe\">\n",
       "  <thead>\n",
       "    <tr style=\"text-align: right;\">\n",
       "      <th></th>\n",
       "      <th>CustomerCountry</th>\n",
       "      <th>Sale</th>\n",
       "    </tr>\n",
       "    <tr>\n",
       "      <th>CustomerID</th>\n",
       "      <th></th>\n",
       "      <th></th>\n",
       "    </tr>\n",
       "  </thead>\n",
       "  <tbody>\n",
       "    <tr>\n",
       "      <th>12346</th>\n",
       "      <td>United Kingdom</td>\n",
       "      <td>1.04</td>\n",
       "    </tr>\n",
       "    <tr>\n",
       "      <th>12347</th>\n",
       "      <td>Iceland</td>\n",
       "      <td>481.21</td>\n",
       "    </tr>\n",
       "    <tr>\n",
       "      <th>12348</th>\n",
       "      <td>Finland</td>\n",
       "      <td>178.71</td>\n",
       "    </tr>\n",
       "    <tr>\n",
       "      <th>12349</th>\n",
       "      <td>Italy</td>\n",
       "      <td>605.10</td>\n",
       "    </tr>\n",
       "    <tr>\n",
       "      <th>12350</th>\n",
       "      <td>Norway</td>\n",
       "      <td>65.30</td>\n",
       "    </tr>\n",
       "  </tbody>\n",
       "</table>\n",
       "</div>"
      ],
      "text/plain": [
       "           CustomerCountry    Sale\n",
       "CustomerID                        \n",
       "12346       United Kingdom    1.04\n",
       "12347              Iceland  481.21\n",
       "12348              Finland  178.71\n",
       "12349                Italy  605.10\n",
       "12350               Norway   65.30"
      ]
     },
     "execution_count": 5,
     "metadata": {},
     "output_type": "execute_result"
    }
   ],
   "source": [
    "customers = df.groupby([\"CustomerID\"]).agg({\n",
    "    'CustomerCountry':'min',\n",
    "    \"Sale\":sum})\n",
    "customers.head()"
   ]
  },
  {
   "cell_type": "code",
   "execution_count": 6,
   "metadata": {},
   "outputs": [
    {
     "data": {
      "text/plain": [
       "<matplotlib.collections.PathCollection at 0x7fcad0388e50>"
      ]
     },
     "execution_count": 6,
     "metadata": {},
     "output_type": "execute_result"
    },
    {
     "data": {
      "image/png": "[encoded data removed]",
      "text/plain": [
       "<Figure size 432x288 with 1 Axes>"
      ]
     },
     "metadata": {
      "needs_background": "light"
     },
     "output_type": "display_data"
    }
   ],
   "source": [
    "plt.scatter(customers.Sale, customers.CustomerCountry)"
   ]
  },
  {
   "cell_type": "markdown",
   "metadata": {},
   "source": [
    "Joining total sales with indicators dataframe on customer id"
   ]
  },
  {
   "cell_type": "code",
   "execution_count": 7,
   "metadata": {},
   "outputs": [
    {
     "name": "stdout",
     "output_type": "stream",
     "text": [
      "<class 'pandas.core.frame.DataFrame'>\n",
      "Int64Index: 4339 entries, 0 to 4338\n",
      "Data columns (total 7 columns):\n",
      " #   Column           Non-Null Count  Dtype  \n",
      "---  ------           --------------  -----  \n",
      " 0   CustomerID       4339 non-null   int64  \n",
      " 1   Entropy          4339 non-null   float64\n",
      " 2   imax             4339 non-null   int64  \n",
      " 3   iu               4339 non-null   int64  \n",
      " 4   i                4339 non-null   int64  \n",
      " 5   CustomerCountry  4339 non-null   object \n",
      " 6   Sale             4339 non-null   float64\n",
      "dtypes: float64(2), int64(4), object(1)\n",
      "memory usage: 271.2+ KB\n"
     ]
    }
   ],
   "source": [
    "ind = ind.join(customers, on=\"CustomerID\")\n",
    "ind.info()"
   ]
  },
  {
   "cell_type": "markdown",
   "metadata": {},
   "source": []
  },
  {
   "cell_type": "code",
   "execution_count": 8,
   "metadata": {},
   "outputs": [],
   "source": [
    "# dropping customer country String column\n",
    "ind_no_cust = ind.drop(\"CustomerCountry\", axis=1)"
   ]
  },
  {
   "cell_type": "code",
   "execution_count": 9,
   "metadata": {},
   "outputs": [
    {
     "data": {
      "text/html": [
       "<div>\n",
       "<style scoped>\n",
       "    .dataframe tbody tr th:only-of-type {\n",
       "        vertical-align: middle;\n",
       "    }\n",
       "\n",
       "    .dataframe tbody tr th {\n",
       "        vertical-align: top;\n",
       "    }\n",
       "\n",
       "    .dataframe thead th {\n",
       "        text-align: right;\n",
       "    }\n",
       "</style>\n",
       "<table border=\"1\" class=\"dataframe\">\n",
       "  <thead>\n",
       "    <tr style=\"text-align: right;\">\n",
       "      <th></th>\n",
       "      <th>CustomerID</th>\n",
       "      <th>Entropy</th>\n",
       "      <th>imax</th>\n",
       "      <th>iu</th>\n",
       "      <th>i</th>\n",
       "      <th>Sale</th>\n",
       "    </tr>\n",
       "  </thead>\n",
       "  <tbody>\n",
       "    <tr>\n",
       "      <th>count</th>\n",
       "      <td>4339.000000</td>\n",
       "      <td>4.339000e+03</td>\n",
       "      <td>4339.000000</td>\n",
       "      <td>4339.000000</td>\n",
       "      <td>4339.000000</td>\n",
       "      <td>4339.000000</td>\n",
       "    </tr>\n",
       "    <tr>\n",
       "      <th>mean</th>\n",
       "      <td>15299.936852</td>\n",
       "      <td>-7.707500e+03</td>\n",
       "      <td>263.135976</td>\n",
       "      <td>61.489283</td>\n",
       "      <td>1190.570869</td>\n",
       "      <td>282.908362</td>\n",
       "    </tr>\n",
       "    <tr>\n",
       "      <th>std</th>\n",
       "      <td>1721.889758</td>\n",
       "      <td>4.232504e+04</td>\n",
       "      <td>1196.269335</td>\n",
       "      <td>85.363900</td>\n",
       "      <td>5053.148126</td>\n",
       "      <td>875.427416</td>\n",
       "    </tr>\n",
       "    <tr>\n",
       "      <th>min</th>\n",
       "      <td>12346.000000</td>\n",
       "      <td>-1.701273e+06</td>\n",
       "      <td>1.000000</td>\n",
       "      <td>1.000000</td>\n",
       "      <td>1.000000</td>\n",
       "      <td>0.000000</td>\n",
       "    </tr>\n",
       "    <tr>\n",
       "      <th>25%</th>\n",
       "      <td>13812.500000</td>\n",
       "      <td>-5.555836e+03</td>\n",
       "      <td>82.000000</td>\n",
       "      <td>16.000000</td>\n",
       "      <td>159.000000</td>\n",
       "      <td>51.615000</td>\n",
       "    </tr>\n",
       "    <tr>\n",
       "      <th>50%</th>\n",
       "      <td>15299.000000</td>\n",
       "      <td>-1.973313e+03</td>\n",
       "      <td>155.000000</td>\n",
       "      <td>35.000000</td>\n",
       "      <td>378.000000</td>\n",
       "      <td>125.450000</td>\n",
       "    </tr>\n",
       "    <tr>\n",
       "      <th>75%</th>\n",
       "      <td>16778.500000</td>\n",
       "      <td>-7.623511e+02</td>\n",
       "      <td>281.000000</td>\n",
       "      <td>77.000000</td>\n",
       "      <td>990.500000</td>\n",
       "      <td>289.160000</td>\n",
       "    </tr>\n",
       "    <tr>\n",
       "      <th>max</th>\n",
       "      <td>18287.000000</td>\n",
       "      <td>0.000000e+00</td>\n",
       "      <td>74215.000000</td>\n",
       "      <td>1787.000000</td>\n",
       "      <td>197491.000000</td>\n",
       "      <td>33332.450000</td>\n",
       "    </tr>\n",
       "  </tbody>\n",
       "</table>\n",
       "</div>"
      ],
      "text/plain": [
       "         CustomerID       Entropy          imax           iu              i  \\\n",
       "count   4339.000000  4.339000e+03   4339.000000  4339.000000    4339.000000   \n",
       "mean   15299.936852 -7.707500e+03    263.135976    61.489283    1190.570869   \n",
       "std     1721.889758  4.232504e+04   1196.269335    85.363900    5053.148126   \n",
       "min    12346.000000 -1.701273e+06      1.000000     1.000000       1.000000   \n",
       "25%    13812.500000 -5.555836e+03     82.000000    16.000000     159.000000   \n",
       "50%    15299.000000 -1.973313e+03    155.000000    35.000000     378.000000   \n",
       "75%    16778.500000 -7.623511e+02    281.000000    77.000000     990.500000   \n",
       "max    18287.000000  0.000000e+00  74215.000000  1787.000000  197491.000000   \n",
       "\n",
       "               Sale  \n",
       "count   4339.000000  \n",
       "mean     282.908362  \n",
       "std      875.427416  \n",
       "min        0.000000  \n",
       "25%       51.615000  \n",
       "50%      125.450000  \n",
       "75%      289.160000  \n",
       "max    33332.450000  "
      ]
     },
     "execution_count": 9,
     "metadata": {},
     "output_type": "execute_result"
    }
   ],
   "source": [
    "ind_no_cust.describe()"
   ]
  },
  {
   "cell_type": "markdown",
   "metadata": {},
   "source": [
    "#### We drop the entropy since it fucks up our graphs for now"
   ]
  },
  {
   "cell_type": "code",
   "execution_count": 10,
   "metadata": {},
   "outputs": [],
   "source": [
    "ind_no_ent = ind_no_cust.drop(\"Entropy\", axis=1)"
   ]
  },
  {
   "cell_type": "markdown",
   "metadata": {},
   "source": [
    "### Scaling values in order to avoid bias by using a standard scaler"
   ]
  },
  {
   "cell_type": "code",
   "execution_count": 11,
   "metadata": {},
   "outputs": [],
   "source": [
    "from sklearn.preprocessing import StandardScaler, MinMaxScaler"
   ]
  },
  {
   "cell_type": "code",
   "execution_count": 12,
   "metadata": {},
   "outputs": [
    {
     "data": {
      "text/plain": [
       "MinMaxScaler()"
      ]
     },
     "execution_count": 12,
     "metadata": {},
     "output_type": "execute_result"
    }
   ],
   "source": [
    "scaler = MinMaxScaler()\n",
    "# we could also try with the standard scaler\n",
    "scaler.fit(ind_no_ent.values)"
   ]
  },
  {
   "cell_type": "code",
   "execution_count": 13,
   "metadata": {},
   "outputs": [
    {
     "data": {
      "text/plain": [
       "array([[1.2346e+04, 7.4215e+04, 1.0000e+00, 7.4215e+04, 1.0400e+00],\n",
       "       [1.2347e+04, 3.1900e+02, 1.0300e+02, 2.4580e+03, 4.8121e+02],\n",
       "       [1.2348e+04, 1.2540e+03, 2.2000e+01, 2.3410e+03, 1.7871e+02],\n",
       "       [1.2349e+04, 6.3100e+02, 7.3000e+01, 6.3100e+02, 6.0510e+02],\n",
       "       [1.2350e+04, 1.9700e+02, 1.7000e+01, 1.9700e+02, 6.5300e+01]])"
      ]
     },
     "execution_count": 13,
     "metadata": {},
     "output_type": "execute_result"
    }
   ],
   "source": [
    "ind_no_ent.head().values"
   ]
  },
  {
   "cell_type": "code",
   "execution_count": 14,
   "metadata": {},
   "outputs": [
    {
     "data": {
      "text/plain": [
       "array([[0.00000000e+00, 1.00000000e+00, 0.00000000e+00, 3.75786116e-01,\n",
       "        3.12008268e-05],\n",
       "       [1.68321831e-04, 4.28490581e-03, 5.71108623e-02, 1.24411363e-02,\n",
       "        1.44366826e-02],\n",
       "       [3.36643663e-04, 1.68836069e-02, 1.17581187e-02, 1.18487012e-02,\n",
       "        5.36144208e-03],\n",
       "       [5.04965494e-04, 8.48896435e-03, 4.03135498e-02, 3.19003494e-03,\n",
       "        1.81534811e-02],\n",
       "       [6.73287325e-04, 2.64101113e-03, 8.95856663e-03, 9.92455314e-04,\n",
       "        1.95905191e-03]])"
      ]
     },
     "execution_count": 14,
     "metadata": {},
     "output_type": "execute_result"
    }
   ],
   "source": [
    "scaler.transform(ind_no_ent.head().values)"
   ]
  },
  {
   "cell_type": "code",
   "execution_count": 15,
   "metadata": {},
   "outputs": [],
   "source": [
    "X = scaler.fit_transform(ind_no_ent.values)"
   ]
  },
  {
   "cell_type": "markdown",
   "metadata": {},
   "source": [
    "## K-Means"
   ]
  },
  {
   "cell_type": "code",
   "execution_count": 16,
   "metadata": {},
   "outputs": [],
   "source": [
    "from sklearn.cluster import KMeans\n",
    "from sklearn.metrics import silhouette_score"
   ]
  },
  {
   "cell_type": "code",
   "execution_count": 17,
   "metadata": {},
   "outputs": [
    {
     "data": {
      "text/plain": [
       "KMeans(max_iter=150, n_clusters=6)"
      ]
     },
     "execution_count": 17,
     "metadata": {},
     "output_type": "execute_result"
    }
   ],
   "source": [
    "kmeans = KMeans(n_clusters=6, n_init=10, max_iter=150)\n",
    "kmeans.fit(X)"
   ]
  },
  {
   "cell_type": "code",
   "execution_count": 18,
   "metadata": {},
   "outputs": [
    {
     "data": {
      "text/plain": [
       "array([4, 4, 4, ..., 1, 1, 1], dtype=int32)"
      ]
     },
     "execution_count": 18,
     "metadata": {},
     "output_type": "execute_result"
    }
   ],
   "source": [
    "kmeans.labels_"
   ]
  },
  {
   "cell_type": "markdown",
   "metadata": {},
   "source": [
    "size of each cluster"
   ]
  },
  {
   "cell_type": "code",
   "execution_count": 19,
   "metadata": {},
   "outputs": [
    {
     "data": {
      "text/plain": [
       "(array([0, 1, 2, 3, 4, 5], dtype=int32), array([857, 853, 884, 874, 862,   9]))"
      ]
     },
     "execution_count": 19,
     "metadata": {},
     "output_type": "execute_result"
    }
   ],
   "source": [
    "np.unique(kmeans.labels_, return_counts=True)"
   ]
  },
  {
   "cell_type": "code",
   "execution_count": 20,
   "metadata": {},
   "outputs": [
    {
     "data": {
      "text/plain": [
       "{0: 857, 1: 853, 2: 884, 3: 874, 4: 862, 5: 9}"
      ]
     },
     "execution_count": 20,
     "metadata": {},
     "output_type": "execute_result"
    }
   ],
   "source": [
    "hist, bins = np.histogram(kmeans.labels_, \n",
    "                          bins=range(0, len(set(kmeans.labels_)) + 1))\n",
    "dict(zip(bins, hist))"
   ]
  },
  {
   "cell_type": "code",
   "execution_count": 21,
   "metadata": {},
   "outputs": [
    {
     "data": {
      "image/png": "[encoded data removed]",
      "text/plain": [
       "<Figure size 432x288 with 1 Axes>"
      ]
     },
     "metadata": {
      "needs_background": "light"
     },
     "output_type": "display_data"
    }
   ],
   "source": [
    "plt.scatter(ind_no_ent['iu'], ind_no_ent['Sale'], \n",
    "            c=kmeans.labels_, s=20)\n",
    "plt.tick_params(labelsize=18)\n",
    "plt.show()"
   ]
  },
  {
   "cell_type": "code",
   "execution_count": 22,
   "metadata": {},
   "outputs": [
    {
     "data": {
      "image/png": "[encoded data removed]",
      "text/plain": [
       "<Figure size 432x288 with 1 Axes>"
      ]
     },
     "metadata": {
      "needs_background": "light"
     },
     "output_type": "display_data"
    }
   ],
   "source": [
    "plt.scatter(ind_no_ent['imax'], ind_no_ent['Sale'], \n",
    "            c=kmeans.labels_, s=20)\n",
    "plt.tick_params(labelsize=18)\n",
    "plt.show()"
   ]
  },
  {
   "cell_type": "code",
   "execution_count": 23,
   "metadata": {},
   "outputs": [
    {
     "data": {
      "image/png": "[encoded data removed]",
      "text/plain": [
       "<Figure size 432x288 with 1 Axes>"
      ]
     },
     "metadata": {
      "needs_background": "light"
     },
     "output_type": "display_data"
    }
   ],
   "source": [
    "plt.scatter(ind_no_ent['i'], ind_no_ent['Sale'], \n",
    "            c=kmeans.labels_, s=20)\n",
    "plt.tick_params(labelsize=18)\n",
    "plt.show()"
   ]
  },
  {
   "cell_type": "code",
   "execution_count": 24,
   "metadata": {},
   "outputs": [
    {
     "data": {
      "text/plain": [
       "\"plt.scatter(ind['iu'], ind['Entropy'], \\n            c=kmeans.labels_, s=20)\\nplt.tick_params(labelsize=18)\\nplt.show()\""
      ]
     },
     "execution_count": 24,
     "metadata": {},
     "output_type": "execute_result"
    }
   ],
   "source": [
    "\"\"\"plt.scatter(ind['iu'], ind['Entropy'], \n",
    "            c=kmeans.labels_, s=20)\n",
    "plt.tick_params(labelsize=18)\n",
    "plt.show()\"\"\""
   ]
  },
  {
   "cell_type": "code",
   "execution_count": 25,
   "metadata": {},
   "outputs": [
    {
     "data": {
      "text/plain": [
       "\"plt.scatter(ind['Sale'], ind['Entropy'], \\n            c=kmeans.labels_, s=20)\\nplt.tick_params(labelsize=18)\\nplt.show()\""
      ]
     },
     "execution_count": 25,
     "metadata": {},
     "output_type": "execute_result"
    }
   ],
   "source": [
    "\"\"\"plt.scatter(ind['Sale'], ind['Entropy'], \n",
    "            c=kmeans.labels_, s=20)\n",
    "plt.tick_params(labelsize=18)\n",
    "plt.show()\"\"\""
   ]
  },
  {
   "cell_type": "code",
   "execution_count": 26,
   "metadata": {},
   "outputs": [
    {
     "data": {
      "text/plain": [
       "array([[0.29435776, 0.00300798, 0.03316146, 0.00483081, 0.00738138],\n",
       "       [0.90074439, 0.00299861, 0.03253891, 0.00569148, 0.0072606 ],\n",
       "       [0.49660418, 0.00323995, 0.03287022, 0.00448522, 0.00763255],\n",
       "       [0.69870257, 0.00292274, 0.03269479, 0.00536923, 0.00728501],\n",
       "       [0.0943196 , 0.00546792, 0.03217041, 0.00689251, 0.00891234],\n",
       "       [0.40208345, 0.00728374, 0.60177927, 0.28293472, 0.39065769]])"
      ]
     },
     "execution_count": 26,
     "metadata": {},
     "output_type": "execute_result"
    }
   ],
   "source": [
    "kmeans.cluster_centers_"
   ]
  },
  {
   "cell_type": "markdown",
   "metadata": {},
   "source": [
    "### A che serve sta cagata? boh!\n",
    "non mi sembra abbia senso, forse è sbagliato qualcosa"
   ]
  },
  {
   "cell_type": "code",
   "execution_count": 27,
   "metadata": {},
   "outputs": [
    {
     "data": {
      "image/png": "[encoded data removed]",
      "text/plain": [
       "<Figure size 432x288 with 1 Axes>"
      ]
     },
     "metadata": {
      "needs_background": "light"
     },
     "output_type": "display_data"
    }
   ],
   "source": [
    "centers = scaler.inverse_transform(kmeans.cluster_centers_)\n",
    "plt.scatter(ind_no_ent['iu'], ind_no_ent['Sale'], c=kmeans.labels_, \n",
    "            s=10)\n",
    "plt.scatter(centers[:, 0], centers[:, 1], s=100, marker='*', c='r')\n",
    "plt.tick_params(axis='both', which='major', labelsize=18)\n",
    "plt.show()"
   ]
  },
  {
   "cell_type": "markdown",
   "metadata": {},
   "source": [
    "### Cluster Centers as parallel coordinates"
   ]
  },
  {
   "cell_type": "code",
   "execution_count": 28,
   "metadata": {},
   "outputs": [
    {
     "data": {
      "image/png": "[encoded data removed]",
      "text/plain": [
       "<Figure size 576x288 with 1 Axes>"
      ]
     },
     "metadata": {
      "needs_background": "light"
     },
     "output_type": "display_data"
    }
   ],
   "source": [
    "plt.figure(figsize=(8, 4))\n",
    "for i in range(0, len(centers)):\n",
    "    plt.plot(centers[i], marker='o', label='Cluster %s' % i)\n",
    "plt.tick_params(axis='both', which='major', labelsize=10)\n",
    "plt.xticks(range(0, len(ind_no_ent.columns)), ind_no_ent.columns, fontsize=14)\n",
    "plt.legend(fontsize=10)\n",
    "plt.show()"
   ]
  },
  {
   "cell_type": "markdown",
   "metadata": {},
   "source": [
    "### Centroids radar chart"
   ]
  },
  {
   "cell_type": "code",
   "execution_count": 29,
   "metadata": {},
   "outputs": [
    {
     "name": "stderr",
     "output_type": "stream",
     "text": [
      "<ipython-input-29-f01a45e21066>:12: MatplotlibDeprecationWarning: Adding an axes using the same arguments as a previous axes currently reuses the earlier instance.  In a future version, a new instance will always be created and returned.  Meanwhile, this warning can be suppressed, and the future behavior ensured, by passing a unique label to each axes instance.\n",
      "  ax = plt.subplot(polar=True)\n"
     ]
    },
    {
     "data": {
      "image/png": "[encoded data removed]",
      "text/plain": [
       "<Figure size 432x288 with 1 Axes>"
      ]
     },
     "metadata": {},
     "output_type": "display_data"
    }
   ],
   "source": [
    "from math import pi\n",
    " \n",
    "# number of variable\n",
    "N = len(ind_no_ent.columns)\n",
    "# What will be the angle of each axis in the plot? (we divide the plot / number of variable)\n",
    "for i in range(0, len(centers)):\n",
    "    angles = [n / float(N) * 2 * pi for n in range(N)]\n",
    "    values = centers[i].tolist()\n",
    "    values += values[:1]\n",
    "    angles += angles[:1]\n",
    "    # Initialise the spider plot\n",
    "    ax = plt.subplot(polar=True)\n",
    "# Draw one axe per variable + add labels labels yet\n",
    "    plt.xticks(angles[:-1], ind_no_ent.columns, color='grey', size=8) \n",
    "# Plot data\n",
    "    ax.plot(angles, values, linewidth=1, linestyle='solid')\n",
    " # Fill area\n",
    "    ax.fill(angles, values, 'b', alpha=0.1)\n"
   ]
  },
  {
   "cell_type": "markdown",
   "metadata": {},
   "source": [
    "#### SSE and Clustering Validation\n",
    "\n",
    "a che serve sta roba?"
   ]
  },
  {
   "cell_type": "code",
   "execution_count": 30,
   "metadata": {},
   "outputs": [
    {
     "name": "stdout",
     "output_type": "stream",
     "text": [
      "SSE 26.729146068628076\n",
      "Silhouette 0.48292471163132367\n",
      "Separation 0.7207390384758887\n"
     ]
    }
   ],
   "source": [
    "from sklearn import metrics\n",
    "print('SSE %s' % kmeans.inertia_)\n",
    "print('Silhouette %s' % silhouette_score(X, kmeans.labels_))\n",
    "print('Separation %s' % metrics.davies_bouldin_score(X, kmeans.labels_))"
   ]
  },
  {
   "cell_type": "code",
   "execution_count": 31,
   "metadata": {},
   "outputs": [
    {
     "data": {
      "text/html": [
       "<div>\n",
       "<style scoped>\n",
       "    .dataframe tbody tr th:only-of-type {\n",
       "        vertical-align: middle;\n",
       "    }\n",
       "\n",
       "    .dataframe tbody tr th {\n",
       "        vertical-align: top;\n",
       "    }\n",
       "\n",
       "    .dataframe thead th {\n",
       "        text-align: right;\n",
       "    }\n",
       "</style>\n",
       "<table border=\"1\" class=\"dataframe\">\n",
       "  <thead>\n",
       "    <tr style=\"text-align: right;\">\n",
       "      <th></th>\n",
       "      <th>CustomerID</th>\n",
       "      <th>Entropy</th>\n",
       "      <th>imax</th>\n",
       "      <th>iu</th>\n",
       "      <th>i</th>\n",
       "      <th>CustomerCountry</th>\n",
       "      <th>Sale</th>\n",
       "    </tr>\n",
       "  </thead>\n",
       "  <tbody>\n",
       "    <tr>\n",
       "      <th>0</th>\n",
       "      <td>12346</td>\n",
       "      <td>-832300.560951</td>\n",
       "      <td>74215</td>\n",
       "      <td>1</td>\n",
       "      <td>74215</td>\n",
       "      <td>United Kingdom</td>\n",
       "      <td>1.04</td>\n",
       "    </tr>\n",
       "    <tr>\n",
       "      <th>1</th>\n",
       "      <td>12347</td>\n",
       "      <td>-14642.853340</td>\n",
       "      <td>319</td>\n",
       "      <td>103</td>\n",
       "      <td>2458</td>\n",
       "      <td>Iceland</td>\n",
       "      <td>481.21</td>\n",
       "    </tr>\n",
       "    <tr>\n",
       "      <th>2</th>\n",
       "      <td>12348</td>\n",
       "      <td>-15464.124169</td>\n",
       "      <td>1254</td>\n",
       "      <td>22</td>\n",
       "      <td>2341</td>\n",
       "      <td>Finland</td>\n",
       "      <td>178.71</td>\n",
       "    </tr>\n",
       "    <tr>\n",
       "      <th>3</th>\n",
       "      <td>12349</td>\n",
       "      <td>-4068.249999</td>\n",
       "      <td>631</td>\n",
       "      <td>73</td>\n",
       "      <td>631</td>\n",
       "      <td>Italy</td>\n",
       "      <td>605.10</td>\n",
       "    </tr>\n",
       "    <tr>\n",
       "      <th>4</th>\n",
       "      <td>12350</td>\n",
       "      <td>-1040.791135</td>\n",
       "      <td>197</td>\n",
       "      <td>17</td>\n",
       "      <td>197</td>\n",
       "      <td>Norway</td>\n",
       "      <td>65.30</td>\n",
       "    </tr>\n",
       "    <tr>\n",
       "      <th>...</th>\n",
       "      <td>...</td>\n",
       "      <td>...</td>\n",
       "      <td>...</td>\n",
       "      <td>...</td>\n",
       "      <td>...</td>\n",
       "      <td>...</td>\n",
       "      <td>...</td>\n",
       "    </tr>\n",
       "    <tr>\n",
       "      <th>4334</th>\n",
       "      <td>18280</td>\n",
       "      <td>-171.299812</td>\n",
       "      <td>45</td>\n",
       "      <td>10</td>\n",
       "      <td>45</td>\n",
       "      <td>United Kingdom</td>\n",
       "      <td>47.65</td>\n",
       "    </tr>\n",
       "    <tr>\n",
       "      <th>4335</th>\n",
       "      <td>18281</td>\n",
       "      <td>-215.405139</td>\n",
       "      <td>54</td>\n",
       "      <td>7</td>\n",
       "      <td>54</td>\n",
       "      <td>United Kingdom</td>\n",
       "      <td>39.36</td>\n",
       "    </tr>\n",
       "    <tr>\n",
       "      <th>4336</th>\n",
       "      <td>18282</td>\n",
       "      <td>-417.113335</td>\n",
       "      <td>75</td>\n",
       "      <td>12</td>\n",
       "      <td>103</td>\n",
       "      <td>United Kingdom</td>\n",
       "      <td>62.39</td>\n",
       "    </tr>\n",
       "    <tr>\n",
       "      <th>4337</th>\n",
       "      <td>18283</td>\n",
       "      <td>-6354.286026</td>\n",
       "      <td>61</td>\n",
       "      <td>263</td>\n",
       "      <td>1357</td>\n",
       "      <td>United Kingdom</td>\n",
       "      <td>1174.33</td>\n",
       "    </tr>\n",
       "    <tr>\n",
       "      <th>4338</th>\n",
       "      <td>18287</td>\n",
       "      <td>-10355.271984</td>\n",
       "      <td>488</td>\n",
       "      <td>59</td>\n",
       "      <td>1586</td>\n",
       "      <td>United Kingdom</td>\n",
       "      <td>104.55</td>\n",
       "    </tr>\n",
       "  </tbody>\n",
       "</table>\n",
       "<p>4339 rows × 7 columns</p>\n",
       "</div>"
      ],
      "text/plain": [
       "      CustomerID        Entropy   imax   iu      i CustomerCountry     Sale\n",
       "0          12346 -832300.560951  74215    1  74215  United Kingdom     1.04\n",
       "1          12347  -14642.853340    319  103   2458         Iceland   481.21\n",
       "2          12348  -15464.124169   1254   22   2341         Finland   178.71\n",
       "3          12349   -4068.249999    631   73    631           Italy   605.10\n",
       "4          12350   -1040.791135    197   17    197          Norway    65.30\n",
       "...          ...            ...    ...  ...    ...             ...      ...\n",
       "4334       18280    -171.299812     45   10     45  United Kingdom    47.65\n",
       "4335       18281    -215.405139     54    7     54  United Kingdom    39.36\n",
       "4336       18282    -417.113335     75   12    103  United Kingdom    62.39\n",
       "4337       18283   -6354.286026     61  263   1357  United Kingdom  1174.33\n",
       "4338       18287  -10355.271984    488   59   1586  United Kingdom   104.55\n",
       "\n",
       "[4339 rows x 7 columns]"
      ]
     },
     "execution_count": 31,
     "metadata": {},
     "output_type": "execute_result"
    }
   ],
   "source": [
    "ind"
   ]
  },
  {
   "cell_type": "code",
   "execution_count": 32,
   "metadata": {},
   "outputs": [],
   "source": [
    "sale_xt_pct = pd.crosstab(kmeans.labels_,ind['Sale'])\n",
    "ccountry_xt_pct = pd.crosstab(kmeans.labels_,ind['CustomerCountry'])\n",
    "iu_xt_pct = pd.crosstab(kmeans.labels_,ind[\"iu\"])"
   ]
  },
  {
   "cell_type": "code",
   "execution_count": 33,
   "metadata": {},
   "outputs": [
    {
     "data": {
      "image/png": "[encoded data removed]",
      "text/plain": [
       "<Figure size 432x288 with 1 Axes>"
      ]
     },
     "metadata": {
      "needs_background": "light"
     },
     "output_type": "display_data"
    }
   ],
   "source": [
    "ccountry_xt_pct.plot(kind='bar', stacked=False, \n",
    "                   title='Sale per cluster')\n",
    "plt.xlabel('Cluster')\n",
    "plt.ylabel('Country')\n",
    "plt.show()\n",
    "\n",
    "# no, così non funziona, dobbiamo trovare degli indicatori categorici \n",
    "# (tipo calcolarci noi se un cliente è highly spending eccetera)"
   ]
  },
  {
   "cell_type": "code",
   "execution_count": 34,
   "metadata": {},
   "outputs": [
    {
     "data": {
      "text/plain": [
       "\"sale_xt_pct.plot(kind='bar', stacked=False, \\n                   title='Sale per cluster')\\nplt.xlabel('Cluster')\\nplt.ylabel('Sale')\\nplt.show()\""
      ]
     },
     "execution_count": 34,
     "metadata": {},
     "output_type": "execute_result"
    }
   ],
   "source": [
    "\"\"\"sale_xt_pct.plot(kind='bar', stacked=False, \n",
    "                   title='Sale per cluster')\n",
    "plt.xlabel('Cluster')\n",
    "plt.ylabel('Sale')\n",
    "plt.show()\"\"\""
   ]
  },
  {
   "cell_type": "markdown",
   "metadata": {},
   "source": [
    "Computing the best K"
   ]
  },
  {
   "cell_type": "code",
   "execution_count": 35,
   "metadata": {},
   "outputs": [],
   "source": [
    "sse_list = list()\n",
    "max_k = 40\n",
    "for k in range(2, max_k + 1):\n",
    "    kmeans = KMeans(n_clusters=k, n_init=10, max_iter=100)\n",
    "    kmeans.fit(X)\n",
    "    \n",
    "    sse = kmeans.inertia_\n",
    "    sse_list.append(sse)"
   ]
  },
  {
   "cell_type": "code",
   "execution_count": 36,
   "metadata": {},
   "outputs": [
    {
     "data": {
      "image/png": "[encoded data removed]",
      "text/plain": [
       "<Figure size 432x288 with 1 Axes>"
      ]
     },
     "metadata": {
      "needs_background": "light"
     },
     "output_type": "display_data"
    }
   ],
   "source": [
    "plt.plot(range(2, len(sse_list) + 2), sse_list)\n",
    "plt.ylabel('SSE', fontsize=22)\n",
    "plt.xlabel('K', fontsize=22)\n",
    "plt.tick_params(axis='both', which='major', labelsize=22)\n",
    "plt.show()"
   ]
  },
  {
   "cell_type": "markdown",
   "metadata": {},
   "source": [
    "Best K seems to be 5 or 6"
   ]
  },
  {
   "cell_type": "code",
   "execution_count": 37,
   "metadata": {},
   "outputs": [
    {
     "data": {
      "text/plain": [
       "0.00047534449051330255"
      ]
     },
     "execution_count": 37,
     "metadata": {},
     "output_type": "execute_result"
    }
   ],
   "source": [
    "#Similarity between assignments\n",
    "i = ind.i\n",
    "metrics.adjusted_rand_score(i, kmeans.labels_)"
   ]
  },
  {
   "cell_type": "markdown",
   "metadata": {},
   "source": [
    "Boia che schifo (fa schifo con qualunque colonna abbia provato fino ad ora)"
   ]
  },
  {
   "cell_type": "markdown",
   "metadata": {},
   "source": [
    "## DBSCAN"
   ]
  },
  {
   "cell_type": "code",
   "execution_count": 38,
   "metadata": {},
   "outputs": [],
   "source": [
    "from sklearn.cluster import DBSCAN"
   ]
  },
  {
   "cell_type": "code",
   "execution_count": 39,
   "metadata": {},
   "outputs": [
    {
     "data": {
      "text/plain": [
       "DBSCAN(eps=0.07, min_samples=3)"
      ]
     },
     "execution_count": 39,
     "metadata": {},
     "output_type": "execute_result"
    }
   ],
   "source": [
    "dbscan = DBSCAN(eps=0.07, min_samples=3)\n",
    "dbscan.fit(X)"
   ]
  },
  {
   "cell_type": "code",
   "execution_count": 40,
   "metadata": {},
   "outputs": [
    {
     "data": {
      "text/plain": [
       "array([-1,  0,  0, ...,  0,  0,  0])"
      ]
     },
     "execution_count": 40,
     "metadata": {},
     "output_type": "execute_result"
    }
   ],
   "source": [
    "dbscan.labels_"
   ]
  },
  {
   "cell_type": "code",
   "execution_count": 41,
   "metadata": {},
   "outputs": [
    {
     "data": {
      "text/plain": [
       "(array([-1,  0,  1]), array([  38, 4298,    3]))"
      ]
     },
     "execution_count": 41,
     "metadata": {},
     "output_type": "execute_result"
    }
   ],
   "source": [
    "np.unique(dbscan.labels_, return_counts=True)"
   ]
  },
  {
   "cell_type": "code",
   "execution_count": 42,
   "metadata": {},
   "outputs": [
    {
     "data": {
      "image/png": "[encoded data removed]",
      "text/plain": [
       "<Figure size 432x288 with 1 Axes>"
      ]
     },
     "metadata": {
      "needs_background": "light"
     },
     "output_type": "display_data"
    }
   ],
   "source": [
    "plt.scatter(ind_no_ent['iu'], ind_no_ent['Sale'], \n",
    "            c=dbscan.labels_, s=20)\n",
    "plt.tick_params(axis='both', which='major', labelsize=22)\n",
    "plt.show()"
   ]
  },
  {
   "cell_type": "code",
   "execution_count": 43,
   "metadata": {},
   "outputs": [
    {
     "name": "stdout",
     "output_type": "stream",
     "text": [
      "Silhouette 0.12958464534042458\n"
     ]
    }
   ],
   "source": [
    "print('Silhouette %s' % silhouette_score(X, dbscan.labels_))"
   ]
  },
  {
   "cell_type": "markdown",
   "metadata": {},
   "source": [
    "Best eps with knee method"
   ]
  },
  {
   "cell_type": "code",
   "execution_count": 44,
   "metadata": {},
   "outputs": [],
   "source": [
    "from scipy.spatial.distance import pdist, squareform"
   ]
  },
  {
   "cell_type": "code",
   "execution_count": 45,
   "metadata": {},
   "outputs": [
    {
     "name": "stdout",
     "output_type": "stream",
     "text": [
      "[1.06157304 1.04839642 1.0601301  ... 0.14458217 0.0279676  0.11879203]\n",
      "\n",
      "[[0.         1.06157304 1.04839642 ... 1.46191411 1.46829779 1.45713102]\n",
      " [1.06157304 0.         0.04794098 ... 1.00044397 1.00340353 1.00021132]\n",
      " [1.04839642 0.04794098 0.         ... 0.99903414 1.00864511 0.99994105]\n",
      " ...\n",
      " [1.46191411 1.00044397 0.99903414 ... 0.         0.14458217 0.0279676 ]\n",
      " [1.46829779 1.00340353 1.00864511 ... 0.14458217 0.         0.11879203]\n",
      " [1.45713102 1.00021132 0.99994105 ... 0.0279676  0.11879203 0.        ]]\n"
     ]
    }
   ],
   "source": [
    "dist = pdist(X, 'euclidean') #pair wise distance\n",
    "print (dist)\n",
    "dist = squareform(dist) #distance matrix given the vector dist\n",
    "print()\n",
    "print(dist)"
   ]
  },
  {
   "cell_type": "code",
   "execution_count": 46,
   "metadata": {},
   "outputs": [],
   "source": [
    "k = 3\n",
    "kth_distances = list()\n",
    "for d in dist:\n",
    "    index_kth_distance = np.argsort(d)[k]\n",
    "    kth_distances.append(d[index_kth_distance])"
   ]
  },
  {
   "cell_type": "code",
   "execution_count": 47,
   "metadata": {},
   "outputs": [
    {
     "data": {
      "image/png": "[encoded data removed]",
      "text/plain": [
       "<Figure size 432x288 with 1 Axes>"
      ]
     },
     "metadata": {
      "needs_background": "light"
     },
     "output_type": "display_data"
    }
   ],
   "source": [
    "plt.plot(range(0, len(kth_distances)), sorted(kth_distances))\n",
    "plt.ylabel('dist from %sth neighbor' % k, fontsize=18)\n",
    "plt.xlabel('sorted distances', fontsize=18)\n",
    "plt.tick_params(axis='both', which='major', labelsize=22)\n",
    "plt.show()"
   ]
  },
  {
   "cell_type": "markdown",
   "metadata": {},
   "source": [
    "## Hierarchical clustering"
   ]
  },
  {
   "cell_type": "code",
   "execution_count": 48,
   "metadata": {},
   "outputs": [],
   "source": [
    "from scipy.stats import mode\n",
    "from scipy.spatial.distance import pdist\n",
    "from scipy.cluster.hierarchy import linkage, dendrogram"
   ]
  },
  {
   "cell_type": "code",
   "execution_count": 49,
   "metadata": {},
   "outputs": [
    {
     "data": {
      "image/png": "[encoded data removed]",
      "text/plain": [
       "<Figure size 432x288 with 1 Axes>"
      ]
     },
     "metadata": {
      "needs_background": "light"
     },
     "output_type": "display_data"
    }
   ],
   "source": [
    "data_dist = pdist(X, metric='euclidean')\n",
    "data_link = linkage(data_dist, method='complete', metric='euclidean')\n",
    "res = dendrogram(data_link, color_threshold=1.0, truncate_mode='lastp')"
   ]
  },
  {
   "cell_type": "code",
   "execution_count": 50,
   "metadata": {},
   "outputs": [
    {
     "data": {
      "image/png": "[encoded data removed]",
      "text/plain": [
       "<Figure size 432x288 with 1 Axes>"
      ]
     },
     "metadata": {
      "needs_background": "light"
     },
     "output_type": "display_data"
    }
   ],
   "source": [
    "data_dist = pdist(X, metric='euclidean')\n",
    "data_link = linkage(data_dist, method='single', metric='euclidean')\n",
    "res = dendrogram(data_link, color_threshold=0.2, truncate_mode='lastp')"
   ]
  },
  {
   "cell_type": "code",
   "execution_count": 51,
   "metadata": {},
   "outputs": [
    {
     "data": {
      "image/png": "[encoded data removed]",
      "text/plain": [
       "<Figure size 432x288 with 1 Axes>"
      ]
     },
     "metadata": {
      "needs_background": "light"
     },
     "output_type": "display_data"
    }
   ],
   "source": [
    "data_dist = pdist(X, metric='euclidean')\n",
    "data_link = linkage(data_dist, method='average', metric='euclidean')\n",
    "res = dendrogram(data_link, color_threshold=1, truncate_mode='lastp')"
   ]
  },
  {
   "cell_type": "code",
   "execution_count": null,
   "metadata": {},
   "outputs": [],
   "source": []
  }
 ],
 "metadata": {
  "kernelspec": {
   "display_name": "Python 3",
   "language": "python",
   "name": "python3"
  },
  "language_info": {
   "codemirror_mode": {
    "name": "ipython",
    "version": 3
   },
   "file_extension": ".py",
   "mimetype": "text/x-python",
   "name": "python",
   "nbconvert_exporter": "python",
   "pygments_lexer": "ipython3",
   "version": "3.8.5"
  }
 },
 "nbformat": 4,
 "nbformat_minor": 4
}
