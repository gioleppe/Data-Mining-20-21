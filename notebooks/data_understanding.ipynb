{
 "cells": [
  {
   "cell_type": "code",
   "execution_count": 2,
   "metadata": {},
   "outputs": [],
   "source": [
    "import matplotlib.pyplot as plt\n",
    "import numpy as np\n",
    "import pandas as pd\n",
    "import math\n",
    "import scipy.stats as stats\n",
    "from tqdm import tqdm\n",
    "\n",
    "from collections import defaultdict\n",
    "from scipy.stats.stats import pearsonr"
   ]
  },
  {
   "cell_type": "markdown",
   "metadata": {},
   "source": [
    "## Loading the dataset"
   ]
  },
  {
   "cell_type": "code",
   "execution_count": 3,
   "metadata": {},
   "outputs": [],
   "source": [
    "df = pd.read_csv(\"../dataset/customer_supermarket.csv\", sep=\"\\t\", index_col=0, parse_dates=[\"BasketDate\"], decimal=\",\")"
   ]
  },
  {
   "cell_type": "markdown",
   "metadata": {},
   "source": [
    "## Attributes and check"
   ]
  },
  {
   "cell_type": "code",
   "execution_count": 46,
   "metadata": {},
   "outputs": [
    {
     "data": {
      "text/plain": [
       "BasketID                   object\n",
       "BasketDate         datetime64[ns]\n",
       "Sale                      float64\n",
       "CustomerID                 object\n",
       "CustomerCountry            object\n",
       "ProdID                     object\n",
       "ProdDescr                  object\n",
       "Qta                         int64\n",
       "dtype: object"
      ]
     },
     "execution_count": 46,
     "metadata": {},
     "output_type": "execute_result"
    }
   ],
   "source": [
    "df.dtypes"
   ]
  },
  {
   "cell_type": "markdown",
   "metadata": {},
   "source": [
    "Here we can have an idea of data types we are going to use\n",
    "\n",
    "| Attribute       | Type       |\n",
    "|-----------------|------------|\n",
    "| BasketID        | int64      |\n",
    "| BasketDate      | datetime64 |\n",
    "| Sale            | float64    |\n",
    "| CustomerID      | int64      |\n",
    "| CustomerCountry | object     |\n",
    "| ProdID          | object     |\n",
    "| ProdDescr       | object     |\n",
    "| Qta             | int64      |\n",
    "\n",
    "as we can see there are problems in the attribute values, so we have to evaluate what prevents us from getting the desired data types:\n",
    "\n",
    "The execution df['BasketID'].astype(int) tell us that some rows contains literal inside the attribute BasketID, this means the data type cannot be converted to int"
   ]
  },
  {
   "cell_type": "markdown",
   "metadata": {},
   "source": [
    "## Checking NaN values and duplicates\n",
    "\n",
    "It is possible to evaluate the quality of the data from the point of view of the rows, based on two aspects:\n",
    "- missing or partial value (NaN/Null values)\n",
    "- duplicates\n",
    "- duplicates products in the same basket\n",
    "\n",
    "Any duplicates or rows with missing values are temporarily removed from the dataset to allow for better evaluation"
   ]
  },
  {
   "cell_type": "code",
   "execution_count": 4,
   "metadata": {},
   "outputs": [
    {
     "name": "stdout",
     "output_type": "stream",
     "text": [
      "There are duplicates:  True Number or rows removed:  5232\n",
      "There are NaN/Null:  True Number or rows removed:  65073\n",
      "Number of rows with apparent problems to solve: 14.897967832849485 %\n",
      "Number of duplicates inside baskets 4918\n"
     ]
    }
   ],
   "source": [
    "# check if there are duplicates\n",
    "areduplicates = df.duplicated().any()\n",
    "\n",
    "# duplicates have been removed from the data set\n",
    "df_nodup = df.drop_duplicates()\n",
    "\n",
    "# check if there are missing or incomplete values\n",
    "arenan = df.isnull().values.any()\n",
    "\n",
    "# rows with missing or incomplete values have been removed from the data set\n",
    "df_clean = df_nodup.dropna()\n",
    "\n",
    "print(\"There are duplicates: \", areduplicates, \"Number or rows removed: \", len(df)-len(df_nodup))\n",
    "print(\"There are NaN/Null: \", arenan, \"Number or rows removed: \", len(df_nodup)-len(df_clean))\n",
    "\n",
    "nmb_of_rmv_rows = len(df)-len(df_clean)\n",
    "\n",
    "print(\"Number of rows with apparent problems to solve:\", 100*nmb_of_rmv_rows/len(df), \"%\")\n",
    "\n",
    "\n",
    "df_Sale_Qta_merge = df_clean.groupby(['BasketID','BasketDate','ProdID']).agg({'Qta':np.sum,\n",
    "                                                                         'Sale':np.sum,\n",
    "                                                                         'CustomerID':'min',\n",
    "                                                                         'CustomerCountry':'min',\n",
    "                                                                         'ProdDescr':'min'}).reset_index()\n",
    "\n",
    "df_Sale_Qta_merge.to_csv(\"../dataset/customer_supermarket_sale_qta_merge.csv\")\n",
    "\n",
    "print(f\"Number of duplicates inside baskets {len(df_clean) - len(df_Sale_Qta_merge)}\")"
   ]
  },
  {
   "cell_type": "markdown",
   "metadata": {},
   "source": [
    "## Checking data consistency\n",
    "\n",
    "Here we are verifing that the dataset is consistent:\n",
    "\n",
    "1. Every ProdID must match the same ProdDescr\n",
    "2. Every CustomerID must match the same BasketID in the same BasketDate\n",
    "3. Every CustomerID must match the same CustomerCountry"
   ]
  },
  {
   "cell_type": "code",
   "execution_count": 5,
   "metadata": {},
   "outputs": [
    {
     "name": "stderr",
     "output_type": "stream",
     "text": [
      "100%|██████████| 3684/3684 [01:19<00:00, 46.55it/s]\n",
      "  0%|          | 0/4372 [00:00<?, ?it/s]"
     ]
    },
    {
     "name": "stdout",
     "output_type": "stream",
     "text": [
      "Number of not consistent ProdDescr: 213\n",
      "True\n"
     ]
    },
    {
     "name": "stderr",
     "output_type": "stream",
     "text": [
      "100%|██████████| 4372/4372 [01:33<00:00, 46.75it/s]"
     ]
    },
    {
     "name": "stdout",
     "output_type": "stream",
     "text": [
      "Number of not consistent CustomerCountry: 8\n"
     ]
    },
    {
     "name": "stderr",
     "output_type": "stream",
     "text": [
      "\n"
     ]
    }
   ],
   "source": [
    "def inconsistent_set(K,V):\n",
    "    \n",
    "    inconsistentset = set()\n",
    "\n",
    "    for key in tqdm(df_Sale_Qta_merge[K].unique().tolist()):\n",
    "        temp_df = df_Sale_Qta_merge[df_Sale_Qta_merge[K] == key]\n",
    "        valueslist = temp_df[V].tolist()\n",
    "        for value in valueslist:\n",
    "            if(valueslist[0] != value):\n",
    "                inconsistentset.add(key)\n",
    "                break;\n",
    "    return inconsistentset\n",
    "\n",
    "\n",
    "# 1\n",
    "ProdID_ProdDescr_IS = inconsistent_set(\"ProdID\",\"ProdDescr\")\n",
    "            \n",
    "print(\"Number of not consistent ProdDescr:\", len(ProdID_ProdDescr_IS))\n",
    "\n",
    "\n",
    "#2 True == no error\n",
    "temp = df_Sale_Qta_merge.groupby(['BasketID','BasketDate']).CustomerID.nunique().eq(1)\n",
    "print(temp.all())\n",
    "\n",
    "#3 \n",
    "CustomerID_CustomerCountry_IS = inconsistent_set(\"CustomerID\",\"CustomerCountry\")\n",
    "            \n",
    "print(\"Number of not consistent CustomerCountry:\", len(CustomerID_CustomerCountry_IS))"
   ]
  },
  {
   "cell_type": "markdown",
   "metadata": {},
   "source": [
    "## Converting attributes to correct data type\n",
    "\n",
    "Here we are changing the type of attributes. This imply a little cleaning phase over BasketID because there are characters inside the values"
   ]
  },
  {
   "cell_type": "code",
   "execution_count": 6,
   "metadata": {},
   "outputs": [],
   "source": [
    "df_Sale_Qta_merge['CustomerID'] = pd.to_numeric(df_Sale_Qta_merge.CustomerID)\n",
    "df_Sale_Qta_merge.CustomerID = df_Sale_Qta_merge.CustomerID.astype(int)"
   ]
  },
  {
   "cell_type": "markdown",
   "metadata": {},
   "source": [
    "The only attribute that still has a wrong datatype is BasketID, we have to remove letters at the beginning of the ID."
   ]
  },
  {
   "cell_type": "code",
   "execution_count": 7,
   "metadata": {},
   "outputs": [
    {
     "name": "stdout",
     "output_type": "stream",
     "text": [
      "<class 'pandas.core.frame.DataFrame'>\n",
      "RangeIndex: 396687 entries, 0 to 396686\n",
      "Data columns (total 8 columns):\n",
      " #   Column           Non-Null Count   Dtype         \n",
      "---  ------           --------------   -----         \n",
      " 0   BasketID         396687 non-null  int64         \n",
      " 1   BasketDate       396687 non-null  datetime64[ns]\n",
      " 2   ProdID           396687 non-null  object        \n",
      " 3   Qta              396687 non-null  int64         \n",
      " 4   Sale             396687 non-null  float64       \n",
      " 5   CustomerID       396687 non-null  int64         \n",
      " 6   CustomerCountry  396687 non-null  object        \n",
      " 7   ProdDescr        396687 non-null  object        \n",
      "dtypes: datetime64[ns](1), float64(1), int64(3), object(3)\n",
      "memory usage: 24.2+ MB\n"
     ]
    }
   ],
   "source": [
    "# regex matchin everything except digits\n",
    "regex = \"\\D+\"\n",
    "df_regex = pd.DataFrame(df_Sale_Qta_merge)\n",
    "df_regex['BasketID'] = df_regex['BasketID'].replace(to_replace=r'\\D+', value='', regex=True)\n",
    "df_regex.BasketID = pd.to_numeric(df_regex.BasketID)\n",
    "df_regex.info()\n",
    "df_regex.to_csv(\"../dataset/customer_supermarket_regex.csv\")"
   ]
  },
  {
   "cell_type": "markdown",
   "metadata": {},
   "source": [
    "## Statistics and data understanding (maybe Data preparation???)\n",
    "\n",
    "Here are informations about quantities"
   ]
  },
  {
   "cell_type": "code",
   "execution_count": 49,
   "metadata": {},
   "outputs": [
    {
     "name": "stdout",
     "output_type": "stream",
     "text": [
      "Number of clients:  4372\n",
      "Number of products:  3684\n",
      "Number of purchase:  22190\n",
      "Distinct values in Customer Country: \t 37\n"
     ]
    }
   ],
   "source": [
    "print(\"Number of clients: \",len(df_regex['CustomerID'].unique()))\n",
    "print(\"Number of products: \",len(df_regex['ProdID'].unique()))\n",
    "print(\"Number of purchase: \",len(df_regex['BasketID'].unique()))\n",
    "print(\"Distinct values in Customer Country: \\t\", len(df_regex.CustomerCountry.unique()))\n",
    "#print(\"Distinct values in ProdID: \\t\", df_clean.ProdID.unique())\n",
    "#print(\"Distinct values in ProdDescr: \\t\", df_clean.ProdDescr.unique())"
   ]
  },
  {
   "cell_type": "markdown",
   "metadata": {},
   "source": [
    "We have people coming from unspecified countries, a generic \"European Community\", EIRE which stands for Ireland and RSA which stands for Republic of South Africa."
   ]
  },
  {
   "cell_type": "code",
   "execution_count": null,
   "metadata": {},
   "outputs": [],
   "source": [
    "print(\"Number of customers from Unspecified countries: \\t\", (df_clean.CustomerCountry == \"Unspecified\").sum())\n",
    "print(\"Number of customers from generic European Community countries: \\t\", (df_clean.CustomerCountry == \"European Community\").sum())\n"
   ]
  },
  {
   "cell_type": "code",
   "execution_count": 8,
   "metadata": {},
   "outputs": [
    {
     "data": {
      "text/html": [
       "<div>\n",
       "<style scoped>\n",
       "    .dataframe tbody tr th:only-of-type {\n",
       "        vertical-align: middle;\n",
       "    }\n",
       "\n",
       "    .dataframe tbody tr th {\n",
       "        vertical-align: top;\n",
       "    }\n",
       "\n",
       "    .dataframe thead th {\n",
       "        text-align: right;\n",
       "    }\n",
       "</style>\n",
       "<table border=\"1\" class=\"dataframe\">\n",
       "  <thead>\n",
       "    <tr style=\"text-align: right;\">\n",
       "      <th></th>\n",
       "      <th>BasketID</th>\n",
       "      <th>Qta</th>\n",
       "      <th>Sale</th>\n",
       "      <th>CustomerID</th>\n",
       "    </tr>\n",
       "  </thead>\n",
       "  <tbody>\n",
       "    <tr>\n",
       "      <th>count</th>\n",
       "      <td>396687.000000</td>\n",
       "      <td>396687.000000</td>\n",
       "      <td>396687.000000</td>\n",
       "      <td>396687.000000</td>\n",
       "    </tr>\n",
       "    <tr>\n",
       "      <th>mean</th>\n",
       "      <td>560515.658628</td>\n",
       "      <td>12.334289</td>\n",
       "      <td>3.517171</td>\n",
       "      <td>15275.508817</td>\n",
       "    </tr>\n",
       "    <tr>\n",
       "      <th>std</th>\n",
       "      <td>13069.338881</td>\n",
       "      <td>251.837689</td>\n",
       "      <td>71.148484</td>\n",
       "      <td>1714.300274</td>\n",
       "    </tr>\n",
       "    <tr>\n",
       "      <th>min</th>\n",
       "      <td>536365.000000</td>\n",
       "      <td>-80995.000000</td>\n",
       "      <td>0.000000</td>\n",
       "      <td>12346.000000</td>\n",
       "    </tr>\n",
       "    <tr>\n",
       "      <th>25%</th>\n",
       "      <td>549127.500000</td>\n",
       "      <td>2.000000</td>\n",
       "      <td>1.250000</td>\n",
       "      <td>13923.000000</td>\n",
       "    </tr>\n",
       "    <tr>\n",
       "      <th>50%</th>\n",
       "      <td>561704.000000</td>\n",
       "      <td>6.000000</td>\n",
       "      <td>1.950000</td>\n",
       "      <td>15133.000000</td>\n",
       "    </tr>\n",
       "    <tr>\n",
       "      <th>75%</th>\n",
       "      <td>571913.000000</td>\n",
       "      <td>12.000000</td>\n",
       "      <td>3.750000</td>\n",
       "      <td>16779.000000</td>\n",
       "    </tr>\n",
       "    <tr>\n",
       "      <th>max</th>\n",
       "      <td>581587.000000</td>\n",
       "      <td>80995.000000</td>\n",
       "      <td>38970.000000</td>\n",
       "      <td>18287.000000</td>\n",
       "    </tr>\n",
       "  </tbody>\n",
       "</table>\n",
       "</div>"
      ],
      "text/plain": [
       "            BasketID            Qta           Sale     CustomerID\n",
       "count  396687.000000  396687.000000  396687.000000  396687.000000\n",
       "mean   560515.658628      12.334289       3.517171   15275.508817\n",
       "std     13069.338881     251.837689      71.148484    1714.300274\n",
       "min    536365.000000  -80995.000000       0.000000   12346.000000\n",
       "25%    549127.500000       2.000000       1.250000   13923.000000\n",
       "50%    561704.000000       6.000000       1.950000   15133.000000\n",
       "75%    571913.000000      12.000000       3.750000   16779.000000\n",
       "max    581587.000000   80995.000000   38970.000000   18287.000000"
      ]
     },
     "execution_count": 8,
     "metadata": {},
     "output_type": "execute_result"
    }
   ],
   "source": [
    "df_regex.describe()"
   ]
  },
  {
   "cell_type": "markdown",
   "metadata": {},
   "source": [
    "## Correlation"
   ]
  },
  {
   "cell_type": "markdown",
   "metadata": {},
   "source": [
    "### Correlation matrix"
   ]
  },
  {
   "cell_type": "code",
   "execution_count": 9,
   "metadata": {},
   "outputs": [
    {
     "data": {
      "text/html": [
       "<div>\n",
       "<style scoped>\n",
       "    .dataframe tbody tr th:only-of-type {\n",
       "        vertical-align: middle;\n",
       "    }\n",
       "\n",
       "    .dataframe tbody tr th {\n",
       "        vertical-align: top;\n",
       "    }\n",
       "\n",
       "    .dataframe thead th {\n",
       "        text-align: right;\n",
       "    }\n",
       "</style>\n",
       "<table border=\"1\" class=\"dataframe\">\n",
       "  <thead>\n",
       "    <tr style=\"text-align: right;\">\n",
       "      <th></th>\n",
       "      <th>BasketID</th>\n",
       "      <th>Qta</th>\n",
       "      <th>Sale</th>\n",
       "      <th>CustomerID</th>\n",
       "    </tr>\n",
       "  </thead>\n",
       "  <tbody>\n",
       "    <tr>\n",
       "      <th>BasketID</th>\n",
       "      <td>1.000000</td>\n",
       "      <td>-0.001540</td>\n",
       "      <td>-0.002382</td>\n",
       "      <td>0.000196</td>\n",
       "    </tr>\n",
       "    <tr>\n",
       "      <th>Qta</th>\n",
       "      <td>-0.001540</td>\n",
       "      <td>1.000000</td>\n",
       "      <td>-0.001248</td>\n",
       "      <td>-0.003316</td>\n",
       "    </tr>\n",
       "    <tr>\n",
       "      <th>Sale</th>\n",
       "      <td>-0.002382</td>\n",
       "      <td>-0.001248</td>\n",
       "      <td>1.000000</td>\n",
       "      <td>-0.004328</td>\n",
       "    </tr>\n",
       "    <tr>\n",
       "      <th>CustomerID</th>\n",
       "      <td>0.000196</td>\n",
       "      <td>-0.003316</td>\n",
       "      <td>-0.004328</td>\n",
       "      <td>1.000000</td>\n",
       "    </tr>\n",
       "  </tbody>\n",
       "</table>\n",
       "</div>"
      ],
      "text/plain": [
       "            BasketID       Qta      Sale  CustomerID\n",
       "BasketID    1.000000 -0.001540 -0.002382    0.000196\n",
       "Qta        -0.001540  1.000000 -0.001248   -0.003316\n",
       "Sale       -0.002382 -0.001248  1.000000   -0.004328\n",
       "CustomerID  0.000196 -0.003316 -0.004328    1.000000"
      ]
     },
     "execution_count": 9,
     "metadata": {},
     "output_type": "execute_result"
    }
   ],
   "source": [
    "correlations = df_regex.corr(method=\"pearson\")\n",
    "correlations"
   ]
  },
  {
   "cell_type": "code",
   "execution_count": null,
   "metadata": {},
   "outputs": [],
   "source": [
    "#plt.scatter(df_regex['Qta'], df_regex['Sale'], color='g', marker='*', label='Dinner')\n",
    "\n",
    "temp = pd.DataFrame()\n",
    "temp['Result'] = df_regex['Sale']/df_regex['Qta']\n",
    "\n",
    "qta_mean = df_regex['Qta'].mean()\n",
    "sale_mean = df_regex['Sale'].mean()\n",
    "\n",
    "plt.scatter(df_regex[df_regex['Qta'] < qta_mean+1000]['Qta'], \n",
    "            df_regex[df_regex['Sale'] < sale_mean+1000 ]['Sale'], color='g', marker='*')\n",
    "\n",
    "plt.scatter(df_regex[df_regex['Qta'] > qta_mean+1000]['Qta'], \n",
    "            df_regex[df_regex['Sale'] > sale_mean+1000]['Sale'], color='r', marker='*')\n",
    "\n",
    "plt.xlabel('Qta')\n",
    "plt.ylabel('Sale')\n",
    "plt.legend()\n",
    "plt.show()"
   ]
  },
  {
   "cell_type": "code",
   "execution_count": 54,
   "metadata": {},
   "outputs": [
    {
     "data": {
      "image/png": "[encoded data removed]",
      "text/plain": [
       "<Figure size 432x288 with 1 Axes>"
      ]
     },
     "metadata": {
      "needs_background": "light"
     },
     "output_type": "display_data"
    }
   ],
   "source": [
    "boxplot = df_regex.boxplot()"
   ]
  },
  {
   "cell_type": "code",
   "execution_count": 52,
   "metadata": {},
   "outputs": [
    {
     "data": {
      "image/png": "[encoded data removed]",
      "text/plain": [
       "<Figure size 432x288 with 16 Axes>"
      ]
     },
     "metadata": {
      "needs_background": "light"
     },
     "output_type": "display_data"
    }
   ],
   "source": [
    "pd.plotting.scatter_matrix(df_regex[['BasketID', 'CustomerID', 'Qta', 'Sale']])\n",
    "plt.show()"
   ]
  },
  {
   "cell_type": "code",
   "execution_count": 43,
   "metadata": {},
   "outputs": [
    {
     "name": "stdout",
     "output_type": "stream",
     "text": [
      "<class 'pandas.core.frame.DataFrame'>\n"
     ]
    },
    {
     "data": {
      "image/png": "[encoded data removed]",
      "text/plain": [
       "<Figure size 432x288 with 1 Axes>"
      ]
     },
     "metadata": {
      "needs_background": "light"
     },
     "output_type": "display_data"
    }
   ],
   "source": [
    "temp = df_regex.groupby('CustomerCountry').CustomerID.nunique().reset_index()\n",
    "print(type(temp))\n",
    "#temp.plot(kind='bar', title='Size Counts')\n",
    "plt.bar(temp['CustomerCountry'],temp['CustomerID'])\n",
    "plt.show()"
   ]
  },
  {
   "cell_type": "markdown",
   "metadata": {},
   "source": [
    "There seems to be absolutely no correlation between the values of the dataset"
   ]
  },
  {
   "cell_type": "code",
   "execution_count": 61,
   "metadata": {},
   "outputs": [
    {
     "data": {
      "image/png": "[encoded data removed]",
      "text/plain": [
       "<Figure size 432x288 with 2 Axes>"
      ]
     },
     "metadata": {
      "needs_background": "light"
     },
     "output_type": "display_data"
    }
   ],
   "source": [
    "import seaborn as sns\n",
    "\n",
    "cmap = sns.color_palette(\"Blues\")\n",
    "sns.heatmap(correlations, annot=True, cmap=cmap)\n",
    "plt.show()"
   ]
  },
  {
   "cell_type": "markdown",
   "metadata": {},
   "source": [
    "We clearly have a problem with outliers"
   ]
  },
  {
   "cell_type": "markdown",
   "metadata": {},
   "source": [
    "Seems like we have a lot of problems with outliers in Sale and Qta rows.\n",
    "We proceed to filter them out."
   ]
  },
  {
   "cell_type": "code",
   "execution_count": 15,
   "metadata": {},
   "outputs": [
    {
     "name": "stdout",
     "output_type": "stream",
     "text": [
      "[[ 1  2 10]\n",
      " [ 1 10  2]]\n"
     ]
    }
   ],
   "source": [
    "print(np.array([[1,2,10],[1,10,2]]))"
   ]
  },
  {
   "cell_type": "code",
   "execution_count": 14,
   "metadata": {},
   "outputs": [
    {
     "name": "stdout",
     "output_type": "stream",
     "text": [
      "[[0.0251523  0.01030001]\n",
      " [0.04103556 0.05808746]\n",
      " [0.0251523  0.0017874 ]\n",
      " ...\n",
      " [0.06883128 0.10446939]\n",
      " [0.06883128 0.03186538]\n",
      " [0.05294801 0.03186538]]\n",
      "(array([  3462,   3526,   3527,   3570,   4038,  10310,  10311,  10319,\n",
      "        10320,  11778,  12445,  12550,  15867,  20751,  20932,  23793,\n",
      "        24499,  31017,  31252,  31253,  31254,  31255,  31789,  31790,\n",
      "        31791,  31850,  36061,  36948,  45537,  48379,  48512,  49437,\n",
      "        49442,  49763,  52086,  52087,  52088,  52897,  54056,  54692,\n",
      "        56008,  59622,  59948,  61602,  66536,  66581,  68870,  68872,\n",
      "        70340,  72257,  74351,  74352,  75737,  76083,  78266,  78267,\n",
      "        78269,  80245,  80246,  84269,  86718,  90639,  91690,  92757,\n",
      "        92759,  92799,  92806,  93036,  93442,  94682,  94683,  95202,\n",
      "        98735,  99047, 101228, 102385, 102387, 106578, 107043, 107044,\n",
      "       107045, 107047, 109110, 109111, 109113, 109114, 110636, 112327,\n",
      "       113427, 113429, 113846, 114135, 115664, 119006, 122203, 124335,\n",
      "       124978, 125771, 126279, 130736, 132830, 136298, 136664, 136959,\n",
      "       136960, 137257, 137339, 137341, 138644, 139868, 140192, 141878,\n",
      "       151383, 151390, 152128, 152129, 152773, 154410, 157852, 162359,\n",
      "       167330, 168004, 168014, 168016, 171212, 172117, 172428, 173571,\n",
      "       180768, 183327, 184918, 185269, 188767, 190514, 192742, 194498,\n",
      "       195657, 196544, 199013, 199926, 199936, 204544, 205641, 210127,\n",
      "       210643, 216482, 221436, 222337, 222571, 223394, 224168, 224677,\n",
      "       230000, 231519, 239301, 243088, 243796, 243797, 243801, 243802,\n",
      "       243803, 243804, 246114, 254076, 260478, 260479, 261545, 263095,\n",
      "       263922, 264285, 264376, 265563, 267182, 269057, 271790, 271837,\n",
      "       271838, 276711, 277224, 277225, 282777, 284823, 284824, 285933,\n",
      "       289214, 291458, 296085, 297472, 298481, 298759, 299839, 300260,\n",
      "       301573, 301614, 302283, 302307, 303388, 303901, 308992, 311275,\n",
      "       311387, 313774, 313985, 313987, 313988, 325085, 325236, 326750,\n",
      "       327516, 327825, 336667, 337164, 337195, 338719, 349807, 351865,\n",
      "       353825, 353826, 353827, 356645, 361522, 366466, 367908, 368719,\n",
      "       369372, 371307, 373666, 373835, 375115, 378240, 378241, 378242,\n",
      "       380233, 383436, 384449, 384528, 385620, 387094, 387095, 387423,\n",
      "       387914, 388015, 388083, 388420, 388640, 388746, 388854, 389078,\n",
      "       389378, 389475, 389588, 389656, 389657, 389889, 389890, 390342,\n",
      "       390343, 390356, 390443, 390623, 390645, 390646, 390647, 390649,\n",
      "       390877, 390878, 390977, 390993, 391052, 391057, 391058, 391135,\n",
      "       391243, 391254, 391256, 391633, 391654, 391670, 391871, 392123,\n",
      "       392405, 392414, 392446, 392447, 392448, 392449, 392450, 392451,\n",
      "       392543, 392544, 392550, 392895, 392928, 392962, 393034, 393065,\n",
      "       393689, 393731, 393782, 393819, 393998, 394174, 394183, 394209,\n",
      "       394387, 394617, 394636, 394653, 394654, 394656, 394885, 394900,\n",
      "       394901, 394911, 394977, 395109, 395166, 395232, 395269, 395291,\n",
      "       395397, 395670, 395682, 395802, 396107, 396241, 396485, 396680,\n",
      "       396683]), array([0, 0, 0, 1, 0, 0, 0, 0, 0, 0, 0, 0, 0, 1, 0, 0, 0, 1, 0, 0, 0, 0,\n",
      "       0, 0, 0, 0, 0, 0, 0, 0, 0, 0, 0, 1, 0, 0, 0, 0, 0, 0, 0, 1, 0, 0,\n",
      "       1, 1, 0, 0, 0, 0, 1, 1, 1, 0, 0, 0, 0, 0, 0, 0, 1, 0, 0, 0, 0, 0,\n",
      "       0, 1, 0, 1, 1, 1, 0, 1, 1, 0, 0, 1, 0, 0, 0, 0, 0, 0, 0, 0, 0, 0,\n",
      "       0, 0, 1, 1, 1, 0, 1, 0, 0, 1, 1, 1, 0, 1, 0, 1, 1, 0, 0, 0, 0, 1,\n",
      "       0, 0, 0, 0, 1, 1, 0, 0, 0, 1, 1, 0, 0, 0, 1, 0, 0, 0, 1, 1, 0, 1,\n",
      "       0, 0, 0, 0, 1, 0, 0, 0, 0, 1, 0, 0, 0, 0, 0, 0, 0, 0, 1, 0, 0, 0,\n",
      "       1, 0, 0, 0, 0, 0, 0, 0, 1, 1, 0, 0, 0, 1, 0, 1, 1, 0, 1, 0, 0, 0,\n",
      "       0, 1, 0, 0, 1, 1, 1, 1, 1, 0, 1, 1, 0, 1, 0, 0, 0, 0, 1, 1, 0, 0,\n",
      "       1, 0, 0, 0, 0, 0, 0, 0, 0, 0, 1, 1, 1, 1, 0, 0, 1, 0, 0, 0, 0, 1,\n",
      "       0, 1, 0, 0, 0, 0, 0, 0, 0, 1, 0, 0, 1, 0, 0, 1, 0, 0, 0, 0, 0, 1,\n",
      "       1, 1, 1, 1, 0, 1, 1, 1, 1, 1, 1, 1, 1, 1, 1, 1, 1, 1, 0, 0, 0, 0,\n",
      "       1, 1, 1, 0, 1, 0, 1, 1, 1, 1, 1, 1, 1, 0, 1, 1, 1, 1, 1, 1, 1, 1,\n",
      "       1, 1, 1, 1, 1, 1, 1, 1, 1, 0, 1, 1, 0, 1, 1, 1, 1, 0, 1, 1, 1, 0,\n",
      "       0, 0, 1, 1, 1, 1, 1, 1, 1, 1, 1, 1, 1, 1, 1, 1, 1, 1, 1, 0, 1]))\n"
     ]
    }
   ],
   "source": [
    "import scipy\n",
    "\n",
    "z = np.abs(scipy.stats.zscore(df_regex[['Qta','Sale']]))\n",
    "filtered = np.where(z > 3)\n",
    "print(z)\n",
    "print(filtered)"
   ]
  },
  {
   "cell_type": "code",
   "execution_count": null,
   "metadata": {},
   "outputs": [],
   "source": [
    "import scipy\n",
    "\n",
    "zscores = scipy.stats.zscore(df_regex)\n",
    "abs_zscores = np.abs(zscore)\n",
    "filtered_outliers = (abs_zscores < 3).all(axis = 1)\n",
    "\n",
    "df_no_outliers = df_regex(filtered_outliers)"
   ]
  },
  {
   "cell_type": "code",
   "execution_count": null,
   "metadata": {},
   "outputs": [],
   "source": [
    "df_no_outliers.describe\n",
    "df_no_outliers"
   ]
  },
  {
   "cell_type": "markdown",
   "metadata": {},
   "source": [
    "## CESTINO\n",
    "\n",
    "df_clean.infer_objects().dtypes\n",
    "\n",
    "print(df_clean.convert_dtypes().info())\n",
    "\n",
    "df_clean.describe()\n",
    "\n",
    "df_regex.describe()"
   ]
  },
  {
   "cell_type": "code",
   "execution_count": null,
   "metadata": {},
   "outputs": [],
   "source": []
  }
 ],
 "metadata": {
  "kernelspec": {
   "display_name": "Python 3",
   "language": "python",
   "name": "python3"
  },
  "language_info": {
   "codemirror_mode": {
    "name": "ipython",
    "version": 3
   },
   "file_extension": ".py",
   "mimetype": "text/x-python",
   "name": "python",
   "nbconvert_exporter": "python",
   "pygments_lexer": "ipython3",
   "version": "3.8.5"
  }
 },
 "nbformat": 4,
 "nbformat_minor": 4
}
