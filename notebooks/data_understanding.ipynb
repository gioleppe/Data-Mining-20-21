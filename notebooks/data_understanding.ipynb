{
 "cells": [
  {
   "cell_type": "code",
   "execution_count": 73,
   "metadata": {},
   "outputs": [],
   "source": [
    "import matplotlib.pyplot as plt\n",
    "import numpy as np\n",
    "import pandas as pd\n",
    "import math\n",
    "import scipy.stats as stats\n",
    "\n",
    "from collections import defaultdict\n",
    "from scipy.stats.stats import pearsonr"
   ]
  },
  {
   "cell_type": "markdown",
   "metadata": {},
   "source": [
    "## Loading the dataset"
   ]
  },
  {
   "cell_type": "code",
   "execution_count": 74,
   "metadata": {},
   "outputs": [],
   "source": [
    "df = pd.read_csv(\"../dataset/customer_supermarket.csv\", sep=\"\\t\", index_col=0, parse_dates=[\"BasketDate\"], decimal=\",\")"
   ]
  },
  {
   "cell_type": "code",
   "execution_count": 75,
   "metadata": {},
   "outputs": [
    {
     "output_type": "stream",
     "name": "stdout",
     "text": [
      "  BasketID          BasketDate  Sale CustomerID CustomerCountry  ProdID  \\\n0   536365 2010-01-12 08:26:00  2.55    17850.0  United Kingdom  85123A   \n1   536365 2010-01-12 08:26:00  3.39    17850.0  United Kingdom   71053   \n2   536365 2010-01-12 08:26:00  2.75    17850.0  United Kingdom  84406B   \n3   536365 2010-01-12 08:26:00  3.39    17850.0  United Kingdom  84029G   \n4   536365 2010-01-12 08:26:00  3.39    17850.0  United Kingdom  84029E   \n\n                             ProdDescr  Qta  \n0   WHITE HANGING HEART T-LIGHT HOLDER    6  \n1                  WHITE METAL LANTERN    6  \n2       CREAM CUPID HEARTS COAT HANGER    8  \n3  KNITTED UNION FLAG HOT WATER BOTTLE    6  \n4       RED WOOLLY HOTTIE WHITE HEART.    6  \n\n       BasketID          BasketDate   Sale CustomerID CustomerCountry ProdID  \\\n541905   581587 2011-09-12 12:50:00   2.10    12680.0          France  22899   \n541906   581587 2011-09-12 12:50:00   4.15    12680.0          France  23254   \n541907   581587 2011-09-12 12:50:00   4.15    12680.0          France  23255   \n541908   581587 2011-09-12 12:50:00   4.95    12680.0          France  22138   \n541909   581587 2011-09-12 12:50:00  18.00    12680.0          France   POST   \n\n                              ProdDescr  Qta  \n541905     CHILDREN'S APRON DOLLY GIRL     6  \n541906    CHILDRENS CUTLERY DOLLY GIRL     4  \n541907  CHILDRENS CUTLERY CIRCUS PARADE    4  \n541908    BAKING SET 9 PIECE RETROSPOT     3  \n541909                          POSTAGE    1  \n"
     ]
    }
   ],
   "source": [
    "print(df.head())\n",
    "print()\n",
    "print(df.tail())"
   ]
  },
  {
   "cell_type": "markdown",
   "metadata": {},
   "source": [
    "## Attributes and check"
   ]
  },
  {
   "cell_type": "code",
   "execution_count": 76,
   "metadata": {},
   "outputs": [
    {
     "output_type": "execute_result",
     "data": {
      "text/plain": [
       "BasketID                   object\n",
       "BasketDate         datetime64[ns]\n",
       "Sale                      float64\n",
       "CustomerID                 object\n",
       "CustomerCountry            object\n",
       "ProdID                     object\n",
       "ProdDescr                  object\n",
       "Qta                         int64\n",
       "dtype: object"
      ]
     },
     "metadata": {},
     "execution_count": 76
    }
   ],
   "source": [
    "df.dtypes"
   ]
  },
  {
   "cell_type": "code",
   "execution_count": 77,
   "metadata": {},
   "outputs": [
    {
     "output_type": "stream",
     "name": "stdout",
     "text": [
      "<class 'pandas.core.frame.DataFrame'>\nInt64Index: 471910 entries, 0 to 541909\nData columns (total 8 columns):\n #   Column           Non-Null Count   Dtype         \n---  ------           --------------   -----         \n 0   BasketID         471910 non-null  object        \n 1   BasketDate       471910 non-null  datetime64[ns]\n 2   Sale             471910 non-null  float64       \n 3   CustomerID       406830 non-null  object        \n 4   CustomerCountry  471910 non-null  object        \n 5   ProdID           471910 non-null  object        \n 6   ProdDescr        471157 non-null  object        \n 7   Qta              471910 non-null  int64         \ndtypes: datetime64[ns](1), float64(1), int64(1), object(5)\nmemory usage: 166.8 MB\n"
     ]
    }
   ],
   "source": [
    "df.info(memory_usage=\"deep\")"
   ]
  },
  {
   "cell_type": "code",
   "execution_count": 78,
   "metadata": {},
   "outputs": [
    {
     "output_type": "stream",
     "name": "stdout",
     "text": [
      "<class 'pandas.core.frame.DataFrame'>\nInt64Index: 471910 entries, 0 to 541909\nData columns (total 8 columns):\n #   Column           Non-Null Count   Dtype         \n---  ------           --------------   -----         \n 0   BasketID         471910 non-null  object        \n 1   BasketDate       471910 non-null  datetime64[ns]\n 2   Sale             471910 non-null  float64       \n 3   CustomerID       406830 non-null  object        \n 4   CustomerCountry  471910 non-null  object        \n 5   ProdID           471910 non-null  object        \n 6   ProdDescr        471157 non-null  object        \n 7   Qta              471910 non-null  int64         \ndtypes: datetime64[ns](1), float64(1), int64(1), object(5)\nmemory usage: 32.4+ MB\n"
     ]
    },
    {
     "output_type": "execute_result",
     "data": {
      "text/plain": [
       "       BasketID          BasketDate   Sale CustomerID CustomerCountry  ProdID  \\\n",
       "0        536365 2010-01-12 08:26:00   2.55    17850.0  United Kingdom  85123A   \n",
       "1        536365 2010-01-12 08:26:00   3.39    17850.0  United Kingdom   71053   \n",
       "2        536365 2010-01-12 08:26:00   2.75    17850.0  United Kingdom  84406B   \n",
       "3        536365 2010-01-12 08:26:00   3.39    17850.0  United Kingdom  84029G   \n",
       "4        536365 2010-01-12 08:26:00   3.39    17850.0  United Kingdom  84029E   \n",
       "...         ...                 ...    ...        ...             ...     ...   \n",
       "541905   581587 2011-09-12 12:50:00   2.10    12680.0          France   22899   \n",
       "541906   581587 2011-09-12 12:50:00   4.15    12680.0          France   23254   \n",
       "541907   581587 2011-09-12 12:50:00   4.15    12680.0          France   23255   \n",
       "541908   581587 2011-09-12 12:50:00   4.95    12680.0          France   22138   \n",
       "541909   581587 2011-09-12 12:50:00  18.00    12680.0          France    POST   \n",
       "\n",
       "                                  ProdDescr  Qta  \n",
       "0        WHITE HANGING HEART T-LIGHT HOLDER    6  \n",
       "1                       WHITE METAL LANTERN    6  \n",
       "2            CREAM CUPID HEARTS COAT HANGER    8  \n",
       "3       KNITTED UNION FLAG HOT WATER BOTTLE    6  \n",
       "4            RED WOOLLY HOTTIE WHITE HEART.    6  \n",
       "...                                     ...  ...  \n",
       "541905         CHILDREN'S APRON DOLLY GIRL     6  \n",
       "541906        CHILDRENS CUTLERY DOLLY GIRL     4  \n",
       "541907      CHILDRENS CUTLERY CIRCUS PARADE    4  \n",
       "541908        BAKING SET 9 PIECE RETROSPOT     3  \n",
       "541909                              POSTAGE    1  \n",
       "\n",
       "[471910 rows x 8 columns]"
      ],
      "text/html": "<div>\n<style scoped>\n    .dataframe tbody tr th:only-of-type {\n        vertical-align: middle;\n    }\n\n    .dataframe tbody tr th {\n        vertical-align: top;\n    }\n\n    .dataframe thead th {\n        text-align: right;\n    }\n</style>\n<table border=\"1\" class=\"dataframe\">\n  <thead>\n    <tr style=\"text-align: right;\">\n      <th></th>\n      <th>BasketID</th>\n      <th>BasketDate</th>\n      <th>Sale</th>\n      <th>CustomerID</th>\n      <th>CustomerCountry</th>\n      <th>ProdID</th>\n      <th>ProdDescr</th>\n      <th>Qta</th>\n    </tr>\n  </thead>\n  <tbody>\n    <tr>\n      <th>0</th>\n      <td>536365</td>\n      <td>2010-01-12 08:26:00</td>\n      <td>2.55</td>\n      <td>17850.0</td>\n      <td>United Kingdom</td>\n      <td>85123A</td>\n      <td>WHITE HANGING HEART T-LIGHT HOLDER</td>\n      <td>6</td>\n    </tr>\n    <tr>\n      <th>1</th>\n      <td>536365</td>\n      <td>2010-01-12 08:26:00</td>\n      <td>3.39</td>\n      <td>17850.0</td>\n      <td>United Kingdom</td>\n      <td>71053</td>\n      <td>WHITE METAL LANTERN</td>\n      <td>6</td>\n    </tr>\n    <tr>\n      <th>2</th>\n      <td>536365</td>\n      <td>2010-01-12 08:26:00</td>\n      <td>2.75</td>\n      <td>17850.0</td>\n      <td>United Kingdom</td>\n      <td>84406B</td>\n      <td>CREAM CUPID HEARTS COAT HANGER</td>\n      <td>8</td>\n    </tr>\n    <tr>\n      <th>3</th>\n      <td>536365</td>\n      <td>2010-01-12 08:26:00</td>\n      <td>3.39</td>\n      <td>17850.0</td>\n      <td>United Kingdom</td>\n      <td>84029G</td>\n      <td>KNITTED UNION FLAG HOT WATER BOTTLE</td>\n      <td>6</td>\n    </tr>\n    <tr>\n      <th>4</th>\n      <td>536365</td>\n      <td>2010-01-12 08:26:00</td>\n      <td>3.39</td>\n      <td>17850.0</td>\n      <td>United Kingdom</td>\n      <td>84029E</td>\n      <td>RED WOOLLY HOTTIE WHITE HEART.</td>\n      <td>6</td>\n    </tr>\n    <tr>\n      <th>...</th>\n      <td>...</td>\n      <td>...</td>\n      <td>...</td>\n      <td>...</td>\n      <td>...</td>\n      <td>...</td>\n      <td>...</td>\n      <td>...</td>\n    </tr>\n    <tr>\n      <th>541905</th>\n      <td>581587</td>\n      <td>2011-09-12 12:50:00</td>\n      <td>2.10</td>\n      <td>12680.0</td>\n      <td>France</td>\n      <td>22899</td>\n      <td>CHILDREN'S APRON DOLLY GIRL</td>\n      <td>6</td>\n    </tr>\n    <tr>\n      <th>541906</th>\n      <td>581587</td>\n      <td>2011-09-12 12:50:00</td>\n      <td>4.15</td>\n      <td>12680.0</td>\n      <td>France</td>\n      <td>23254</td>\n      <td>CHILDRENS CUTLERY DOLLY GIRL</td>\n      <td>4</td>\n    </tr>\n    <tr>\n      <th>541907</th>\n      <td>581587</td>\n      <td>2011-09-12 12:50:00</td>\n      <td>4.15</td>\n      <td>12680.0</td>\n      <td>France</td>\n      <td>23255</td>\n      <td>CHILDRENS CUTLERY CIRCUS PARADE</td>\n      <td>4</td>\n    </tr>\n    <tr>\n      <th>541908</th>\n      <td>581587</td>\n      <td>2011-09-12 12:50:00</td>\n      <td>4.95</td>\n      <td>12680.0</td>\n      <td>France</td>\n      <td>22138</td>\n      <td>BAKING SET 9 PIECE RETROSPOT</td>\n      <td>3</td>\n    </tr>\n    <tr>\n      <th>541909</th>\n      <td>581587</td>\n      <td>2011-09-12 12:50:00</td>\n      <td>18.00</td>\n      <td>12680.0</td>\n      <td>France</td>\n      <td>POST</td>\n      <td>POSTAGE</td>\n      <td>1</td>\n    </tr>\n  </tbody>\n</table>\n<p>471910 rows × 8 columns</p>\n</div>"
     },
     "metadata": {},
     "execution_count": 78
    }
   ],
   "source": [
    "df.info()\n",
    "df"
   ]
  },
  {
   "cell_type": "markdown",
   "metadata": {},
   "source": [
    "## Observations\n",
    "CustomerID and ProdDescr both feature some null values.\n",
    "All the columns have wrong datatypes."
   ]
  },
  {
   "cell_type": "code",
   "execution_count": 79,
   "metadata": {},
   "outputs": [],
   "source": [
    "# drops the duplicate data from the dataset\n",
    "df_nodup = df.drop_duplicates()"
   ]
  },
  {
   "cell_type": "code",
   "execution_count": 80,
   "metadata": {},
   "outputs": [
    {
     "output_type": "stream",
     "name": "stdout",
     "text": [
      "Dropped 5232 duplicate rows\n"
     ]
    }
   ],
   "source": [
    "print(f\"Dropped {len(df) - len(df_nodup)} duplicate rows\")"
   ]
  },
  {
   "cell_type": "code",
   "execution_count": 81,
   "metadata": {},
   "outputs": [
    {
     "output_type": "stream",
     "name": "stdout",
     "text": [
      "<class 'pandas.core.frame.DataFrame'>\nInt64Index: 471910 entries, 0 to 541909\nData columns (total 8 columns):\n #   Column           Non-Null Count   Dtype         \n---  ------           --------------   -----         \n 0   BasketID         471910 non-null  object        \n 1   BasketDate       471910 non-null  datetime64[ns]\n 2   Sale             471910 non-null  float64       \n 3   CustomerID       406830 non-null  object        \n 4   CustomerCountry  471910 non-null  object        \n 5   ProdID           471910 non-null  object        \n 6   ProdDescr        471157 non-null  object        \n 7   Qta              471910 non-null  int64         \ndtypes: datetime64[ns](1), float64(1), int64(1), object(5)\nmemory usage: 32.4+ MB\n"
     ]
    }
   ],
   "source": [
    "df.info()"
   ]
  },
  {
   "cell_type": "markdown",
   "metadata": {},
   "source": [
    "## Printing rows with null values"
   ]
  },
  {
   "cell_type": "code",
   "execution_count": 92,
   "metadata": {},
   "outputs": [
    {
     "output_type": "stream",
     "name": "stdout",
     "text": [
      "       BasketID          BasketDate     Sale CustomerID CustomerCountry  \\\n1444     536544 2010-01-12 14:32:00     2.51        NaN  United Kingdom   \n1446     536544 2010-01-12 14:32:00     1.66        NaN  United Kingdom   \n1447     536544 2010-01-12 14:32:00     1.66        NaN  United Kingdom   \n1448     536544 2010-01-12 14:32:00     2.51        NaN  United Kingdom   \n1450     536544 2010-01-12 14:32:00     0.43        NaN  United Kingdom   \n...         ...                 ...      ...        ...             ...   \n541532   581498 2011-09-12 10:26:00     4.13        NaN  United Kingdom   \n541534   581498 2011-09-12 10:26:00     3.29        NaN  United Kingdom   \n541538   581498 2011-09-12 10:26:00     4.96        NaN  United Kingdom   \n541539   581498 2011-09-12 10:26:00    10.79        NaN  United Kingdom   \n541540   581498 2011-09-12 10:26:00  1714.17        NaN  United Kingdom   \n\n        ProdID                           ProdDescr  Qta  \n1444     21774     DECORATIVE CATS BATHROOM BOTTLE    2  \n1446     21787               RAIN PONCHO RETROSPOT    2  \n1447     21790                  VINTAGE SNAP CARDS    9  \n1448     21791  VINTAGE HEADS AND TAILS CARD GAME     2  \n1450     21802     CHRISTMAS TREE HEART DECORATION    9  \n...        ...                                 ...  ...  \n541532   85038     6 CHOCOLATE LOVE HEART T-LIGHTS    1  \n541534  85049a       TRADITIONAL CHRISTMAS RIBBONS    5  \n541538   85150       LADIES & GENTLEMEN METAL SIGN    1  \n541539   85174                   S/4 CACTI CANDLES    1  \n541540     DOT                      DOTCOM POSTAGE    1  \n\n[65073 rows x 8 columns]\n\nWe have 65073 rows with null values,       13.943875648734243 percent of the dataset without duplicated.\n"
     ]
    }
   ],
   "source": [
    "df_null = df_nodup[df_nodup.isna().any(axis=1)]\n",
    "print(df_null)\n",
    "print()\n",
    "print(f\"We have {len(df_null)} rows with null values, \\\n",
    "      {len(df_null)/len(df_nodup) * 100} percent of the dataset without duplicated.\")\n",
    "\n",
    "#serializing the df with null values\n",
    "df_null.to_csv(\"../dataset/customer_supermarket_nan.csv\")\n"
   ]
  },
  {
   "cell_type": "markdown",
   "metadata": {},
   "source": [
    "### Dropping null columns (or not?)"
   ]
  },
  {
   "source": [
    "We check columns with null values"
   ],
   "cell_type": "markdown",
   "metadata": {}
  },
  {
   "cell_type": "code",
   "execution_count": 83,
   "metadata": {},
   "outputs": [
    {
     "output_type": "execute_result",
     "data": {
      "text/plain": [
       "BasketID           False\n",
       "BasketDate         False\n",
       "Sale               False\n",
       "CustomerID          True\n",
       "CustomerCountry    False\n",
       "ProdID             False\n",
       "ProdDescr           True\n",
       "Qta                False\n",
       "dtype: bool"
      ]
     },
     "metadata": {},
     "execution_count": 83
    }
   ],
   "source": [
    "df_nodup.isna().any()"
   ]
  },
  {
   "cell_type": "markdown",
   "metadata": {},
   "source": [
    "We see that the only columns with null values are CustomerID and ProdDescr.\n",
    "For now we'd like to drop rows containing null values."
   ]
  },
  {
   "cell_type": "code",
   "execution_count": 84,
   "metadata": {},
   "outputs": [
    {
     "output_type": "stream",
     "name": "stdout",
     "text": [
      "<class 'pandas.core.frame.DataFrame'>\nInt64Index: 401605 entries, 0 to 541909\nData columns (total 8 columns):\n #   Column           Non-Null Count   Dtype         \n---  ------           --------------   -----         \n 0   BasketID         401605 non-null  object        \n 1   BasketDate       401605 non-null  datetime64[ns]\n 2   Sale             401605 non-null  float64       \n 3   CustomerID       401605 non-null  object        \n 4   CustomerCountry  401605 non-null  object        \n 5   ProdID           401605 non-null  object        \n 6   ProdDescr        401605 non-null  object        \n 7   Qta              401605 non-null  int64         \ndtypes: datetime64[ns](1), float64(1), int64(1), object(5)\nmemory usage: 27.6+ MB\n"
     ]
    }
   ],
   "source": [
    "df_clean = df_nodup.dropna()\n",
    "df_clean.info()"
   ]
  },
  {
   "cell_type": "code",
   "execution_count": 85,
   "metadata": {},
   "outputs": [
    {
     "output_type": "stream",
     "name": "stdout",
     "text": [
      "Distinct values in Customer Country: \t ['United Kingdom' 'France' 'Australia' 'Netherlands' 'Germany' 'Norway'\n 'EIRE' 'Switzerland' 'Spain' 'Poland' 'Portugal' 'Italy' 'Belgium'\n 'Lithuania' 'Japan' 'Iceland' 'Channel Islands' 'Denmark' 'Cyprus'\n 'Sweden' 'Austria' 'Israel' 'Finland' 'Greece' 'Singapore' 'Lebanon'\n 'United Arab Emirates' 'Saudi Arabia' 'Czech Republic' 'Canada'\n 'Unspecified' 'Brazil' 'USA' 'European Community' 'Bahrain' 'Malta' 'RSA']\n"
     ]
    }
   ],
   "source": [
    "print(\"Distinct values in Customer Country: \\t\", df_clean.CustomerCountry.unique())\n",
    "#print(\"Distinct values in ProdID: \\t\", df_clean.ProdID.unique())\n",
    "#print(\"Distinct values in ProdDescr: \\t\", df_clean.ProdDescr.unique())"
   ]
  },
  {
   "cell_type": "markdown",
   "metadata": {},
   "source": [
    "We have people coming from unspecified countries, a generic \"European Community\", EIRE which stands for Ireland and RSA which stands for Republic of South Africa."
   ]
  },
  {
   "cell_type": "code",
   "execution_count": 86,
   "metadata": {},
   "outputs": [
    {
     "output_type": "stream",
     "name": "stdout",
     "text": [
      "Number of customers from Unspecified countries: \t 241\nNumber of customers from generic European Community countries: \t 61\n"
     ]
    }
   ],
   "source": [
    "print(\"Number of customers from Unspecified countries: \\t\", (df_clean.CustomerCountry == \"Unspecified\").sum())\n",
    "print(\"Number of customers from generic European Community countries: \\t\", (df_clean.CustomerCountry == \"European Community\").sum())\n"
   ]
  },
  {
   "cell_type": "code",
   "execution_count": 87,
   "metadata": {},
   "outputs": [
    {
     "output_type": "execute_result",
     "data": {
      "text/plain": [
       "BasketID                   object\n",
       "BasketDate         datetime64[ns]\n",
       "Sale                      float64\n",
       "CustomerID                 object\n",
       "CustomerCountry            object\n",
       "ProdID                     object\n",
       "ProdDescr                  object\n",
       "Qta                         int64\n",
       "dtype: object"
      ]
     },
     "metadata": {},
     "execution_count": 87
    }
   ],
   "source": [
    "df_clean.infer_objects().dtypes"
   ]
  },
  {
   "cell_type": "code",
   "execution_count": 88,
   "metadata": {},
   "outputs": [
    {
     "output_type": "stream",
     "name": "stdout",
     "text": [
      "<class 'pandas.core.frame.DataFrame'>\nInt64Index: 401605 entries, 0 to 541909\nData columns (total 8 columns):\n #   Column           Non-Null Count   Dtype         \n---  ------           --------------   -----         \n 0   BasketID         401605 non-null  string        \n 1   BasketDate       401605 non-null  datetime64[ns]\n 2   Sale             401605 non-null  float64       \n 3   CustomerID       401605 non-null  string        \n 4   CustomerCountry  401605 non-null  string        \n 5   ProdID           401605 non-null  string        \n 6   ProdDescr        401605 non-null  string        \n 7   Qta              401605 non-null  Int64         \ndtypes: Int64(1), datetime64[ns](1), float64(1), string(5)\nmemory usage: 28.0 MB\nNone\n"
     ]
    }
   ],
   "source": [
    "print(df_clean.convert_dtypes().info())"
   ]
  },
  {
   "cell_type": "code",
   "execution_count": 89,
   "metadata": {},
   "outputs": [
    {
     "output_type": "execute_result",
     "data": {
      "text/plain": [
       "                Sale            Qta\n",
       "count  401605.000000  401605.000000\n",
       "mean        3.474100      12.183245\n",
       "std        69.763952     250.282726\n",
       "min         0.000000  -80995.000000\n",
       "25%         1.250000       2.000000\n",
       "50%         1.950000       5.000000\n",
       "75%         3.750000      12.000000\n",
       "max     38970.000000   80995.000000"
      ],
      "text/html": "<div>\n<style scoped>\n    .dataframe tbody tr th:only-of-type {\n        vertical-align: middle;\n    }\n\n    .dataframe tbody tr th {\n        vertical-align: top;\n    }\n\n    .dataframe thead th {\n        text-align: right;\n    }\n</style>\n<table border=\"1\" class=\"dataframe\">\n  <thead>\n    <tr style=\"text-align: right;\">\n      <th></th>\n      <th>Sale</th>\n      <th>Qta</th>\n    </tr>\n  </thead>\n  <tbody>\n    <tr>\n      <th>count</th>\n      <td>401605.000000</td>\n      <td>401605.000000</td>\n    </tr>\n    <tr>\n      <th>mean</th>\n      <td>3.474100</td>\n      <td>12.183245</td>\n    </tr>\n    <tr>\n      <th>std</th>\n      <td>69.763952</td>\n      <td>250.282726</td>\n    </tr>\n    <tr>\n      <th>min</th>\n      <td>0.000000</td>\n      <td>-80995.000000</td>\n    </tr>\n    <tr>\n      <th>25%</th>\n      <td>1.250000</td>\n      <td>2.000000</td>\n    </tr>\n    <tr>\n      <th>50%</th>\n      <td>1.950000</td>\n      <td>5.000000</td>\n    </tr>\n    <tr>\n      <th>75%</th>\n      <td>3.750000</td>\n      <td>12.000000</td>\n    </tr>\n    <tr>\n      <th>max</th>\n      <td>38970.000000</td>\n      <td>80995.000000</td>\n    </tr>\n  </tbody>\n</table>\n</div>"
     },
     "metadata": {},
     "execution_count": 89
    }
   ],
   "source": [
    "df_clean.describe()"
   ]
  },
  {
   "cell_type": "code",
   "execution_count": 90,
   "metadata": {},
   "outputs": [],
   "source": [
    "df_clean['CustomerID'] = pd.to_numeric(df_clean.CustomerID)\n",
    "df_clean.CustomerID = df_clean.CustomerID.astype(int)"
   ]
  },
  {
   "cell_type": "code",
   "execution_count": 91,
   "metadata": {},
   "outputs": [
    {
     "output_type": "stream",
     "name": "stdout",
     "text": [
      "<class 'pandas.core.frame.DataFrame'>\nInt64Index: 401605 entries, 0 to 541909\nData columns (total 8 columns):\n #   Column           Non-Null Count   Dtype         \n---  ------           --------------   -----         \n 0   BasketID         401605 non-null  object        \n 1   BasketDate       401605 non-null  datetime64[ns]\n 2   Sale             401605 non-null  float64       \n 3   CustomerID       401605 non-null  int64         \n 4   CustomerCountry  401605 non-null  object        \n 5   ProdID           401605 non-null  object        \n 6   ProdDescr        401605 non-null  object        \n 7   Qta              401605 non-null  int64         \ndtypes: datetime64[ns](1), float64(1), int64(2), object(4)\nmemory usage: 27.6+ MB\n"
     ]
    },
    {
     "output_type": "execute_result",
     "data": {
      "text/plain": [
       "       BasketID          BasketDate   Sale  CustomerID CustomerCountry  \\\n",
       "0        536365 2010-01-12 08:26:00   2.55       17850  United Kingdom   \n",
       "1        536365 2010-01-12 08:26:00   3.39       17850  United Kingdom   \n",
       "2        536365 2010-01-12 08:26:00   2.75       17850  United Kingdom   \n",
       "3        536365 2010-01-12 08:26:00   3.39       17850  United Kingdom   \n",
       "4        536365 2010-01-12 08:26:00   3.39       17850  United Kingdom   \n",
       "...         ...                 ...    ...         ...             ...   \n",
       "541905   581587 2011-09-12 12:50:00   2.10       12680          France   \n",
       "541906   581587 2011-09-12 12:50:00   4.15       12680          France   \n",
       "541907   581587 2011-09-12 12:50:00   4.15       12680          France   \n",
       "541908   581587 2011-09-12 12:50:00   4.95       12680          France   \n",
       "541909   581587 2011-09-12 12:50:00  18.00       12680          France   \n",
       "\n",
       "        ProdID                            ProdDescr  Qta  \n",
       "0       85123A   WHITE HANGING HEART T-LIGHT HOLDER    6  \n",
       "1        71053                  WHITE METAL LANTERN    6  \n",
       "2       84406B       CREAM CUPID HEARTS COAT HANGER    8  \n",
       "3       84029G  KNITTED UNION FLAG HOT WATER BOTTLE    6  \n",
       "4       84029E       RED WOOLLY HOTTIE WHITE HEART.    6  \n",
       "...        ...                                  ...  ...  \n",
       "541905   22899         CHILDREN'S APRON DOLLY GIRL     6  \n",
       "541906   23254        CHILDRENS CUTLERY DOLLY GIRL     4  \n",
       "541907   23255      CHILDRENS CUTLERY CIRCUS PARADE    4  \n",
       "541908   22138        BAKING SET 9 PIECE RETROSPOT     3  \n",
       "541909    POST                              POSTAGE    1  \n",
       "\n",
       "[401605 rows x 8 columns]"
      ],
      "text/html": "<div>\n<style scoped>\n    .dataframe tbody tr th:only-of-type {\n        vertical-align: middle;\n    }\n\n    .dataframe tbody tr th {\n        vertical-align: top;\n    }\n\n    .dataframe thead th {\n        text-align: right;\n    }\n</style>\n<table border=\"1\" class=\"dataframe\">\n  <thead>\n    <tr style=\"text-align: right;\">\n      <th></th>\n      <th>BasketID</th>\n      <th>BasketDate</th>\n      <th>Sale</th>\n      <th>CustomerID</th>\n      <th>CustomerCountry</th>\n      <th>ProdID</th>\n      <th>ProdDescr</th>\n      <th>Qta</th>\n    </tr>\n  </thead>\n  <tbody>\n    <tr>\n      <th>0</th>\n      <td>536365</td>\n      <td>2010-01-12 08:26:00</td>\n      <td>2.55</td>\n      <td>17850</td>\n      <td>United Kingdom</td>\n      <td>85123A</td>\n      <td>WHITE HANGING HEART T-LIGHT HOLDER</td>\n      <td>6</td>\n    </tr>\n    <tr>\n      <th>1</th>\n      <td>536365</td>\n      <td>2010-01-12 08:26:00</td>\n      <td>3.39</td>\n      <td>17850</td>\n      <td>United Kingdom</td>\n      <td>71053</td>\n      <td>WHITE METAL LANTERN</td>\n      <td>6</td>\n    </tr>\n    <tr>\n      <th>2</th>\n      <td>536365</td>\n      <td>2010-01-12 08:26:00</td>\n      <td>2.75</td>\n      <td>17850</td>\n      <td>United Kingdom</td>\n      <td>84406B</td>\n      <td>CREAM CUPID HEARTS COAT HANGER</td>\n      <td>8</td>\n    </tr>\n    <tr>\n      <th>3</th>\n      <td>536365</td>\n      <td>2010-01-12 08:26:00</td>\n      <td>3.39</td>\n      <td>17850</td>\n      <td>United Kingdom</td>\n      <td>84029G</td>\n      <td>KNITTED UNION FLAG HOT WATER BOTTLE</td>\n      <td>6</td>\n    </tr>\n    <tr>\n      <th>4</th>\n      <td>536365</td>\n      <td>2010-01-12 08:26:00</td>\n      <td>3.39</td>\n      <td>17850</td>\n      <td>United Kingdom</td>\n      <td>84029E</td>\n      <td>RED WOOLLY HOTTIE WHITE HEART.</td>\n      <td>6</td>\n    </tr>\n    <tr>\n      <th>...</th>\n      <td>...</td>\n      <td>...</td>\n      <td>...</td>\n      <td>...</td>\n      <td>...</td>\n      <td>...</td>\n      <td>...</td>\n      <td>...</td>\n    </tr>\n    <tr>\n      <th>541905</th>\n      <td>581587</td>\n      <td>2011-09-12 12:50:00</td>\n      <td>2.10</td>\n      <td>12680</td>\n      <td>France</td>\n      <td>22899</td>\n      <td>CHILDREN'S APRON DOLLY GIRL</td>\n      <td>6</td>\n    </tr>\n    <tr>\n      <th>541906</th>\n      <td>581587</td>\n      <td>2011-09-12 12:50:00</td>\n      <td>4.15</td>\n      <td>12680</td>\n      <td>France</td>\n      <td>23254</td>\n      <td>CHILDRENS CUTLERY DOLLY GIRL</td>\n      <td>4</td>\n    </tr>\n    <tr>\n      <th>541907</th>\n      <td>581587</td>\n      <td>2011-09-12 12:50:00</td>\n      <td>4.15</td>\n      <td>12680</td>\n      <td>France</td>\n      <td>23255</td>\n      <td>CHILDRENS CUTLERY CIRCUS PARADE</td>\n      <td>4</td>\n    </tr>\n    <tr>\n      <th>541908</th>\n      <td>581587</td>\n      <td>2011-09-12 12:50:00</td>\n      <td>4.95</td>\n      <td>12680</td>\n      <td>France</td>\n      <td>22138</td>\n      <td>BAKING SET 9 PIECE RETROSPOT</td>\n      <td>3</td>\n    </tr>\n    <tr>\n      <th>541909</th>\n      <td>581587</td>\n      <td>2011-09-12 12:50:00</td>\n      <td>18.00</td>\n      <td>12680</td>\n      <td>France</td>\n      <td>POST</td>\n      <td>POSTAGE</td>\n      <td>1</td>\n    </tr>\n  </tbody>\n</table>\n<p>401605 rows × 8 columns</p>\n</div>"
     },
     "metadata": {},
     "execution_count": 91
    }
   ],
   "source": [
    "df_clean.info()\n",
    "df_clean"
   ]
  },
  {
   "source": [
    "The only attribute that still has a wrong datatype is BasketID, we have to remove letters at the beginning of the ID."
   ],
   "cell_type": "markdown",
   "metadata": {}
  },
  {
   "cell_type": "code",
   "execution_count": 93,
   "metadata": {},
   "outputs": [
    {
     "output_type": "stream",
     "name": "stdout",
     "text": [
      "<class 'pandas.core.frame.DataFrame'>\nInt64Index: 401605 entries, 0 to 541909\nData columns (total 8 columns):\n #   Column           Non-Null Count   Dtype         \n---  ------           --------------   -----         \n 0   BasketID         401605 non-null  object        \n 1   BasketDate       401605 non-null  datetime64[ns]\n 2   Sale             401605 non-null  float64       \n 3   CustomerID       401605 non-null  int64         \n 4   CustomerCountry  401605 non-null  object        \n 5   ProdID           401605 non-null  object        \n 6   ProdDescr        401605 non-null  object        \n 7   Qta              401605 non-null  int64         \ndtypes: datetime64[ns](1), float64(1), int64(2), object(4)\nmemory usage: 27.6+ MB\n"
     ]
    }
   ],
   "source": [
    "regex = \"\\D+\"\n",
    "df_regex = df_clean.replace(to_replace=r'\\D+', value='', regex=True)\n",
    "df_regex.BasketID = pd.to_numeric(df_regex.BasketID)\n",
    "df_regex.info()"
   ]
  },
  {
   "cell_type": "code",
   "execution_count": 94,
   "metadata": {},
   "outputs": [
    {
     "output_type": "stream",
     "name": "stdout",
     "text": [
      "0         536365\n1         536365\n2         536365\n3         536365\n4         536365\n           ...  \n541905    581587\n541906    581587\n541907    581587\n541908    581587\n541909    581587\nName: BasketID, Length: 401605, dtype: object\n"
     ]
    }
   ],
   "source": []
  },
  {
   "cell_type": "code",
   "execution_count": null,
   "metadata": {},
   "outputs": [],
   "source": []
  }
 ],
 "metadata": {
  "kernelspec": {
   "display_name": "Python 3",
   "language": "python",
   "name": "python3"
  },
  "language_info": {
   "codemirror_mode": {
    "name": "ipython",
    "version": 3
   },
   "file_extension": ".py",
   "mimetype": "text/x-python",
   "name": "python",
   "nbconvert_exporter": "python",
   "pygments_lexer": "ipython3",
   "version": "3.7.8-final"
  }
 },
 "nbformat": 4,
 "nbformat_minor": 4
}