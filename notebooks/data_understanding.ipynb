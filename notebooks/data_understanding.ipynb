{
 "cells": [
  {
   "cell_type": "code",
   "execution_count": 1,
   "metadata": {},
   "outputs": [],
   "source": [
    "import matplotlib.pyplot as plt\n",
    "import numpy as np\n",
    "import pandas as pd\n",
    "import json\n",
    "import math\n",
    "import time\n",
    "import scipy.stats as stats\n",
    "from tqdm import tqdm\n",
    "\n",
    "from collections import defaultdict\n",
    "from scipy.stats.stats import pearsonr"
   ]
  },
  {
   "cell_type": "markdown",
   "metadata": {},
   "source": [
    "## Loading the dataset"
   ]
  },
  {
   "cell_type": "code",
   "execution_count": 2,
   "metadata": {},
   "outputs": [],
   "source": [
    "df = pd.read_csv(\"../dataset/customer_supermarket.csv\", sep=\"\\t\", index_col=0, parse_dates=[\"BasketDate\"], decimal=\",\")"
   ]
  },
  {
   "cell_type": "markdown",
   "metadata": {},
   "source": [
    "## Attributes and check"
   ]
  },
  {
   "cell_type": "code",
   "execution_count": 3,
   "metadata": {},
   "outputs": [
    {
     "data": {
      "text/plain": [
       "BasketID                   object\n",
       "BasketDate         datetime64[ns]\n",
       "Sale                      float64\n",
       "CustomerID                 object\n",
       "CustomerCountry            object\n",
       "ProdID                     object\n",
       "ProdDescr                  object\n",
       "Qta                         int64\n",
       "dtype: object"
      ]
     },
     "execution_count": 3,
     "metadata": {},
     "output_type": "execute_result"
    }
   ],
   "source": [
    "df.dtypes"
   ]
  },
  {
   "cell_type": "markdown",
   "metadata": {},
   "source": [
    "Here we can have an idea of data types we are going to use\n",
    "\n",
    "| Attribute       | Type       |\n",
    "|-----------------|------------|\n",
    "| BasketID        | int64      |\n",
    "| BasketDate      | datetime64 |\n",
    "| Sale            | float64    |\n",
    "| CustomerID      | int64      |\n",
    "| CustomerCountry | object     |\n",
    "| ProdID          | object     |\n",
    "| ProdDescr       | object     |\n",
    "| Qta             | int64      |\n",
    "\n",
    "as we can see there are problems in the attribute values, so we have to evaluate what prevents us from getting the desired data types:\n",
    "\n",
    "The execution df['BasketID'].astype(int) tell us that some rows contains literal inside the attribute BasketID, this means the data type cannot be converted to int"
   ]
  },
  {
   "cell_type": "markdown",
   "metadata": {},
   "source": [
    "## Checking NaN values and duplicates\n",
    "\n",
    "It is possible to evaluate the quality of the data from the point of view of the rows, based on two aspects:\n",
    "- missing or partial value (NaN/Null values)\n",
    "- duplicates\n",
    "- duplicates products in the same basket\n",
    "\n",
    "Any duplicates or rows with missing values are temporarily removed from the dataset to allow for better evaluation"
   ]
  },
  {
   "cell_type": "code",
   "execution_count": 4,
   "metadata": {},
   "outputs": [
    {
     "name": "stdout",
     "output_type": "stream",
     "text": [
      "Duplicate rows in the dataset:  True | Number or rows removed:  5232\n",
      "NaN/Null values in the dataset:  True | Number or rows removed:  65073\n",
      "Number of rows with apparent problems to solve: 14.898%\n",
      "Number of identical items in multiple rows of the same receipt 4918\n"
     ]
    }
   ],
   "source": [
    "# check if there are duplicates\n",
    "areduplicates = df.duplicated().any()\n",
    "\n",
    "# duplicates have been removed from the data set\n",
    "df_nodup = df.drop_duplicates()\n",
    "\n",
    "# check if there are missing or incomplete values\n",
    "arenan = df.isnull().values.any()\n",
    "\n",
    "# rows with missing or incomplete values have been removed from the data set\n",
    "df_clean = df_nodup.dropna()\n",
    "\n",
    "print(\"Duplicate rows in the dataset: \", areduplicates, \"| Number or rows removed: \", len(df)-len(df_nodup))\n",
    "print(\"NaN/Null values in the dataset: \", arenan, \"| Number or rows removed: \", len(df_nodup)-len(df_clean))\n",
    "\n",
    "nmb_of_rmv_rows = len(df)-len(df_clean)\n",
    "\n",
    "print(f\"Number of rows with apparent problems to solve: {100*nmb_of_rmv_rows/len(df):.3f}%\")\n",
    "\n",
    "\n",
    "df_Sale_Qta_merge = df_clean.groupby(['BasketID','BasketDate','ProdID']).agg({'Qta':np.sum,\n",
    "                                                                         'Sale':np.sum,\n",
    "                                                                         'CustomerID':'min',\n",
    "                                                                         'CustomerCountry':'min',\n",
    "                                                                         'ProdDescr':'min'}).reset_index()\n",
    "\n",
    "df_Sale_Qta_merge.to_csv(\"../dataset/customer_supermarket_sale_qta_merge.csv\", sep=\"\\t\", decimal=\",\")\n",
    "\n",
    "print(f\"Number of identical items in multiple rows of the same receipt {len(df_clean) - len(df_Sale_Qta_merge)}\")"
   ]
  },
  {
   "cell_type": "markdown",
   "metadata": {},
   "source": [
    "## Checking data consistency\n",
    "\n",
    "Here we are verifing that the dataset is consistent:\n",
    "\n",
    "1. Every ProdID must match the same ProdDescr\n",
    "2. Every CustomerID must match the same BasketID in the same BasketDate\n",
    "3. Every CustomerID must match the same CustomerCountry"
   ]
  },
  {
   "cell_type": "code",
   "execution_count": 5,
   "metadata": {},
   "outputs": [
    {
     "name": "stderr",
     "output_type": "stream",
     "text": [
      "100%|██████████| 3684/3684 [02:12<00:00, 27.88it/s]\n"
     ]
    },
    {
     "name": "stdout",
     "output_type": "stream",
     "text": [
      "Number of not consistent ProdDescr: 213\n",
      "Every CustomerID matches the same BasketID in the same BasketDate:  True\n"
     ]
    },
    {
     "name": "stderr",
     "output_type": "stream",
     "text": [
      "100%|██████████| 4372/4372 [02:27<00:00, 29.56it/s]"
     ]
    },
    {
     "name": "stdout",
     "output_type": "stream",
     "text": [
      "Number of not consistent CustomerCountry: 8\n"
     ]
    },
    {
     "name": "stderr",
     "output_type": "stream",
     "text": [
      "\n"
     ]
    }
   ],
   "source": [
    "def inconsistent_set(K,V):\n",
    "    \n",
    "    inconsistentset = list()\n",
    "\n",
    "    for key in tqdm(df_Sale_Qta_merge[K].unique().tolist()):\n",
    "        temp_df = df_Sale_Qta_merge[df_Sale_Qta_merge[K] == key]\n",
    "        valueslist = temp_df[V].tolist()\n",
    "        for value in valueslist:\n",
    "            if(valueslist[0] != value):\n",
    "                inconsistentset.append(key)\n",
    "                break;\n",
    "    return inconsistentset\n",
    "\n",
    "\n",
    "# 1\n",
    "ProdID_ProdDescr_IS = inconsistent_set(\"ProdID\",\"ProdDescr\")\n",
    "            \n",
    "print(\"Number of not consistent ProdDescr:\", len(ProdID_ProdDescr_IS))\n",
    "\n",
    "with open('../dataset/inconsistent_ProdID_ProdDescr.json', 'w') as f:\n",
    "    json.dump(ProdID_ProdDescr_IS, f, sort_keys=True)\n",
    "\n",
    "\n",
    "#2 True == no error\n",
    "temp = df_Sale_Qta_merge.groupby(['BasketID','BasketDate']).CustomerID.nunique().eq(1)\n",
    "print(\"Every CustomerID matches the same BasketID in the same BasketDate: \", temp.all())\n",
    "\n",
    "#to avoid graphical printing bug\n",
    "time.sleep(0.1)\n",
    "#3 \n",
    "CustomerID_CustomerCountry_IS = inconsistent_set(\"CustomerID\",\"CustomerCountry\")\n",
    "            \n",
    "print(\"Number of not consistent CustomerCountry:\", len(CustomerID_CustomerCountry_IS))\n",
    "\n",
    "\n",
    "with open('../dataset/inconsistent_CustomerID_CustomerCountry.json', 'w') as f:\n",
    "    json.dump(CustomerID_CustomerCountry_IS, f, sort_keys=True)"
   ]
  },
  {
   "cell_type": "markdown",
   "metadata": {},
   "source": [
    "## Converting attributes to correct data type\n",
    "\n",
    "Here we are changing the type of attributes. This imply a little cleaning phase over BasketID because there are characters inside the values"
   ]
  },
  {
   "cell_type": "code",
   "execution_count": 6,
   "metadata": {},
   "outputs": [],
   "source": [
    "df_Sale_Qta_merge['CustomerID'] = pd.to_numeric(df_Sale_Qta_merge.CustomerID)\n",
    "df_Sale_Qta_merge.CustomerID = df_Sale_Qta_merge.CustomerID.astype(int)"
   ]
  },
  {
   "cell_type": "markdown",
   "metadata": {},
   "source": [
    "The only attribute that still has a wrong datatype is BasketID, we have to remove letters at the beginning of the ID."
   ]
  },
  {
   "cell_type": "code",
   "execution_count": 7,
   "metadata": {},
   "outputs": [
    {
     "name": "stdout",
     "output_type": "stream",
     "text": [
      "<class 'pandas.core.frame.DataFrame'>\n",
      "RangeIndex: 396687 entries, 0 to 396686\n",
      "Data columns (total 8 columns):\n",
      " #   Column           Non-Null Count   Dtype         \n",
      "---  ------           --------------   -----         \n",
      " 0   BasketID         396687 non-null  int64         \n",
      " 1   BasketDate       396687 non-null  datetime64[ns]\n",
      " 2   ProdID           396687 non-null  object        \n",
      " 3   Qta              396687 non-null  int64         \n",
      " 4   Sale             396687 non-null  float64       \n",
      " 5   CustomerID       396687 non-null  int64         \n",
      " 6   CustomerCountry  396687 non-null  object        \n",
      " 7   ProdDescr        396687 non-null  object        \n",
      "dtypes: datetime64[ns](1), float64(1), int64(3), object(3)\n",
      "memory usage: 24.2+ MB\n"
     ]
    }
   ],
   "source": [
    "# regex matchin everything except digits\n",
    "regex = \"\\D+\"\n",
    "df_regex = pd.DataFrame(df_Sale_Qta_merge)\n",
    "df_regex['BasketID'] = df_regex['BasketID'].replace(to_replace=r'\\D+', value='', regex=True)\n",
    "df_regex.BasketID = pd.to_numeric(df_regex.BasketID)\n",
    "df_regex.info()\n",
    "df_regex.to_csv(\"../dataset/customer_supermarket_regex.csv\")"
   ]
  },
  {
   "cell_type": "markdown",
   "metadata": {},
   "source": [
    "## Statistics and data understanding (maybe Data preparation???)\n",
    "\n",
    "Here are informations about quantities"
   ]
  },
  {
   "cell_type": "code",
   "execution_count": 8,
   "metadata": {},
   "outputs": [
    {
     "name": "stdout",
     "output_type": "stream",
     "text": [
      "Number of clients:  4372\n",
      "Number of products:  3684\n",
      "Number of purchase:  22190\n",
      "Distinct values in Customer Country: \t 37\n"
     ]
    }
   ],
   "source": [
    "print(\"Number of clients: \",len(df_regex['CustomerID'].unique()))\n",
    "print(\"Number of products: \",len(df_regex['ProdID'].unique()))\n",
    "print(\"Number of purchase: \",len(df_regex['BasketID'].unique()))\n",
    "print(\"Distinct values in Customer Country: \\t\", len(df_regex.CustomerCountry.unique()))\n",
    "#print(\"Distinct values in ProdID: \\t\", df_clean.ProdID.unique())\n",
    "#print(\"Distinct values in ProdDescr: \\t\", df_clean.ProdDescr.unique())"
   ]
  },
  {
   "cell_type": "markdown",
   "metadata": {},
   "source": [
    "We have people coming from unspecified countries, a generic \"European Community\", EIRE which stands for Ireland and RSA which stands for Republic of South Africa."
   ]
  },
  {
   "cell_type": "code",
   "execution_count": 9,
   "metadata": {},
   "outputs": [
    {
     "name": "stdout",
     "output_type": "stream",
     "text": [
      "Number of customers from Unspecified countries: \t 241\n",
      "Number of customers from generic European Community countries: \t 61\n"
     ]
    }
   ],
   "source": [
    "print(\"Number of customers from Unspecified countries: \\t\", (df_clean.CustomerCountry == \"Unspecified\").sum())\n",
    "print(\"Number of customers from generic European Community countries: \\t\", (df_clean.CustomerCountry == \"European Community\").sum())\n"
   ]
  },
  {
   "cell_type": "code",
   "execution_count": 10,
   "metadata": {},
   "outputs": [
    {
     "data": {
      "text/html": [
       "<div>\n",
       "<style scoped>\n",
       "    .dataframe tbody tr th:only-of-type {\n",
       "        vertical-align: middle;\n",
       "    }\n",
       "\n",
       "    .dataframe tbody tr th {\n",
       "        vertical-align: top;\n",
       "    }\n",
       "\n",
       "    .dataframe thead th {\n",
       "        text-align: right;\n",
       "    }\n",
       "</style>\n",
       "<table border=\"1\" class=\"dataframe\">\n",
       "  <thead>\n",
       "    <tr style=\"text-align: right;\">\n",
       "      <th></th>\n",
       "      <th>BasketID</th>\n",
       "      <th>Qta</th>\n",
       "      <th>Sale</th>\n",
       "      <th>CustomerID</th>\n",
       "    </tr>\n",
       "  </thead>\n",
       "  <tbody>\n",
       "    <tr>\n",
       "      <th>count</th>\n",
       "      <td>396687.000000</td>\n",
       "      <td>396687.000000</td>\n",
       "      <td>396687.000000</td>\n",
       "      <td>396687.000000</td>\n",
       "    </tr>\n",
       "    <tr>\n",
       "      <th>mean</th>\n",
       "      <td>560515.658628</td>\n",
       "      <td>12.334289</td>\n",
       "      <td>3.517171</td>\n",
       "      <td>15275.508817</td>\n",
       "    </tr>\n",
       "    <tr>\n",
       "      <th>std</th>\n",
       "      <td>13069.338881</td>\n",
       "      <td>251.837689</td>\n",
       "      <td>71.148484</td>\n",
       "      <td>1714.300274</td>\n",
       "    </tr>\n",
       "    <tr>\n",
       "      <th>min</th>\n",
       "      <td>536365.000000</td>\n",
       "      <td>-80995.000000</td>\n",
       "      <td>0.000000</td>\n",
       "      <td>12346.000000</td>\n",
       "    </tr>\n",
       "    <tr>\n",
       "      <th>25%</th>\n",
       "      <td>549127.500000</td>\n",
       "      <td>2.000000</td>\n",
       "      <td>1.250000</td>\n",
       "      <td>13923.000000</td>\n",
       "    </tr>\n",
       "    <tr>\n",
       "      <th>50%</th>\n",
       "      <td>561704.000000</td>\n",
       "      <td>6.000000</td>\n",
       "      <td>1.950000</td>\n",
       "      <td>15133.000000</td>\n",
       "    </tr>\n",
       "    <tr>\n",
       "      <th>75%</th>\n",
       "      <td>571913.000000</td>\n",
       "      <td>12.000000</td>\n",
       "      <td>3.750000</td>\n",
       "      <td>16779.000000</td>\n",
       "    </tr>\n",
       "    <tr>\n",
       "      <th>max</th>\n",
       "      <td>581587.000000</td>\n",
       "      <td>80995.000000</td>\n",
       "      <td>38970.000000</td>\n",
       "      <td>18287.000000</td>\n",
       "    </tr>\n",
       "  </tbody>\n",
       "</table>\n",
       "</div>"
      ],
      "text/plain": [
       "            BasketID            Qta           Sale     CustomerID\n",
       "count  396687.000000  396687.000000  396687.000000  396687.000000\n",
       "mean   560515.658628      12.334289       3.517171   15275.508817\n",
       "std     13069.338881     251.837689      71.148484    1714.300274\n",
       "min    536365.000000  -80995.000000       0.000000   12346.000000\n",
       "25%    549127.500000       2.000000       1.250000   13923.000000\n",
       "50%    561704.000000       6.000000       1.950000   15133.000000\n",
       "75%    571913.000000      12.000000       3.750000   16779.000000\n",
       "max    581587.000000   80995.000000   38970.000000   18287.000000"
      ]
     },
     "execution_count": 10,
     "metadata": {},
     "output_type": "execute_result"
    }
   ],
   "source": [
    "df_regex.describe()"
   ]
  },
  {
   "cell_type": "markdown",
   "metadata": {},
   "source": [
    "## Correlation"
   ]
  },
  {
   "cell_type": "markdown",
   "metadata": {},
   "source": [
    "### Correlation matrix"
   ]
  },
  {
   "cell_type": "markdown",
   "metadata": {},
   "source": [
    "There seems to be absolutely no correlation between the values of the dataset"
   ]
  },
  {
   "cell_type": "code",
   "execution_count": 11,
   "metadata": {},
   "outputs": [
    {
     "data": {
      "text/html": [
       "<div>\n",
       "<style scoped>\n",
       "    .dataframe tbody tr th:only-of-type {\n",
       "        vertical-align: middle;\n",
       "    }\n",
       "\n",
       "    .dataframe tbody tr th {\n",
       "        vertical-align: top;\n",
       "    }\n",
       "\n",
       "    .dataframe thead th {\n",
       "        text-align: right;\n",
       "    }\n",
       "</style>\n",
       "<table border=\"1\" class=\"dataframe\">\n",
       "  <thead>\n",
       "    <tr style=\"text-align: right;\">\n",
       "      <th></th>\n",
       "      <th>BasketID</th>\n",
       "      <th>Qta</th>\n",
       "      <th>Sale</th>\n",
       "      <th>CustomerID</th>\n",
       "    </tr>\n",
       "  </thead>\n",
       "  <tbody>\n",
       "    <tr>\n",
       "      <th>BasketID</th>\n",
       "      <td>1.000000</td>\n",
       "      <td>-0.001540</td>\n",
       "      <td>-0.002382</td>\n",
       "      <td>0.000196</td>\n",
       "    </tr>\n",
       "    <tr>\n",
       "      <th>Qta</th>\n",
       "      <td>-0.001540</td>\n",
       "      <td>1.000000</td>\n",
       "      <td>-0.001248</td>\n",
       "      <td>-0.003316</td>\n",
       "    </tr>\n",
       "    <tr>\n",
       "      <th>Sale</th>\n",
       "      <td>-0.002382</td>\n",
       "      <td>-0.001248</td>\n",
       "      <td>1.000000</td>\n",
       "      <td>-0.004328</td>\n",
       "    </tr>\n",
       "    <tr>\n",
       "      <th>CustomerID</th>\n",
       "      <td>0.000196</td>\n",
       "      <td>-0.003316</td>\n",
       "      <td>-0.004328</td>\n",
       "      <td>1.000000</td>\n",
       "    </tr>\n",
       "  </tbody>\n",
       "</table>\n",
       "</div>"
      ],
      "text/plain": [
       "            BasketID       Qta      Sale  CustomerID\n",
       "BasketID    1.000000 -0.001540 -0.002382    0.000196\n",
       "Qta        -0.001540  1.000000 -0.001248   -0.003316\n",
       "Sale       -0.002382 -0.001248  1.000000   -0.004328\n",
       "CustomerID  0.000196 -0.003316 -0.004328    1.000000"
      ]
     },
     "execution_count": 11,
     "metadata": {},
     "output_type": "execute_result"
    }
   ],
   "source": [
    "correlations = df_regex.corr(method=\"pearson\")\n",
    "correlations"
   ]
  },
  {
   "cell_type": "code",
   "execution_count": 12,
   "metadata": {},
   "outputs": [
    {
     "name": "stderr",
     "output_type": "stream",
     "text": [
      "/Users/tommasocolella/opt/anaconda3/envs/skmob/lib/python3.7/site-packages/statsmodels-0.10.0rc2-py3.7-macosx-10.9-x86_64.egg/statsmodels/tools/_testing.py:19: FutureWarning: pandas.util.testing is deprecated. Use the functions in the public API at pandas.testing instead.\n",
      "  import pandas.util.testing as tm\n"
     ]
    },
    {
     "data": {
      "image/png": "[encoded data removed]",
      "text/plain": [
       "<Figure size 432x288 with 2 Axes>"
      ]
     },
     "metadata": {
      "needs_background": "light"
     },
     "output_type": "display_data"
    }
   ],
   "source": [
    "import seaborn as sns\n",
    "\n",
    "cmap = sns.color_palette(\"Blues\")\n",
    "sns.heatmap(correlations, annot=True, cmap=cmap)\n",
    "plt.show()"
   ]
  },
  {
   "cell_type": "code",
   "execution_count": 13,
   "metadata": {},
   "outputs": [
    {
     "data": {
      "image/png": "[encoded data removed]",
      "text/plain": [
       "<Figure size 432x288 with 1 Axes>"
      ]
     },
     "metadata": {
      "needs_background": "light"
     },
     "output_type": "display_data"
    }
   ],
   "source": [
    "boxplot = df_regex.boxplot()"
   ]
  },
  {
   "cell_type": "code",
   "execution_count": 14,
   "metadata": {},
   "outputs": [
    {
     "data": {
      "image/png": "[encoded data removed]",
      "text/plain": [
       "<Figure size 432x288 with 16 Axes>"
      ]
     },
     "metadata": {
      "needs_background": "light"
     },
     "output_type": "display_data"
    }
   ],
   "source": [
    "pd.plotting.scatter_matrix(df_regex[['BasketID', 'CustomerID', 'Qta', 'Sale']])\n",
    "plt.show()"
   ]
  },
  {
   "cell_type": "code",
   "execution_count": 15,
   "metadata": {},
   "outputs": [
    {
     "name": "stdout",
     "output_type": "stream",
     "text": [
      "<class 'pandas.core.frame.DataFrame'>\n"
     ]
    },
    {
     "data": {
      "image/png": "[encoded data removed]",
      "text/plain": [
       "<Figure size 432x288 with 1 Axes>"
      ]
     },
     "metadata": {
      "needs_background": "light"
     },
     "output_type": "display_data"
    }
   ],
   "source": [
    "temp = df_regex.groupby('CustomerCountry').CustomerID.nunique().reset_index()\n",
    "print(type(temp))\n",
    "#temp.plot(kind='bar', title='Size Counts')\n",
    "plt.bar(temp['CustomerCountry'],temp['CustomerID'])\n",
    "plt.show()"
   ]
  },
  {
   "cell_type": "markdown",
   "metadata": {},
   "source": [
    "Scatterplot shows irregular Qta and Sale, probably outliers"
   ]
  },
  {
   "cell_type": "code",
   "execution_count": 16,
   "metadata": {},
   "outputs": [
    {
     "name": "stdout",
     "output_type": "stream",
     "text": [
      "QTA STD:  251.83768934373637  QTA MEAN:  12.334288746543244\n",
      "SALE STD:  71.14848439529611  SALE MEAN:  3.5171706004986305\n"
     ]
    }
   ],
   "source": [
    "qta_std = df_regex['Qta'].std()\n",
    "qta_mean = df_regex['Qta'].mean()\n",
    "\n",
    "sale_std = df_regex['Sale'].std()\n",
    "sale_mean = df_regex['Sale'].mean()\n",
    "\n",
    "print(\"QTA STD: \", qta_std, \" QTA MEAN: \", qta_mean)\n",
    "print(\"SALE STD: \", sale_std, \" SALE MEAN: \", sale_mean)\n",
    "\n",
    "threshold = 15\n",
    "\n",
    "def outliers_zscore(qta,sale):\n",
    "    \n",
    "    qta_z_score = (qta - qta_mean) / qta_std\n",
    "    if(np.abs(qta_z_score) > threshold):\n",
    "        return True\n",
    "    \n",
    "    sale_z_score = (sale - sale_mean) / sale_std\n",
    "    if(np.abs(sale_z_score) > threshold):\n",
    "        return True\n",
    "    \n",
    "    return False\n",
    "    \n",
    "df_regex['Outlier'] = df_regex.apply(lambda x: outliers_zscore(x['Qta'],x['Sale']), axis=1)\n",
    "\n"
   ]
  },
  {
   "cell_type": "code",
   "execution_count": 18,
   "metadata": {},
   "outputs": [
    {
     "data": {
      "image/png": "[encoded data removed]",
      "text/plain": [
       "<Figure size 432x288 with 1 Axes>"
      ]
     },
     "metadata": {
      "needs_background": "light"
     },
     "output_type": "display_data"
    }
   ],
   "source": [
    "outliers_df = df_regex[df_regex['Outlier'] == True]\n",
    "notoutliers_df = df_regex[df_regex['Outlier'] == False]\n",
    "\n",
    "plt.scatter(outliers_df['Qta'],outliers_df['Sale'], color='r', marker='*', label=\"outliers\")\n",
    "\n",
    "plt.scatter(notoutliers_df['Qta'],notoutliers_df['Sale'], color='g', marker='*', label=\"normal data\")\n",
    "\n",
    "\n",
    "plt.xlabel('Qta')\n",
    "plt.ylabel('Sale')\n",
    "plt.legend()\n",
    "plt.show()"
   ]
  },
  {
   "cell_type": "code",
   "execution_count": null,
   "metadata": {},
   "outputs": [],
   "source": []
  }
 ],
 "metadata": {
  "kernelspec": {
   "display_name": "Python [conda env:skmob]",
   "language": "python",
   "name": "skmob"
  },
  "language_info": {
   "codemirror_mode": {
    "name": "ipython",
    "version": 3
   },
   "file_extension": ".py",
   "mimetype": "text/x-python",
   "name": "python",
   "nbconvert_exporter": "python",
   "pygments_lexer": "ipython3",
   "version": "3.7.7"
  }
 },
 "nbformat": 4,
 "nbformat_minor": 4
}
